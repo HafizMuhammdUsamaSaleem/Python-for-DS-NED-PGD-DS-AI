{
 "cells": [
  {
   "cell_type": "markdown",
   "id": "e34dd948",
   "metadata": {},
   "source": [
    "constructor call once only when we creating a new object\n",
    "\n",
    "first keyword is reserved we normally fixed as **`self`**\n",
    "\n",
    "Attributes which we define by **`self.atribute = value`** and have some value and created in constructor\n",
    "\n",
    "class variable(general variable)created outside the vonstructor for e.g how many students in class masjid vaali example"
   ]
  },
  {
   "cell_type": "markdown",
   "id": "43685aee",
   "metadata": {},
   "source": [
    "same name function in two different class over riding\n",
    "\n",
    "same name multiple functions in single class \n",
    "\n"
   ]
  },
  {
   "cell_type": "markdown",
   "id": "f8e499ee",
   "metadata": {},
   "source": [
    "# WHY OOP??"
   ]
  },
  {
   "cell_type": "markdown",
   "id": "49bb91cd",
   "metadata": {},
   "source": [
    "## Linear Programming\n",
    "If I want to print 6 lines then in linear programming I have to write 6 times the same syntax in print function"
   ]
  },
  {
   "cell_type": "code",
   "execution_count": 1,
   "id": "05f980ec",
   "metadata": {},
   "outputs": [
    {
     "name": "stdout",
     "output_type": "stream",
     "text": [
      "line1\n",
      "line2\n",
      "line3\n",
      "line4\n",
      "line5\n",
      "line6\n"
     ]
    }
   ],
   "source": [
    "print(\"line1\")\n",
    "print(\"line2\")\n",
    "print(\"line3\")\n",
    "print(\"line4\")\n",
    "print(\"line5\")\n",
    "print(\"line6\")"
   ]
  },
  {
   "cell_type": "markdown",
   "id": "08b2ae6c",
   "metadata": {},
   "source": [
    "## Structure programming\n",
    "Structure Programming make it easy for us that instead of writing 6 times the same line I adopted some suitable method to overcome the problem\n",
    "\n",
    "Here I choose for loop to complete my task"
   ]
  },
  {
   "cell_type": "code",
   "execution_count": 3,
   "id": "4cb2041b",
   "metadata": {},
   "outputs": [
    {
     "name": "stdout",
     "output_type": "stream",
     "text": [
      "line1\n",
      "line2\n",
      "line3\n",
      "line4\n",
      "line5\n",
      "line6\n"
     ]
    }
   ],
   "source": [
    "for i in range(1,7):\n",
    "    print(f'line{i}')"
   ]
  },
  {
   "cell_type": "code",
   "execution_count": 27,
   "id": "40cba2a3",
   "metadata": {},
   "outputs": [
    {
     "ename": "SyntaxError",
     "evalue": "invalid syntax (3695269336.py, line 1)",
     "output_type": "error",
     "traceback": [
      "\u001b[1;36m  File \u001b[1;32m\"C:\\Users\\Administrator\\AppData\\Local\\Temp\\ipykernel_10940\\3695269336.py\"\u001b[1;36m, line \u001b[1;32m1\u001b[0m\n\u001b[1;33m    Lets take another example of structured programming\u001b[0m\n\u001b[1;37m         ^\u001b[0m\n\u001b[1;31mSyntaxError\u001b[0m\u001b[1;31m:\u001b[0m invalid syntax\n"
     ]
    }
   ],
   "source": [
    "Lets take another example of structured programming"
   ]
  },
  {
   "cell_type": "code",
   "execution_count": 28,
   "id": "799d7ad3",
   "metadata": {},
   "outputs": [],
   "source": [
    "s1_name = \"Muhammad Usama\"\n",
    "s1_fname= \"Muhammad Saleem\"\n",
    "s1_edu = \"MSDS\"\n",
    "def s1_login():\n",
    "    print(f\"\"\"\n",
    "         Welcome Mr.{s1_name} To Our New Couorse\n",
    "Student Name : {s1_name}    \n",
    "Father Name : {s1_fname}\n",
    "Education : {s1_edu}\n",
    "     \"\"\")\n",
    "\n",
    "s2_name = \"Ali\"\n",
    "s2_fname = \"Hamza\"\n",
    "s2_edu = \"MS\"\n",
    "def s2_login():\n",
    "    print(f\"\"\"\n",
    "         Welcome Mr.{s2_name} To Our New Couorse\n",
    "Student Name : {s2_name}    \n",
    "Father Name : {s2_fname}\n",
    "Education : {s2_edu}\n",
    "     \"\"\")\n",
    "\n",
    "s3_name = \"Kashif\"\n",
    "s3_fname = \"Hamza\"\n",
    "s3_edu = \"MS\"\n",
    "def s3_login():\n",
    "    print(f\"\"\"\n",
    "         Welcome Mr.{s3_name} To Our New Couorse\n",
    "Student Name : {s3_name}    \n",
    "Father Name : {s3_fname}\n",
    "Education : {s3_edu}\n",
    "     \"\"\")"
   ]
  },
  {
   "cell_type": "code",
   "execution_count": 29,
   "id": "0dd23423",
   "metadata": {},
   "outputs": [
    {
     "name": "stdout",
     "output_type": "stream",
     "text": [
      "\n",
      "         Welcome Mr.Muhammad Usama To Our New Couorse\n",
      "Student Name : Muhammad Usama    \n",
      "Father Name : Muhammad Saleem\n",
      "Education : MSDS\n",
      "     \n",
      "\n",
      "         Welcome Mr.Ali To Our New Couorse\n",
      "Student Name : Ali    \n",
      "Father Name : Hamza\n",
      "Education : MS\n",
      "     \n",
      "\n",
      "         Welcome Mr.Kashif To Our New Couorse\n",
      "Student Name : Kashif    \n",
      "Father Name : Hamza\n",
      "Education : MS\n",
      "     \n"
     ]
    }
   ],
   "source": [
    "s1_login()\n",
    "s2_login()\n",
    "s3_login()"
   ]
  },
  {
   "cell_type": "markdown",
   "id": "73bef225",
   "metadata": {},
   "source": [
    "Now here a problem arrived i had written the wrong spelling of Course. So in order to correct it I have to write it every single time in above code or If I want to add course name in welcome note then I write it in every line (Its a very short code) but if we work on hundreds of lines of code then we have to correct/ write some additional things a hundred times.....Lets take a look below\n",
    "\n",
    "So here the concept of OOP useful for us"
   ]
  },
  {
   "cell_type": "code",
   "execution_count": 70,
   "id": "0453e08c",
   "metadata": {},
   "outputs": [
    {
     "name": "stdout",
     "output_type": "stream",
     "text": [
      "\n",
      "         Welcome Mr.Muhammad Usama To Our New Course PGD in DS  \n",
      "Student Name : Muhammad Usama    \n",
      "Father Name : Muhammad Saleem\n",
      "Education : MSDS\n",
      "     \n",
      "\n",
      "         Welcome Mr.Ali To Our New Course PGD in DS\n",
      "Student Name : Ali    \n",
      "Father Name : Hamza\n",
      "Education : MS\n",
      "     \n",
      "\n",
      "         Welcome Mr.Kashif To Our New Course PGD in DS\n",
      "Student Name : Kashif    \n",
      "Father Name : Hamza\n",
      "Education : MS\n",
      "\n",
      "     \n"
     ]
    }
   ],
   "source": [
    "s1_name = \"Muhammad Usama\"\n",
    "s1_fname= \"Muhammad Saleem\"\n",
    "s1_edu = \"MSDS\"\n",
    "def s1_login():\n",
    "    print(f\"\"\"\n",
    "         Welcome Mr.{s1_name} To Our New Course PGD in DS  \n",
    "Student Name : {s1_name}    \n",
    "Father Name : {s1_fname}\n",
    "Education : {s1_edu}\n",
    "     \"\"\")\n",
    "\n",
    "s2_name = \"Ali\"\n",
    "s2_fname = \"Hamza\"\n",
    "s2_edu = \"MS\"\n",
    "def s2_login():\n",
    "    print(f\"\"\"\n",
    "         Welcome Mr.{s2_name} To Our New Course PGD in DS\n",
    "Student Name : {s2_name}    \n",
    "Father Name : {s2_fname}\n",
    "Education : {s2_edu}\n",
    "     \"\"\")\n",
    "\n",
    "s3_name = \"Kashif\"\n",
    "s3_fname = \"Hamza\"\n",
    "s3_edu = \"MS\"\n",
    "def s3_login():\n",
    "    print(f\"\"\"\n",
    "         Welcome Mr.{s3_name} To Our New Course PGD in DS\n",
    "Student Name : {s3_name}    \n",
    "Father Name : {s3_fname}\n",
    "Education : {s3_edu}\n",
    "\n",
    "     \"\"\")\n",
    "# Correct speeling and add some words in each print statement\n",
    "s1_login()\n",
    "s2_login()\n",
    "s3_login()"
   ]
  },
  {
   "cell_type": "markdown",
   "id": "2380a4e6",
   "metadata": {},
   "source": [
    "## Object Oriented Programming\n",
    "Object-Oriented Programming (OOP) is a programming paradigm in computer science that relies on the concept of classes and objects.It is used to structure a software program into simple, reusable pieces of code blueprints (usually called classes), which are used to create individual instances of objects."
   ]
  },
  {
   "cell_type": "markdown",
   "id": "b415e48b",
   "metadata": {},
   "source": [
    "## Why OOP used??\n",
    "Object-oriented programming (OOP) is a way of thinking about and organizing code for maximum reusability. With this type of programming, a program comprises objects that can interact with the user, other objects, or other programs. This makes programs more efficient and easier to understand"
   ]
  },
  {
   "cell_type": "markdown",
   "id": "1ff07fd2",
   "metadata": {},
   "source": [
    "## Why it is called OOP??\n",
    "The dictionary meaning of an object is \"an entity that exists in the real world\", and oriented means \"interested in a particular kind of thing or entity\". In basic terms, OOP is a programming pattern that is built around objects or entities, so it's called object-oriented programming"
   ]
  },
  {
   "cell_type": "markdown",
   "id": "33093597",
   "metadata": {},
   "source": [
    "## Building Blocks Of OOP\n",
    "The fundamental building blocks of an OOP program\n",
    "* **Classes**\n",
    "* **Objects**\n",
    "* **Methods**\n",
    "* **Attributes**"
   ]
  },
  {
   "cell_type": "markdown",
   "id": "564599ed",
   "metadata": {},
   "source": [
    "**Classes**:\n",
    "\n",
    "    Classes are where we create a blueprint for the structure of methods and attributes. Individual objects are instantiated from this blueprint.Classes contain fields for attributes and methods for behaviors.\n",
    "**Objects**:\n",
    "\n",
    "    Objects are a huge part of OOP! Objects are instances of a class created with specific data.\n",
    "**Attributes**:\n",
    "\n",
    "    Attributes are the information that is stored. Attributes are defined in the Class constructor. When objects are instantiated, individual objects contain data stored in the Attributes field\n",
    "**Methods**:\n",
    "\n",
    "    Methods represent behaviors. Methods perform actions; methods might return information about an object or update an object’s data. The method’s code is defined in the class definition."
   ]
  },
  {
   "cell_type": "markdown",
   "id": "708bb414",
   "metadata": {},
   "source": [
    "**Some Additional things to remember**\n",
    "*  A **constructor** is a special method used to create and initialize an object of a class. This method is defined in the class.\n",
    "* The primary use of a constructor is to declare and initialize the instance variables of a class.\n",
    "* **Syntax of a constructor**: **`def __init__(self):`**\n",
    "* `def:` The keyword is used to define function.\n",
    "* `__init__() Method`: It is a reserved method. This method gets called as soon as an object of a class is instantiated.\n",
    "* `self`: The first argument self refers to the current object. It binds the instance to the __init__() method. It’s usually named self to follow the naming convention.\n",
    "* **Note:** The __init__() method arguments are optional. We can define a constructor with any number of arguments.\n",
    "* **ClassName write with the first letter of each internal word capitalized.**(It is not a rule but just a standard or writing class name)."
   ]
  },
  {
   "cell_type": "code",
   "execution_count": 73,
   "id": "6f73b9af",
   "metadata": {},
   "outputs": [],
   "source": [
    "class Student():\n",
    "    def __init__(self): # --> Constructor\n",
    "        self.name = None  # --> attribute\n",
    "        self.fname = None # --> attribute\n",
    "        self.edu = None   # --> attribute\n",
    "        self.year = None  # --> attribute\n",
    "    def signup(self): # --> Method\n",
    "        return f'Welcome {self.name} to the portal!'\n",
    "    def info(self):  # --> Method\n",
    "        return f\"\"\"\n",
    "        Student Name: {self.name}\n",
    "        Father's Name: {self.fname}\n",
    "        Education: {self.edu}\n",
    "        Year: {self.year}\n",
    "        \"\"\"\n"
   ]
  },
  {
   "cell_type": "code",
   "execution_count": 74,
   "id": "5bac46f5",
   "metadata": {},
   "outputs": [
    {
     "data": {
      "text/plain": [
       "'Welcome Usama to the portal!'"
      ]
     },
     "execution_count": 74,
     "metadata": {},
     "output_type": "execute_result"
    }
   ],
   "source": [
    "student = Student()  # create one instance\n",
    "student.name = \"Usama\"  # set the name attribute on that instance\n",
    "student.fname = \"Saleem\"\n",
    "student.edu = \"Ms DS&AI\"\n",
    "student.year = '1st'\n",
    "student.signup() #--> calling method"
   ]
  },
  {
   "cell_type": "code",
   "execution_count": 76,
   "id": "d7ebfe55",
   "metadata": {},
   "outputs": [
    {
     "name": "stdout",
     "output_type": "stream",
     "text": [
      "\n",
      "        Student Name: Usama\n",
      "        Father's Name: Saleem\n",
      "        Education: Ms DS&AI\n",
      "        Year: 1st\n",
      "        \n"
     ]
    }
   ],
   "source": [
    "print(student.info())"
   ]
  },
  {
   "cell_type": "code",
   "execution_count": 79,
   "id": "19915184",
   "metadata": {},
   "outputs": [],
   "source": [
    "class Student():\n",
    "    def __init__(s): # --> Constructor So it is not necessary to write self \n",
    "        s.name = None  # --> attribute\n",
    "        s.fname = None # --> attribute\n",
    "        s.edu = None   # --> attribute\n",
    "        s.year = None  # --> attribute\n",
    "    def signup(s): # --> Method\n",
    "        return f'Welcome {s.name} to the portal!'\n",
    "    def info(s):  # --> Method\n",
    "        return f\"\"\"\n",
    "        Student Name: {s.name}\n",
    "        Father's Name: {s.fname}\n",
    "        Education: {s.edu}\n",
    "        Year: {s.year}\n",
    "        \"\"\""
   ]
  },
  {
   "cell_type": "code",
   "execution_count": 80,
   "id": "e090c481",
   "metadata": {},
   "outputs": [
    {
     "data": {
      "text/plain": [
       "'Welcome Usama to the portal!'"
      ]
     },
     "execution_count": 80,
     "metadata": {},
     "output_type": "execute_result"
    }
   ],
   "source": [
    "student = Student()  # create one instance\n",
    "student.name = \"Usama\"  # set the name attribute on that instance\n",
    "student.fname = \"Saleem\"\n",
    "student.edu = \"Ms DS&AI\"\n",
    "student.year = '1st'\n",
    "student.signup() #--> calling method"
   ]
  },
  {
   "cell_type": "code",
   "execution_count": 81,
   "id": "6cd28dca",
   "metadata": {},
   "outputs": [
    {
     "name": "stdout",
     "output_type": "stream",
     "text": [
      "\n",
      "        Student Name: Usama\n",
      "        Father's Name: Saleem\n",
      "        Education: Ms DS&AI\n",
      "        Year: 1st\n",
      "        \n"
     ]
    }
   ],
   "source": [
    "print(student.info())"
   ]
  },
  {
   "cell_type": "code",
   "execution_count": 82,
   "id": "91667db9",
   "metadata": {},
   "outputs": [],
   "source": [
    "# Now solve previuos structured programming example through OOP"
   ]
  },
  {
   "cell_type": "code",
   "execution_count": 89,
   "id": "e446a799",
   "metadata": {},
   "outputs": [],
   "source": [
    "class Student():\n",
    "    def __init__(self):\n",
    "        self.name = None\n",
    "        self.fname = None\n",
    "        self.edu = None\n",
    "    def welcome(self):\n",
    "        return f\"Welcome {self.name} to our new course\"\n",
    "    def info(self):\n",
    "        return f\"\"\"\n",
    "Student Name = {self.name}        \n",
    "Father Name = {self.fname}\n",
    "Eductaion = {self.edu}\n",
    "\"\"\"\n",
    "s1 = Student()\n",
    "s1.name = \"Usama\"\n",
    "s1.fname = \"Saleem\"\n",
    "s1.edu = \"MS\"\n",
    "s2 = Student()\n",
    "s2.name = \"Ali\"\n",
    "s2.fname = \"Hamza\"\n",
    "s2.edu = \"MS\"\n",
    "s3 = Student()\n",
    "s3.name = \"Kashif\"\n",
    "s3.fname = \"Hamza\"\n",
    "s3.edu = \"MS\"\n"
   ]
  },
  {
   "cell_type": "code",
   "execution_count": 93,
   "id": "9047e8e0",
   "metadata": {},
   "outputs": [
    {
     "name": "stdout",
     "output_type": "stream",
     "text": [
      "Welcome Usama to our new course\n",
      "\n",
      "\n",
      "Student Name = Usama        \n",
      "Father Name = Saleem\n",
      "Eductaion = MS\n",
      "\n",
      "\n",
      "Welcome Ali to our new course\n",
      "\n",
      "\n",
      "Student Name = Ali        \n",
      "Father Name = Hamza\n",
      "Eductaion = MS\n",
      "\n",
      "Welcome Kashif to our new course\n",
      "\n",
      "\n",
      "Student Name = Kashif        \n",
      "Father Name = Hamza\n",
      "Eductaion = MS\n",
      "\n"
     ]
    }
   ],
   "source": [
    "print(s1.welcome())\n",
    "print()\n",
    "print(s1.info())\n",
    "print()\n",
    "print(s2.welcome())\n",
    "print()\n",
    "print(s2.info())\n",
    "print(s3.welcome())\n",
    "print()\n",
    "print(s3.info())"
   ]
  },
  {
   "cell_type": "code",
   "execution_count": 94,
   "id": "533dffc0",
   "metadata": {},
   "outputs": [],
   "source": [
    "# If I want tonupdate my message then I just add in my method just once .........."
   ]
  },
  {
   "cell_type": "code",
   "execution_count": 95,
   "id": "db70a4b3",
   "metadata": {},
   "outputs": [],
   "source": [
    "class Student():\n",
    "    def __init__(self):\n",
    "        self.name = None\n",
    "        self.fname = None\n",
    "        self.edu = None\n",
    "    def welcome(self):\n",
    "        return f\"Welcome {self.name} to our new PGD course\"\n",
    "    def info(self):\n",
    "        return f\"\"\"\n",
    "Student Name = {self.name}        \n",
    "Father Name = {self.fname}\n",
    "Eductaion = {self.edu}\n",
    "\"\"\"\n",
    "s1 = Student()\n",
    "s1.name = \"Usama\"\n",
    "s1.fname = \"Saleem\"\n",
    "s1.edu = \"MS\"\n",
    "s2 = Student()\n",
    "s2.name = \"Ali\"\n",
    "s2.fname = \"Hamza\"\n",
    "s2.edu = \"MS\"\n",
    "s3 = Student()\n",
    "s3.name = \"Kashif\"\n",
    "s3.fname = \"Hamza\"\n",
    "s3.edu = \"MS\""
   ]
  },
  {
   "cell_type": "code",
   "execution_count": 96,
   "id": "a7f1e7d4",
   "metadata": {},
   "outputs": [
    {
     "name": "stdout",
     "output_type": "stream",
     "text": [
      "Welcome Usama to our new PGD course\n",
      "\n",
      "Student Name = Usama        \n",
      "Father Name = Saleem\n",
      "Eductaion = MS\n",
      "\n",
      "\n",
      "Welcome Ali to our new PGD course\n",
      "\n",
      "Student Name = Ali        \n",
      "Father Name = Hamza\n",
      "Eductaion = MS\n",
      "\n",
      "\n",
      "Welcome Kashif to our new PGD course\n",
      "\n",
      "Student Name = Kashif        \n",
      "Father Name = Hamza\n",
      "Eductaion = MS\n",
      "\n"
     ]
    }
   ],
   "source": [
    "print(s1.welcome())\n",
    "print(s1.info())\n",
    "print()\n",
    "print(s2.welcome())\n",
    "print(s2.info())\n",
    "print()\n",
    "print(s3.welcome())\n",
    "print(s3.info())"
   ]
  },
  {
   "cell_type": "markdown",
   "id": "7c094c76",
   "metadata": {},
   "source": [
    "## Assigning Objects during Initialilzation/ In constructor"
   ]
  },
  {
   "cell_type": "code",
   "execution_count": 108,
   "id": "8480cbc5",
   "metadata": {},
   "outputs": [
    {
     "name": "stdout",
     "output_type": "stream",
     "text": [
      "=======Welcome Usama to our new Course=======\n",
      "\n",
      "        Student Name = Usama\n",
      "        Father Name = Saleem\n",
      "        Student ID = 202311\n",
      "        Education = None\n",
      "        Gender = None\n",
      "        \n"
     ]
    }
   ],
   "source": [
    "class Student():\n",
    "    def __init__(self,name,fname,roll_no):\n",
    "        self.name = name\n",
    "        self.fname = fname\n",
    "        self.roll_no = roll_no\n",
    "        self.edu = None\n",
    "        self.gender = None\n",
    "    def welcome(self):\n",
    "        return f\"=======Welcome {self.name} to our new Course=======\"\n",
    "    def info(self):\n",
    "        return f'''\n",
    "        Student Name = {self.name}\n",
    "        Father Name = {self.fname}\n",
    "        Student ID = {self.roll_no}\n",
    "        Education = {self.edu}\n",
    "        Gender = {self.gender}\n",
    "        '''\n",
    "s1 = Student('Usama','Saleem','202311')\n",
    "print(s1.welcome())\n",
    "print(s1.info())"
   ]
  },
  {
   "cell_type": "code",
   "execution_count": 109,
   "id": "18795bb1",
   "metadata": {},
   "outputs": [
    {
     "name": "stdout",
     "output_type": "stream",
     "text": [
      "=======Welcome Usama to our new Course=======\n",
      "\n",
      "        Student Name = Usama\n",
      "        Father Name = Saleem\n",
      "        Student ID = 202311\n",
      "        Education = MS DS& AI\n",
      "        Gender = Male\n",
      "        \n"
     ]
    }
   ],
   "source": [
    "s1.gender = \"Male\"\n",
    "s1.edu = \"MS DS& AI\"\n",
    "print(s1.welcome())\n",
    "print(s1.info())"
   ]
  },
  {
   "cell_type": "code",
   "execution_count": 107,
   "id": "bb1d0989",
   "metadata": {},
   "outputs": [
    {
     "name": "stdout",
     "output_type": "stream",
     "text": [
      "Usama Saleem 202311\n"
     ]
    }
   ],
   "source": [
    "print(s1.name,s1.fname,s1.roll_no)"
   ]
  },
  {
   "cell_type": "markdown",
   "id": "3eaa2545",
   "metadata": {},
   "source": [
    "## Class Variable \n",
    "It is created before constructor / outside the constructor and inside the class\n",
    "\n",
    "it is also called a general variable as if we call it by any object each object gives the same answer"
   ]
  },
  {
   "cell_type": "code",
   "execution_count": 134,
   "id": "bc11a3e7",
   "metadata": {},
   "outputs": [
    {
     "name": "stdout",
     "output_type": "stream",
     "text": [
      "No. Of enrolled Student  =  0\n",
      "=======Welcome Usama to our new Course=======\n",
      "\n",
      "        Student Name = Usama\n",
      "        Father Name = Saleem\n",
      "        Student ID = 202311\n",
      "        Education = MS DS& AI\n",
      "        Gender = Male\n",
      "        \n",
      "No. Of enrolled Student  =  1\n",
      "=======Welcome Salman to our new Course=======\n",
      "\n",
      "        Student Name = Salman\n",
      "        Father Name = Saleem\n",
      "        Student ID = 202311\n",
      "        Education = MS DS& AI\n",
      "        Gender = Male\n",
      "        \n",
      "No. Of enrolled Student  =  2\n",
      "=======Welcome Ali to our new Course=======\n",
      "\n",
      "        Student Name = Ali\n",
      "        Father Name = Hamza\n",
      "        Student ID = 202311\n",
      "        Education = MS DS& AI\n",
      "        Gender = Male\n",
      "        \n",
      "No. Of enrolled Student  =  3\n"
     ]
    }
   ],
   "source": [
    "class Student():\n",
    "    total_student = 0 # --> class variable\n",
    "    def __init__(self,name,fname,roll_no):\n",
    "        self.name = name\n",
    "        self.fname = fname\n",
    "        self.roll_no = roll_no\n",
    "        self.edu = None\n",
    "        self.gender = None\n",
    "        Student.total_student +=1\n",
    "    def welcome(self):\n",
    "        return f\"=======Welcome {self.name} to our new Course=======\"\n",
    "    def info(self):\n",
    "        return f'''\n",
    "        Student Name = {self.name}\n",
    "        Father Name = {self.fname}\n",
    "        Student ID = {self.roll_no}\n",
    "        Education = {self.edu}\n",
    "        Gender = {self.gender}\n",
    "        '''\n",
    "print(f'No. Of enrolled Student  =  {Student.total_student}')\n",
    "s1 = Student('Usama','Saleem','202311')\n",
    "s1.gender = \"Male\"\n",
    "s1.edu = \"MS DS& AI\"\n",
    "print(s1.welcome())\n",
    "print(s1.info())\n",
    "print(f'No. Of enrolled Student  =  {Student.total_student}')\n",
    "s2 = Student('Salman','Saleem','202311')\n",
    "s2.gender = \"Male\"\n",
    "s2.edu = \"MS DS& AI\"\n",
    "print(s2.welcome())\n",
    "print(s2.info())\n",
    "print(f'No. Of enrolled Student  =  {Student.total_student}')\n",
    "s3 = Student('Ali','Hamza','202311')\n",
    "s3.gender = \"Male\"\n",
    "s3.edu = \"MS DS& AI\"\n",
    "print(s3.welcome())\n",
    "print(s3.info())\n",
    "print(f'No. Of enrolled Student  =  {Student.total_student}')"
   ]
  },
  {
   "cell_type": "code",
   "execution_count": 127,
   "id": "1d382d49",
   "metadata": {},
   "outputs": [
    {
     "name": "stdout",
     "output_type": "stream",
     "text": [
      "3\n",
      "3\n",
      "3\n"
     ]
    }
   ],
   "source": [
    "print(s1.total_student) # --> Each gives the same result thats why it is called a general variable\n",
    "print(s1.total_student)\n",
    "print(s1.total_student)"
   ]
  },
  {
   "cell_type": "markdown",
   "id": "34072dcd",
   "metadata": {},
   "source": [
    "### Deleting an object\n",
    "If I want to delete an object or simply one student left the course then I also add **`del__init__(self)`** in order to decrement the total number of student "
   ]
  },
  {
   "cell_type": "code",
   "execution_count": 139,
   "id": "4afbe1bd",
   "metadata": {},
   "outputs": [
    {
     "name": "stdout",
     "output_type": "stream",
     "text": [
      "No. Of enrolled Student  =  0\n",
      "=======Welcome Usama to our new Course=======\n",
      "\n",
      "        Student Name = Usama\n",
      "        Father Name = Saleem\n",
      "        Student ID = 202311\n",
      "        Education = MS DS& AI\n",
      "        Gender = Male\n",
      "        \n",
      "No. Of enrolled Student  =  1\n",
      "=======Welcome Salman to our new Course=======\n",
      "\n",
      "        Student Name = Salman\n",
      "        Father Name = Saleem\n",
      "        Student ID = 202311\n",
      "        Education = MS DS& AI\n",
      "        Gender = Male\n",
      "        \n",
      "No. Of enrolled Student  =  2\n",
      "=======Welcome Ali to our new Course=======\n",
      "\n",
      "        Student Name = Ali\n",
      "        Father Name = Hamza\n",
      "        Student ID = 202311\n",
      "        Education = MS DS& AI\n",
      "        Gender = Male\n",
      "        \n",
      "No. Of enrolled Student  =  3\n",
      "Now the No. Of remainig Student = 2\n"
     ]
    }
   ],
   "source": [
    "class Student():\n",
    "    total_student = 0 # --> class variable\n",
    "    def __init__(self,name,fname,roll_no):\n",
    "        self.name = name\n",
    "        self.fname = fname\n",
    "        self.roll_no = roll_no\n",
    "        self.edu = None\n",
    "        self.gender = None\n",
    "        Student.total_student +=1\n",
    "    def __del__(self):\n",
    "        Student.total_student -=1\n",
    "    def welcome(self):\n",
    "        return f\"=======Welcome {self.name} to our new Course=======\"\n",
    "    def info(self):\n",
    "        return f'''\n",
    "        Student Name = {self.name}\n",
    "        Father Name = {self.fname}\n",
    "        Student ID = {self.roll_no}\n",
    "        Education = {self.edu}\n",
    "        Gender = {self.gender}\n",
    "        '''\n",
    "print(f'No. Of enrolled Student  =  {Student.total_student}')\n",
    "s1 = Student('Usama','Saleem','202311')\n",
    "s1.gender = \"Male\"\n",
    "s1.edu = \"MS DS& AI\"\n",
    "print(s1.welcome())\n",
    "print(s1.info())\n",
    "print(f'No. Of enrolled Student  =  {Student.total_student}')\n",
    "s2 = Student('Salman','Saleem','202311')\n",
    "s2.gender = \"Male\"\n",
    "s2.edu = \"MS DS& AI\"\n",
    "print(s2.welcome())\n",
    "print(s2.info())\n",
    "print(f'No. Of enrolled Student  =  {Student.total_student}')\n",
    "s3 = Student('Ali','Hamza','202311')\n",
    "s3.gender = \"Male\"\n",
    "s3.edu = \"MS DS& AI\"\n",
    "print(s3.welcome())\n",
    "print(s3.info())\n",
    "print(f'No. Of enrolled Student  =  {Student.total_student}')\n",
    "# Deleting the Object\n",
    "del s1\n",
    "print(f'Now the No. Of remainig Student = {Student.total_student}')\n"
   ]
  },
  {
   "cell_type": "code",
   "execution_count": 140,
   "id": "038da133",
   "metadata": {},
   "outputs": [
    {
     "data": {
      "text/plain": [
       "2"
      ]
     },
     "execution_count": 140,
     "metadata": {},
     "output_type": "execute_result"
    }
   ],
   "source": [
    "s2.total_student"
   ]
  },
  {
   "cell_type": "code",
   "execution_count": 141,
   "id": "8443e029",
   "metadata": {},
   "outputs": [
    {
     "data": {
      "text/plain": [
       "2"
      ]
     },
     "execution_count": 141,
     "metadata": {},
     "output_type": "execute_result"
    }
   ],
   "source": [
    "s3.total_student"
   ]
  },
  {
   "cell_type": "code",
   "execution_count": 143,
   "id": "b109828a",
   "metadata": {},
   "outputs": [
    {
     "ename": "NameError",
     "evalue": "name 's1' is not defined",
     "output_type": "error",
     "traceback": [
      "\u001b[1;31m---------------------------------------------------------------------------\u001b[0m",
      "\u001b[1;31mNameError\u001b[0m                                 Traceback (most recent call last)",
      "\u001b[1;32m~\\AppData\\Local\\Temp\\ipykernel_10940\\3059812023.py\u001b[0m in \u001b[0;36m<module>\u001b[1;34m\u001b[0m\n\u001b[1;32m----> 1\u001b[1;33m \u001b[0ms1\u001b[0m\u001b[1;33m.\u001b[0m\u001b[0mtotal_student\u001b[0m\u001b[1;33m\u001b[0m\u001b[1;33m\u001b[0m\u001b[0m\n\u001b[0m",
      "\u001b[1;31mNameError\u001b[0m: name 's1' is not defined"
     ]
    }
   ],
   "source": [
    "s1.total_student"
   ]
  },
  {
   "cell_type": "markdown",
   "id": "27e36389",
   "metadata": {},
   "source": [
    "## Four Pillars of OOP:\n",
    "\n",
    "    The four pillars of object-oriented programming are:\n",
    "\n",
    "* **Inheritance:**\n",
    "* **Encapsulation:**\n",
    "* **Abstraction:** \n",
    "* **Polymorphism:**"
   ]
  },
  {
   "cell_type": "markdown",
   "id": "8de4e64c",
   "metadata": {},
   "source": [
    "## Inheritance:\n",
    "* child classes inherit data and behaviors from the parent class.\n",
    "* Inheritance allows classes to inherit features of other classes or simply parent classes extend attributes and behaviors to child classes.\n",
    "* Inheritance supports reusability."
   ]
  },
  {
   "cell_type": "code",
   "execution_count": 153,
   "id": "30853181",
   "metadata": {},
   "outputs": [
    {
     "name": "stdout",
     "output_type": "stream",
     "text": [
      "Name: Usama\n",
      "Age: 27\n",
      "Major: Computer Science\n"
     ]
    }
   ],
   "source": [
    "class Person: #-- > Parent class\n",
    "    \n",
    "    def __init__(self,name,age):\n",
    "        self.name = name\n",
    "        self.age = age\n",
    "    \n",
    "    def display(self):\n",
    "        print(f'Name: {self.name}')\n",
    "        print(f'Age: {self.age}')\n",
    "        \n",
    "class Student(Person):\n",
    "    def __init__(self,name,age,major):\n",
    "        Person.__init__(self, name, age)\n",
    "        self.major = major\n",
    "    def display_info(self):\n",
    "        Person.display(self)\n",
    "        print(f'Major: {self.major}')\n",
    "        \n",
    "        \n",
    "info = Student('Usama', 27, 'Computer Science')\n",
    "info.display_info()"
   ]
  },
  {
   "cell_type": "code",
   "execution_count": 155,
   "id": "47daa93c",
   "metadata": {},
   "outputs": [],
   "source": [
    "class Person():\n",
    "    def __init__(self, name, age):\n",
    "        self.name = name\n",
    "        self.age = age\n",
    "\n",
    "    def display(self):\n",
    "        print(f\"Name: {self.name}\")\n",
    "        print(f\"Age: {self.age}\")\n",
    "\n",
    "class Student(Person): #--> child class\n",
    "    def __init__(self, name, age, major):\n",
    "        super().__init__(name, age) # --> use super function \n",
    "        self.major = major\n",
    "\n",
    "    def display_info(self):\n",
    "        super().display()          # --> Use super function\n",
    "        print(f\"Major: {self.major}\")"
   ]
  },
  {
   "cell_type": "code",
   "execution_count": 156,
   "id": "17be2d34",
   "metadata": {},
   "outputs": [
    {
     "name": "stdout",
     "output_type": "stream",
     "text": [
      "Name: Usama\n",
      "Age: 27\n"
     ]
    }
   ],
   "source": [
    "info = Person('Usama',27)\n",
    "info.display()"
   ]
  },
  {
   "cell_type": "code",
   "execution_count": 159,
   "id": "cba6c3fb",
   "metadata": {},
   "outputs": [
    {
     "name": "stdout",
     "output_type": "stream",
     "text": [
      "Name: Usama\n",
      "Age: 27\n",
      "Major: Data Science\n"
     ]
    }
   ],
   "source": [
    "info= Student('Usama', 27, 'Data Science')\n",
    "info.display_info()"
   ]
  },
  {
   "cell_type": "code",
   "execution_count": 170,
   "id": "5f8b3ed0",
   "metadata": {},
   "outputs": [
    {
     "name": "stdout",
     "output_type": "stream",
     "text": [
      "\n",
      "Name : Usama\n",
      "Father Name: Saleem\n",
      "        \n",
      "Age: 27\n",
      "Gender: Male\n"
     ]
    }
   ],
   "source": [
    "class Parent():\n",
    "    def __init__(self,name,fname):\n",
    "        self.name = name\n",
    "        self.fname = fname\n",
    "    def display(self):\n",
    "        print(f'''\n",
    "Name : {self.name}\n",
    "Father Name: {self.fname}\n",
    "        ''')\n",
    "class ChildOne(Parent):\n",
    "    def __init__(self,name,fname,age):\n",
    "        super().__init__(name,fname)\n",
    "        self.age = age\n",
    "    def display(self):\n",
    "        super().display()\n",
    "        print(f'Age: {self.age}')\n",
    "class ChildTwo(ChildOne):\n",
    "    def __init__(self,name,fname,age,gender):\n",
    "        super().__init__(name,fname,age)\n",
    "        self.gender = gender\n",
    "    def display(self):\n",
    "        super().display()\n",
    "        print(f'Gender: {self.gender}')\n",
    "info = ChildTwo('Usama', 'Saleem', '27' , 'Male')\n",
    "info.display()"
   ]
  },
  {
   "cell_type": "markdown",
   "id": "12d4eea4",
   "metadata": {},
   "source": [
    "## Encapsulation:\n",
    "* Encapsulation means containing all important information inside an object, and only exposing selected information to the outside world\n",
    "* Encapsulation requires defining some fields as private and some as public.\n",
    "* **Private/ Internal interface:** methods and properties accessible from other methods of the same class.\n",
    "* **Public / External Interface:** methods and properties accessible from outside the class.\n",
    "* **`__`** before attribute name defines as a private attribute"
   ]
  },
  {
   "cell_type": "code",
   "execution_count": 221,
   "id": "43ab5f05",
   "metadata": {},
   "outputs": [
    {
     "ename": "AttributeError",
     "evalue": "'BankAccount' object has no attribute '__balance'",
     "output_type": "error",
     "traceback": [
      "\u001b[1;31m---------------------------------------------------------------------------\u001b[0m",
      "\u001b[1;31mAttributeError\u001b[0m                            Traceback (most recent call last)",
      "\u001b[1;32m~\\AppData\\Local\\Temp\\ipykernel_10940\\2702990694.py\u001b[0m in \u001b[0;36m<module>\u001b[1;34m\u001b[0m\n\u001b[0;32m     25\u001b[0m \u001b[1;33m\u001b[0m\u001b[0m\n\u001b[0;32m     26\u001b[0m \u001b[1;31m# try to access private attribute (will raise an error)\u001b[0m\u001b[1;33m\u001b[0m\u001b[1;33m\u001b[0m\u001b[0m\n\u001b[1;32m---> 27\u001b[1;33m \u001b[0mprint\u001b[0m\u001b[1;33m(\u001b[0m\u001b[0maccount\u001b[0m\u001b[1;33m.\u001b[0m\u001b[0m__balance\u001b[0m\u001b[1;33m)\u001b[0m\u001b[1;33m\u001b[0m\u001b[1;33m\u001b[0m\u001b[0m\n\u001b[0m\u001b[0;32m     28\u001b[0m \u001b[1;33m\u001b[0m\u001b[0m\n",
      "\u001b[1;31mAttributeError\u001b[0m: 'BankAccount' object has no attribute '__balance'"
     ]
    }
   ],
   "source": [
    "class BankAccount:\n",
    "    def __init__(self, account_no, account_holder_name, balance):\n",
    "        self.__account_no = account_no   # private attribute\n",
    "        self.__account_holder_name = account_holder_name  # private attribute\n",
    "        self.__balance = balance         # private attribute\n",
    "\n",
    "    def deposit(self,balance):\n",
    "        self.__balance += balance        # private attribute accessable in method inside a class\n",
    "    \n",
    "    def withdraw(self,balance):\n",
    "        if balance > self.__balance:\n",
    "            print(\"Insufficient balance\")\n",
    "        else:\n",
    "            self.__balance -= balance\n",
    "    \n",
    "    def display_balance(self):\n",
    "        print(f\"\"\"\n",
    "Accont Number : {self.__account_no}\n",
    "Account Name : {self.__account_holder_name}\n",
    "Account Balance: {self.__balance}\n",
    "\"\"\")\n",
    "\n",
    "# create an object of BankAccount class\n",
    "account = BankAccount('12345', 'Usama', 10000)\n",
    "\n",
    "# try to access private attribute (will raise an error)\n",
    "print(account.__balance)\n",
    "\n"
   ]
  },
  {
   "cell_type": "code",
   "execution_count": 222,
   "id": "f4969874",
   "metadata": {},
   "outputs": [
    {
     "name": "stdout",
     "output_type": "stream",
     "text": [
      "\n",
      "Accont Number : 12345\n",
      "Account Name : Usama\n",
      "Account Balance: 13000\n",
      "\n"
     ]
    }
   ],
   "source": [
    "# call public method to deposit money\n",
    "account.deposit(5000)\n",
    "# call public method to withdraw money\n",
    "account.withdraw(2000)\n",
    "# call public method to display balance\n",
    "account.display_balance()"
   ]
  },
  {
   "cell_type": "code",
   "execution_count": 223,
   "id": "da2f2099",
   "metadata": {},
   "outputs": [],
   "source": [
    "account = BankAccount('123456','Usama Saleem', 15000)"
   ]
  },
  {
   "cell_type": "code",
   "execution_count": 224,
   "id": "75d4050f",
   "metadata": {},
   "outputs": [],
   "source": [
    "account.deposit(15000)"
   ]
  },
  {
   "cell_type": "code",
   "execution_count": 225,
   "id": "a545002f",
   "metadata": {},
   "outputs": [
    {
     "name": "stdout",
     "output_type": "stream",
     "text": [
      "\n",
      "Accont Number : 123456\n",
      "Account Name : Usama Saleem\n",
      "Account Balance: 30000\n",
      "\n"
     ]
    }
   ],
   "source": [
    "account.display_balance()"
   ]
  },
  {
   "cell_type": "code",
   "execution_count": 226,
   "id": "19ad799c",
   "metadata": {},
   "outputs": [
    {
     "name": "stdout",
     "output_type": "stream",
     "text": [
      "Insufficient balance\n"
     ]
    }
   ],
   "source": [
    "account.withdraw(32000)"
   ]
  },
  {
   "cell_type": "code",
   "execution_count": 227,
   "id": "592de1e5",
   "metadata": {},
   "outputs": [
    {
     "name": "stdout",
     "output_type": "stream",
     "text": [
      "\n",
      "Accont Number : 123456\n",
      "Account Name : Usama Saleem\n",
      "Account Balance: 1\n",
      "\n"
     ]
    }
   ],
   "source": [
    "account.withdraw(29999)\n",
    "account.display_balance()"
   ]
  },
  {
   "cell_type": "markdown",
   "id": "bd2e659d",
   "metadata": {},
   "source": [
    "## Abstraction:\n",
    "* a way of hiding the implementation details of a class and exposing only the necessary information to the user.\n",
    "* It helps in reducing the complexity of the code and making it more user-friendly.\n",
    "*  the syntax **`from abc import ABC, abstractmethod`** is necessary to define an abstract method in Python.\n",
    "* We use **` @abstractmethod`** decorator to define abstract method\n",
    "* The ABC is a built-in Python module that stands for Abstract Base Class. It is used to define abstract classes in Python. \n",
    "* **An object of an abstract class can not be created.**\n",
    "* Abstraction use when action is common but implementation is different."
   ]
  },
  {
   "cell_type": "code",
   "execution_count": 231,
   "id": "6eb451d9",
   "metadata": {},
   "outputs": [
    {
     "name": "stdout",
     "output_type": "stream",
     "text": [
      "Dog runs on four legs\n",
      "Bird flies in the sky\n"
     ]
    },
    {
     "ename": "TypeError",
     "evalue": "Can't instantiate abstract class Animal with abstract method move",
     "output_type": "error",
     "traceback": [
      "\u001b[1;31m---------------------------------------------------------------------------\u001b[0m",
      "\u001b[1;31mTypeError\u001b[0m                                 Traceback (most recent call last)",
      "\u001b[1;32m~\\AppData\\Local\\Temp\\ipykernel_10940\\1326475437.py\u001b[0m in \u001b[0;36m<module>\u001b[1;34m\u001b[0m\n\u001b[0;32m     21\u001b[0m \u001b[1;33m(\u001b[0m\u001b[0mdog\u001b[0m\u001b[1;33m.\u001b[0m\u001b[0mmove\u001b[0m\u001b[1;33m(\u001b[0m\u001b[1;33m)\u001b[0m\u001b[1;33m)\u001b[0m\u001b[1;33m\u001b[0m\u001b[1;33m\u001b[0m\u001b[0m\n\u001b[0;32m     22\u001b[0m \u001b[1;33m(\u001b[0m\u001b[0mbird\u001b[0m\u001b[1;33m.\u001b[0m\u001b[0mmove\u001b[0m\u001b[1;33m(\u001b[0m\u001b[1;33m)\u001b[0m\u001b[1;33m)\u001b[0m\u001b[1;33m\u001b[0m\u001b[1;33m\u001b[0m\u001b[0m\n\u001b[1;32m---> 23\u001b[1;33m \u001b[0manimal\u001b[0m \u001b[1;33m=\u001b[0m \u001b[0mAnimal\u001b[0m\u001b[1;33m(\u001b[0m\u001b[1;33m)\u001b[0m\u001b[1;33m\u001b[0m\u001b[1;33m\u001b[0m\u001b[0m\n\u001b[0m",
      "\u001b[1;31mTypeError\u001b[0m: Can't instantiate abstract class Animal with abstract method move"
     ]
    }
   ],
   "source": [
    "from abc import ABC, abstractmethod\n",
    "\n",
    "class Animal(ABC): #--> Abstract class\n",
    "    @abstractmethod\n",
    "    def move(self):\n",
    "        pass\n",
    "\n",
    "class Dog(Animal):\n",
    "    def move(self):\n",
    "        print(\"Dog runs on four legs\")\n",
    "\n",
    "class Bird(Animal):\n",
    "    def move(self):\n",
    "        print(\"Bird flies in the sky\")\n",
    "\n",
    "# create objects of Dog and Bird classes\n",
    "dog = Dog()\n",
    "bird = Bird()\n",
    "\n",
    "# call the move() method of Dog and Bird objects\n",
    "(dog.move())\n",
    "(bird.move())\n",
    "animal = Animal() # --> returns aan error as abstract class object can not be created\n"
   ]
  },
  {
   "cell_type": "markdown",
   "id": "ccc43703",
   "metadata": {},
   "source": [
    "## Polymorphism:\n",
    "* It allows objects of different classes to be treated as if they are objects of the same class or simply same objects having different behaviour. \n",
    "* In Python, Polymorphism can be achieved through method **overriding** and method **overloading.**\n",
    "* **Overriding:** When a subclass provides its own implementation of a method that is already defined in its parent class.\n",
    "* **Overloading:** When a class has multiple methods with the same name, but different parameters."
   ]
  },
  {
   "cell_type": "markdown",
   "id": "fb926fb6",
   "metadata": {},
   "source": [
    "**In this example, Animal is a parent class and Dog is a subclass that overrides the speak() method. When the speak() method is called on an instance of Animal, it prints \"The animal makes a sound\". When the speak() method is called on an instance of Dog, it prints \"The dog barks\", which is the overridden implementation.**"
   ]
  },
  {
   "cell_type": "code",
   "execution_count": 232,
   "id": "1529b65c",
   "metadata": {},
   "outputs": [
    {
     "name": "stdout",
     "output_type": "stream",
     "text": [
      "The animal makes a sound\n",
      "The dog barks\n"
     ]
    }
   ],
   "source": [
    "class Animal:\n",
    "    def speak(self):\n",
    "        print(\"The animal makes a sound\")\n",
    "\n",
    "class Dog(Animal):\n",
    "    def speak(self):\n",
    "        print(\"The dog barks\")\n",
    "\n",
    "a = Animal()\n",
    "a.speak()\n",
    "\n",
    "d = Dog()\n",
    "d.speak()\n"
   ]
  },
  {
   "cell_type": "markdown",
   "id": "58abf87e",
   "metadata": {},
   "source": [
    "**In this example, the Math class has two add() methods with different numbers of parameters. When the add() method is called with two arguments, it raises a TypeError because there is no implementation that takes only two arguments. When the add() method is called with three arguments, it returns the sum of the three numbers. This is an example of method overloading, where the same method name is used for multiple implementations with different numbers or types of parameters.**"
   ]
  },
  {
   "cell_type": "code",
   "execution_count": 234,
   "id": "0a1ac9c4",
   "metadata": {},
   "outputs": [
    {
     "name": "stdout",
     "output_type": "stream",
     "text": [
      "6\n"
     ]
    },
    {
     "ename": "TypeError",
     "evalue": "add() missing 1 required positional argument: 'z'",
     "output_type": "error",
     "traceback": [
      "\u001b[1;31m---------------------------------------------------------------------------\u001b[0m",
      "\u001b[1;31mTypeError\u001b[0m                                 Traceback (most recent call last)",
      "\u001b[1;32m~\\AppData\\Local\\Temp\\ipykernel_10940\\3732237815.py\u001b[0m in \u001b[0;36m<module>\u001b[1;34m\u001b[0m\n\u001b[0;32m      8\u001b[0m \u001b[0mm\u001b[0m \u001b[1;33m=\u001b[0m \u001b[0mMath\u001b[0m\u001b[1;33m(\u001b[0m\u001b[1;33m)\u001b[0m\u001b[1;33m\u001b[0m\u001b[1;33m\u001b[0m\u001b[0m\n\u001b[0;32m      9\u001b[0m \u001b[0mprint\u001b[0m\u001b[1;33m(\u001b[0m\u001b[0mm\u001b[0m\u001b[1;33m.\u001b[0m\u001b[0madd\u001b[0m\u001b[1;33m(\u001b[0m\u001b[1;36m1\u001b[0m\u001b[1;33m,\u001b[0m \u001b[1;36m2\u001b[0m\u001b[1;33m,\u001b[0m \u001b[1;36m3\u001b[0m\u001b[1;33m)\u001b[0m\u001b[1;33m)\u001b[0m  \u001b[1;31m# Output: 6\u001b[0m\u001b[1;33m\u001b[0m\u001b[1;33m\u001b[0m\u001b[0m\n\u001b[1;32m---> 10\u001b[1;33m \u001b[0mprint\u001b[0m\u001b[1;33m(\u001b[0m\u001b[0mm\u001b[0m\u001b[1;33m.\u001b[0m\u001b[0madd\u001b[0m\u001b[1;33m(\u001b[0m\u001b[1;36m1\u001b[0m\u001b[1;33m,\u001b[0m \u001b[1;36m2\u001b[0m\u001b[1;33m)\u001b[0m\u001b[1;33m)\u001b[0m     \u001b[1;31m# Output: TypeError: add() missing 1 required positional argument: 'z'\u001b[0m\u001b[1;33m\u001b[0m\u001b[1;33m\u001b[0m\u001b[0m\n\u001b[0m\u001b[0;32m     11\u001b[0m \u001b[1;33m\u001b[0m\u001b[0m\n",
      "\u001b[1;31mTypeError\u001b[0m: add() missing 1 required positional argument: 'z'"
     ]
    }
   ],
   "source": [
    "class Math:\n",
    "    def add(self, x, y):\n",
    "        return x + y\n",
    "    \n",
    "    def add(self, x, y, z):\n",
    "        return x + y + z\n",
    "\n",
    "m = Math()\n",
    "print(m.add(1, 2, 3))  # Output: 6\n",
    "print(m.add(1, 2))     # Output: TypeError: add() missing 1 required positional argument: 'z'\n",
    "\n"
   ]
  },
  {
   "cell_type": "code",
   "execution_count": null,
   "id": "cbc61ce8",
   "metadata": {},
   "outputs": [],
   "source": []
  }
 ],
 "metadata": {
  "kernelspec": {
   "display_name": "Python 3 (ipykernel)",
   "language": "python",
   "name": "python3"
  },
  "language_info": {
   "codemirror_mode": {
    "name": "ipython",
    "version": 3
   },
   "file_extension": ".py",
   "mimetype": "text/x-python",
   "name": "python",
   "nbconvert_exporter": "python",
   "pygments_lexer": "ipython3",
   "version": "3.9.13"
  }
 },
 "nbformat": 4,
 "nbformat_minor": 5
}
