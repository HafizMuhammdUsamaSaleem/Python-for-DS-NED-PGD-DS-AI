{
 "cells": [
  {
   "cell_type": "markdown",
   "id": "5c56d7fb",
   "metadata": {},
   "source": [
    "## Dictionary\n",
    " * Python dictionary is an ordered collection of items. \n",
    " * It stores elements in key/value pairs.\n",
    " * Here, keys are unique identifiers that are associated with each value.\n",
    " * Python dictionaries allow us to associate a value to a unique key, and then to quickly access this value."
   ]
  },
  {
   "cell_type": "markdown",
   "id": "e207cda1",
   "metadata": {},
   "source": [
    "## Simple structure of dictionary\n",
    "{\n",
    "\n",
    "    key1:value1,\n",
    "    \n",
    "    key2:value2,\n",
    "    \n",
    "    key3:value3\n",
    "}\n",
    "\n",
    "* always starts with \"{\" and ends with \"}\"\n",
    "* key and value pair\n",
    "* : seperator between key and value\n",
    "* , seperator between key:value pair\n",
    "* key-- data type always should be string and int\n",
    "* value-- any data type stored in it"
   ]
  },
  {
   "cell_type": "markdown",
   "id": "64dabf4b",
   "metadata": {},
   "source": [
    "## How we can create dictionary"
   ]
  },
  {
   "cell_type": "code",
   "execution_count": 1,
   "id": "ca306fbf",
   "metadata": {},
   "outputs": [],
   "source": [
    "my_info = {\n",
    "    \"name\": \"Usama Saleem\",\n",
    "    \"father name\": \"Saleem Khan\",\n",
    "    \"age\" : 27,\n",
    "    \"Education\": \" MSDS\",\n",
    "    \"University\": \"NED\",\n",
    "    2023: \"My year to achieve my goals\"\n",
    "}"
   ]
  },
  {
   "cell_type": "code",
   "execution_count": 2,
   "id": "7459fd5f",
   "metadata": {},
   "outputs": [
    {
     "name": "stdout",
     "output_type": "stream",
     "text": [
      "{'name': 'Muhammad Usama Saleem', 'f_name': 'Muhammad Saleem Khan', 'age': 27, 'course': 'PGD in DS and AI', 'skills': ['Python', 'SQL', 'DS']}\n"
     ]
    }
   ],
   "source": [
    "data = {\n",
    "    'name': 'Muhammad Usama Saleem',\n",
    "    'f_name': 'Muhammad Saleem Khan',\n",
    "    'age': 27,\n",
    "    'course': 'PGD in DS and AI',\n",
    "    'skills' : ['Python','SQL','DS']\n",
    "}\n",
    "print(data)"
   ]
  },
  {
   "cell_type": "code",
   "execution_count": 3,
   "id": "306469f5",
   "metadata": {},
   "outputs": [
    {
     "name": "stdout",
     "output_type": "stream",
     "text": [
      "{}\n"
     ]
    }
   ],
   "source": [
    "dict1 = {}\n",
    "print(dict1)"
   ]
  },
  {
   "cell_type": "code",
   "execution_count": 4,
   "id": "18839a7a",
   "metadata": {},
   "outputs": [
    {
     "name": "stdout",
     "output_type": "stream",
     "text": [
      "{'name': 'Usama', 'age': 27, 'course': 'DS and AI'}\n"
     ]
    }
   ],
   "source": [
    "dict1 = {}\n",
    "dict1['name'] = 'Usama'\n",
    "dict1['age'] = 27\n",
    "dict1['course'] = 'DS and AI'\n",
    "print(dict1)"
   ]
  },
  {
   "cell_type": "code",
   "execution_count": 5,
   "id": "71fd4d5f",
   "metadata": {},
   "outputs": [
    {
     "name": "stdout",
     "output_type": "stream",
     "text": [
      "{'name': 'Saleem', 'age': 27, 'course': 'DS and AI', 0: 'zero', 1: 'one'}\n"
     ]
    }
   ],
   "source": [
    "dict1 = {}\n",
    "dict1['name'] = \"Usama\"\n",
    "dict1['age'] = 27\n",
    "dict1[\"name\"] = \"Saleem\" #overwrite name \n",
    "dict1['course'] = 'DS and AI'\n",
    "dict1 [0] = 'zero'\n",
    "dict1[1] = 'one'\n",
    "print(dict1)"
   ]
  },
  {
   "cell_type": "markdown",
   "id": "08adaa06",
   "metadata": {},
   "source": [
    "## How to access value from dictionary\n",
    "* dictionary [key]"
   ]
  },
  {
   "cell_type": "code",
   "execution_count": 6,
   "id": "b3c4a997",
   "metadata": {},
   "outputs": [
    {
     "data": {
      "text/plain": [
       "'Saleem'"
      ]
     },
     "execution_count": 6,
     "metadata": {},
     "output_type": "execute_result"
    }
   ],
   "source": [
    "dict1['name']"
   ]
  },
  {
   "cell_type": "code",
   "execution_count": 7,
   "id": "ad1fadaa",
   "metadata": {},
   "outputs": [
    {
     "data": {
      "text/plain": [
       "['Python', 'SQL', 'DS']"
      ]
     },
     "execution_count": 7,
     "metadata": {},
     "output_type": "execute_result"
    }
   ],
   "source": [
    "data['skills']"
   ]
  },
  {
   "cell_type": "code",
   "execution_count": 8,
   "id": "f08df84d",
   "metadata": {},
   "outputs": [
    {
     "data": {
      "text/plain": [
       "'My year to achieve my goals'"
      ]
     },
     "execution_count": 8,
     "metadata": {},
     "output_type": "execute_result"
    }
   ],
   "source": [
    "my_info[2023]"
   ]
  },
  {
   "cell_type": "code",
   "execution_count": 9,
   "id": "84eb2c7c",
   "metadata": {},
   "outputs": [
    {
     "data": {
      "text/plain": [
       "'zero'"
      ]
     },
     "execution_count": 9,
     "metadata": {},
     "output_type": "execute_result"
    }
   ],
   "source": [
    "dict1[0] # --> it is not an index its a key of dictionaray"
   ]
  },
  {
   "cell_type": "markdown",
   "id": "4e899a11",
   "metadata": {},
   "source": [
    "## Methods in Dictionary (dict):"
   ]
  },
  {
   "cell_type": "code",
   "execution_count": 10,
   "id": "d76e3ab5",
   "metadata": {},
   "outputs": [
    {
     "data": {
      "text/plain": [
       "['clear',\n",
       " 'copy',\n",
       " 'fromkeys',\n",
       " 'get',\n",
       " 'items',\n",
       " 'keys',\n",
       " 'pop',\n",
       " 'popitem',\n",
       " 'setdefault',\n",
       " 'update',\n",
       " 'values']"
      ]
     },
     "execution_count": 10,
     "metadata": {},
     "output_type": "execute_result"
    }
   ],
   "source": [
    "[i for i  in dir(dict) if  \"__\" not in i ]"
   ]
  },
  {
   "cell_type": "markdown",
   "id": "8417b984",
   "metadata": {},
   "source": [
    "### 1 clear\n",
    "* The clear() method removes all items from the dictionary.\n",
    "* The syntax of the clear() method is:<b> dictionary.clear()\n",
    "* The clear() method doesn't take any parameters."
   ]
  },
  {
   "cell_type": "code",
   "execution_count": 11,
   "id": "6d478c8f",
   "metadata": {},
   "outputs": [
    {
     "name": "stdout",
     "output_type": "stream",
     "text": [
      "{'name': 'Saleem', 'age': 27, 'course': 'DS and AI', 0: 'zero', 1: 'one'}\n"
     ]
    }
   ],
   "source": [
    "print(dict1)"
   ]
  },
  {
   "cell_type": "code",
   "execution_count": 12,
   "id": "b4e4cab4",
   "metadata": {},
   "outputs": [
    {
     "name": "stdout",
     "output_type": "stream",
     "text": [
      "{}\n"
     ]
    }
   ],
   "source": [
    "dict1.clear()\n",
    "print(dict1)"
   ]
  },
  {
   "cell_type": "markdown",
   "id": "d938d294",
   "metadata": {},
   "source": [
    "### 2 copy\n",
    "* They copy() method returns a copy (deep copy) of the dictionary.\n",
    "* The syntax of copy() is: <b> dictionary.copy()\n",
    "* The copy() method doesn't take any arguments.\n",
    "* When the copy() method is used, a new dictionary is created which is filled with a copy of the references from the original dictionary.\n",
    "* When the = operator is used, a new reference to the original dictionary is created or shallow copy is cretaed."
   ]
  },
  {
   "cell_type": "code",
   "execution_count": 13,
   "id": "17910a47",
   "metadata": {},
   "outputs": [
    {
     "name": "stdout",
     "output_type": "stream",
     "text": [
      "{'name': 'Muhammad Usama Saleem', 'f_name': 'Muhammad Saleem Khan', 'age': 27, 'course': 'PGD in DS and AI', 'skills': ['Python', 'SQL', 'DS']}\n"
     ]
    }
   ],
   "source": [
    "data = {\n",
    "    'name': 'Muhammad Usama Saleem',\n",
    "    'f_name': 'Muhammad Saleem Khan',\n",
    "    'age': 27,\n",
    "    'course': 'PGD in DS and AI',\n",
    "    'skills' : ['Python','SQL','DS']\n",
    "}\n",
    "print(data)"
   ]
  },
  {
   "cell_type": "code",
   "execution_count": 14,
   "id": "a2636a85",
   "metadata": {},
   "outputs": [
    {
     "name": "stdout",
     "output_type": "stream",
     "text": [
      "{'name': 'Muhammad Usasma', 'fname': 'Saleem', 'age': 27}\n",
      "{'name': 'Muhammad Usasma', 'fname': 'Saleem', 'age': 27}\n",
      "{'name': 'Muhammad Usasma', 'fname': 'Saleem', 'age': 27}\n",
      "{'name': 'Muhammad Usasma', 'fname': 'Saleem', 'age': 27}\n"
     ]
    }
   ],
   "source": [
    "data = {\n",
    "    'name':'Usama',\n",
    "    'fname':'Saleem',\n",
    "    'age':27,\n",
    "    \n",
    "}\n",
    "\n",
    "\n",
    "data1 = data # shallow copy\n",
    "data2 = data # shallow copy\n",
    "data3 = data # shallow copy\n",
    "\n",
    "data3['name'] = \"Muhammad Usasma\" # did not overwrite\n",
    "\n",
    "print(data)\n",
    "print(data1)\n",
    "print(data2)\n",
    "print(data3)"
   ]
  },
  {
   "cell_type": "code",
   "execution_count": 15,
   "id": "72c2f887",
   "metadata": {},
   "outputs": [
    {
     "name": "stdout",
     "output_type": "stream",
     "text": [
      "2026374202304 2026374202304\n"
     ]
    }
   ],
   "source": [
    "print(id(data), id(data1)) # same address as its a shallow copy"
   ]
  },
  {
   "cell_type": "code",
   "execution_count": 16,
   "id": "df3da5fa",
   "metadata": {},
   "outputs": [
    {
     "name": "stdout",
     "output_type": "stream",
     "text": [
      "{'name': 'Usama', 'fname': 'Saleem', 'age': 27}\n",
      "{'name': 'Usama', 'fname': 'Saleem', 'age': 27}\n",
      "{'name': 'Usama', 'fname': 'Saleem', 'age': 27}\n",
      "{'name': 'Muhammad Usama', 'fname': 'Saleem', 'age': 27}\n"
     ]
    }
   ],
   "source": [
    "data = {\n",
    "    'name':'Usama',\n",
    "    'fname':'Saleem',\n",
    "    'age':27,\n",
    "    \n",
    "}\n",
    "\n",
    "\n",
    "data1 = data.copy() # Deep Copy\n",
    "data2 = data.copy() # Deep Copy\n",
    "data3 = data.copy() # Deep Copy\n",
    "\n",
    "data3['name'] = \"Muhammad Usama\" # overwrite\n",
    "\n",
    "print(data)\n",
    "print(data1)\n",
    "print(data2)\n",
    "print(data3)"
   ]
  },
  {
   "cell_type": "code",
   "execution_count": 17,
   "id": "9af31f9d",
   "metadata": {},
   "outputs": [
    {
     "name": "stdout",
     "output_type": "stream",
     "text": [
      "2026374195328 2026374195072\n"
     ]
    }
   ],
   "source": [
    "print(id(data) , id(data1))  # different physical address as its a deep copy"
   ]
  },
  {
   "cell_type": "code",
   "execution_count": 18,
   "id": "00156823",
   "metadata": {},
   "outputs": [
    {
     "name": "stdout",
     "output_type": "stream",
     "text": [
      "{}\n",
      "{'name': 'Usama', 'fname': 'Saleem', 'age': 27}\n"
     ]
    }
   ],
   "source": [
    "data3.clear() # Here, when the new dictionary is cleared, the original dictionary remains unchanged.\n",
    "print(data3)\n",
    "print(data)"
   ]
  },
  {
   "cell_type": "markdown",
   "id": "90b867f0",
   "metadata": {},
   "source": [
    "### 3 fromkeys\n",
    "* The fromkeys() method creates a dictionary from the given sequence of keys and values/ create dictionary with list of keys.\n",
    "* The syntax of the fromkeys() method is: <b >dict.fromkeys(alphabets,number)\n",
    "* The fromkeys() method can take two parameters:\n",
    "* alphabets --> are the keys that can be any iterables like string, set, list, etc.\n",
    "* numbers (Optional) --> are the values that can be of any type or any iterables like string, set, list, etc."
   ]
  },
  {
   "cell_type": "code",
   "execution_count": 19,
   "id": "de4927b2",
   "metadata": {},
   "outputs": [
    {
     "name": "stdout",
     "output_type": "stream",
     "text": [
      "{'1': None}\n"
     ]
    }
   ],
   "source": [
    "one = '1'\n",
    "print(data.fromkeys(one))"
   ]
  },
  {
   "cell_type": "code",
   "execution_count": 20,
   "id": "f744cb9f",
   "metadata": {},
   "outputs": [
    {
     "data": {
      "text/plain": [
       "{'e': 'vowels', 'a': 'vowels', 'o': 'vowels', 'i': 'vowels', 'u': 'vowels'}"
      ]
     },
     "execution_count": 20,
     "metadata": {},
     "output_type": "execute_result"
    }
   ],
   "source": [
    "keys = {'a','e','i','o','u'}\n",
    "values = 'vowels'\n",
    "dict.fromkeys(keys,values)"
   ]
  },
  {
   "cell_type": "code",
   "execution_count": 21,
   "id": "9d8e6002",
   "metadata": {},
   "outputs": [
    {
     "data": {
      "text/plain": [
       "{'e': None, 'a': None, 'o': None, 'i': None, 'u': None}"
      ]
     },
     "execution_count": 21,
     "metadata": {},
     "output_type": "execute_result"
    }
   ],
   "source": [
    "keys = {'a','e','i','o','u'}\n",
    "dict.fromkeys(keys) # values are optional as if it is not defined then it returns none "
   ]
  },
  {
   "cell_type": "code",
   "execution_count": 22,
   "id": "b5929cb1",
   "metadata": {},
   "outputs": [
    {
     "data": {
      "text/plain": [
       "{'e': {'1', '2', '3', '4', '5'},\n",
       " 'a': {'1', '2', '3', '4', '5'},\n",
       " 'o': {'1', '2', '3', '4', '5'},\n",
       " 'i': {'1', '2', '3', '4', '5'},\n",
       " 'u': {'1', '2', '3', '4', '5'}}"
      ]
     },
     "execution_count": 22,
     "metadata": {},
     "output_type": "execute_result"
    }
   ],
   "source": [
    "keys = {'a','e','i','o','u'}\n",
    "values = {'1','2','3','4','5'}\n",
    "dict.fromkeys(keys,values)"
   ]
  },
  {
   "cell_type": "code",
   "execution_count": 23,
   "id": "6772712c",
   "metadata": {},
   "outputs": [],
   "source": [
    "keys = {'name','fname','course','skills'}"
   ]
  },
  {
   "cell_type": "code",
   "execution_count": 24,
   "id": "05ea5687",
   "metadata": {},
   "outputs": [
    {
     "data": {
      "text/plain": [
       "{'name': 'not available',\n",
       " 'skills': 'not available',\n",
       " 'fname': 'not available',\n",
       " 'course': 'not available'}"
      ]
     },
     "execution_count": 24,
     "metadata": {},
     "output_type": "execute_result"
    }
   ],
   "source": [
    "dict.fromkeys(keys,'not available')"
   ]
  },
  {
   "cell_type": "code",
   "execution_count": 25,
   "id": "83977d0d",
   "metadata": {},
   "outputs": [
    {
     "name": "stdout",
     "output_type": "stream",
     "text": [
      "{'name': [1], 'skills': [1], 'fname': [1], 'course': [1]}\n"
     ]
    },
    {
     "data": {
      "text/plain": [
       "{'name': [1, 2], 'skills': [1, 2], 'fname': [1, 2], 'course': [1, 2]}"
      ]
     },
     "execution_count": 25,
     "metadata": {},
     "output_type": "execute_result"
    }
   ],
   "source": [
    "# fromkeys() To Create A Dictionary From Mutable Object\n",
    "k = {'name','fname','course','skills'}\n",
    "v = [1]\n",
    "print(dict.fromkeys(k,v))\n",
    "v.append(2)\n",
    "dict.fromkeys(k,v)"
   ]
  },
  {
   "cell_type": "code",
   "execution_count": 26,
   "id": "1099ce66",
   "metadata": {},
   "outputs": [
    {
     "name": "stdout",
     "output_type": "stream",
     "text": [
      "{'name': [1], 'skills': [1], 'fname': [1], 'course': [1]}\n",
      "{'name': [1], 'skills': [1], 'fname': [1], 'course': [1]}\n"
     ]
    }
   ],
   "source": [
    "# Dictionary comprehension for mutable objects\n",
    "k = {'name','fname','course','skills'}\n",
    "v = [1]\n",
    "dict1 = { key : list(v) for key in k }\n",
    "print(dict1)\n",
    "v.append(2)\n",
    "print(dict1)"
   ]
  },
  {
   "cell_type": "markdown",
   "id": "ac832bdb",
   "metadata": {},
   "source": [
    "## 4 get\n",
    "* The get() method returns the value for the specified key if the key is in the dictionary.\n",
    "* The syntax of get() is:<b> dict.get(key,value)\n",
    "* get() method takes maximum of two parameters:\n",
    "* key --> key to be searched in the dictionary\n",
    "* value (optional) -- > Value to be returned if the key is not found. The default value is None."
   ]
  },
  {
   "cell_type": "code",
   "execution_count": 27,
   "id": "1dc0db29",
   "metadata": {},
   "outputs": [
    {
     "name": "stdout",
     "output_type": "stream",
     "text": [
      "Usama\n"
     ]
    },
    {
     "ename": "KeyError",
     "evalue": "'skills'",
     "output_type": "error",
     "traceback": [
      "\u001b[1;31m---------------------------------------------------------------------------\u001b[0m",
      "\u001b[1;31mKeyError\u001b[0m                                  Traceback (most recent call last)",
      "\u001b[1;32m~\\AppData\\Local\\Temp\\ipykernel_18364\\750307772.py\u001b[0m in \u001b[0;36m<module>\u001b[1;34m\u001b[0m\n\u001b[0;32m      7\u001b[0m }\n\u001b[0;32m      8\u001b[0m \u001b[0mprint\u001b[0m\u001b[1;33m(\u001b[0m\u001b[0mdict1\u001b[0m\u001b[1;33m[\u001b[0m\u001b[1;34m'name'\u001b[0m\u001b[1;33m]\u001b[0m\u001b[1;33m)\u001b[0m\u001b[1;33m\u001b[0m\u001b[1;33m\u001b[0m\u001b[0m\n\u001b[1;32m----> 9\u001b[1;33m \u001b[0mprint\u001b[0m\u001b[1;33m(\u001b[0m\u001b[0mdict1\u001b[0m\u001b[1;33m[\u001b[0m\u001b[1;34m'skills'\u001b[0m\u001b[1;33m]\u001b[0m\u001b[1;33m)\u001b[0m \u001b[1;31m# --> key error arise as it is not defined\u001b[0m\u001b[1;33m\u001b[0m\u001b[1;33m\u001b[0m\u001b[0m\n\u001b[0m\u001b[0;32m     10\u001b[0m \u001b[0mprint\u001b[0m\u001b[1;33m(\u001b[0m\u001b[0mdict1\u001b[0m\u001b[1;33m[\u001b[0m\u001b[1;34m'University'\u001b[0m\u001b[1;33m]\u001b[0m\u001b[1;33m)\u001b[0m\u001b[1;33m\u001b[0m\u001b[1;33m\u001b[0m\u001b[0m\n",
      "\u001b[1;31mKeyError\u001b[0m: 'skills'"
     ]
    }
   ],
   "source": [
    "dict1 = {\n",
    "    'name': 'Usama',\n",
    "    'fname': 'Saleem',\n",
    "    'age' : 27,\n",
    "    'University': 'NED',\n",
    "    'Course': 'DS and AI'\n",
    "}\n",
    "print(dict1['name'])\n",
    "print(dict1['skills']) # --> key error arise as it is not defined\n",
    "print(dict1['University'])"
   ]
  },
  {
   "cell_type": "code",
   "execution_count": 28,
   "id": "27302d9f",
   "metadata": {},
   "outputs": [
    {
     "name": "stdout",
     "output_type": "stream",
     "text": [
      "Usama\n",
      "None\n",
      "Saleem\n"
     ]
    }
   ],
   "source": [
    "dict1\n",
    "print(dict1.get('name'))\n",
    "print(dict1.get('skills')) # key error problem solved\n",
    "print(dict1.get('fname'))"
   ]
  },
  {
   "cell_type": "code",
   "execution_count": 29,
   "id": "70054363",
   "metadata": {},
   "outputs": [
    {
     "name": "stdout",
     "output_type": "stream",
     "text": [
      "Usama\n",
      "invalid key\n",
      "Saleem\n"
     ]
    }
   ],
   "source": [
    "dict1\n",
    "print(dict1.get('name'))\n",
    "print(dict1.get('skills','invalid key')) # returns invalid key instead of none\n",
    "print(dict1.get('fname'))"
   ]
  },
  {
   "cell_type": "markdown",
   "id": "003c513f",
   "metadata": {},
   "source": [
    "## 5 items\n",
    "* The items() method returns key , value pair in a tuple inside a list.\n",
    "* The syntax of items() method is:<b> dictionary.items()\n",
    "* The items() method doesn't take any parameters."
   ]
  },
  {
   "cell_type": "code",
   "execution_count": 30,
   "id": "ffbeb5a9",
   "metadata": {},
   "outputs": [
    {
     "name": "stdout",
     "output_type": "stream",
     "text": [
      "dict_items([('name', 'Usama'), ('fname', 'Saleem'), ('age', 27), ('University', 'NED'), ('Course', 'DS and AI')])\n",
      "<class 'dict_items'>\n"
     ]
    }
   ],
   "source": [
    "a = dict1.items()\n",
    "print(a)\n",
    "print(type(a))"
   ]
  },
  {
   "cell_type": "code",
   "execution_count": 31,
   "id": "735e4c08",
   "metadata": {},
   "outputs": [
    {
     "name": "stdout",
     "output_type": "stream",
     "text": [
      "dict_items([('name', 'Usama'), ('fname', 'Saleem'), ('age', 27), ('University', 'NED'), ('Course', 'DS and AI')])\n",
      "dict_items([('name', 'Usama'), ('fname', 'Saleem'), ('University', 'NED'), ('Course', 'DS and AI')])\n"
     ]
    }
   ],
   "source": [
    "# items() when a dictionary is modified\n",
    "dict1 = {\n",
    "    'name': 'Usama',\n",
    "    'fname': 'Saleem',\n",
    "    'age' : 27,\n",
    "    'University': 'NED',\n",
    "    'Course': 'DS and AI'\n",
    "}\n",
    "print(dict1.items())\n",
    "del[dict1['age']] # --> deleting an item for dict1\n",
    "print(dict1.items())"
   ]
  },
  {
   "cell_type": "markdown",
   "id": "17554eb1",
   "metadata": {},
   "source": [
    "## 6 keys\n",
    "* The keys() method extracts the keys of the dictionary and returns the list of keys.\n",
    "* The syntax of the keys() method is:<b> dictionary.keys()\n",
    "* Here, dictionary is a dictionary whose keys are extracted.\n",
    "* keys() method doesn't take any parameters."
   ]
  },
  {
   "cell_type": "code",
   "execution_count": 32,
   "id": "6723bc6f",
   "metadata": {},
   "outputs": [
    {
     "name": "stdout",
     "output_type": "stream",
     "text": [
      "{'name': 'Usama', 'fname': 'Saleem', 'University': 'NED', 'Course': 'DS and AI'}\n",
      "dict_keys(['name', 'fname', 'University', 'Course'])\n"
     ]
    }
   ],
   "source": [
    "print(dict1)\n",
    "print(dict1.keys())"
   ]
  },
  {
   "cell_type": "code",
   "execution_count": 33,
   "id": "a52fa8f4",
   "metadata": {},
   "outputs": [
    {
     "name": "stdout",
     "output_type": "stream",
     "text": [
      "{'name': 'Usama', 'fname': 'Saleem', 'University': 'NED', 'Course': 'DS and AI'}\n",
      "dict_keys(['name', 'fname', 'University', 'Course'])\n",
      "Updated Keys dict_keys(['name', 'fname', 'University', 'Course', 'age'])\n"
     ]
    }
   ],
   "source": [
    "# Update in dictionary updates the return lits of keys\n",
    "print(dict1)\n",
    "a = (dict1.keys())\n",
    "print(a)\n",
    "dict1.update({'age': 27})\n",
    "print(\"Updated Keys\" , a)"
   ]
  },
  {
   "cell_type": "markdown",
   "id": "fb97bf44",
   "metadata": {},
   "source": [
    "## 7 pop\n",
    "* The pop() method removes and returns an element from a dictionary having the given key.\n",
    "* The syntax of pop() method is: <b> dictionary.pop(key,default)\n",
    "* pop() method takes two parameters:\n",
    "* key --> key which is to be searched for removal.\n",
    "* default --> value which is to be returned when the key is not in the dictionary.\n",
    "* The pop() method returns:\n",
    "* If key is found - removed/popped element from the dictionary\n",
    "* If key is not found - value specified as the second argument (default)\n",
    "* If key is not found and default argument is not specified - KeyError exception is raised"
   ]
  },
  {
   "cell_type": "code",
   "execution_count": 34,
   "id": "1e2c205a",
   "metadata": {},
   "outputs": [
    {
     "name": "stdout",
     "output_type": "stream",
     "text": [
      "{'name': 'Usama', 'fname': 'Saleem', 'University': 'NED', 'Course': 'DS and AI', 'age': 27}\n",
      "Value of University is  NED\n",
      "{'name': 'Usama', 'fname': 'Saleem', 'Course': 'DS and AI', 'age': 27}\n"
     ]
    }
   ],
   "source": [
    "print(dict1)\n",
    "print(\"Value of University is \",dict1.pop('University')) # --> return value of 'University \n",
    "print(dict1)                                             # and removed key9'University' and value 'NED' from dictionary"
   ]
  },
  {
   "cell_type": "code",
   "execution_count": 35,
   "id": "8d78a73a",
   "metadata": {},
   "outputs": [
    {
     "name": "stdout",
     "output_type": "stream",
     "text": [
      "{'name': 'Usama', 'fname': 'Saleem', 'Course': 'DS and AI', 'age': 27}\n",
      "Not available\n"
     ]
    }
   ],
   "source": [
    "print(dict1)\n",
    "print(dict1.pop('University', 'Not available')) # --> as key is not found so it returns argument written here"
   ]
  },
  {
   "cell_type": "code",
   "execution_count": 36,
   "id": "1b51744f",
   "metadata": {},
   "outputs": [
    {
     "name": "stdout",
     "output_type": "stream",
     "text": [
      "{'name': 'Usama', 'fname': 'Saleem', 'Course': 'DS and AI', 'age': 27}\n"
     ]
    },
    {
     "ename": "KeyError",
     "evalue": "'University'",
     "output_type": "error",
     "traceback": [
      "\u001b[1;31m---------------------------------------------------------------------------\u001b[0m",
      "\u001b[1;31mKeyError\u001b[0m                                  Traceback (most recent call last)",
      "\u001b[1;32m~\\AppData\\Local\\Temp\\ipykernel_18364\\1326797004.py\u001b[0m in \u001b[0;36m<module>\u001b[1;34m\u001b[0m\n\u001b[0;32m      1\u001b[0m \u001b[0mprint\u001b[0m\u001b[1;33m(\u001b[0m\u001b[0mdict1\u001b[0m\u001b[1;33m)\u001b[0m\u001b[1;33m\u001b[0m\u001b[1;33m\u001b[0m\u001b[0m\n\u001b[1;32m----> 2\u001b[1;33m \u001b[0mprint\u001b[0m\u001b[1;33m(\u001b[0m\u001b[0mdict1\u001b[0m\u001b[1;33m.\u001b[0m\u001b[0mpop\u001b[0m\u001b[1;33m(\u001b[0m\u001b[1;34m'University'\u001b[0m\u001b[1;33m)\u001b[0m\u001b[1;33m)\u001b[0m \u001b[1;31m# --> as key is not found and argument is not written too so it returns 'key error'\u001b[0m\u001b[1;33m\u001b[0m\u001b[1;33m\u001b[0m\u001b[0m\n\u001b[0m",
      "\u001b[1;31mKeyError\u001b[0m: 'University'"
     ]
    }
   ],
   "source": [
    "print(dict1)\n",
    "print(dict1.pop('University')) # --> as key is not found and argument is not written too so it returns 'key error'"
   ]
  },
  {
   "cell_type": "markdown",
   "id": "ed324f84",
   "metadata": {},
   "source": [
    "## 8 popitem\n",
    "* The popitem() method removes and returns the last element (key, value) pair inserted into the dictionary.\n",
    "* The syntax of popitem() is:<b> dictionary.popitem()\n",
    "* The popitem() doesn't take any parameters.\n",
    "* The popitem() method removes and returns the (key, value) pair from the dictionary in the Last In, First Out (LIFO) order.\n",
    "* Returns the latest inserted element (key,value) pair from the dictionary.\n",
    "* Removes the returned element pair from the dictionary."
   ]
  },
  {
   "cell_type": "code",
   "execution_count": 37,
   "id": "6a3e8219",
   "metadata": {},
   "outputs": [
    {
     "name": "stdout",
     "output_type": "stream",
     "text": [
      "{'name': 'Usama', 'fname': 'Saleem', 'age': 27, 'University': 'NED', 'Course': 'DS and AI'}\n",
      "('Course', 'DS and AI')\n",
      "{'name': 'Usama', 'fname': 'Saleem', 'age': 27, 'University': 'NED'}\n",
      "('University', 'NED')\n",
      "{'name': 'Usama', 'fname': 'Saleem', 'age': 27}\n"
     ]
    }
   ],
   "source": [
    "dict1 = {\n",
    "    'name': 'Usama',\n",
    "    'fname': 'Saleem',\n",
    "    'age' : 27,\n",
    "    'University': 'NED',\n",
    "    'Course': 'DS and AI'\n",
    "}\n",
    "print(dict1)\n",
    "print(dict1.popitem()) # returns key ,value ('course', 'DS and AI') and remove it from dictionary\n",
    "print(dict1)\n",
    "print(dict1.popitem()) # now it returns key ,value ('University', 'NED') and remove it from dictionary\n",
    "print(dict1)"
   ]
  },
  {
   "cell_type": "markdown",
   "id": "bacf70b9",
   "metadata": {},
   "source": [
    "## 9 setdefault\n",
    "* The setdefault() method returns the value of a key (if the key is in dictionary). If not, it inserts key with a value to the dictionary.\n",
    "* The syntax of setdefault() is: <b> dict.setdefault(key,default_value)\n",
    "* setdefault() takes a maximum of two parameters:\n",
    "* key --> the key to be searched in the dictionary\n",
    "* default_value (optional) --> key with a value default_value is inserted to the dictionary if the key is not in the dictionary.\n",
    "* If default_value is not provided, the default_value will be None."
   ]
  },
  {
   "cell_type": "code",
   "execution_count": 38,
   "id": "e9a7c458",
   "metadata": {},
   "outputs": [
    {
     "data": {
      "text/plain": [
       "'Usama'"
      ]
     },
     "execution_count": 38,
     "metadata": {},
     "output_type": "execute_result"
    }
   ],
   "source": [
    "dict1 = {\n",
    "    'name': 'Usama',\n",
    "    'fname': 'Saleem',\n",
    "    'age' : 27,\n",
    "    'University': 'NED',\n",
    "    'Course': 'DS and AI'\n",
    "}\n",
    "dict1.setdefault('name')\n"
   ]
  },
  {
   "cell_type": "code",
   "execution_count": 39,
   "id": "2cffaae0",
   "metadata": {},
   "outputs": [
    {
     "name": "stdout",
     "output_type": "stream",
     "text": [
      "None\n"
     ]
    }
   ],
   "source": [
    "dict1 = {\n",
    "    'name': 'Usama',\n",
    "    'fname': 'Saleem',\n",
    "    'age' : 27,\n",
    "    'University': 'NED',\n",
    "    'Course': 'DS and AI'\n",
    "}\n",
    "print(dict1.setdefault('skills')) # return none as key not found\n"
   ]
  },
  {
   "cell_type": "code",
   "execution_count": 40,
   "id": "b8e45c80",
   "metadata": {},
   "outputs": [
    {
     "name": "stdout",
     "output_type": "stream",
     "text": [
      "Not provided\n"
     ]
    }
   ],
   "source": [
    "dict1 = {\n",
    "    'name': 'Usama',\n",
    "    'fname': 'Saleem',\n",
    "    'age' : 27,\n",
    "    'University': 'NED',\n",
    "    'Course': 'DS and AI'\n",
    "}\n",
    "print(dict1.setdefault('skills' , 'Not provided')) # key not found and return 'Not provided'\n"
   ]
  },
  {
   "cell_type": "markdown",
   "id": "51cdfa5d",
   "metadata": {},
   "source": [
    "#### I did not find a writable difference between get and setdefault methods. If any one knows then please add here "
   ]
  },
  {
   "cell_type": "markdown",
   "id": "7f49319d",
   "metadata": {},
   "source": [
    "## 10 update\n",
    "* The update() method updates the dictionary with the elements from another dictionary object or from an iterable of key/value pairs.\n",
    "* The syntax of update() is: <b> dict.update(addition)\n",
    "* The update() method takes either a dictionary or an iterable object of key/value pairs (generally tuples).\n",
    "* If update() is called without passing parameters, the dictionary remains unchanged.\n",
    "    "
   ]
  },
  {
   "cell_type": "code",
   "execution_count": 41,
   "id": "79c2b58e",
   "metadata": {},
   "outputs": [
    {
     "name": "stdout",
     "output_type": "stream",
     "text": [
      "{'name ': 'Usama'}\n",
      "{'name ': 'Usama', 'f_name': 'Saleem'}\n",
      "{'name ': 'Usama', 'f_name': 'Saleem', 'age': 27}\n",
      "{'name ': 'Usama', 'f_name': 'Saleem', 'age': 27, 'Uni': 'NED', 'course': 'DS & AI'}\n"
     ]
    }
   ],
   "source": [
    "d1 = {'name ' : 'Usama'}\n",
    "print(d1)\n",
    "d1.update({'f_name' : 'Saleem'})\n",
    "print(d1)\n",
    "d2 = {'age': 27}\n",
    "d1.update(d2)\n",
    "print(d1)\n",
    "d3 = [('Uni','NED'),('course', 'DS & AI')]\n",
    "d1.update(d3)\n",
    "print(d1)"
   ]
  },
  {
   "cell_type": "markdown",
   "id": "ac8252eb",
   "metadata": {},
   "source": [
    "## 11 values\n",
    "* The values() method extract the values of a dictionary and return the list of values.\n",
    "* The syntax of the keys() method is:<b> dictionary.values()\n",
    "* values() method doesn't take any parameters.\n",
    "* Here, dictionary is a dictionary whose keys are extracted.\n"
   ]
  },
  {
   "cell_type": "code",
   "execution_count": 42,
   "id": "247858f4",
   "metadata": {},
   "outputs": [
    {
     "name": "stdout",
     "output_type": "stream",
     "text": [
      "{'name': 'Usama', 'fname': 'Saleem', 'University': 'NED', 'Course': 'DS and AI'}\n"
     ]
    },
    {
     "data": {
      "text/plain": [
       "dict_values(['Usama', 'Saleem', 'NED', 'DS and AI'])"
      ]
     },
     "execution_count": 42,
     "metadata": {},
     "output_type": "execute_result"
    }
   ],
   "source": [
    "dict1 = {\n",
    "    'name': 'Usama',\n",
    "    'fname': 'Saleem',\n",
    "    'University': 'NED',\n",
    "    'Course': 'DS and AI'\n",
    "}\n",
    "print(dict1)\n",
    "dict1.values()"
   ]
  },
  {
   "cell_type": "code",
   "execution_count": 43,
   "id": "950b0ebe",
   "metadata": {},
   "outputs": [
    {
     "name": "stdout",
     "output_type": "stream",
     "text": [
      "{'name': 'Usama', 'fname': 'Saleem', 'University': 'NED', 'Course': 'DS and AI'}\n",
      "dict_values(['Usama', 'Saleem', 'NED', 'DS and AI'])\n",
      "Updated Keys dict_values(['Usama', 'Saleem', 'NED', 'DS and AI', 27])\n"
     ]
    }
   ],
   "source": [
    "# Update in dictionary updates the return lits of values\n",
    "print(dict1)\n",
    "a = (dict1.values())\n",
    "print(a)\n",
    "dict1.update({'age': 27})\n",
    "print(\"Updated Keys\" , a)"
   ]
  },
  {
   "cell_type": "markdown",
   "id": "0524b15d",
   "metadata": {},
   "source": [
    "## Nested Dictionary\n",
    "*  A nested dictionary is a dictionary inside a dictionary. It's a collection of dictionaries into one single dictionary."
   ]
  },
  {
   "cell_type": "markdown",
   "id": "198ee2a2",
   "metadata": {},
   "source": [
    "### Creating Nested Dictionary:"
   ]
  },
  {
   "cell_type": "code",
   "execution_count": 44,
   "id": "39e47f40",
   "metadata": {},
   "outputs": [
    {
     "data": {
      "text/plain": [
       "{1: {'name': 'Usama', 'age': '27', 'sex': 'Male'},\n",
       " 2: {'name': 'Ayesha', 'age': '22', 'sex': 'Female'}}"
      ]
     },
     "execution_count": 44,
     "metadata": {},
     "output_type": "execute_result"
    }
   ],
   "source": [
    "data = {1: {'name': 'Usama', 'age': '27', 'sex': 'Male'},\n",
    "        2: {'name': 'Ayesha', 'age': '22', 'sex': 'Female'}}\n",
    "data"
   ]
  },
  {
   "cell_type": "markdown",
   "id": "d42b0d8d",
   "metadata": {},
   "source": [
    "### Accessing Elements from Nested Dictionary:\n",
    "* To access element of a nested dictionary, we use indexing  [ ] syntax"
   ]
  },
  {
   "cell_type": "code",
   "execution_count": 45,
   "id": "2cb3c625",
   "metadata": {},
   "outputs": [
    {
     "name": "stdout",
     "output_type": "stream",
     "text": [
      "{'name': 'Usama', 'age': '27', 'sex': 'Male'}\n"
     ]
    }
   ],
   "source": [
    "print(data[1]) # --> Creating whole value of key 1"
   ]
  },
  {
   "cell_type": "code",
   "execution_count": 46,
   "id": "47100aa6",
   "metadata": {},
   "outputs": [
    {
     "name": "stdout",
     "output_type": "stream",
     "text": [
      "22\n"
     ]
    }
   ],
   "source": [
    "print(data[2]['age']) # --> creating value of 'age' inside key 2"
   ]
  },
  {
   "cell_type": "markdown",
   "id": "efdca858",
   "metadata": {},
   "source": [
    "### Add/Change Element to Nested Dictionary"
   ]
  },
  {
   "cell_type": "code",
   "execution_count": 47,
   "id": "da9b8bbe",
   "metadata": {},
   "outputs": [
    {
     "name": "stdout",
     "output_type": "stream",
     "text": [
      "{1: {'name': 'Osama', 'age': '27', 'sex': 'Male'}, 2: {'name': 'Ayesha', 'age': '22', 'sex': 'Female'}}\n"
     ]
    }
   ],
   "source": [
    "data[1]['name'] = 'Osama' # --> Change value of key(name) from 'Usama' to 'Osama'\n",
    "print(data)"
   ]
  },
  {
   "cell_type": "code",
   "execution_count": 48,
   "id": "66f239ce",
   "metadata": {},
   "outputs": [
    {
     "data": {
      "text/plain": [
       "{1: {'name': 'Osama', 'age': '27', 'sex': 'Male'},\n",
       " 2: {'name': 'Ayesha', 'age': '22', 'sex': 'Female'},\n",
       " 3: {'name': 'Maryam', 'age': 26, 'sex': 'Female'}}"
      ]
     },
     "execution_count": 48,
     "metadata": {},
     "output_type": "execute_result"
    }
   ],
   "source": [
    "# Adding dictionary  \n",
    "data[3] = {}\n",
    "data[3]['name'] = 'Maryam'\n",
    "data[3]['age'] = 26\n",
    "data[3]['sex'] = 'Female'\n",
    "data"
   ]
  },
  {
   "cell_type": "markdown",
   "id": "9aaf3b5a",
   "metadata": {},
   "source": [
    "### Delete Elements from a Nested Dictionary"
   ]
  },
  {
   "cell_type": "code",
   "execution_count": 49,
   "id": "f39a571b",
   "metadata": {},
   "outputs": [
    {
     "name": "stdout",
     "output_type": "stream",
     "text": [
      "{1: {'name': 'Osama', 'age': '27', 'sex': 'Male'}, 2: {'name': 'Ayesha', 'age': '22', 'sex': 'Female'}}\n"
     ]
    }
   ],
   "source": [
    "del data[3] # --> Delete whole dictionary\n",
    "print(data)"
   ]
  },
  {
   "cell_type": "code",
   "execution_count": 50,
   "id": "90c09ccc",
   "metadata": {},
   "outputs": [
    {
     "name": "stdout",
     "output_type": "stream",
     "text": [
      "{1: {'name': 'Osama', 'age': '27', 'sex': 'Male'}, 2: {'name': 'Ayesha', 'sex': 'Female'}}\n"
     ]
    }
   ],
   "source": [
    "del data[2]['age'] # --> Delete specified key value pair from specified key\n",
    "print(data)"
   ]
  },
  {
   "cell_type": "markdown",
   "id": "19f3b88e",
   "metadata": {},
   "source": [
    "### Iterate Through a Nested Dictioinary"
   ]
  },
  {
   "cell_type": "code",
   "execution_count": 51,
   "id": "e626ef92",
   "metadata": {},
   "outputs": [
    {
     "name": "stdout",
     "output_type": "stream",
     "text": [
      "\n",
      "Person ID:  1\n",
      "NAME : Usama\n",
      "AGE : 27\n",
      "SEX : Male\n",
      "\n",
      "Person ID:  2\n",
      "NAME : Ayesha\n",
      "AGE : 22\n",
      "SEX : Female\n",
      "\n",
      "Person ID:  3\n",
      "NAME : Maryam\n",
      "AGE : 26\n",
      "SEX : Female\n"
     ]
    }
   ],
   "source": [
    "data = {1: {'name': 'Usama', 'age': '27', 'sex': 'Male'},\n",
    "        2: {'name': 'Ayesha', 'age': '22', 'sex': 'Female'}}\n",
    "data[3] = {}\n",
    "data[3]['name'] = 'Maryam'\n",
    "data[3]['age'] = 26\n",
    "data[3]['sex'] = 'Female'\n",
    "for p_id , p_info in data.items():\n",
    "    print('\\nPerson ID: ', p_id)\n",
    "    for key in p_info:\n",
    "        print(key.upper() , ':' ,p_info[key])"
   ]
  },
  {
   "cell_type": "code",
   "execution_count": null,
   "id": "8cdff765",
   "metadata": {},
   "outputs": [],
   "source": []
  }
 ],
 "metadata": {
  "kernelspec": {
   "display_name": "Python 3 (ipykernel)",
   "language": "python",
   "name": "python3"
  },
  "language_info": {
   "codemirror_mode": {
    "name": "ipython",
    "version": 3
   },
   "file_extension": ".py",
   "mimetype": "text/x-python",
   "name": "python",
   "nbconvert_exporter": "python",
   "pygments_lexer": "ipython3",
   "version": "3.9.13"
  }
 },
 "nbformat": 4,
 "nbformat_minor": 5
}
