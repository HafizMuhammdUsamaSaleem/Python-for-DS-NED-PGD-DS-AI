{
 "cells": [
  {
   "cell_type": "code",
   "execution_count": 1,
   "id": "bf39f5d9",
   "metadata": {},
   "outputs": [
    {
     "name": "stdout",
     "output_type": "stream",
     "text": [
      "Usama\n",
      "Saleem\n",
      "ALi\n"
     ]
    }
   ],
   "source": [
    "sname1= 'Usama'\n",
    "sname2 = 'Saleem'\n",
    "sname3 = 'ALi'\n",
    "\n",
    "print(sname1)\n",
    "print(sname2)\n",
    "print(sname3)"
   ]
  },
  {
   "cell_type": "markdown",
   "id": "fdb769d3",
   "metadata": {},
   "source": [
    "## List\n",
    "A list is created in Python by placing items inside [], separated by commas.\n",
    "\n",
    "A list can have any number of items and they may be of different types (integer, float, string, etc.)"
   ]
  },
  {
   "cell_type": "markdown",
   "id": "b781f74c",
   "metadata": {},
   "source": [
    "#### storing using above method is less efficient that'swhy we prefer lilst"
   ]
  },
  {
   "cell_type": "code",
   "execution_count": 2,
   "id": "387a9b25",
   "metadata": {},
   "outputs": [
    {
     "name": "stdout",
     "output_type": "stream",
     "text": [
      "['Usama', 'Saleem', 'Ali']\n"
     ]
    }
   ],
   "source": [
    "s_names = ['Usama' , 'Saleem' , 'Ali']\n",
    "print(s_names)"
   ]
  },
  {
   "cell_type": "code",
   "execution_count": 3,
   "id": "300cb058",
   "metadata": {},
   "outputs": [
    {
     "name": "stdout",
     "output_type": "stream",
     "text": [
      "<class 'list'>\n"
     ]
    }
   ],
   "source": [
    "s_names = ['Usama' , 'Saleem' , 'Ali']\n",
    "# index :     0          1        2\n",
    "# index :    -3         -2       -1\n",
    "print(type(s_names))"
   ]
  },
  {
   "cell_type": "markdown",
   "id": "15ac1143",
   "metadata": {},
   "source": [
    "#### Advantage of lists is we store multiple values of multiple data types\n",
    "#### as it is hetero data type"
   ]
  },
  {
   "cell_type": "code",
   "execution_count": 4,
   "id": "643d168d",
   "metadata": {},
   "outputs": [
    {
     "name": "stdout",
     "output_type": "stream",
     "text": [
      "['Usama', 27, 'Ali', 30]\n"
     ]
    }
   ],
   "source": [
    "student_data = ['Usama' , 27 , 'Ali', 30]\n",
    "print(student_data)"
   ]
  },
  {
   "cell_type": "markdown",
   "id": "50377fdb",
   "metadata": {},
   "source": [
    "#### Lists are mutable also mean we are able to update the list"
   ]
  },
  {
   "cell_type": "code",
   "execution_count": 5,
   "id": "714f7d70",
   "metadata": {},
   "outputs": [
    {
     "name": "stdout",
     "output_type": "stream",
     "text": [
      "['Saleem', 27, 'Ali', 30]\n"
     ]
    }
   ],
   "source": [
    "student_data[0] = 'Saleem'\n",
    "print(student_data)"
   ]
  },
  {
   "cell_type": "markdown",
   "id": "093ba92c",
   "metadata": {},
   "source": [
    "#### Printing individual value in list\n",
    "#### 1 Indexing Method\n",
    "Below method is called as printing through indexing"
   ]
  },
  {
   "cell_type": "code",
   "execution_count": 6,
   "id": "8160f3d9",
   "metadata": {},
   "outputs": [
    {
     "name": "stdout",
     "output_type": "stream",
     "text": [
      "Saleem\n",
      "Saleem\n",
      "Saleem 27 Ali 30\n"
     ]
    }
   ],
   "source": [
    "print(student_data[0])\n",
    "print(student_data[-4])\n",
    "print(student_data[0], student_data[1] , student_data[2] , student_data[3])"
   ]
  },
  {
   "cell_type": "code",
   "execution_count": 7,
   "id": "1823e39b",
   "metadata": {},
   "outputs": [
    {
     "name": "stdout",
     "output_type": "stream",
     "text": [
      "Saleem 27 Ali 30\n"
     ]
    }
   ],
   "source": [
    "# print(student_data[0], student_data[1] , student_data[2], student_data[3])\n",
    "# output: Saleem 27 Ali\n",
    "# instead of above statement we write below statment\n",
    "print(*student_data)"
   ]
  },
  {
   "cell_type": "markdown",
   "id": "16f773eb",
   "metadata": {},
   "source": [
    "#### 2 Slicing"
   ]
  },
  {
   "cell_type": "code",
   "execution_count": 30,
   "id": "afdf328a",
   "metadata": {},
   "outputs": [
    {
     "name": "stdout",
     "output_type": "stream",
     "text": [
      "['a', 'b', 'c', 'd', 'e', 'f', 'g', 'h', 'i', 'j', 'k', 'l', 'm', 'n', 'o', 'p', 'q', 'r', 's', 't', 'u', 'v', 'w', 'x', 'y', 'z']\n"
     ]
    }
   ],
   "source": [
    "abc = ['a','b','c','d','e','f','g','h','i','j','k','l','m','n','o','p','q','r','s','t','u','v','w','x','y','z']\n",
    "print(abc)"
   ]
  },
  {
   "cell_type": "code",
   "execution_count": 9,
   "id": "7c517af5",
   "metadata": {},
   "outputs": [
    {
     "name": "stdout",
     "output_type": "stream",
     "text": [
      "['b', 'c', 'd', 'e']\n",
      "['b', 'c', 'd', 'e']\n",
      "['a', 'b', 'c', 'd', 'e']\n",
      "[]\n",
      "['v', 'w', 'x', 'y', 'z']\n",
      "['v', 'w', 'x', 'y']\n"
     ]
    }
   ],
   "source": [
    "# list [start:     end:        step]\n",
    "#      include    exclude      step\n",
    "# always move from left to right\n",
    "\n",
    "\n",
    "print(abc[1:5])\n",
    "print(abc[-25:-21])\n",
    "print(abc[:5])\n",
    "print(abc[5:0]) # gives null because always moves from left to right\n",
    "print(abc[-5:])\n",
    "print(abc[-5:-1])"
   ]
  },
  {
   "cell_type": "markdown",
   "id": "57f638d4",
   "metadata": {},
   "source": [
    "In above methods the two methods are definable that are:\n",
    "list [:5] and list [-5:]\n",
    "If we didn't call start or end value that mentioned above so by default this argument takes the value from very begining that is from index 0 and from very last that is -1\n"
   ]
  },
  {
   "cell_type": "code",
   "execution_count": 10,
   "id": "8505adad",
   "metadata": {},
   "outputs": [
    {
     "name": "stdout",
     "output_type": "stream",
     "text": [
      "['a', 'b', 'c', 'd', 'e', 'f', 'g', 'h', 'i', 'j', 'k', 'l', 'm', 'n', 'o', 'p', 'q', 'r', 's', 't', 'u', 'v', 'w', 'x', 'y', 'z']\n",
      "['a', 'c', 'e', 'g', 'i', 'k', 'm', 'o', 'q', 's', 'u', 'w', 'y']\n",
      "['a', 'e', 'i', 'm', 'q', 'u', 'y']\n"
     ]
    }
   ],
   "source": [
    "print(abc[::]) # start:end:step all\n",
    "print(abc[::2])# ::2 step\n",
    "print(abc[::4])# ::4 step"
   ]
  },
  {
   "cell_type": "code",
   "execution_count": 11,
   "id": "ecde7587",
   "metadata": {},
   "outputs": [
    {
     "name": "stdout",
     "output_type": "stream",
     "text": [
      "['z', 'y', 'x', 'w', 'v', 'u', 't', 's', 'r', 'q', 'p', 'o', 'n', 'm', 'l', 'k', 'j', 'i', 'h', 'g', 'f', 'e', 'd', 'c', 'b', 'a']\n"
     ]
    }
   ],
   "source": [
    "print(abc[::-1])\n",
    "# we reverse it so it moves from right to left"
   ]
  },
  {
   "cell_type": "code",
   "execution_count": 12,
   "id": "7e505893",
   "metadata": {},
   "outputs": [
    {
     "name": "stdout",
     "output_type": "stream",
     "text": [
      "['a', 'b', 'c', 'd', 'e']\n",
      "[]\n",
      "['f', 'e', 'd', 'c', 'b']\n"
     ]
    }
   ],
   "source": [
    "print(abc[0:5])\n",
    "print(abc[0:5:-1])\n",
    "# the above one argument gives null result because when we write -1 it moves from right to left\n",
    "# so move from 0 to 5 having -1 is not possible\n",
    "print(abc[5:0:-1])\n",
    "# this will overcome the error of above argument as it is move from right to left correctly from 5 to 0"
   ]
  },
  {
   "cell_type": "markdown",
   "id": "ff4d8f9e",
   "metadata": {},
   "source": [
    "## Methods in List:"
   ]
  },
  {
   "cell_type": "code",
   "execution_count": 13,
   "id": "cd978a0e",
   "metadata": {
    "scrolled": true
   },
   "outputs": [
    {
     "data": {
      "text/plain": [
       "['append',\n",
       " 'clear',\n",
       " 'copy',\n",
       " 'count',\n",
       " 'extend',\n",
       " 'index',\n",
       " 'insert',\n",
       " 'pop',\n",
       " 'remove',\n",
       " 'reverse',\n",
       " 'sort']"
      ]
     },
     "execution_count": 13,
     "metadata": {},
     "output_type": "execute_result"
    }
   ],
   "source": [
    "[i for i in dir(list) if \"_\" not in i]"
   ]
  },
  {
   "cell_type": "code",
   "execution_count": 14,
   "id": "90f4db31",
   "metadata": {},
   "outputs": [
    {
     "name": "stdout",
     "output_type": "stream",
     "text": [
      "['a', 'b', 'c', 'd', 'e', 'f', 'g', 'h', 'i', 'j', 'k', 'l', 'm', 'n', 'o', 'p', 'q', 'r', 's', 't', 'u', 'v', 'w', 'x', 'y', 'z']\n"
     ]
    }
   ],
   "source": [
    "print(abc)"
   ]
  },
  {
   "cell_type": "markdown",
   "id": "32954db5",
   "metadata": {},
   "source": [
    "### 1 append\n",
    "* The append() method adds an item to the end of the list.\n",
    "* The syntax of the append() method is:<b> list.append(item)\n",
    "* item --> an item (number, string, list etc.) to be added at the end of the list"
   ]
  },
  {
   "cell_type": "code",
   "execution_count": 34,
   "id": "9084a759",
   "metadata": {},
   "outputs": [
    {
     "name": "stdout",
     "output_type": "stream",
     "text": [
      "['a', 'b', 'c', 'd', 'e', 'f', 'g', 'h', 'i', 'j', 'k', 'l', 'm', 'n', 'o', 'p', 'q', 'r', 's', 't', 'u', 'v', 'w', 'x', 'y', 'z', 'a', ',', 'b', ',', 'c', 'A', 'a,b,c', ['a', 'b', 'c']]\n"
     ]
    }
   ],
   "source": [
    "abc.append(\"A\")\n",
    "abc.append('a,b,c')\n",
    "abc.append(['a','b','c'])\n",
    "print(abc)"
   ]
  },
  {
   "cell_type": "markdown",
   "id": "6e4e905b",
   "metadata": {},
   "source": [
    "### 2 clear\n",
    "* item - an item (number, string, list etc.) to be added at the end of the list\n",
    "* The syntax of clear() method is: <b> list.clear()\n",
    "* The clear() method doesn't take any parameters."
   ]
  },
  {
   "cell_type": "code",
   "execution_count": 25,
   "id": "75fcdb48",
   "metadata": {},
   "outputs": [
    {
     "data": {
      "text/plain": [
       "[]"
      ]
     },
     "execution_count": 25,
     "metadata": {},
     "output_type": "execute_result"
    }
   ],
   "source": [
    "l1 = [1,2,3,4,5]\n",
    "l1\n",
    "l1.clear()\n",
    "l1"
   ]
  },
  {
   "cell_type": "markdown",
   "id": "459df9cc",
   "metadata": {},
   "source": [
    "### 3 copy\n",
    "* The copy() method returns a shallow copy of the list.\n",
    "* The syntax of the copy() method is: <b> new_list = list.copy()\n",
    "* The copy() method doesn't take any parameters."
   ]
  },
  {
   "cell_type": "code",
   "execution_count": 27,
   "id": "f87a4e7b",
   "metadata": {},
   "outputs": [
    {
     "name": "stdout",
     "output_type": "stream",
     "text": [
      "[1, 2, 3, 4]\n",
      "2235675773568 2235675822464\n"
     ]
    }
   ],
   "source": [
    "l1 = [1,2,3,4]\n",
    "l2 = l1.copy()\n",
    "print(l2)\n",
    "print(id(l1),id(l2))"
   ]
  },
  {
   "cell_type": "markdown",
   "id": "5b0d3658",
   "metadata": {},
   "source": [
    "### 4 count\n",
    "* The count() method returns the number of times the specified element appears in the list.\n",
    "* The syntax of the count() method is: <b> list.count(element)\n",
    "* element --> the element to be counted"
   ]
  },
  {
   "cell_type": "code",
   "execution_count": 46,
   "id": "acb5f613",
   "metadata": {},
   "outputs": [
    {
     "data": {
      "text/plain": [
       "5"
      ]
     },
     "execution_count": 46,
     "metadata": {},
     "output_type": "execute_result"
    }
   ],
   "source": [
    "l1 = ['a','b','b','b','b','b','c','d','e','f','g']\n",
    "l1.count(\"b\")"
   ]
  },
  {
   "cell_type": "markdown",
   "id": "5f902323",
   "metadata": {},
   "source": [
    "### 5 extend\n",
    "* The extend() method adds all the elements of an iterable (list, tuple, string etc.) to the end of the list.\n",
    "* The syntax of the extend() method is: <b> list1.extend(iterable)\n",
    "* As mentioned, the extend() method takes an iterable such as list, tuple, string etc."
   ]
  },
  {
   "cell_type": "code",
   "execution_count": 35,
   "id": "c81dba90",
   "metadata": {},
   "outputs": [
    {
     "name": "stdout",
     "output_type": "stream",
     "text": [
      "['a', 'b', 'c', 'd', 'e', 'f', 'g', 'h', 'i', 'j', 'k', 'l', 'm', 'n', 'o', 'p', 'q', 'r', 's', 't', 'u', 'v', 'w', 'x', 'y', 'z']\n",
      "['a', 'b', 'c', 'd', 'e', 'f', 'g', 'h', 'i', 'j', 'k', 'l', 'm', 'n', 'o', 'p', 'q', 'r', 's', 't', 'u', 'v', 'w', 'x', 'y', 'z', 'a', ',', 'b', ',', 'c']\n",
      "['a', 'b', 'c', 'd', 'e', 'f', 'g', 'h', 'i', 'j', 'k', 'l', 'm', 'n', 'o', 'p', 'q', 'r', 's', 't', 'u', 'v', 'w', 'x', 'y', 'z', 'a', ',', 'b', ',', 'c', 'a', 'b', 'c']\n"
     ]
    }
   ],
   "source": [
    "abc = ['a','b','c','d','e','f','g','h','i','j','k','l','m','n','o','p','q','r','s','t','u','v','w','x','y','z']\n",
    "print(abc)\n",
    "abc.extend('a,b,c')\n",
    "print(abc)\n",
    "abc.extend(['a','b','c'])\n",
    "print(abc)"
   ]
  },
  {
   "cell_type": "markdown",
   "id": "78afec83",
   "metadata": {},
   "source": [
    "### Difference Between append and extend\n",
    "The append() method adds an item to a list that already exists whereas the extend() method adds each of the iterable element which is supplied as a parameter to the end of the original list.\n"
   ]
  },
  {
   "cell_type": "code",
   "execution_count": 39,
   "id": "3020dc40",
   "metadata": {},
   "outputs": [
    {
     "name": "stdout",
     "output_type": "stream",
     "text": [
      "[1, 2, 3, 4, 5]\n",
      "[1, 2, 3, 4, 5, [6, 7, 8]]\n",
      "[1, 2, 3, 4, 5]\n",
      "[1, 2, 3, 4, 5, 6, 7, 8]\n"
     ]
    }
   ],
   "source": [
    "l1 = [1,2,3,4,5]\n",
    "print(l1)\n",
    "l1.append([6,7,8])\n",
    "print(l1)\n",
    "l2 = [1,2,3,4,5]\n",
    "print(l2)\n",
    "l2.extend([6,7,8])\n",
    "print(l2)"
   ]
  },
  {
   "cell_type": "markdown",
   "id": "80c49ca0",
   "metadata": {},
   "source": [
    "### 6 index\n",
    "* The index() method returns the index of the specified element in the list.\n",
    "* if element apperas multiple in alist then gives the index of first apeearence\n",
    "* The syntax of the list index() method is: <b> list.index(element, start, end)\n",
    "* element --> the element to be searched\n",
    "* start (optional) --> start searching from this index\n",
    "* end (optional) --> search the element up to this index"
   ]
  },
  {
   "cell_type": "code",
   "execution_count": 51,
   "id": "9b3ef6d7",
   "metadata": {},
   "outputs": [
    {
     "name": "stdout",
     "output_type": "stream",
     "text": [
      "2\n",
      "5\n"
     ]
    }
   ],
   "source": [
    "l1 = ['a','b','e','c','d','e','e','e','f','g','h','i','j']\n",
    "print(l1.index('e'))\n",
    "print(l1.index('e',3,10))"
   ]
  },
  {
   "cell_type": "markdown",
   "id": "24721ad9",
   "metadata": {},
   "source": [
    "### 7 insert\n",
    "* The insert() method inserts an element to the list at the specified index.\n",
    "* The syntax of the insert() method is <b> list.insert(i, elem)\n",
    "* index - the index where the element needs to be inserted\n",
    "* element - this is the element to be inserted in the list"
   ]
  },
  {
   "cell_type": "code",
   "execution_count": 58,
   "id": "2c807c84",
   "metadata": {},
   "outputs": [
    {
     "name": "stdout",
     "output_type": "stream",
     "text": [
      "['a', 'b', 'e', 'c', 'd', 'e', 'e', 'e', 'f', 'g', 'h', 'i', 'j']\n",
      "['A', 'a', 'b', 'e', 'c', 'd', 'e', 'e', 'e', 'f', 'g', 'h', 'i', 'j']\n"
     ]
    }
   ],
   "source": [
    "l1 = ['a','b','e','c','d','e','e','e','f','g','h','i','j']\n",
    "print(l1)\n",
    "l1.insert(0,'A')\n",
    "print(l1)"
   ]
  },
  {
   "cell_type": "markdown",
   "id": "574a2d89",
   "metadata": {},
   "source": [
    "### 8 pop\n",
    "* The pop() method removes the item at the given index from the list and returns the removed item\n",
    "* The syntax of the pop() method is: <b> list.pop(index)\n",
    "* The pop() method takes a single argument (index).\n",
    "* The argument passed to the method is optional. If not passed, the default index -1 is passed as an argument.\n",
    "* If the index passed to the method is not in range, it throws IndexError: pop index out of range exception."
   ]
  },
  {
   "cell_type": "code",
   "execution_count": 60,
   "id": "38e78aeb",
   "metadata": {},
   "outputs": [
    {
     "name": "stdout",
     "output_type": "stream",
     "text": [
      "['a', 'b', 'e', 'c', 'd', 'e', 'e', 'e', 'f', 'g', 'h', 'i', 'j']\n",
      "['b', 'e', 'c', 'd', 'e', 'e', 'e', 'f', 'g', 'h', 'i', 'j']\n",
      "['b', 'e', 'c', 'd', 'e', 'e', 'e', 'f', 'g', 'h', 'i']\n"
     ]
    }
   ],
   "source": [
    "print(l1)\n",
    "l1.pop(0)\n",
    "print(l1)\n",
    "l1.pop() # pop 'j' as it is at the end\n",
    "print(l1)"
   ]
  },
  {
   "cell_type": "markdown",
   "id": "fc4ee33b",
   "metadata": {},
   "source": [
    "### 9 remove\n",
    "* The remove() method removes the first matching element (which is passed as an argument) from the list.\n",
    "* The syntax of the remove() method is: <b> list.remove(element)\n",
    "* The remove() method takes a single element as an argument and removes it from the list.\n",
    "* If the element doesn't exist, it throws ValueError: list.remove(x): x not in list exception."
   ]
  },
  {
   "cell_type": "code",
   "execution_count": 66,
   "id": "500e2c3d",
   "metadata": {},
   "outputs": [
    {
     "name": "stdout",
     "output_type": "stream",
     "text": [
      "['a', 'b', 'e', 'c', 'd', 'e', 'e', 'e', 'f', 'g', 'h', 'i', 'j']\n",
      "['a', 'b', 'e', 'd', 'e', 'e', 'e', 'f', 'g', 'h', 'i', 'j']\n",
      "['a', 'b', 'd', 'e', 'e', 'e', 'f', 'g', 'h', 'i', 'j']\n"
     ]
    }
   ],
   "source": [
    "C\n",
    "print(l1)\n",
    "l1.remove('c')\n",
    "print(l1)\n",
    "l1.remove('e') # remove first 'e' from the list\n",
    "print(l1)"
   ]
  },
  {
   "cell_type": "markdown",
   "id": "57c0fe11",
   "metadata": {},
   "source": [
    "### 10 reverse\n",
    "* The reverse() method reverses the elements of the list.\n",
    "* The syntax of the reverse() method is: <b> list.reverse()\n",
    "* The reverse() method doesn't take any arguments."
   ]
  },
  {
   "cell_type": "code",
   "execution_count": 67,
   "id": "eae50417",
   "metadata": {},
   "outputs": [
    {
     "name": "stdout",
     "output_type": "stream",
     "text": [
      "['j', 'i', 'h', 'g', 'f', 'e', 'e', 'e', 'd', 'c', 'e', 'b', 'a']\n"
     ]
    }
   ],
   "source": [
    "l1 = ['a','b','e','c','d','e','e','e','f','g','h','i','j']\n",
    "l1.reverse()\n",
    "print(l1)"
   ]
  },
  {
   "cell_type": "markdown",
   "id": "5ba519bf",
   "metadata": {},
   "source": [
    "### 11 sort\n",
    "* The sort() method sorts the items of a list in ascending or descending order.\n",
    "* The syntax of the sort() method is: <b> list.sort(key=, reverse=)\n",
    "* By default, sort() doesn't require any extra parameters. However, it has two optional parameters:\n",
    "* reverse - If True, the sorted list is reversed (or sorted in Descending order)\n",
    "* key - function that serves as a key for the sort comparison"
   ]
  },
  {
   "cell_type": "code",
   "execution_count": 76,
   "id": "4a17df27",
   "metadata": {},
   "outputs": [
    {
     "name": "stdout",
     "output_type": "stream",
     "text": [
      "['a', 'b', 'c', 'd', 'e', 'e', 'e', 'e', 'f', 'g', 'h', 'i', 'j']\n",
      "['a', 'o', 'b', 'e', 'u', 'i']\n",
      "['a', 'b', 'e', 'i', 'o', 'u']\n",
      "['u', 'o', 'i', 'e', 'b', 'a']\n"
     ]
    }
   ],
   "source": [
    "l1 = ['a','b','e','c','d','e','e','e','f','g','h','i','j']\n",
    "l1.sort()\n",
    "print(l1)\n",
    "v = ['a','o','b','e','u','i']\n",
    "print(v)\n",
    "v.sort()\n",
    "print(v)\n",
    "v.sort(reverse = True) # sort in descending order\n",
    "print(v)"
   ]
  },
  {
   "cell_type": "markdown",
   "id": "7ee97309",
   "metadata": {},
   "source": [
    "### Range"
   ]
  },
  {
   "cell_type": "code",
   "execution_count": 15,
   "id": "4f4d4ec5",
   "metadata": {},
   "outputs": [
    {
     "data": {
      "text/plain": [
       "[2, 3, 4, 5, 6, 7, 8, 9, 10, 11, 12, 13, 14, 15, 16, 17, 18, 19, 20]"
      ]
     },
     "execution_count": 15,
     "metadata": {},
     "output_type": "execute_result"
    }
   ],
   "source": [
    "list(range(2,21))"
   ]
  },
  {
   "cell_type": "code",
   "execution_count": 16,
   "id": "53dd5836",
   "metadata": {},
   "outputs": [
    {
     "data": {
      "text/plain": [
       "[2, 4, 6, 8, 10, 12, 14, 16, 18, 20]"
      ]
     },
     "execution_count": 16,
     "metadata": {},
     "output_type": "execute_result"
    }
   ],
   "source": [
    "list(range(2,21,2))\n",
    "#range   (star,     end,      step)\n",
    "#       include    exclude    step"
   ]
  },
  {
   "cell_type": "markdown",
   "id": "29d2859d",
   "metadata": {},
   "source": [
    "## List of List / 2D list"
   ]
  },
  {
   "cell_type": "code",
   "execution_count": 83,
   "id": "b490846d",
   "metadata": {},
   "outputs": [
    {
     "name": "stdout",
     "output_type": "stream",
     "text": [
      "[1, 2, 3, 4]\n",
      "2\n"
     ]
    }
   ],
   "source": [
    "l1 = [1,2,3,[1,2,3,4]]\n",
    "print(l1[3])\n",
    "print(l1[3][1])"
   ]
  },
  {
   "cell_type": "markdown",
   "id": "4b36dd39",
   "metadata": {},
   "source": [
    "## Tuple\n",
    "A tuple in Python is similar to a list. The difference between the two is that we cannot change the elements of a tuple once it is assigned whereas we can change the elements of a list.\n",
    "\n",
    "A tuple is created by placing all the items (elements) inside parentheses (), separated by commas. The parentheses are optional, however, it is a good practice to use them.\n",
    "\n",
    "A tuple can have any number of items and they may be of different types (integer, float, list, string, etc.)"
   ]
  },
  {
   "cell_type": "code",
   "execution_count": 86,
   "id": "1672b568",
   "metadata": {},
   "outputs": [
    {
     "name": "stdout",
     "output_type": "stream",
     "text": [
      "()\n",
      "(1, 2, 3)\n",
      "(1, 'Hello', 3.4)\n",
      "('mouse', [8, 4, 6], (1, 2, 3))\n"
     ]
    }
   ],
   "source": [
    "# Different types of tuples\n",
    "\n",
    "# Empty tuple\n",
    "my_tuple = ()\n",
    "print(my_tuple)\n",
    "\n",
    "# Tuple having integers\n",
    "my_tuple = (1, 2, 3)\n",
    "print(my_tuple)\n",
    "\n",
    "# tuple with mixed datatypes\n",
    "my_tuple = (1, \"Hello\", 3.4)\n",
    "print(my_tuple)\n",
    "\n",
    "# nested tuple\n",
    "my_tuple = (\"mouse\", [8, 4, 6], (1, 2, 3))\n",
    "print(my_tuple)"
   ]
  },
  {
   "cell_type": "markdown",
   "id": "0fc8e979",
   "metadata": {},
   "source": [
    "## Methods in Tuple"
   ]
  },
  {
   "cell_type": "code",
   "execution_count": 84,
   "id": "139c549b",
   "metadata": {},
   "outputs": [
    {
     "data": {
      "text/plain": [
       "['count', 'index']"
      ]
     },
     "execution_count": 84,
     "metadata": {},
     "output_type": "execute_result"
    }
   ],
   "source": [
    "[i for i in dir(tuple) if \"_\" not in i]"
   ]
  },
  {
   "cell_type": "markdown",
   "id": "19cddd51",
   "metadata": {},
   "source": [
    "### 1 Count\n",
    "* The count() method returns the number of times the specified element appears in the tuple.\n",
    "* The syntax of the count() method is: <b> tuple.count('i')\n",
    "* The count() method takes a single parameter: here 'i' --> an element to count in the tuple"
   ]
  },
  {
   "cell_type": "code",
   "execution_count": 91,
   "id": "f1314ddc",
   "metadata": {},
   "outputs": [
    {
     "name": "stdout",
     "output_type": "stream",
     "text": [
      "1\n"
     ]
    },
    {
     "data": {
      "text/plain": [
       "2"
      ]
     },
     "execution_count": 91,
     "metadata": {},
     "output_type": "execute_result"
    }
   ],
   "source": [
    "vowels = ('a','e','i','o','u')\n",
    "print(vowels.count('e'))\n",
    "my_tuple = ('e','a','e','aeeiou', 'Usama','hello')\n",
    "my_tuple.count('e')"
   ]
  },
  {
   "cell_type": "markdown",
   "id": "c3d7408f",
   "metadata": {},
   "source": [
    "### 2 index\n",
    "* The index() method returns the index of the specified element in the tuple.\n",
    "* The syntax of the index() method is: <b> tuple.index(element, start_index, end_index)\n",
    "* The index() method can take one to three parameters:\n",
    "* element --> the item to scan\n",
    "* start_index (optional) --> start scanning the element from the start_index\n",
    "* end_index (optional) --> stop scanning the element at the end_index"
   ]
  },
  {
   "cell_type": "code",
   "execution_count": 90,
   "id": "ce1447ed",
   "metadata": {},
   "outputs": [
    {
     "name": "stdout",
     "output_type": "stream",
     "text": [
      "1\n"
     ]
    },
    {
     "data": {
      "text/plain": [
       "0"
      ]
     },
     "execution_count": 90,
     "metadata": {},
     "output_type": "execute_result"
    }
   ],
   "source": [
    "vowels = ('a','e','i','o','u')\n",
    "print(vowels.index('e'))\n",
    "my_tuple = ('e','a','e','aeeiou', 'Usama','hello')\n",
    "my_tuple.index('e') # --> return index of first 'e'"
   ]
  },
  {
   "cell_type": "code",
   "execution_count": null,
   "id": "db609976",
   "metadata": {},
   "outputs": [],
   "source": []
  }
 ],
 "metadata": {
  "kernelspec": {
   "display_name": "Python 3 (ipykernel)",
   "language": "python",
   "name": "python3"
  },
  "language_info": {
   "codemirror_mode": {
    "name": "ipython",
    "version": 3
   },
   "file_extension": ".py",
   "mimetype": "text/x-python",
   "name": "python",
   "nbconvert_exporter": "python",
   "pygments_lexer": "ipython3",
   "version": "3.9.13"
  }
 },
 "nbformat": 4,
 "nbformat_minor": 5
}
