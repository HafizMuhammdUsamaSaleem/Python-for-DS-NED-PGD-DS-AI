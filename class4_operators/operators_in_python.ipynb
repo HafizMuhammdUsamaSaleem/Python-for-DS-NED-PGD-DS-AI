{
 "cells": [
  {
   "cell_type": "markdown",
   "id": "d5f3261a",
   "metadata": {},
   "source": [
    "## Python Operators\n",
    "* Arithmetic operators.\n",
    "* Assignment operators.\n",
    "* Comparison operators.\n",
    "* Logical operators.\n",
    "* Identity operators.\n",
    "* Membership operators.\n",
    "* Bitwise operators"
   ]
  },
  {
   "cell_type": "markdown",
   "id": "79d9d82f",
   "metadata": {},
   "source": [
    "### Arithmetic Operators\n",
    "* \"+\" addition\n",
    "*  \"-\" subtraction\n",
    "*  \"*\" multiply\n",
    "*  \"/\" divide\n",
    "*  \"**\" exponent\n",
    "*  \"//\" floor division\n",
    "*  \"%\"  modulus/ reminder"
   ]
  },
  {
   "cell_type": "markdown",
   "id": "a224cd76",
   "metadata": {},
   "source": [
    "### Arithmetic Operators on int and float\n",
    "* arithmatic operators work on same data types"
   ]
  },
  {
   "cell_type": "markdown",
   "id": "57da3675",
   "metadata": {},
   "source": [
    "## \"+\" "
   ]
  },
  {
   "cell_type": "code",
   "execution_count": 1,
   "id": "6cc98a33",
   "metadata": {},
   "outputs": [
    {
     "name": "stdout",
     "output_type": "stream",
     "text": [
      "7\n"
     ]
    }
   ],
   "source": [
    "print (5 + 2)"
   ]
  },
  {
   "cell_type": "code",
   "execution_count": 2,
   "id": "965e7e7d",
   "metadata": {},
   "outputs": [
    {
     "name": "stdout",
     "output_type": "stream",
     "text": [
      "12.5\n"
     ]
    }
   ],
   "source": [
    "print(5.2+7.3)"
   ]
  },
  {
   "cell_type": "code",
   "execution_count": 3,
   "id": "de9e407b",
   "metadata": {},
   "outputs": [
    {
     "name": "stdout",
     "output_type": "stream",
     "text": [
      "11.2\n"
     ]
    }
   ],
   "source": [
    "print(5.2+6)"
   ]
  },
  {
   "cell_type": "markdown",
   "id": "d2406993",
   "metadata": {},
   "source": [
    "## \"-\""
   ]
  },
  {
   "cell_type": "code",
   "execution_count": 4,
   "id": "594a0410",
   "metadata": {},
   "outputs": [
    {
     "name": "stdout",
     "output_type": "stream",
     "text": [
      "2\n"
     ]
    }
   ],
   "source": [
    "print(7-5)"
   ]
  },
  {
   "cell_type": "code",
   "execution_count": 5,
   "id": "41deb923",
   "metadata": {},
   "outputs": [
    {
     "name": "stdout",
     "output_type": "stream",
     "text": [
      "2.2\n"
     ]
    }
   ],
   "source": [
    "print(7.8-5.6)"
   ]
  },
  {
   "cell_type": "code",
   "execution_count": 6,
   "id": "2a4022bc",
   "metadata": {},
   "outputs": [
    {
     "name": "stdout",
     "output_type": "stream",
     "text": [
      "4.2\n"
     ]
    }
   ],
   "source": [
    "print(10-5.8)"
   ]
  },
  {
   "cell_type": "markdown",
   "id": "17a94163",
   "metadata": {},
   "source": [
    "## \"*\""
   ]
  },
  {
   "cell_type": "code",
   "execution_count": 7,
   "id": "18f80031",
   "metadata": {},
   "outputs": [
    {
     "name": "stdout",
     "output_type": "stream",
     "text": [
      "10\n"
     ]
    }
   ],
   "source": [
    "print(5*2)"
   ]
  },
  {
   "cell_type": "code",
   "execution_count": 8,
   "id": "9034dbf0",
   "metadata": {},
   "outputs": [
    {
     "name": "stdout",
     "output_type": "stream",
     "text": [
      "13.75\n"
     ]
    }
   ],
   "source": [
    "print(2.5*5.5)"
   ]
  },
  {
   "cell_type": "code",
   "execution_count": 9,
   "id": "575def8a",
   "metadata": {},
   "outputs": [
    {
     "name": "stdout",
     "output_type": "stream",
     "text": [
      "8.399999999999999\n"
     ]
    }
   ],
   "source": [
    "print(2.8*3)"
   ]
  },
  {
   "cell_type": "markdown",
   "id": "2ad6574b",
   "metadata": {},
   "source": [
    "## \"/\""
   ]
  },
  {
   "cell_type": "code",
   "execution_count": 10,
   "id": "9f04a5ec",
   "metadata": {},
   "outputs": [
    {
     "name": "stdout",
     "output_type": "stream",
     "text": [
      "2.5\n"
     ]
    }
   ],
   "source": [
    "print(5/2)"
   ]
  },
  {
   "cell_type": "code",
   "execution_count": 11,
   "id": "c61ac374",
   "metadata": {},
   "outputs": [
    {
     "name": "stdout",
     "output_type": "stream",
     "text": [
      "1.4705882352941178\n"
     ]
    }
   ],
   "source": [
    "print(12.5/8.5)"
   ]
  },
  {
   "cell_type": "code",
   "execution_count": 12,
   "id": "35c7c866",
   "metadata": {},
   "outputs": [
    {
     "name": "stdout",
     "output_type": "stream",
     "text": [
      "4.0\n"
     ]
    }
   ],
   "source": [
    "print(10/2.5)"
   ]
  },
  {
   "cell_type": "markdown",
   "id": "a3520130",
   "metadata": {},
   "source": [
    "## \"**\""
   ]
  },
  {
   "cell_type": "code",
   "execution_count": 13,
   "id": "b0f18e78",
   "metadata": {},
   "outputs": [
    {
     "name": "stdout",
     "output_type": "stream",
     "text": [
      "8\n"
     ]
    }
   ],
   "source": [
    "print(2**3)"
   ]
  },
  {
   "cell_type": "code",
   "execution_count": 14,
   "id": "6d6dcc30",
   "metadata": {},
   "outputs": [
    {
     "name": "stdout",
     "output_type": "stream",
     "text": [
      "15.625\n"
     ]
    }
   ],
   "source": [
    "print(2.5**3)"
   ]
  },
  {
   "cell_type": "code",
   "execution_count": 15,
   "id": "79c285b0",
   "metadata": {},
   "outputs": [
    {
     "name": "stdout",
     "output_type": "stream",
     "text": [
      "11.313708498984761\n"
     ]
    }
   ],
   "source": [
    "print(2**3.5)"
   ]
  },
  {
   "cell_type": "markdown",
   "id": "07d46668",
   "metadata": {},
   "source": [
    "## \"//\" "
   ]
  },
  {
   "cell_type": "code",
   "execution_count": 16,
   "id": "53cc273c",
   "metadata": {},
   "outputs": [
    {
     "name": "stdout",
     "output_type": "stream",
     "text": [
      "2\n"
     ]
    }
   ],
   "source": [
    "print(5//2)"
   ]
  },
  {
   "cell_type": "code",
   "execution_count": 17,
   "id": "69408c9c",
   "metadata": {},
   "outputs": [
    {
     "name": "stdout",
     "output_type": "stream",
     "text": [
      "1.0\n"
     ]
    }
   ],
   "source": [
    "print(12.5//8.5)"
   ]
  },
  {
   "cell_type": "code",
   "execution_count": 18,
   "id": "7f4d7dcc",
   "metadata": {},
   "outputs": [
    {
     "name": "stdout",
     "output_type": "stream",
     "text": [
      "4.0\n"
     ]
    }
   ],
   "source": [
    "print(10//2.5)"
   ]
  },
  {
   "cell_type": "markdown",
   "id": "d9090a4a",
   "metadata": {},
   "source": [
    "## \"%\""
   ]
  },
  {
   "cell_type": "code",
   "execution_count": 19,
   "id": "dc64a2be",
   "metadata": {},
   "outputs": [
    {
     "name": "stdout",
     "output_type": "stream",
     "text": [
      "1\n"
     ]
    }
   ],
   "source": [
    "print(5%2)"
   ]
  },
  {
   "cell_type": "code",
   "execution_count": 20,
   "id": "5e06b704",
   "metadata": {},
   "outputs": [
    {
     "name": "stdout",
     "output_type": "stream",
     "text": [
      "4.0\n"
     ]
    }
   ],
   "source": [
    "print(12.5%8.5)"
   ]
  },
  {
   "cell_type": "code",
   "execution_count": 21,
   "id": "7cf0f580",
   "metadata": {},
   "outputs": [
    {
     "name": "stdout",
     "output_type": "stream",
     "text": [
      "0.0\n"
     ]
    }
   ],
   "source": [
    "print(10%2.5)"
   ]
  },
  {
   "cell_type": "markdown",
   "id": "4fbd2815",
   "metadata": {},
   "source": [
    "### Arithmetic Operators on str\n",
    "* only \"+\" and \"*\" operators works on str\n",
    "* \"*\" str with int only"
   ]
  },
  {
   "cell_type": "code",
   "execution_count": 22,
   "id": "0da2e73b",
   "metadata": {},
   "outputs": [],
   "source": [
    "str1 = \"usama \"\n",
    "str2 = \"saleem\"\n"
   ]
  },
  {
   "cell_type": "code",
   "execution_count": 23,
   "id": "2e860a67",
   "metadata": {},
   "outputs": [
    {
     "data": {
      "text/plain": [
       "'usama saleem'"
      ]
     },
     "execution_count": 23,
     "metadata": {},
     "output_type": "execute_result"
    }
   ],
   "source": [
    "str1+ str2"
   ]
  },
  {
   "cell_type": "code",
   "execution_count": 24,
   "id": "765b5d57",
   "metadata": {},
   "outputs": [
    {
     "ename": "TypeError",
     "evalue": "can't multiply sequence by non-int of type 'str'",
     "output_type": "error",
     "traceback": [
      "\u001b[1;31m---------------------------------------------------------------------------\u001b[0m",
      "\u001b[1;31mTypeError\u001b[0m                                 Traceback (most recent call last)",
      "\u001b[1;32m~\\AppData\\Local\\Temp\\ipykernel_15120\\4199405932.py\u001b[0m in \u001b[0;36m<module>\u001b[1;34m\u001b[0m\n\u001b[1;32m----> 1\u001b[1;33m \u001b[0mstr1\u001b[0m\u001b[1;33m*\u001b[0m\u001b[0mstr2\u001b[0m\u001b[1;33m\u001b[0m\u001b[1;33m\u001b[0m\u001b[0m\n\u001b[0m",
      "\u001b[1;31mTypeError\u001b[0m: can't multiply sequence by non-int of type 'str'"
     ]
    }
   ],
   "source": [
    "str1*str2"
   ]
  },
  {
   "cell_type": "code",
   "execution_count": 25,
   "id": "0e667c9c",
   "metadata": {},
   "outputs": [
    {
     "data": {
      "text/plain": [
       "'usama usama usama usama usama '"
      ]
     },
     "execution_count": 25,
     "metadata": {},
     "output_type": "execute_result"
    }
   ],
   "source": [
    "str1*5"
   ]
  },
  {
   "cell_type": "markdown",
   "id": "bfeafd34",
   "metadata": {},
   "source": [
    "### Assignment operators\n",
    "* \"=\"\n",
    "* \"+=\"\n",
    "* \"-=\"\n",
    "* \"/=\"\n",
    "* \"//=\"\n",
    "* \"**=\"\n",
    "* \"%=\""
   ]
  },
  {
   "cell_type": "markdown",
   "id": "198926cb",
   "metadata": {},
   "source": [
    "## \"=\""
   ]
  },
  {
   "cell_type": "code",
   "execution_count": 26,
   "id": "e82ed881",
   "metadata": {},
   "outputs": [
    {
     "name": "stdout",
     "output_type": "stream",
     "text": [
      "10\n"
     ]
    }
   ],
   "source": [
    "a = 10 # assign value to a\n",
    "print(a)"
   ]
  },
  {
   "cell_type": "code",
   "execution_count": 27,
   "id": "9dc863b4",
   "metadata": {},
   "outputs": [
    {
     "name": "stdout",
     "output_type": "stream",
     "text": [
      "12\n"
     ]
    }
   ],
   "source": [
    "a = 12 # overwrite value to a\n",
    "print(a)"
   ]
  },
  {
   "cell_type": "code",
   "execution_count": 28,
   "id": "74355ce5",
   "metadata": {},
   "outputs": [
    {
     "name": "stdout",
     "output_type": "stream",
     "text": [
      "20\n"
     ]
    }
   ],
   "source": [
    "a = 10\n",
    "a = 15 # overwrite\n",
    "a = 20 # overwrite last value\n",
    "print(a)"
   ]
  },
  {
   "cell_type": "markdown",
   "id": "aaff3776",
   "metadata": {},
   "source": [
    "## \"+=\""
   ]
  },
  {
   "cell_type": "code",
   "execution_count": 29,
   "id": "8f68a022",
   "metadata": {},
   "outputs": [
    {
     "name": "stdout",
     "output_type": "stream",
     "text": [
      "15\n"
     ]
    }
   ],
   "source": [
    "a = 10\n",
    "a += 2 # 12 addition with previouse value a + 2 \n",
    "a += 3 # 15  addition with previouse value a + 3 \n",
    "print(a)"
   ]
  },
  {
   "cell_type": "markdown",
   "id": "942d2fc5",
   "metadata": {},
   "source": [
    "## \"-=\""
   ]
  },
  {
   "cell_type": "code",
   "execution_count": 30,
   "id": "0be3ebeb",
   "metadata": {},
   "outputs": [
    {
     "name": "stdout",
     "output_type": "stream",
     "text": [
      "3\n"
     ]
    }
   ],
   "source": [
    "a = 10\n",
    "a -= 2 # 8 subtraction with previouse value a - 2\n",
    "a -= 5 # 3  subtraction with previouse value a - 5 \n",
    "print(a)"
   ]
  },
  {
   "cell_type": "code",
   "execution_count": 31,
   "id": "52ce1ca1",
   "metadata": {},
   "outputs": [],
   "source": [
    "## \"*=\""
   ]
  },
  {
   "cell_type": "code",
   "execution_count": 32,
   "id": "060d1894",
   "metadata": {},
   "outputs": [
    {
     "name": "stdout",
     "output_type": "stream",
     "text": [
      "60\n"
     ]
    }
   ],
   "source": [
    "a = 10\n",
    "a *=3 # 30 multiplication with previouse value a * 3\n",
    "a *=2 # 60 multiplication with previouse value a*2\n",
    "print(a)"
   ]
  },
  {
   "cell_type": "markdown",
   "id": "af5a9076",
   "metadata": {},
   "source": [
    "## \"/=\""
   ]
  },
  {
   "cell_type": "code",
   "execution_count": 33,
   "id": "0a79c360",
   "metadata": {},
   "outputs": [
    {
     "name": "stdout",
     "output_type": "stream",
     "text": [
      "10.0\n"
     ]
    }
   ],
   "source": [
    "a = 60 \n",
    "a /= 2 # 30 division with previous value a/2\n",
    "a /= 3 # 10 division with previous value a/3\n",
    "print(a)"
   ]
  },
  {
   "cell_type": "markdown",
   "id": "31780efd",
   "metadata": {},
   "source": [
    "## \"//=\""
   ]
  },
  {
   "cell_type": "code",
   "execution_count": 34,
   "id": "fa2bfeca",
   "metadata": {},
   "outputs": [
    {
     "name": "stdout",
     "output_type": "stream",
     "text": [
      "11\n"
     ]
    }
   ],
   "source": [
    "a = 67 \n",
    "a //= 2 # 33 division with previous value a/2\n",
    "a //= 3 # 11 division with previous value a/3\n",
    "print(a)"
   ]
  },
  {
   "cell_type": "markdown",
   "id": "af1a97cb",
   "metadata": {},
   "source": [
    "## \"**=\""
   ]
  },
  {
   "cell_type": "code",
   "execution_count": 35,
   "id": "36f4dfed",
   "metadata": {},
   "outputs": [
    {
     "name": "stdout",
     "output_type": "stream",
     "text": [
      "4096\n"
     ]
    }
   ],
   "source": [
    "a = 4\n",
    "a **= 2 # 16 exponent of previous value 4**2\n",
    "a **= 3 # 4096 exponent of previous value 16**3\n",
    "print(a)"
   ]
  },
  {
   "cell_type": "markdown",
   "id": "5e988c75",
   "metadata": {},
   "source": [
    "## \"%=\""
   ]
  },
  {
   "cell_type": "code",
   "execution_count": 36,
   "id": "c091abc9",
   "metadata": {},
   "outputs": [
    {
     "name": "stdout",
     "output_type": "stream",
     "text": [
      "1\n"
     ]
    }
   ],
   "source": [
    "a = 67 \n",
    "a %= 4 # 3 reminder of previous value 67 % 4\n",
    "a %= 2 # 1 reminder of previous value 3 % 2\n",
    "print(a)"
   ]
  },
  {
   "cell_type": "markdown",
   "id": "4e42cbd3",
   "metadata": {},
   "source": [
    "## Comparison Operators\n",
    "* \"==\" --> equals  to\n",
    "* \"!=\" --> not equals to\n",
    "* \">\" --> greater than\n",
    "* \">=\" --> greater than or equals to\n",
    "* \"<\" --> less than or equals to\n",
    "* \"<=\" --> less than or equals to\n",
    "\n",
    "<b> All comparison operators result in True or False"
   ]
  },
  {
   "cell_type": "markdown",
   "id": "99b1a949",
   "metadata": {},
   "source": [
    "## \"==\""
   ]
  },
  {
   "cell_type": "code",
   "execution_count": 37,
   "id": "f8031303",
   "metadata": {},
   "outputs": [
    {
     "data": {
      "text/plain": [
       "False"
      ]
     },
     "execution_count": 37,
     "metadata": {},
     "output_type": "execute_result"
    }
   ],
   "source": [
    " 5 == 4"
   ]
  },
  {
   "cell_type": "code",
   "execution_count": 38,
   "id": "5fbf1a1b",
   "metadata": {},
   "outputs": [
    {
     "data": {
      "text/plain": [
       "True"
      ]
     },
     "execution_count": 38,
     "metadata": {},
     "output_type": "execute_result"
    }
   ],
   "source": [
    "\"Usama\" == \"Usama\""
   ]
  },
  {
   "cell_type": "markdown",
   "id": "201d5e23",
   "metadata": {},
   "source": [
    "## \"!=\""
   ]
  },
  {
   "cell_type": "code",
   "execution_count": 39,
   "id": "ca6870bd",
   "metadata": {},
   "outputs": [
    {
     "data": {
      "text/plain": [
       "False"
      ]
     },
     "execution_count": 39,
     "metadata": {},
     "output_type": "execute_result"
    }
   ],
   "source": [
    "\"Usama\" != \"Usama\""
   ]
  },
  {
   "cell_type": "code",
   "execution_count": 40,
   "id": "663b7262",
   "metadata": {},
   "outputs": [
    {
     "data": {
      "text/plain": [
       "True"
      ]
     },
     "execution_count": 40,
     "metadata": {},
     "output_type": "execute_result"
    }
   ],
   "source": [
    " 5 != 4"
   ]
  },
  {
   "cell_type": "markdown",
   "id": "0f64fcdf",
   "metadata": {},
   "source": [
    "## \">\""
   ]
  },
  {
   "cell_type": "code",
   "execution_count": 41,
   "id": "f78b61a0",
   "metadata": {},
   "outputs": [
    {
     "data": {
      "text/plain": [
       "True"
      ]
     },
     "execution_count": 41,
     "metadata": {},
     "output_type": "execute_result"
    }
   ],
   "source": [
    "5 > 4"
   ]
  },
  {
   "cell_type": "code",
   "execution_count": 42,
   "id": "0ff30c9d",
   "metadata": {},
   "outputs": [
    {
     "data": {
      "text/plain": [
       "False"
      ]
     },
     "execution_count": 42,
     "metadata": {},
     "output_type": "execute_result"
    }
   ],
   "source": [
    "5>5"
   ]
  },
  {
   "cell_type": "markdown",
   "id": "12e5d8fa",
   "metadata": {},
   "source": [
    "## \">=\""
   ]
  },
  {
   "cell_type": "code",
   "execution_count": 43,
   "id": "76516fc3",
   "metadata": {},
   "outputs": [
    {
     "data": {
      "text/plain": [
       "True"
      ]
     },
     "execution_count": 43,
     "metadata": {},
     "output_type": "execute_result"
    }
   ],
   "source": [
    "5>=4"
   ]
  },
  {
   "cell_type": "code",
   "execution_count": 44,
   "id": "4900f9b7",
   "metadata": {},
   "outputs": [
    {
     "data": {
      "text/plain": [
       "True"
      ]
     },
     "execution_count": 44,
     "metadata": {},
     "output_type": "execute_result"
    }
   ],
   "source": [
    "5>=5"
   ]
  },
  {
   "cell_type": "markdown",
   "id": "7a87820b",
   "metadata": {},
   "source": [
    "## \"<\""
   ]
  },
  {
   "cell_type": "code",
   "execution_count": 45,
   "id": "836971d2",
   "metadata": {},
   "outputs": [
    {
     "data": {
      "text/plain": [
       "False"
      ]
     },
     "execution_count": 45,
     "metadata": {},
     "output_type": "execute_result"
    }
   ],
   "source": [
    "5 < 4"
   ]
  },
  {
   "cell_type": "code",
   "execution_count": 46,
   "id": "e02ad753",
   "metadata": {},
   "outputs": [
    {
     "data": {
      "text/plain": [
       "True"
      ]
     },
     "execution_count": 46,
     "metadata": {},
     "output_type": "execute_result"
    }
   ],
   "source": [
    "4 < 5"
   ]
  },
  {
   "cell_type": "code",
   "execution_count": 47,
   "id": "b072687a",
   "metadata": {},
   "outputs": [
    {
     "data": {
      "text/plain": [
       "False"
      ]
     },
     "execution_count": 47,
     "metadata": {},
     "output_type": "execute_result"
    }
   ],
   "source": [
    "4 < 4"
   ]
  },
  {
   "cell_type": "markdown",
   "id": "0f8e0eeb",
   "metadata": {},
   "source": [
    "## \"<=\""
   ]
  },
  {
   "cell_type": "code",
   "execution_count": 48,
   "id": "e354b093",
   "metadata": {},
   "outputs": [
    {
     "data": {
      "text/plain": [
       "False"
      ]
     },
     "execution_count": 48,
     "metadata": {},
     "output_type": "execute_result"
    }
   ],
   "source": [
    "5 <= 4"
   ]
  },
  {
   "cell_type": "code",
   "execution_count": 49,
   "id": "03044cf1",
   "metadata": {},
   "outputs": [
    {
     "data": {
      "text/plain": [
       "True"
      ]
     },
     "execution_count": 49,
     "metadata": {},
     "output_type": "execute_result"
    }
   ],
   "source": [
    "4 <= 5"
   ]
  },
  {
   "cell_type": "code",
   "execution_count": 50,
   "id": "97d9ba74",
   "metadata": {},
   "outputs": [
    {
     "data": {
      "text/plain": [
       "True"
      ]
     },
     "execution_count": 50,
     "metadata": {},
     "output_type": "execute_result"
    }
   ],
   "source": [
    "4 <= 4"
   ]
  },
  {
   "cell_type": "markdown",
   "id": "ea3de897",
   "metadata": {},
   "source": [
    "## Logical Operators \n",
    "* and \"must include\"\n",
    "* or \"optional\"\n",
    "* not \"opposite\"\n",
    "\n",
    "<b> All logical operators return True or False"
   ]
  },
  {
   "cell_type": "markdown",
   "id": "c0a1f378",
   "metadata": {},
   "source": [
    "## and\n",
    "* if all conditions is True then \"and\"  will return True"
   ]
  },
  {
   "cell_type": "code",
   "execution_count": 52,
   "id": "fd84317f",
   "metadata": {},
   "outputs": [
    {
     "data": {
      "text/plain": [
       "True"
      ]
     },
     "execution_count": 52,
     "metadata": {},
     "output_type": "execute_result"
    }
   ],
   "source": [
    "True and True and True and True"
   ]
  },
  {
   "cell_type": "code",
   "execution_count": 53,
   "id": "de22601a",
   "metadata": {},
   "outputs": [
    {
     "data": {
      "text/plain": [
       "False"
      ]
     },
     "execution_count": 53,
     "metadata": {},
     "output_type": "execute_result"
    }
   ],
   "source": [
    "True and False and True and True"
   ]
  },
  {
   "cell_type": "markdown",
   "id": "b5622593",
   "metadata": {},
   "source": [
    "## or\n",
    "* if any of condition is True then \"or\" will return True"
   ]
  },
  {
   "cell_type": "code",
   "execution_count": 54,
   "id": "4f37da32",
   "metadata": {},
   "outputs": [
    {
     "data": {
      "text/plain": [
       "True"
      ]
     },
     "execution_count": 54,
     "metadata": {},
     "output_type": "execute_result"
    }
   ],
   "source": [
    "True or True or True or True"
   ]
  },
  {
   "cell_type": "code",
   "execution_count": 55,
   "id": "bae5992a",
   "metadata": {},
   "outputs": [
    {
     "data": {
      "text/plain": [
       "True"
      ]
     },
     "execution_count": 55,
     "metadata": {},
     "output_type": "execute_result"
    }
   ],
   "source": [
    "True or False or True or True"
   ]
  },
  {
   "cell_type": "code",
   "execution_count": 56,
   "id": "4f6f5022",
   "metadata": {},
   "outputs": [
    {
     "data": {
      "text/plain": [
       "False"
      ]
     },
     "execution_count": 56,
     "metadata": {},
     "output_type": "execute_result"
    }
   ],
   "source": [
    "\n",
    "False or False or False or False"
   ]
  },
  {
   "cell_type": "markdown",
   "id": "be84cfa8",
   "metadata": {},
   "source": [
    "## not \n",
    "* If condition is True \"not\" returns False and for False it returns True"
   ]
  },
  {
   "cell_type": "code",
   "execution_count": 57,
   "id": "4eace048",
   "metadata": {},
   "outputs": [
    {
     "data": {
      "text/plain": [
       "False"
      ]
     },
     "execution_count": 57,
     "metadata": {},
     "output_type": "execute_result"
    }
   ],
   "source": [
    "name = \"usama\"\n",
    "not name == \"usama\""
   ]
  },
  {
   "cell_type": "code",
   "execution_count": 58,
   "id": "1723d831",
   "metadata": {},
   "outputs": [
    {
     "data": {
      "text/plain": [
       "True"
      ]
     },
     "execution_count": 58,
     "metadata": {},
     "output_type": "execute_result"
    }
   ],
   "source": [
    "name = \"usama\"\n",
    "not name == \"Usama\""
   ]
  },
  {
   "cell_type": "markdown",
   "id": "53276ced",
   "metadata": {},
   "source": [
    "## Identity Operators\n",
    "<b> Identity operators are used to compare the memory location of two objects\n",
    "* is\n",
    "* is not\n",
    "\n",
    "<b> Both identity operators return True or False"
   ]
  },
  {
   "cell_type": "markdown",
   "id": "7aa8984a",
   "metadata": {},
   "source": [
    "## is\n",
    "* \"is\" returns True if both variables are the same object, and False for vice versa"
   ]
  },
  {
   "cell_type": "code",
   "execution_count": 59,
   "id": "c5aa5326",
   "metadata": {},
   "outputs": [
    {
     "name": "stdout",
     "output_type": "stream",
     "text": [
      "True\n",
      "False\n",
      "2540466563664 2540466563664 2540466563824\n"
     ]
    }
   ],
   "source": [
    "a = 10\n",
    "b = 10\n",
    "c = 15\n",
    "print(a is b)\n",
    "print (a is c)\n",
    "\n",
    "print(id(a),id(b),id(c))"
   ]
  },
  {
   "cell_type": "markdown",
   "id": "4075cf5a",
   "metadata": {},
   "source": [
    "## is not\n",
    "* \"is not\" returns False if both variables are the same object, and False for vice versa "
   ]
  },
  {
   "cell_type": "code",
   "execution_count": 60,
   "id": "d1cb86c7",
   "metadata": {},
   "outputs": [
    {
     "name": "stdout",
     "output_type": "stream",
     "text": [
      "False\n",
      "True\n",
      "2540466563664 2540466563664 2540466563824\n"
     ]
    }
   ],
   "source": [
    "print(a is not b)\n",
    "print(a is not c)\n",
    "print(id(a),id(b),id(c))"
   ]
  },
  {
   "cell_type": "markdown",
   "id": "f7845b32",
   "metadata": {},
   "source": [
    "## Membership Operators\n",
    "<b> Membership operators are used to check whether the given sequence is present in object or not\n",
    "* in\n",
    "* not in \n",
    "\n",
    "<b> both membership operators return true or False"
   ]
  },
  {
   "cell_type": "markdown",
   "id": "a5e288a9",
   "metadata": {},
   "source": [
    "## in\n",
    "* returns True if the sequence with specified value is present in object"
   ]
  },
  {
   "cell_type": "markdown",
   "id": "a7ece68e",
   "metadata": {},
   "source": [
    "## not in\n",
    "* returns True if sequence with specified value is not present in object"
   ]
  },
  {
   "cell_type": "code",
   "execution_count": 61,
   "id": "5527338a",
   "metadata": {},
   "outputs": [
    {
     "data": {
      "text/plain": [
       "True"
      ]
     },
     "execution_count": 61,
     "metadata": {},
     "output_type": "execute_result"
    }
   ],
   "source": [
    "a = \"\"\"\n",
    "Pakistan zinda bad,we love our country\n",
    "Usama Saleem\n",
    "\"\"\"\n",
    "\n",
    "\n",
    "\"Usama\" in a "
   ]
  },
  {
   "cell_type": "code",
   "execution_count": 62,
   "id": "1e0dcb5f",
   "metadata": {},
   "outputs": [
    {
     "data": {
      "text/plain": [
       "True"
      ]
     },
     "execution_count": 62,
     "metadata": {},
     "output_type": "execute_result"
    }
   ],
   "source": [
    "\"da \" in a"
   ]
  },
  {
   "cell_type": "code",
   "execution_count": 63,
   "id": "13225897",
   "metadata": {},
   "outputs": [
    {
     "data": {
      "text/plain": [
       "False"
      ]
     },
     "execution_count": 63,
     "metadata": {},
     "output_type": "execute_result"
    }
   ],
   "source": [
    "\"da  \" in a # as there is only one space after zinda"
   ]
  },
  {
   "cell_type": "code",
   "execution_count": 64,
   "id": "2553a550",
   "metadata": {},
   "outputs": [
    {
     "data": {
      "text/plain": [
       "True"
      ]
     },
     "execution_count": 64,
     "metadata": {},
     "output_type": "execute_result"
    }
   ],
   "source": [
    "\"da  \" not in a # as there is only one space after zinda"
   ]
  },
  {
   "cell_type": "markdown",
   "id": "e3f076cb",
   "metadata": {},
   "source": [
    "## Bitwise Operators\n",
    "Python bitwise operators are used to perform bitwise calculations on integers. The integers are converted into binary format and then operations are performed bit by bit.\n",
    "* \"&\"  Biwise AND operator\n",
    "* \"|\"  Biwise OR operator\n",
    "* \"^\"  Biwise XOR operator\n",
    "* \"~\"  Bitwise ONE's’ Compliment Operator\n",
    "* \">>\" Bitwise LEFT Shift operator \n",
    "* \"<<\" Bitwise RIGHT Shift operator"
   ]
  },
  {
   "cell_type": "markdown",
   "id": "6635f7ca",
   "metadata": {},
   "source": [
    "## \"&\"\n",
    "Python bitwise AND operator returns 1 if both the bits are 1, otherwise 0."
   ]
  },
  {
   "cell_type": "code",
   "execution_count": 65,
   "id": "42967e3e",
   "metadata": {},
   "outputs": [
    {
     "name": "stdout",
     "output_type": "stream",
     "text": [
      "2\n"
     ]
    }
   ],
   "source": [
    "a = 10 # in binary 1010\n",
    "b = 7  # in binary  111\n",
    "result = a & b #      a = 1010\n",
    "               #      b = 0111\n",
    "               # a + b  = 0010 --> 2 (in decimal) \n",
    "print(result)   "
   ]
  },
  {
   "cell_type": "markdown",
   "id": "f7618f98",
   "metadata": {},
   "source": [
    "## \"|\"\n",
    "Python bitwise OR operator returns 1 if any one bit is 1, otherwise 0."
   ]
  },
  {
   "cell_type": "code",
   "execution_count": 66,
   "id": "b93bdfde",
   "metadata": {},
   "outputs": [
    {
     "name": "stdout",
     "output_type": "stream",
     "text": [
      "15\n"
     ]
    }
   ],
   "source": [
    "a = 10 # in binary 1010\n",
    "b = 7  # in binary  111\n",
    "result = a | b #      a = 1010\n",
    "               #      b = 0111\n",
    "               # a | b  = 1111 --> 15 (in decimal) \n",
    "print(result) "
   ]
  },
  {
   "cell_type": "markdown",
   "id": "ee2f15de",
   "metadata": {},
   "source": [
    "## \"^\"\n",
    "Python bitwise XOR operator returns 1 if both bits are different . If both the bits are same, then it returns 0."
   ]
  },
  {
   "cell_type": "code",
   "execution_count": 67,
   "id": "86f4fce5",
   "metadata": {},
   "outputs": [
    {
     "name": "stdout",
     "output_type": "stream",
     "text": [
      "13\n"
     ]
    }
   ],
   "source": [
    "a = 10 # in binary 1010\n",
    "b = 7  # in binary  111\n",
    "result = a ^ b #      a = 1010\n",
    "               #      b = 0111\n",
    "               # a ^ b  = 1101 --> 13 (in decimal) \n",
    "print(result)  "
   ]
  },
  {
   "cell_type": "markdown",
   "id": "baeeac8e",
   "metadata": {},
   "source": [
    "## \"~\"\n",
    "Python Ones’ complement of a number ‘a’ is equal to -(a+1)."
   ]
  },
  {
   "cell_type": "code",
   "execution_count": 68,
   "id": "c3099083",
   "metadata": {},
   "outputs": [
    {
     "name": "stdout",
     "output_type": "stream",
     "text": [
      "-11\n"
     ]
    }
   ],
   "source": [
    "a = 10 # in binary 1010\n",
    "result = ~a # ~a = ~1010\n",
    "            # ~1010 = -(1010+1)\n",
    "            # -(1010+1) = -1011 (-11 in decimal)\n",
    "print(result)"
   ]
  },
  {
   "cell_type": "markdown",
   "id": "68838071",
   "metadata": {},
   "source": [
    "## \">>\"\n",
    "Binary number is appended with the given numbers of time with 0s at the end.\n"
   ]
  },
  {
   "cell_type": "code",
   "execution_count": 69,
   "id": "7facc298",
   "metadata": {},
   "outputs": [
    {
     "name": "stdout",
     "output_type": "stream",
     "text": [
      "40\n"
     ]
    }
   ],
   "source": [
    "a = 10 # in binary 1010\n",
    "result = a<<2 # a << 2 = 1010<<2\n",
    "              # 1010<<2 = 101000 (40 in decimal)\n",
    "print(result)\n"
   ]
  },
  {
   "cell_type": "markdown",
   "id": "251bd5cc",
   "metadata": {},
   "source": [
    "## \">>\"\n",
    "Right shift operator is exactly the opposite of the left shift operator. The right side bits are removed,by given number of times."
   ]
  },
  {
   "cell_type": "code",
   "execution_count": 70,
   "id": "0deda55f",
   "metadata": {},
   "outputs": [
    {
     "name": "stdout",
     "output_type": "stream",
     "text": [
      "3\n"
     ]
    }
   ],
   "source": [
    "a = 15 # in binary 1111\n",
    "result = a>>2 # a >> 2 = 1111>>2\n",
    "              # 1111>>2 = 11 (3 in decimal)\n",
    "print(result)"
   ]
  },
  {
   "cell_type": "code",
   "execution_count": null,
   "id": "2a14cc23",
   "metadata": {},
   "outputs": [],
   "source": []
  }
 ],
 "metadata": {
  "kernelspec": {
   "display_name": "Python 3 (ipykernel)",
   "language": "python",
   "name": "python3"
  },
  "language_info": {
   "codemirror_mode": {
    "name": "ipython",
    "version": 3
   },
   "file_extension": ".py",
   "mimetype": "text/x-python",
   "name": "python",
   "nbconvert_exporter": "python",
   "pygments_lexer": "ipython3",
   "version": "3.9.13"
  }
 },
 "nbformat": 4,
 "nbformat_minor": 5
}
