{
 "cells": [
  {
   "cell_type": "markdown",
   "id": "a1d8400c",
   "metadata": {},
   "source": [
    "# Block Structure\n",
    "* if,else,elif\n",
    "* loop\n",
    "    * for,while\n",
    "        * break\n",
    "        * continue\n",
    "        * pass\n",
    "        * else\n",
    "* def\n",
    "* try\n",
    "     * except ,finally\n",
    "## Python structure\n",
    "```\n",
    " control_block_keyword:\n",
    "     statement1\n",
    "     statement2\n",
    "     statement3....\n",
    "```"
   ]
  },
  {
   "cell_type": "code",
   "execution_count": 1,
   "id": "9e3d4b0a",
   "metadata": {},
   "outputs": [
    {
     "data": {
      "text/plain": [
       "True"
      ]
     },
     "execution_count": 1,
     "metadata": {},
     "output_type": "execute_result"
    }
   ],
   "source": [
    "a = 5\n",
    "b = 7\n",
    "a<b"
   ]
  },
  {
   "cell_type": "markdown",
   "id": "3059b8dc",
   "metadata": {},
   "source": [
    "## Use boolean logic with if block\n",
    "### if\n",
    "```\n",
    "if Logic: #True|False\n",
    "     return_True_block_body\n",
    "else:\n",
    "     return_False_block_body\n",
    "```"
   ]
  },
  {
   "cell_type": "code",
   "execution_count": 2,
   "id": "d12e19b0",
   "metadata": {},
   "outputs": [
    {
     "name": "stdout",
     "output_type": "stream",
     "text": [
      "Pakistan\n"
     ]
    }
   ],
   "source": [
    "if True:\n",
    "    print(\"Pakistan\")\n",
    "else:\n",
    "    print(\"USA\")"
   ]
  },
  {
   "cell_type": "code",
   "execution_count": 3,
   "id": "261e9431",
   "metadata": {},
   "outputs": [
    {
     "name": "stdout",
     "output_type": "stream",
     "text": [
      "USA\n"
     ]
    }
   ],
   "source": [
    "if False:\n",
    "    print(\"Pakistan\")\n",
    "else:\n",
    "    print(\"USA\")"
   ]
  },
  {
   "cell_type": "code",
   "execution_count": 4,
   "id": "7c0807b4",
   "metadata": {},
   "outputs": [
    {
     "name": "stdout",
     "output_type": "stream",
     "text": [
      "B = 7 is greater than A = 5\n"
     ]
    }
   ],
   "source": [
    "a = 5\n",
    "b = 7\n",
    "if a > b:\n",
    "    print(f\"A = {a} is greater than B = {b}\")\n",
    "else:\n",
    "    print(f\"B = {b} is greater than A = {a}\")\n"
   ]
  },
  {
   "cell_type": "code",
   "execution_count": 5,
   "id": "c82ad577",
   "metadata": {},
   "outputs": [
    {
     "name": "stdout",
     "output_type": "stream",
     "text": [
      "B = 7 is greater than A = 5\n"
     ]
    }
   ],
   "source": [
    "# a = 20\n",
    "b = 7\n",
    "if a > b:\n",
    "    print(f\"A = {a} is greater than B = {b}\")\n",
    "else:\n",
    "    print(f\"B = {b} is greater than A = {a}\")"
   ]
  },
  {
   "cell_type": "markdown",
   "id": "b27422a8",
   "metadata": {},
   "source": [
    "   ## if,elif,else"
   ]
  },
  {
   "cell_type": "code",
   "execution_count": 6,
   "id": "a2554fa2",
   "metadata": {},
   "outputs": [
    {
     "name": "stdout",
     "output_type": "stream",
     "text": [
      "A is 7 and it is less than B which is 10\n"
     ]
    }
   ],
   "source": [
    "a = 7\n",
    "b = 10\n",
    "# run one block from below if,elif or else block \n",
    "if a>b:\n",
    "    print(f\"A is {a} and it is greater than B which is {b}\" )\n",
    "elif a<b:\n",
    "    print(f\"A is {a} and it is less than B which is {b}\")\n",
    "else:\n",
    "    print(f\"A is {a} and it is equal to B which is also {b}\")\n",
    "    "
   ]
  },
  {
   "cell_type": "code",
   "execution_count": 7,
   "id": "5762bb85",
   "metadata": {},
   "outputs": [
    {
     "name": "stdout",
     "output_type": "stream",
     "text": [
      "A is 100 and it is greater than B which is 10\n"
     ]
    }
   ],
   "source": [
    "a = 100\n",
    "b = 10\n",
    "# run one block from below if,elif or else block\n",
    "if a>b:\n",
    "    print(f\"A is {a} and it is greater than B which is {b}\" )\n",
    "elif a<b:\n",
    "    print(f\"A is {a} and it is less than B which is {b}\")\n",
    "else:\n",
    "    print(f\"A is {a} and it is equal to B which is also {b}\")"
   ]
  },
  {
   "cell_type": "code",
   "execution_count": 8,
   "id": "42de66f7",
   "metadata": {},
   "outputs": [
    {
     "name": "stdout",
     "output_type": "stream",
     "text": [
      "A is 10 and it is equal to B which is also 10\n"
     ]
    }
   ],
   "source": [
    "a = 10\n",
    "b = 10\n",
    "# run one block from below if,elif or else block\n",
    "if a>b:\n",
    "    print(f\"A is {a} and it is greater than B which is {b}\" )\n",
    "elif a<b:\n",
    "    print(f\"A is {a} and it is less than B which is {b}\")\n",
    "else:\n",
    "    print(f\"A is {a} and it is equal to B which is also {b}\")"
   ]
  },
  {
   "cell_type": "markdown",
   "id": "e60bdc1b",
   "metadata": {},
   "source": [
    "## Grading Example"
   ]
  },
  {
   "cell_type": "code",
   "execution_count": 9,
   "id": "b64f07c7",
   "metadata": {},
   "outputs": [
    {
     "name": "stdout",
     "output_type": "stream",
     "text": [
      "Write your percentage I will tell you your grade: 80\n",
      "Congratulations you are passed and got A+\n"
     ]
    }
   ],
   "source": [
    "per = int(input(\"Write your percentage I will tell you your grade: \"))\n",
    "if per>=80:\n",
    "    print(\"Congratulations you are passed and got A+\")\n",
    "elif per>=70:\n",
    "     print(\"Congratulations you are passed and got A\")\n",
    "elif per>=60:\n",
    "     print(\"Congratulations you are passed and got B\")\n",
    "elif per>=50:\n",
    "     print(\"Congratulations you are passed and got C\")\n",
    "elif per>=40:\n",
    "     print(\"Congratulations you are passed and got D\")\n",
    "elif per>=33:\n",
    "     print(\"Congratulations you are passed and got E\")\n",
    "else:\n",
    "    print(\"Ohh sorry you are Fail\")\n"
   ]
  },
  {
   "cell_type": "markdown",
   "id": "2badf4a7",
   "metadata": {},
   "source": [
    "## Logical Error\n",
    "In the below program there is a logical error i.e I think the correct logic but it if i think like a computer it is wrong.."
   ]
  },
  {
   "cell_type": "code",
   "execution_count": 10,
   "id": "86e240bd",
   "metadata": {},
   "outputs": [
    {
     "name": "stdout",
     "output_type": "stream",
     "text": [
      "Fail\n"
     ]
    }
   ],
   "source": [
    "a=85\n",
    "if a >= 0:\n",
    "    print(\"Fail\")\n",
    "elif a >= 33:\n",
    "    print(\"E\")\n",
    "elif a >= 40:\n",
    "    print(\"D\")\n",
    "elif a >= 50:\n",
    "    print(\"C\")\n",
    "elif a >= 60:\n",
    "    print(\"B\")\n",
    "elif a >= 70:\n",
    "    print(\"A\")\n",
    "elif a >= 80:\n",
    "    print(\"A+\")"
   ]
  },
  {
   "cell_type": "markdown",
   "id": "78a4061a",
   "metadata": {},
   "source": [
    "## Relogic The Code"
   ]
  },
  {
   "cell_type": "code",
   "execution_count": 11,
   "id": "8c92ed3d",
   "metadata": {},
   "outputs": [
    {
     "name": "stdout",
     "output_type": "stream",
     "text": [
      "A+\n"
     ]
    }
   ],
   "source": [
    "a = 82\n",
    "\n",
    "if a >= 0 and a < 33:\n",
    "    print(\"Fail\")\n",
    "elif a >= 33 and a < 40:\n",
    "    print(\"E\")\n",
    "elif a >= 40 and a < 50:\n",
    "    print(\"D\")\n",
    "elif a >= 50 and a < 60:\n",
    "    print(\"C\")\n",
    "elif a >= 60 and a < 70:\n",
    "    print(\"B\")\n",
    "elif a >= 70 and a < 80:\n",
    "    print(\"A\")\n",
    "elif a >= 80:\n",
    "    print(\"A+\")"
   ]
  },
  {
   "cell_type": "markdown",
   "id": "c2eb4e1e",
   "metadata": {},
   "source": [
    "## Example using multiple Logics"
   ]
  },
  {
   "cell_type": "code",
   "execution_count": 12,
   "id": "28c16503",
   "metadata": {},
   "outputs": [
    {
     "name": "stdout",
     "output_type": "stream",
     "text": [
      "User Name: username or email or phonenumber usama007\n",
      "Password:admin321\n",
      "Welcome to the NED Portal usama007\n"
     ]
    }
   ],
   "source": [
    "username = input(\"User Name: username or email or phonenumber \")\n",
    "password = input(\"Password:\")\n",
    "# UserName : usama007, u.saleem077@gmail.com ,03001234567 ,password: admin321\n",
    "if (username == 'usama007'or username == 'u.saleem077@gmail.com' or username == '03001234567') and password == 'admin321':\n",
    "    print(f\"Welcome to the NED Portal {username}\")\n",
    "else:\n",
    "    print(\"Invalid User\")"
   ]
  },
  {
   "cell_type": "code",
   "execution_count": 13,
   "id": "92cd4422",
   "metadata": {},
   "outputs": [
    {
     "name": "stdout",
     "output_type": "stream",
     "text": [
      "User Name: username or email or phonenumber u.saleem077@gmail.com\n",
      "Password:admin321\n",
      "Welcome to the NED Portal u.saleem077@gmail.com\n"
     ]
    }
   ],
   "source": [
    "username = input(\"User Name: username or email or phonenumber \")\n",
    "password = input(\"Password:\")\n",
    "# UserName : usama007, u.saleem077@gmail.com ,03001234567 ,password: admin321\n",
    "if (username == 'usama007'or username == 'u.saleem077@gmail.com' or username == '03001234567') and password == 'admin321':\n",
    "    print(f\"Welcome to the NED Portal {username}\")\n",
    "else:\n",
    "    print(\"Invalid User\")"
   ]
  },
  {
   "cell_type": "code",
   "execution_count": 14,
   "id": "c532fabc",
   "metadata": {},
   "outputs": [
    {
     "name": "stdout",
     "output_type": "stream",
     "text": [
      "User Name: username or email or phonenumber 03001234567\n",
      "Password:admin321\n",
      "Welcome to the NED Portal 03001234567\n"
     ]
    }
   ],
   "source": [
    "username = input(\"User Name: username or email or phonenumber \")\n",
    "password = input(\"Password:\")\n",
    "# UserName : usama007, u.saleem077@gmail.com ,03001234567 ,password: admin321\n",
    "if (username == 'usama007'or username == 'u.saleem077@gmail.com' or username == '03001234567') and password == 'admin321':\n",
    "    print(f\"Welcome to the NED Portal {username}\")\n",
    "else:\n",
    "    print(\"Invalid User\")"
   ]
  },
  {
   "cell_type": "code",
   "execution_count": 15,
   "id": "a4e43104",
   "metadata": {},
   "outputs": [
    {
     "name": "stdout",
     "output_type": "stream",
     "text": [
      "User Name: username or email or phonenumber usama007\n",
      "Password: admin123\n",
      "Invalid User\n"
     ]
    }
   ],
   "source": [
    "username = input(\"User Name: username or email or phonenumber \")\n",
    "password = input(\"Password: \")\n",
    "# UserName : usama007, u.saleem077@gmail.com ,03001234567 ,password: admin321\n",
    "if (username == 'usama007'or username == 'u.saleem077@gmail.com' or username == '03001234567') and password == 'admin321':\n",
    "    print(f\"Welcome to the NED Portal {username}\")\n",
    "else:\n",
    "    print(\"Invalid User\")"
   ]
  },
  {
   "cell_type": "code",
   "execution_count": 16,
   "id": "b9c398e2",
   "metadata": {},
   "outputs": [
    {
     "name": "stdout",
     "output_type": "stream",
     "text": [
      "User Name: username or email or phonenumber usama\n",
      "Password:admin321\n",
      "Invalid User\n"
     ]
    }
   ],
   "source": [
    "username = input(\"User Name: username or email or phonenumber \")\n",
    "password = input(\"Password:\")\n",
    "# UserName : usama007, u.saleem077@gmail.com ,03001234567 ,password: admin321\n",
    "if (username == 'usama007'or username == 'u.saleem077@gmail.com' or username == '03001234567') and password == 'admin321':\n",
    "    print(f\"Welcome to the NED Portal {username}\")\n",
    "else:\n",
    "    print(\"Invalid User\")"
   ]
  },
  {
   "cell_type": "markdown",
   "id": "d880fafa",
   "metadata": {},
   "source": [
    "## Task\n",
    "In this task we have different conditions to verify if the student is locl or International\n",
    "and If he/She is the student of NED or not by satisfying the condition University Name as well as age is also concerned.\n",
    "* I additionaly use the casfold() function in case some when write the country name in ALL Capital letter or In All small or in any way than in order to escape from error I use casefold() function to convert country name in all small letters and then check the condition"
   ]
  },
  {
   "cell_type": "code",
   "execution_count": 17,
   "id": "5263b989",
   "metadata": {},
   "outputs": [
    {
     "name": "stdout",
     "output_type": "stream",
     "text": [
      "write your Natioanality: Pakistan\n",
      "write your City name: karachi\n",
      "write your Age: 26\n",
      "write your University name: NED\n",
      " NED local student\n"
     ]
    }
   ],
   "source": [
    "nationality = input(\"write your Natioanality: \")\n",
    "city = input(\"write your City name: \")\n",
    "age = int(input (\"write your Age: \"))\n",
    "university = input(\"write your University name: \")\n",
    "if nationality.casefold() ==  'pakistan' and age>=18 and university == \"NED\":\n",
    "    print(\" NED local student\")\n",
    "elif nationality.casefold() != 'pakistan' and age >= 18 and university == 'NED':\n",
    "    print(\" NED international student\")\n",
    "else:\n",
    "    (\"Not our student\")"
   ]
  },
  {
   "cell_type": "code",
   "execution_count": 18,
   "id": "666d739c",
   "metadata": {},
   "outputs": [
    {
     "name": "stdout",
     "output_type": "stream",
     "text": [
      "write your Natioanality: PAKISTAN\n",
      "write your City name: Karachi\n",
      "write your Age: 26\n",
      "write your University name: NED\n",
      " NED local student\n"
     ]
    }
   ],
   "source": [
    "nationality = input(\"write your Natioanality: \")\n",
    "city = input(\"write your City name: \")\n",
    "age = int(input (\"write your Age: \"))\n",
    "university = input(\"write your University name: \")\n",
    "if nationality.casefold() ==  'pakistan' and age>=18 and university == \"NED\":\n",
    "    print(\" NED local student\")\n",
    "elif nationality.casefold() != 'pakistan' and age >= 18 and university == 'NED':\n",
    "    print(\" NED international student\")\n",
    "else:\n",
    "    (\"Not our student\")\n",
    "    "
   ]
  },
  {
   "cell_type": "code",
   "execution_count": 19,
   "id": "13112112",
   "metadata": {},
   "outputs": [
    {
     "name": "stdout",
     "output_type": "stream",
     "text": [
      "write your Natioanality: USA\n",
      "write your City name: New York\n",
      "write your Age: 26\n",
      "write your University name: NED\n",
      " NED international student\n"
     ]
    }
   ],
   "source": [
    "nationality = input(\"write your Natioanality: \")\n",
    "city = input(\"write your City name: \")\n",
    "age = int(input (\"write your Age: \"))\n",
    "university = input(\"write your University name: \")\n",
    "if nationality.casefold() ==  'pakistan' and age>=18 and university == \"NED\":\n",
    "    print(\" NED local student\")\n",
    "elif nationality.casefold() != 'pakistan' and age >= 18 and university == 'NED':\n",
    "    print(\" NED international student\")\n",
    "else:\n",
    "    (\"Not our student\")"
   ]
  },
  {
   "cell_type": "code",
   "execution_count": 20,
   "id": "78cfab8d",
   "metadata": {},
   "outputs": [
    {
     "name": "stdout",
     "output_type": "stream",
     "text": [
      "write your Natioanality: USA\n",
      "write your City name: New York\n",
      "write your Age: 16\n",
      "write your University name: NED\n",
      "Not our student\n"
     ]
    }
   ],
   "source": [
    "nationality = input(\"write your Natioanality: \")\n",
    "city = input(\"write your City name: \")\n",
    "age = int(input (\"write your Age: \"))\n",
    "university = input(\"write your University name: \")\n",
    "if nationality.casefold() ==  'pakistan' and age>=18 and university == \"NED\":\n",
    "    print(\" NED local student\")\n",
    "elif nationality.casefold() != 'pakistan' and age >= 18 and university == 'NED':\n",
    "    print(\" NED international student\")\n",
    "else:\n",
    "    print(\"Not our student\")"
   ]
  },
  {
   "cell_type": "code",
   "execution_count": 21,
   "id": "7a3b568f",
   "metadata": {},
   "outputs": [
    {
     "name": "stdout",
     "output_type": "stream",
     "text": [
      "write your Natioanality: PAKISTAN\n",
      "write your City name: Karachi\n",
      "write your Age: 26\n",
      "write your University name: KU\n",
      "Not our student\n"
     ]
    }
   ],
   "source": [
    "nationality = input(\"write your Natioanality: \")\n",
    "city = input(\"write your City name: \")\n",
    "age = int(input (\"write your Age: \"))\n",
    "university = input(\"write your University name: \")\n",
    "if nationality.casefold() ==  'pakistan' and age>=18 and university == \"NED\":\n",
    "    print(\" NED local student\")\n",
    "elif nationality.casefold() != 'pakistan' and age >= 18 and university == 'NED':\n",
    "    print(\" NED international student\")\n",
    "else:\n",
    "    print(\"Not our student\")"
   ]
  },
  {
   "cell_type": "markdown",
   "id": "609840a9",
   "metadata": {},
   "source": [
    "## if,else Comprehensive Style\n",
    "* return_True_block_body if Logic else return_False_block_body"
   ]
  },
  {
   "cell_type": "code",
   "execution_count": 22,
   "id": "92a693e0",
   "metadata": {},
   "outputs": [
    {
     "name": "stdout",
     "output_type": "stream",
     "text": [
      "A is 20 and it is less than B which is 30\n"
     ]
    }
   ],
   "source": [
    "a = 20\n",
    "b = 30\n",
    "print(f\"A is {a} and it is greater than B which is {b}\") if a>b else print(f\"A is {a} and it is less than B which is {b}\")"
   ]
  },
  {
   "cell_type": "code",
   "execution_count": null,
   "id": "e6bfaa68",
   "metadata": {},
   "outputs": [],
   "source": []
  }
 ],
 "metadata": {
  "kernelspec": {
   "display_name": "Python 3 (ipykernel)",
   "language": "python",
   "name": "python3"
  },
  "language_info": {
   "codemirror_mode": {
    "name": "ipython",
    "version": 3
   },
   "file_extension": ".py",
   "mimetype": "text/x-python",
   "name": "python",
   "nbconvert_exporter": "python",
   "pygments_lexer": "ipython3",
   "version": "3.9.13"
  }
 },
 "nbformat": 4,
 "nbformat_minor": 5
}
