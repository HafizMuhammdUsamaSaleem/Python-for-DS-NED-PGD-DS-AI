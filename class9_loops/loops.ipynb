{
 "cells": [
  {
   "cell_type": "markdown",
   "id": "332b5873",
   "metadata": {},
   "source": [
    "## Loop\n",
    "* <b> In computer programming, loops are used to repeat a block of code.\n",
    "* There are 2 types of loops in Python:\n",
    "   * for loop\n",
    "   * while loop"
   ]
  },
  {
   "cell_type": "markdown",
   "id": "e5d7e1e3",
   "metadata": {},
   "source": [
    "## for Loop:\n",
    "<b> In Python, the for loop is used to run a block of code for a certain number of times. \n",
    "    \n",
    "<b> It is used to iterate over any sequences such as list, tuple, string"
   ]
  },
  {
   "cell_type": "markdown",
   "id": "629cb72c",
   "metadata": {},
   "source": [
    "### for loop over list"
   ]
  },
  {
   "cell_type": "code",
   "execution_count": 24,
   "id": "f5dff1a8",
   "metadata": {},
   "outputs": [
    {
     "name": "stdout",
     "output_type": "stream",
     "text": [
      "ios\n",
      "Android\n",
      "Windows\n",
      "Mac\n",
      "Linux\n"
     ]
    }
   ],
   "source": [
    "systems = ['ios', 'Android', 'Windows', 'Mac', 'Linux']\n",
    "\n",
    "# access items of a list using for loop\n",
    "for i in systems:\n",
    "    print(i)"
   ]
  },
  {
   "cell_type": "markdown",
   "id": "49ddcfde",
   "metadata": {},
   "source": [
    "### for loop with range()\n",
    "### Lets see range() first:\n",
    "* The range() function returns a sequence of numbers between the give range.\n",
    "* The range() function can take a maximum of three arguments: <b> range(start, stop, step)\n",
    "* The start and step parameters in range() are optional."
   ]
  },
  {
   "cell_type": "markdown",
   "id": "3eadf318",
   "metadata": {},
   "source": [
    "###  range() with only Stop Argument\n",
    "If we pass a single argument to range(), it means we are passing the stop argument.\n",
    "In this case, range() returns a sequence of numbers starting from 0 up to the number (but excluding that number)."
   ]
  },
  {
   "cell_type": "code",
   "execution_count": 12,
   "id": "725e71f9",
   "metadata": {},
   "outputs": [
    {
     "name": "stdout",
     "output_type": "stream",
     "text": [
      "[0, 1, 2, 3, 4, 5, 6, 7, 8, 9, 10, 11, 12, 13, 14, 15, 16, 17, 18, 19]\n",
      "[]\n"
     ]
    }
   ],
   "source": [
    "print(list(range(20))) # --> 0 till 19 20 is excluded\n",
    "print(list(range(-20))) # --> null because it always start from 0 and increment the  numbers"
   ]
  },
  {
   "cell_type": "markdown",
   "id": "71d14322",
   "metadata": {},
   "source": [
    "### range() with Start and Stop Arguments\n",
    "If we pass two arguments to range(), it means we are passing start and stop arguments.In this case, range() returns a sequence of numbers starting from start (inclusive) up to stop (exclusive)"
   ]
  },
  {
   "cell_type": "code",
   "execution_count": 15,
   "id": "fdb091bb",
   "metadata": {},
   "outputs": [
    {
     "name": "stdout",
     "output_type": "stream",
     "text": [
      "[10, 11, 12, 13, 14, 15, 16, 17, 18, 19]\n",
      "[-10, -9, -8, -7, -6, -5, -4, -3, -2, -1]\n"
     ]
    }
   ],
   "source": [
    "print(list(range(10,20))) # --> 10 till 19\n",
    "print(list(range(-10 , 0))) # --> -10 till -1"
   ]
  },
  {
   "cell_type": "markdown",
   "id": "533a862c",
   "metadata": {},
   "source": [
    "### If we pass all three arguments,\n",
    "The first argument is start ,the second argument is stop and the third argument is step. The step argument specifies the incrementation between two numbers in the sequence"
   ]
  },
  {
   "cell_type": "code",
   "execution_count": 20,
   "id": "4d6ee2ad",
   "metadata": {},
   "outputs": [
    {
     "name": "stdout",
     "output_type": "stream",
     "text": [
      "[1, 4, 7, 10, 13, 16, 19]\n",
      "[-10, -8, -6, -4, -2, 0, 2, 4, 6, 8, 10, 12, 14, 16, 18]\n"
     ]
    }
   ],
   "source": [
    "print(list(range(1,20,3))) # --> numbers from 1 till 19 with step of 3\n",
    "print(list(range(-10,20,2))) #--> numbers from -10 till 19 with step of +2"
   ]
  },
  {
   "cell_type": "markdown",
   "id": "6f94ce89",
   "metadata": {},
   "source": [
    "### range() in for Loop\n",
    "The range() function is commonly used in a for loop to iterate the loop a certain number of times."
   ]
  },
  {
   "cell_type": "code",
   "execution_count": 22,
   "id": "05f99781",
   "metadata": {},
   "outputs": [
    {
     "name": "stdout",
     "output_type": "stream",
     "text": [
      "0 Hello\n",
      "1 Hello\n",
      "2 Hello\n",
      "3 Hello\n",
      "4 Hello\n"
     ]
    }
   ],
   "source": [
    "for i in range(5):\n",
    "    print(i , 'Hello')"
   ]
  },
  {
   "cell_type": "code",
   "execution_count": 23,
   "id": "812aa1e3",
   "metadata": {},
   "outputs": [
    {
     "name": "stdout",
     "output_type": "stream",
     "text": [
      "0\n",
      "1\n",
      "2\n",
      "3\n",
      "4\n"
     ]
    }
   ],
   "source": [
    "# use of range() to define a range of values\n",
    "for i in range(5):\n",
    "    print(i)"
   ]
  },
  {
   "cell_type": "markdown",
   "id": "70ac4a62",
   "metadata": {},
   "source": [
    "### for loop with else\n",
    "* A for loop can have an optional else block as well. The else part is executed when the loop is finished"
   ]
  },
  {
   "cell_type": "code",
   "execution_count": 6,
   "id": "35622c89",
   "metadata": {},
   "outputs": [
    {
     "name": "stdout",
     "output_type": "stream",
     "text": [
      "0\n",
      "1\n",
      "5\n",
      "10\n",
      "No items left.\n"
     ]
    }
   ],
   "source": [
    "digits = [0, 1, 5, 10]\n",
    "\n",
    "for i in digits:\n",
    "    print(i)\n",
    "else:\n",
    "    print(\"No items left.\")"
   ]
  },
  {
   "cell_type": "markdown",
   "id": "2ada2633",
   "metadata": {},
   "source": [
    "##  while loop\n",
    "* while loop is used to run a block code until a certain condition is met.\n",
    "* The syntax of while loop is:\n",
    " \n",
    " while condition:\n",
    "     \n",
    "        body of while loop\n",
    "* A while loop evaluates the condition and if the condition is True, the code inside the while loop is executed.\n",
    "* Then condition is evaluated again and the code excecuted if condition is True.\n",
    "* This process continues until the condition is False.Once the  condition evaluates to False, the loop stops"
   ]
  },
  {
   "cell_type": "code",
   "execution_count": 27,
   "id": "62deb9ba",
   "metadata": {},
   "outputs": [
    {
     "name": "stdout",
     "output_type": "stream",
     "text": [
      "Hello its the  0 while loop\n",
      "Hello its the  1 while loop\n",
      "Hello its the  2 while loop\n",
      "Hello its the  3 while loop\n",
      "Hello its the  4 while loop\n"
     ]
    }
   ],
   "source": [
    "i = 0 \n",
    "n= 5\n",
    "while i < n:\n",
    "    print('Hello its the ', i , 'while loop')\n",
    "    i+=1"
   ]
  },
  {
   "cell_type": "markdown",
   "id": "626679e8",
   "metadata": {},
   "source": [
    "## Infinite while loop\n",
    "* If the condition of a loop is always True, the loop runs for infinite times (until the memory is full)\n",
    "Here is the example of infinite loop:\n",
    "\n",
    "age = 32\n",
    "\n",
    "#the test condition is always True\n",
    "\n",
    "while age > 18:\n",
    "    \n",
    "    print('You can vote')"
   ]
  },
  {
   "cell_type": "markdown",
   "id": "d0682896",
   "metadata": {},
   "source": [
    "### Use of loops an example:"
   ]
  },
  {
   "cell_type": "code",
   "execution_count": 7,
   "id": "bcaf7b38",
   "metadata": {},
   "outputs": [
    {
     "name": "stdout",
     "output_type": "stream",
     "text": [
      "one\n",
      "twon\n",
      "three\n",
      "four\n",
      "five\n"
     ]
    }
   ],
   "source": [
    "classno = ['one','twon','three','four','five']\n",
    "i = 0 \n",
    "while i < len(classno):\n",
    "    print(classno[i])\n",
    "    i+=1"
   ]
  },
  {
   "cell_type": "code",
   "execution_count": 11,
   "id": "44212023",
   "metadata": {},
   "outputs": [
    {
     "name": "stdout",
     "output_type": "stream",
     "text": [
      "one\n",
      "twon\n",
      "three\n",
      "four\n",
      "five\n"
     ]
    }
   ],
   "source": [
    "classno = ['one','twon','three','four','five']\n",
    "for i in (classno):\n",
    "    print(i)"
   ]
  },
  {
   "cell_type": "code",
   "execution_count": 12,
   "id": "a0463127",
   "metadata": {},
   "outputs": [
    {
     "data": {
      "text/plain": [
       "[(0, 'one'), (1, 'twon'), (2, 'three'), (3, 'four'), (4, 'five')]"
      ]
     },
     "execution_count": 12,
     "metadata": {},
     "output_type": "execute_result"
    }
   ],
   "source": [
    "list(enumerate(classno))"
   ]
  },
  {
   "cell_type": "markdown",
   "id": "a6cb98b4",
   "metadata": {},
   "source": [
    "## Python While loop with else\n",
    "* In Python, a while loop may have an optional else block.Here, the else part is executed after the condition of the loop evaluates to False."
   ]
  },
  {
   "cell_type": "code",
   "execution_count": 30,
   "id": "5b236757",
   "metadata": {},
   "outputs": [
    {
     "name": "stdout",
     "output_type": "stream",
     "text": [
      "Round  1\n",
      "Round  2\n",
      "Round  3\n",
      "Number exceed\n"
     ]
    }
   ],
   "source": [
    "i = 1\n",
    "while i <= 3 :\n",
    "    print('Round ', i)\n",
    "    i +=1\n",
    "else:\n",
    "    print('Number exceed')"
   ]
  },
  {
   "cell_type": "markdown",
   "id": "9ac2a453",
   "metadata": {},
   "source": [
    "## for Vs while loops\n",
    "* The for loop is usually used when the number of iterations is known.\n",
    "* The while loop is usually used when the number of iterations is unknown."
   ]
  },
  {
   "cell_type": "markdown",
   "id": "16827611",
   "metadata": {},
   "source": [
    "### Controls in Loops\n",
    "* Break\n",
    "* Continue\n",
    "* Pass"
   ]
  },
  {
   "cell_type": "markdown",
   "id": "6cdee8b8",
   "metadata": {},
   "source": [
    "#### Break -> for early stop\n",
    "\n",
    "The break statement is used to terminate the loop immediately when it is encountered."
   ]
  },
  {
   "cell_type": "code",
   "execution_count": 34,
   "id": "97cee569",
   "metadata": {},
   "outputs": [
    {
     "name": "stdout",
     "output_type": "stream",
     "text": [
      "0\n",
      "1\n",
      "2\n",
      "3\n",
      "4\n",
      "5\n"
     ]
    }
   ],
   "source": [
    "for i in range(10):\n",
    "    if i > 5:\n",
    "        break # --> terminate the loop when i becomes greater than 5 i.e. 6 \n",
    "    print(i)"
   ]
  },
  {
   "cell_type": "code",
   "execution_count": 35,
   "id": "7801121c",
   "metadata": {},
   "outputs": [],
   "source": [
    "for i in range(10):\n",
    "    if i < 5:\n",
    "        break # terminate at the very begining because i(0) is less than 5 \n",
    "    print(i)"
   ]
  },
  {
   "cell_type": "markdown",
   "id": "dba43163",
   "metadata": {},
   "source": [
    "#### Continue ->  for skiping desired value\n",
    "The continue statement is used to skip the current iteration of the loop and the control flow of the program goes to the next iteration"
   ]
  },
  {
   "cell_type": "code",
   "execution_count": 39,
   "id": "ba1173a9",
   "metadata": {},
   "outputs": [
    {
     "name": "stdout",
     "output_type": "stream",
     "text": [
      "0\n",
      "1\n",
      "2\n",
      "3\n",
      "4\n",
      "6\n",
      "7\n",
      "8\n",
      "9\n"
     ]
    }
   ],
   "source": [
    "for i in range(10):\n",
    "    if i == 5 : --> # skips '5' and return all values except 5\n",
    "        continue\n",
    "    print(i)"
   ]
  },
  {
   "cell_type": "markdown",
   "id": "833d61f8",
   "metadata": {},
   "source": [
    "#### Pass --> just leave it\n",
    "The pass statements is used to write empty loops. Pass is also used for empty control statements."
   ]
  },
  {
   "cell_type": "code",
   "execution_count": null,
   "id": "90f8b6eb",
   "metadata": {},
   "outputs": [],
   "source": [
    "for i in range(10):\n",
    "    pass\n",
    "print(\"\")"
   ]
  }
 ],
 "metadata": {
  "kernelspec": {
   "display_name": "Python 3 (ipykernel)",
   "language": "python",
   "name": "python3"
  },
  "language_info": {
   "codemirror_mode": {
    "name": "ipython",
    "version": 3
   },
   "file_extension": ".py",
   "mimetype": "text/x-python",
   "name": "python",
   "nbconvert_exporter": "python",
   "pygments_lexer": "ipython3",
   "version": "3.9.13"
  }
 },
 "nbformat": 4,
 "nbformat_minor": 5
}
