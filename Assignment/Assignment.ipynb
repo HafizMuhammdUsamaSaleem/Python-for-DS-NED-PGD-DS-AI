{
 "cells": [
  {
   "cell_type": "code",
   "execution_count": null,
   "id": "7dec6987",
   "metadata": {},
   "outputs": [],
   "source": []
  },
  {
   "cell_type": "code",
   "execution_count": 4,
   "id": "f9969d82",
   "metadata": {},
   "outputs": [],
   "source": [
    "import pyautogui"
   ]
  },
  {
   "cell_type": "code",
   "execution_count": 5,
   "id": "08816fb6",
   "metadata": {},
   "outputs": [],
   "source": [
    "pyautogui.PAUSE= 2\n",
    "pyautogui.click(x = 267,y=17)\n",
    "pyautogui.typewrite('youtube.com',0.1)\n",
    "pyautogui.press('enter')\n",
    "pyautogui.click(x= 553,y=99)\n",
    "pyautogui.typewrite('enggqasim',0.1)\n",
    "pyautogui.press('enter')\n",
    "pyautogui.click(x= 718,y=221)\n",
    "pyautogui.click(x=674, y=429)\n",
    "pyautogui.click(x=1221, y=577)\n",
    "pyautogui.click(x=526, y=698)\n",
    "pyautogui.click(x=157, y=605)\n",
    "pyautogui.click(x=526, y=698)\n",
    "pyautogui.click(x=157, y=605)\n",
    "pyautogui.click(x=526, y=698)\n",
    "pyautogui.click(x=157, y=605)\n",
    "pyautogui.click(x=511, y=719)\n",
    "pyautogui.click(x=118, y=609)"
   ]
  },
  {
   "cell_type": "code",
   "execution_count": null,
   "id": "dca571e7",
   "metadata": {},
   "outputs": [],
   "source": []
  }
 ],
 "metadata": {
  "kernelspec": {
   "display_name": "Python 3 (ipykernel)",
   "language": "python",
   "name": "python3"
  },
  "language_info": {
   "codemirror_mode": {
    "name": "ipython",
    "version": 3
   },
   "file_extension": ".py",
   "mimetype": "text/x-python",
   "name": "python",
   "nbconvert_exporter": "python",
   "pygments_lexer": "ipython3",
   "version": "3.9.13"
  }
 },
 "nbformat": 4,
 "nbformat_minor": 5
}
