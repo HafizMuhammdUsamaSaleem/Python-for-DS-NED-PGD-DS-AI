{
 "cells": [
  {
   "cell_type": "markdown",
   "id": "e546512b",
   "metadata": {},
   "source": [
    "## Data type\n",
    "- int 1 \n",
    "- float 2.0 \n",
    "- string \"pakistan\"\n",
    "- string 'pakistan'\n",
    "- string ''' pakistan '''\n",
    "- string \"\"\" pakistan \"\"\"\n"
   ]
  },
  {
   "cell_type": "code",
   "execution_count": 4,
   "id": "79edcb38",
   "metadata": {},
   "outputs": [
    {
     "name": "stdout",
     "output_type": "stream",
     "text": [
      "50 25.5 Hello world!\n",
      "<class 'int'> <class 'float'> <class 'str'>\n"
     ]
    }
   ],
   "source": [
    "i = 50\n",
    "f = 25.5 \n",
    "s = \"Hello world!\"\n",
    "print(i , f, s)\n",
    "print(type(i) , type(f) , type(s)) # printing data types "
   ]
  },
  {
   "cell_type": "markdown",
   "id": "0b7cc766",
   "metadata": {},
   "source": [
    "## Variable\n",
    "#### 3 things:\n",
    "* variable name\n",
    "* assignment operator\n",
    "* value\n",
    "fro example:\n",
    "    i = 50\n",
    "here:\n",
    "* i --> variable name\n",
    "* = --> assignment operator\n",
    "* 50 --> value"
   ]
  },
  {
   "cell_type": "code",
   "execution_count": 1,
   "id": "57da74c6",
   "metadata": {},
   "outputs": [
    {
     "name": "stdout",
     "output_type": "stream",
     "text": [
      "Pakistan\n"
     ]
    }
   ],
   "source": [
    "print(\"Pakistan\") #pass string data type value"
   ]
  },
  {
   "cell_type": "code",
   "execution_count": 2,
   "id": "0c397e02",
   "metadata": {},
   "outputs": [
    {
     "name": "stdout",
     "output_type": "stream",
     "text": [
      "pakistan\n"
     ]
    }
   ],
   "source": [
    "print('pakistan') #pass string data type value"
   ]
  },
  {
   "cell_type": "code",
   "execution_count": 3,
   "id": "a0bce261",
   "metadata": {},
   "outputs": [
    {
     "name": "stdout",
     "output_type": "stream",
     "text": [
      "pakistan\n"
     ]
    }
   ],
   "source": [
    "print('''pakistan''')"
   ]
  },
  {
   "cell_type": "code",
   "execution_count": 4,
   "id": "4d16d66f",
   "metadata": {},
   "outputs": [
    {
     "name": "stdout",
     "output_type": "stream",
     "text": [
      "pakistan\n"
     ]
    }
   ],
   "source": [
    "print(\"\"\"pakistan\"\"\")"
   ]
  },
  {
   "cell_type": "code",
   "execution_count": 5,
   "id": "d96d1949",
   "metadata": {},
   "outputs": [
    {
     "name": "stdout",
     "output_type": "stream",
     "text": [
      "Pakistan China 20 7.2\n"
     ]
    }
   ],
   "source": [
    "print(\"Pakistan\",\"China\",20, 7.20)"
   ]
  },
  {
   "cell_type": "code",
   "execution_count": 6,
   "id": "6af19e2d",
   "metadata": {},
   "outputs": [
    {
     "name": "stdout",
     "output_type": "stream",
     "text": [
      "200\n",
      "pakistan\n",
      "200\n",
      "We love our country\n",
      "200\n"
     ]
    }
   ],
   "source": [
    "print(200)\n",
    "print(\"pakistan\")\n",
    "print(200)\n",
    "print(\"We love our country\")\n",
    "print(200)"
   ]
  },
  {
   "cell_type": "code",
   "execution_count": 7,
   "id": "06c71a5c",
   "metadata": {},
   "outputs": [
    {
     "name": "stdout",
     "output_type": "stream",
     "text": [
      "200\n",
      "pakistan\n",
      "200\n",
      "We love our country\n",
      "200\n"
     ]
    }
   ],
   "source": [
    "print(200);print(\"pakistan\");print(200);print(\"We love our country\");print(200)"
   ]
  },
  {
   "cell_type": "code",
   "execution_count": 8,
   "id": "2fefeddc",
   "metadata": {},
   "outputs": [
    {
     "name": "stdout",
     "output_type": "stream",
     "text": [
      "500\n",
      "pakistan\n",
      "500\n",
      "We love our country\n",
      "500\n"
     ]
    }
   ],
   "source": [
    "# variable_name = variable_value\n",
    "a = 500\n",
    "print(a)\n",
    "print(\"pakistan\")\n",
    "print(a)\n",
    "print(\"We love our country\")\n",
    "print(a)"
   ]
  },
  {
   "cell_type": "code",
   "execution_count": 9,
   "id": "89ec2fd9",
   "metadata": {},
   "outputs": [
    {
     "name": "stdout",
     "output_type": "stream",
     "text": [
      "500 pakistan 500 We love our country 500\n"
     ]
    }
   ],
   "source": [
    "# variable_name = variable_value\n",
    "a = 500\n",
    "\n",
    "print(a,\"pakistan\",a,\"We love our country\",a)"
   ]
  },
  {
   "cell_type": "code",
   "execution_count": 11,
   "id": "4294d0f2",
   "metadata": {},
   "outputs": [
    {
     "name": "stdout",
     "output_type": "stream",
     "text": [
      "500,,pakistan,,500,,We love our country,,500\n"
     ]
    }
   ],
   "source": [
    "# variable_name = variable_value\n",
    "a = 500\n",
    "\n",
    "print(a,\"pakistan\",a,\"We love our country\",a, sep=',,')"
   ]
  },
  {
   "cell_type": "code",
   "execution_count": 12,
   "id": "41991eba",
   "metadata": {},
   "outputs": [
    {
     "name": "stdout",
     "output_type": "stream",
     "text": [
      "500\n",
      "pakistan\n",
      "500\n",
      "We love our country\n",
      "500\n"
     ]
    }
   ],
   "source": [
    "# variable_name = variable_value\n",
    "a = 500\n",
    "\n",
    "print(a,\"pakistan\",a,\"We love our country\",a, sep='\\n')"
   ]
  },
  {
   "cell_type": "code",
   "execution_count": 13,
   "id": "e2446dfb",
   "metadata": {},
   "outputs": [
    {
     "name": "stdout",
     "output_type": "stream",
     "text": [
      "NED Student Idientity Card\n",
      "Name: Muhammad Usama\n",
      "Father's Name Muhammad Saleem\n",
      "Weight 84\n"
     ]
    }
   ],
   "source": [
    "name = \"Muhammad Usama\"\n",
    "father_name = \"Muhammad Saleem\"\n",
    "weight = 84\n",
    "\n",
    "\n",
    "\n",
    "print(\"NED Student Idientity Card\")\n",
    "print(\"Name:\",name)\n",
    "print(\"Father's Name\", father_name)\n",
    "print(\"Weight\",weight)"
   ]
  },
  {
   "cell_type": "code",
   "execution_count": 14,
   "id": "7b970154",
   "metadata": {},
   "outputs": [
    {
     "name": "stdout",
     "output_type": "stream",
     "text": [
      "Muhammad Usama\n",
      "<class 'str'>\n",
      "2528541036912\n"
     ]
    }
   ],
   "source": [
    "name = \"Muhammad Usama\"\n",
    "print(name) # show variable value\n",
    "print(type(name)) # show variable data type class\n",
    "print(id(name)) # show memory address"
   ]
  },
  {
   "cell_type": "code",
   "execution_count": 15,
   "id": "cf2baf2f",
   "metadata": {},
   "outputs": [
    {
     "name": "stdout",
     "output_type": "stream",
     "text": [
      "56\n",
      "<class 'int'>\n",
      "2528456822864\n"
     ]
    }
   ],
   "source": [
    "weight = 56\n",
    "print(weight) # show variable value\n",
    "print(type(weight)) # show variable data type class\n",
    "print(id(weight)) # show memory address"
   ]
  },
  {
   "cell_type": "code",
   "execution_count": 16,
   "id": "56adbba6",
   "metadata": {},
   "outputs": [
    {
     "name": "stdout",
     "output_type": "stream",
     "text": [
      "58.5\n",
      "<class 'float'>\n",
      "2528540992752\n"
     ]
    }
   ],
   "source": [
    "weight = 58.5\n",
    "print(weight) # show variable value\n",
    "print(type(weight)) # show variable data type class\n",
    "print(id(weight)) # show memory address"
   ]
  },
  {
   "cell_type": "code",
   "execution_count": 17,
   "id": "0beb5e1c",
   "metadata": {},
   "outputs": [
    {
     "name": "stdout",
     "output_type": "stream",
     "text": [
      "True\n",
      "<class 'bool'>\n",
      "140717235304552\n"
     ]
    }
   ],
   "source": [
    "a = True\n",
    "print(a) # show variable value\n",
    "print(type(a)) # show variable data type class\n",
    "print(id(a)) # show memory address"
   ]
  },
  {
   "cell_type": "code",
   "execution_count": 18,
   "id": "bf40caf1",
   "metadata": {},
   "outputs": [
    {
     "name": "stdout",
     "output_type": "stream",
     "text": [
      "False\n",
      "<class 'bool'>\n",
      "140717235304584\n"
     ]
    }
   ],
   "source": [
    "a = False\n",
    "print(a) # show variable value\n",
    "print(type(a)) # show variable data type class\n",
    "print(id(a)) # show memory address"
   ]
  },
  {
   "cell_type": "code",
   "execution_count": 19,
   "id": "c99c06cc",
   "metadata": {},
   "outputs": [
    {
     "name": "stdout",
     "output_type": "stream",
     "text": [
      "[1, 2, 3]\n",
      "<class 'list'>\n",
      "2528540989184\n"
     ]
    }
   ],
   "source": [
    "a = [1,2,3]\n",
    "print(a) # show variable value\n",
    "print(type(a)) # show variable data type class\n",
    "print(id(a)) # show memory address"
   ]
  },
  {
   "cell_type": "code",
   "execution_count": 20,
   "id": "d43f3a7a",
   "metadata": {},
   "outputs": [
    {
     "name": "stdout",
     "output_type": "stream",
     "text": [
      "(1, 2, 3)\n",
      "<class 'tuple'>\n",
      "2528536299648\n"
     ]
    }
   ],
   "source": [
    "a = (1,2,3)\n",
    "print(a) # show variable value\n",
    "print(type(a)) # show variable data type class\n",
    "print(id(a)) # show memory address"
   ]
  },
  {
   "cell_type": "code",
   "execution_count": 21,
   "id": "4ad1fb3e",
   "metadata": {},
   "outputs": [
    {
     "name": "stdout",
     "output_type": "stream",
     "text": [
      "{'name': 'Usama'}\n",
      "<class 'dict'>\n",
      "2528541255360\n"
     ]
    }
   ],
   "source": [
    "a = {'name':'Usama'}\n",
    "print(a) # show variable value\n",
    "print(type(a)) # show variable data type class\n",
    "print(id(a)) # show memory address"
   ]
  },
  {
   "cell_type": "markdown",
   "id": "e70791e9",
   "metadata": {},
   "source": [
    "## String Data types with variable and text formation\n"
   ]
  },
  {
   "cell_type": "code",
   "execution_count": 22,
   "id": "7b87bf61",
   "metadata": {},
   "outputs": [
    {
     "name": "stdout",
     "output_type": "stream",
     "text": [
      "<class 'str'>\n",
      "Pakistan zinda bad\n"
     ]
    }
   ],
   "source": [
    "a = \"Pakistan zinda bad\" # single line string\n",
    "\n",
    "\n",
    "print(type(a))\n",
    "print(a)"
   ]
  },
  {
   "cell_type": "code",
   "execution_count": 23,
   "id": "d4c27c78",
   "metadata": {},
   "outputs": [
    {
     "name": "stdout",
     "output_type": "stream",
     "text": [
      "<class 'str'>\n",
      "Pakistan zinda bad\n"
     ]
    }
   ],
   "source": [
    "a = 'Pakistan zinda bad' # signle line string\n",
    "\n",
    "\n",
    "print(type(a))\n",
    "print(a)"
   ]
  },
  {
   "cell_type": "code",
   "execution_count": 24,
   "id": "1d9de81b",
   "metadata": {},
   "outputs": [
    {
     "name": "stdout",
     "output_type": "stream",
     "text": [
      "<class 'str'>\n",
      "\n",
      "hello world\n",
      "Pakistan zinda bad\n",
      "We love our country!\n",
      "\n"
     ]
    }
   ],
   "source": [
    "# multiline string\n",
    "a = \"\"\"\n",
    "hello world\n",
    "Pakistan zinda bad\n",
    "We love our country!\n",
    "\"\"\"\n",
    "\n",
    "print(type(a))\n",
    "print(a)"
   ]
  },
  {
   "cell_type": "code",
   "execution_count": 25,
   "id": "c9fe85ce",
   "metadata": {},
   "outputs": [
    {
     "name": "stdout",
     "output_type": "stream",
     "text": [
      "<class 'str'>\n",
      "Father's Name\n"
     ]
    }
   ],
   "source": [
    "a = \"Father's Name\"\n",
    "print(type(a))\n",
    "print(a)"
   ]
  },
  {
   "cell_type": "code",
   "execution_count": 26,
   "id": "19d2da2f",
   "metadata": {},
   "outputs": [
    {
     "name": "stdout",
     "output_type": "stream",
     "text": [
      "<class 'str'>\n",
      "Father\"s Name\n"
     ]
    }
   ],
   "source": [
    "a = 'Father\"s Name'\n",
    "print(type(a))\n",
    "print(a)"
   ]
  },
  {
   "cell_type": "code",
   "execution_count": 27,
   "id": "a69664e3",
   "metadata": {},
   "outputs": [
    {
     "name": "stdout",
     "output_type": "stream",
     "text": [
      "Father's Name\n",
      "Father\"s Name\n"
     ]
    }
   ],
   "source": [
    "a = 'Father\\'s Name' # convert ' special charater to normal character\n",
    "b = \"Father\\\"s Name\"\n",
    "\n",
    "print(a)\n",
    "print(b)"
   ]
  },
  {
   "cell_type": "code",
   "execution_count": 28,
   "id": "3d94c45d",
   "metadata": {},
   "outputs": [
    {
     "name": "stdout",
     "output_type": "stream",
     "text": [
      "<class 'str'>\n",
      "NED University\n",
      "Student Name:Muhammad Usama\n",
      "Father's Name:Muhammad Saleem\n"
     ]
    }
   ],
   "source": [
    "id_card = \"NED University\\nStudent Name:Muhammad Usama\\nFather's Name:Muhammad Saleem\"\n",
    "\n",
    "print(type(id_card))\n",
    "print(id_card)"
   ]
  },
  {
   "cell_type": "code",
   "execution_count": 29,
   "id": "1b5dfda8",
   "metadata": {},
   "outputs": [
    {
     "name": "stdout",
     "output_type": "stream",
     "text": [
      "<class 'str'>\n",
      "NED University\n",
      "Student Name:Muhammad Usama\n",
      "Father's Name:Muhammad Saleem\n"
     ]
    }
   ],
   "source": [
    "id_card = '''NED University\n",
    "Student Name:Muhammad Usama\n",
    "Father's Name:Muhammad Saleem'''\n",
    "\n",
    "print(type(id_card))\n",
    "print(id_card)"
   ]
  },
  {
   "cell_type": "code",
   "execution_count": 30,
   "id": "34ad4c0e",
   "metadata": {},
   "outputs": [
    {
     "name": "stdout",
     "output_type": "stream",
     "text": [
      "MuhammadUsama\n"
     ]
    }
   ],
   "source": [
    "fname = \"Muhammad\"\n",
    "lname = \"Usama\"\n",
    "\n",
    "full_name = fname + lname\n",
    "print(full_name)"
   ]
  },
  {
   "cell_type": "code",
   "execution_count": 31,
   "id": "8ba47d10",
   "metadata": {},
   "outputs": [
    {
     "name": "stdout",
     "output_type": "stream",
     "text": [
      "Muhammad Usama\n"
     ]
    }
   ],
   "source": [
    "fname = \"Muhammad\"\n",
    "lname = \"Usama\"\n",
    "\n",
    "full_name = fname +\" \"+ lname\n",
    "print(full_name)"
   ]
  },
  {
   "cell_type": "code",
   "execution_count": 2,
   "id": "538d2c63",
   "metadata": {},
   "outputs": [
    {
     "ename": "TypeError",
     "evalue": "can only concatenate str (not \"int\") to str",
     "output_type": "error",
     "traceback": [
      "\u001b[1;31m---------------------------------------------------------------------------\u001b[0m",
      "\u001b[1;31mTypeError\u001b[0m                                 Traceback (most recent call last)",
      "\u001b[1;32m~\\AppData\\Local\\Temp\\ipykernel_1072\\493191830.py\u001b[0m in \u001b[0;36m<module>\u001b[1;34m\u001b[0m\n\u001b[0;32m      2\u001b[0m \u001b[0mname\u001b[0m \u001b[1;33m=\u001b[0m \u001b[1;34m\"Muhammad Usama\"\u001b[0m\u001b[1;33m\u001b[0m\u001b[1;33m\u001b[0m\u001b[0m\n\u001b[0;32m      3\u001b[0m \u001b[1;33m\u001b[0m\u001b[0m\n\u001b[1;32m----> 4\u001b[1;33m \u001b[0mresult\u001b[0m \u001b[1;33m=\u001b[0m \u001b[1;34m\"Student Name: \"\u001b[0m\u001b[1;33m+\u001b[0m\u001b[0mname\u001b[0m\u001b[1;33m+\u001b[0m\u001b[1;34m\", \"\u001b[0m\u001b[1;33m+\u001b[0m\u001b[0mage\u001b[0m \u001b[1;31m# error because this format does not support different data types\u001b[0m\u001b[1;33m\u001b[0m\u001b[1;33m\u001b[0m\u001b[0m\n\u001b[0m\u001b[0;32m      5\u001b[0m \u001b[1;33m\u001b[0m\u001b[0m\n\u001b[0;32m      6\u001b[0m \u001b[1;33m\u001b[0m\u001b[0m\n",
      "\u001b[1;31mTypeError\u001b[0m: can only concatenate str (not \"int\") to str"
     ]
    }
   ],
   "source": [
    "age = 30\n",
    "name = \"Muhammad Usama\"\n",
    "\n",
    "result = \"Student Name: \"+name+\", \"+age # error because this format does not support different data types\n",
    "\n",
    "\n",
    "print(result)"
   ]
  },
  {
   "cell_type": "code",
   "execution_count": 33,
   "id": "7e89819a",
   "metadata": {},
   "outputs": [
    {
     "name": "stdout",
     "output_type": "stream",
     "text": [
      "Student Name: Usama, 26\n"
     ]
    }
   ],
   "source": [
    "age = 26\n",
    "name = \"Usama\"\n",
    "\n",
    "result = \"Student Name: \"+name+\", \"+str(age)\n",
    "\n",
    "\n",
    "print(result)"
   ]
  },
  {
   "cell_type": "code",
   "execution_count": 34,
   "id": "30b70274",
   "metadata": {},
   "outputs": [
    {
     "data": {
      "text/plain": [
       "'11'"
      ]
     },
     "execution_count": 34,
     "metadata": {},
     "output_type": "execute_result"
    }
   ],
   "source": [
    "\"1\" + \"1\""
   ]
  },
  {
   "cell_type": "code",
   "execution_count": 35,
   "id": "02d2991f",
   "metadata": {},
   "outputs": [
    {
     "name": "stdout",
     "output_type": "stream",
     "text": [
      "11\n",
      "<class 'str'>\n"
     ]
    }
   ],
   "source": [
    "d = \"1\" + \"1\"\n",
    "print(d)\n",
    "print(type(d))"
   ]
  },
  {
   "cell_type": "code",
   "execution_count": 36,
   "id": "13d84255",
   "metadata": {},
   "outputs": [
    {
     "name": "stdout",
     "output_type": "stream",
     "text": [
      "2\n",
      "<class 'int'>\n"
     ]
    }
   ],
   "source": [
    "e = 1+1\n",
    "print(e)\n",
    "print(type(e))"
   ]
  },
  {
   "cell_type": "code",
   "execution_count": null,
   "id": "8d7f0a68",
   "metadata": {},
   "outputs": [],
   "source": []
  }
 ],
 "metadata": {
  "kernelspec": {
   "display_name": "Python 3 (ipykernel)",
   "language": "python",
   "name": "python3"
  },
  "language_info": {
   "codemirror_mode": {
    "name": "ipython",
    "version": 3
   },
   "file_extension": ".py",
   "mimetype": "text/x-python",
   "name": "python",
   "nbconvert_exporter": "python",
   "pygments_lexer": "ipython3",
   "version": "3.9.13"
  }
 },
 "nbformat": 4,
 "nbformat_minor": 5
}
