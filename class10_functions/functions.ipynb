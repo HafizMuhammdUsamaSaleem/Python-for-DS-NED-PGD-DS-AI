{
 "cells": [
  {
   "cell_type": "markdown",
   "id": "572c8b86",
   "metadata": {},
   "source": [
    "## Functions\n",
    " A function is a set of instruction/block of code that performs a specific task\n",
    "### Parts Of Function\n",
    "* Function Declare/define \n",
    "    * function name\n",
    "    * function parameter/arguments\n",
    "* Function body\n",
    "    * set of statments\n",
    "* Function call\n",
    "    * calling a function for e.g print(\"My name\")\n",
    "### Types Of Function\n",
    "* Pre-define function\n",
    "    * Provided by language / Pre-defined in langauge\n",
    "        * len()\n",
    "        * str()\n",
    "        * print() ...\n",
    "* User-define function\n",
    "    * user create itself"
   ]
  },
  {
   "cell_type": "markdown",
   "id": "72f3f510",
   "metadata": {},
   "source": [
    "## Python Function Declaration\n",
    "The syntax to declare a function is:\n",
    "\n",
    "def function_name(parameter/arguments):\n",
    "    \n",
    "      function body\n",
    "        \n",
    "\n",
    "    return\n",
    "Here,\n",
    "\n",
    "* def - keyword used to declare a function\n",
    "* function_name - any name given to the function\n",
    "* arguments - any value passed to function\n",
    "* return (optional) - returns value from a function"
   ]
  },
  {
   "cell_type": "markdown",
   "id": "d62b653c",
   "metadata": {},
   "source": [
    "### Creating a very simple function():\n"
   ]
  },
  {
   "cell_type": "code",
   "execution_count": 4,
   "id": "78eb632f",
   "metadata": {},
   "outputs": [],
   "source": [
    "def greet():\n",
    "    print(\"Hello World!\")\n",
    "    "
   ]
  },
  {
   "cell_type": "markdown",
   "id": "cbebd9a9",
   "metadata": {},
   "source": [
    "### Calling my above created function()"
   ]
  },
  {
   "cell_type": "code",
   "execution_count": 5,
   "id": "53040928",
   "metadata": {},
   "outputs": [
    {
     "name": "stdout",
     "output_type": "stream",
     "text": [
      "Hello World!\n"
     ]
    }
   ],
   "source": [
    "greet()"
   ]
  },
  {
   "cell_type": "markdown",
   "id": "0ab18605",
   "metadata": {},
   "source": [
    "## Return and Non-Return function"
   ]
  },
  {
   "cell_type": "markdown",
   "id": "8dadbcdf",
   "metadata": {},
   "source": [
    "**Return function:** These are functions that return a value after performing some operations. The returned value can be assigned to a variable or used directly in the code. "
   ]
  },
  {
   "cell_type": "code",
   "execution_count": 1,
   "id": "73c9540e",
   "metadata": {},
   "outputs": [
    {
     "name": "stdout",
     "output_type": "stream",
     "text": [
      "5\n"
     ]
    }
   ],
   "source": [
    "def add(x, y):\n",
    "    return x + y\n",
    "\n",
    "v = add(2, 3)\n",
    "print(v)\n"
   ]
  },
  {
   "cell_type": "markdown",
   "id": "19a8edfe",
   "metadata": {},
   "source": [
    "In this example, the add function takes two arguments, adds them together and returns the result. The returned value is then assigned to the result variable."
   ]
  },
  {
   "cell_type": "markdown",
   "id": "129abd73",
   "metadata": {},
   "source": [
    "**Non-return function:** These are functions that do not return a value. They perform some operations but do not provide any output."
   ]
  },
  {
   "cell_type": "code",
   "execution_count": 3,
   "id": "69828b39",
   "metadata": {},
   "outputs": [
    {
     "name": "stdout",
     "output_type": "stream",
     "text": [
      "Hello, Usama!\n"
     ]
    }
   ],
   "source": [
    "def greet(name):\n",
    "    print(f\"Hello, {name}!\")\n",
    "\n",
    "greet(\"Usama\")  # Output: Hello, Usama!\n"
   ]
  },
  {
   "cell_type": "markdown",
   "id": "0b4df6be",
   "metadata": {},
   "source": [
    "In this example, the greet function takes a name as an argument and prints a greeting message using that name. The function does not return any value, it just prints the message to the console."
   ]
  },
  {
   "cell_type": "markdown",
   "id": "897ef441",
   "metadata": {},
   "source": [
    "## Docstring\n",
    "The first string after the function is called the Document string or Docstring in short. This is used to describe the functionality of the function. The use of docstring in functions is optional but it is considered a good practice."
   ]
  },
  {
   "cell_type": "code",
   "execution_count": 4,
   "id": "4841debd",
   "metadata": {},
   "outputs": [
    {
     "name": "stdout",
     "output_type": "stream",
     "text": [
      "Automatically created module for IPython interactive environment\n"
     ]
    }
   ],
   "source": [
    "print(__doc__)"
   ]
  },
  {
   "cell_type": "code",
   "execution_count": 5,
   "id": "2ceb6b9f",
   "metadata": {},
   "outputs": [
    {
     "name": "stdout",
     "output_type": "stream",
     "text": [
      "Return the number of items in a container.\n"
     ]
    }
   ],
   "source": [
    "print(len.__doc__)"
   ]
  },
  {
   "cell_type": "code",
   "execution_count": 7,
   "id": "fc54825a",
   "metadata": {},
   "outputs": [
    {
     "name": "stdout",
     "output_type": "stream",
     "text": [
      "Hello, Usama!\n"
     ]
    }
   ],
   "source": [
    "def greet(name):\n",
    "    \"\"\"Prints the greet\"\"\" # --> docstring\n",
    "    print(f\"Hello, {name}!\")\n",
    "\n",
    "greet(\"Usama\")"
   ]
  },
  {
   "cell_type": "code",
   "execution_count": 8,
   "id": "c4911004",
   "metadata": {},
   "outputs": [
    {
     "name": "stdout",
     "output_type": "stream",
     "text": [
      "Prints the greet\n"
     ]
    }
   ],
   "source": [
    "print(greet.__doc__)"
   ]
  },
  {
   "cell_type": "markdown",
   "id": "228023e5",
   "metadata": {},
   "source": [
    "### Parameters & Arguments\n",
    "* A parameter is the variable listed inside the parentheses in the function definition.\n",
    "* An argument is the value that is sent to the function when it is called."
   ]
  },
  {
   "cell_type": "code",
   "execution_count": 9,
   "id": "296e7b06",
   "metadata": {},
   "outputs": [],
   "source": [
    "def add(x,y): # x and y are parameters\n",
    "    \"\"\"Adds two numbers\"\"\"\n",
    "    addition = x + y\n",
    "    return addition"
   ]
  },
  {
   "cell_type": "code",
   "execution_count": 10,
   "id": "7b4b5eff",
   "metadata": {},
   "outputs": [
    {
     "data": {
      "text/plain": [
       "10"
      ]
     },
     "execution_count": 10,
     "metadata": {},
     "output_type": "execute_result"
    }
   ],
   "source": [
    "add(4,6) # 4 and 6 are arguments"
   ]
  },
  {
   "cell_type": "markdown",
   "id": "55eff2b4",
   "metadata": {},
   "source": [
    "### Types of Argument\n",
    "* Python supports various types of arguments that can be passed at the time of the function call"
   ]
  },
  {
   "cell_type": "code",
   "execution_count": 11,
   "id": "b868bd57",
   "metadata": {},
   "outputs": [],
   "source": [
    "def test(num1,num2,num3):\n",
    "    return num1 - num3, num1 + num2"
   ]
  },
  {
   "cell_type": "markdown",
   "id": "9f517e8d",
   "metadata": {},
   "source": [
    "### 1. Positional arguments\n",
    "* Positional arguments are simply an ordered list of inputs in a Python function call that correspond to the order of the parameters defined in the function header."
   ]
  },
  {
   "cell_type": "code",
   "execution_count": 12,
   "id": "79ba833c",
   "metadata": {},
   "outputs": [
    {
     "data": {
      "text/plain": [
       "(-2, 5)"
      ]
     },
     "execution_count": 12,
     "metadata": {},
     "output_type": "execute_result"
    }
   ],
   "source": [
    "test(2,3,4)"
   ]
  },
  {
   "cell_type": "markdown",
   "id": "42e88f73",
   "metadata": {},
   "source": [
    "### 2. Keyword arguments\n",
    "* To specify the argument name with values so that caller does not need to remember the order of parameters."
   ]
  },
  {
   "cell_type": "code",
   "execution_count": 13,
   "id": "bb9e6d9a",
   "metadata": {},
   "outputs": [
    {
     "data": {
      "text/plain": [
       "(4, 11)"
      ]
     },
     "execution_count": 13,
     "metadata": {},
     "output_type": "execute_result"
    }
   ],
   "source": [
    "test(num3 = 1, num1 = 5, num2 = 6)"
   ]
  },
  {
   "cell_type": "markdown",
   "id": "24eeaecd",
   "metadata": {},
   "source": [
    "### 3. Mix arguments\n",
    "* Keyword arguments followed by positional arguments"
   ]
  },
  {
   "cell_type": "code",
   "execution_count": 14,
   "id": "a2cdc509",
   "metadata": {},
   "outputs": [
    {
     "data": {
      "text/plain": [
       "(-3, 4)"
      ]
     },
     "execution_count": 14,
     "metadata": {},
     "output_type": "execute_result"
    }
   ],
   "source": [
    "test(2, num3 = 5, num2 = 2) "
   ]
  },
  {
   "cell_type": "markdown",
   "id": "3402761f",
   "metadata": {},
   "source": [
    "### 4. Default arguments\n",
    "* A default argument is a parameter that assumes a default value if a value is not provided"
   ]
  },
  {
   "cell_type": "code",
   "execution_count": 15,
   "id": "fafd0644",
   "metadata": {},
   "outputs": [],
   "source": [
    "def tax(salary, tax_rate = 0.05):\n",
    "    return salary*tax_rate"
   ]
  },
  {
   "cell_type": "code",
   "execution_count": 16,
   "id": "fc29bac3",
   "metadata": {},
   "outputs": [
    {
     "data": {
      "text/plain": [
       "1250.0"
      ]
     },
     "execution_count": 16,
     "metadata": {},
     "output_type": "execute_result"
    }
   ],
   "source": [
    "tax(25000)"
   ]
  },
  {
   "cell_type": "code",
   "execution_count": 17,
   "id": "e2503e3b",
   "metadata": {},
   "outputs": [
    {
     "data": {
      "text/plain": [
       "2500.0"
      ]
     },
     "execution_count": 17,
     "metadata": {},
     "output_type": "execute_result"
    }
   ],
   "source": [
    "tax(25000,0.1)"
   ]
  },
  {
   "cell_type": "markdown",
   "id": "a96c13ce",
   "metadata": {},
   "source": [
    "## Benefits of Using Functions\n",
    "**1. Code Reusable:**  We can use the same function multiple times in our program which makes our code reusable.\n",
    "\n",
    "**2. Code Readability:**  Functions help us break our code into chunks to make our program readable and easy to understand."
   ]
  },
  {
   "cell_type": "code",
   "execution_count": null,
   "id": "2f1c7e88",
   "metadata": {},
   "outputs": [],
   "source": []
  }
 ],
 "metadata": {
  "kernelspec": {
   "display_name": "Python 3 (ipykernel)",
   "language": "python",
   "name": "python3"
  },
  "language_info": {
   "codemirror_mode": {
    "name": "ipython",
    "version": 3
   },
   "file_extension": ".py",
   "mimetype": "text/x-python",
   "name": "python",
   "nbconvert_exporter": "python",
   "pygments_lexer": "ipython3",
   "version": "3.9.13"
  }
 },
 "nbformat": 4,
 "nbformat_minor": 5
}
