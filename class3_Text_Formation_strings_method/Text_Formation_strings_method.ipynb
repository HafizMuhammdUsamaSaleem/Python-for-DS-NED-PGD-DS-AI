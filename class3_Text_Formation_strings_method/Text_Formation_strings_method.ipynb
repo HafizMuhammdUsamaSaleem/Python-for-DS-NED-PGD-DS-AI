{
 "cells": [
  {
   "cell_type": "markdown",
   "id": "92334cd7",
   "metadata": {},
   "source": [
    "## THE ZEN OF PYTHON"
   ]
  },
  {
   "cell_type": "code",
   "execution_count": 1,
   "id": "16265f71",
   "metadata": {},
   "outputs": [
    {
     "name": "stdout",
     "output_type": "stream",
     "text": [
      "The Zen of Python, by Tim Peters\n",
      "\n",
      "Beautiful is better than ugly.\n",
      "Explicit is better than implicit.\n",
      "Simple is better than complex.\n",
      "Complex is better than complicated.\n",
      "Flat is better than nested.\n",
      "Sparse is better than dense.\n",
      "Readability counts.\n",
      "Special cases aren't special enough to break the rules.\n",
      "Although practicality beats purity.\n",
      "Errors should never pass silently.\n",
      "Unless explicitly silenced.\n",
      "In the face of ambiguity, refuse the temptation to guess.\n",
      "There should be one-- and preferably only one --obvious way to do it.\n",
      "Although that way may not be obvious at first unless you're Dutch.\n",
      "Now is better than never.\n",
      "Although never is often better than *right* now.\n",
      "If the implementation is hard to explain, it's a bad idea.\n",
      "If the implementation is easy to explain, it may be a good idea.\n",
      "Namespaces are one honking great idea -- let's do more of those!\n"
     ]
    }
   ],
   "source": [
    "import this\n",
    "\n"
   ]
  },
  {
   "cell_type": "markdown",
   "id": "3d2ad850",
   "metadata": {},
   "source": [
    "## TEXT FORMATION"
   ]
  },
  {
   "cell_type": "code",
   "execution_count": 2,
   "id": "598fe32d",
   "metadata": {},
   "outputs": [
    {
     "name": "stdout",
     "output_type": "stream",
     "text": [
      "\n",
      "NED PGD \n",
      "Batch: 04\n",
      "Student: Usama Father’s Name: Saleem\n",
      "Age: 27 Gender: Male Class Timing: 3:45 to 5:45\n"
     ]
    }
   ],
   "source": [
    "student_name = \"Usama\"\n",
    "father_name = \"Saleem\"\n",
    "batch = \"04\"\n",
    "university_name = \"NED\"\n",
    "age = 27\n",
    "gender = \"Male\"\n",
    "date_of_admission = \"28-12-2022\"\n",
    "class_timing = \"3:45 to 5:45\"\n",
    "student_card = \"\"\"\n",
    "NED PGD \n",
    "Batch: \"\"\"+str(batch)+\"\"\"\n",
    "Student: \"\"\"+str(student_name)+\"\"\" Father’s Name: \"\"\"+str(father_name)+\"\"\"\n",
    "Age: \"\"\"+str(age)+\"\"\" Gender: \"\"\"+str(gender)+\"\"\" Class Timing: \"\"\"+str(class_timing)\n",
    "\n",
    "print(student_card)\n"
   ]
  },
  {
   "cell_type": "markdown",
   "id": "c73bbe5a",
   "metadata": {},
   "source": [
    "## Formation With \".format\" Methods"
   ]
  },
  {
   "cell_type": "markdown",
   "id": "38055dff",
   "metadata": {},
   "source": [
    "### First Method\n",
    "* In this method we must follow the sequence in the order we want to get output."
   ]
  },
  {
   "cell_type": "code",
   "execution_count": 3,
   "id": "cb879cb7",
   "metadata": {},
   "outputs": [
    {
     "name": "stdout",
     "output_type": "stream",
     "text": [
      "\n",
      "Name : Usama\n",
      "Father's Name: Saleem\n",
      "Batch : 04\n",
      "University Name: NED\n",
      "Age: 27\n",
      "Gender: 28-12-2022\n",
      "Class Days: Saturday & Sunday\n",
      "\n"
     ]
    }
   ],
   "source": [
    "student_name = \"Usama\"\n",
    "father_name = \"Saleem\"\n",
    "batch = \"04\"\n",
    "university_name = \"NED\"\n",
    "age = 27\n",
    "gender = \"Male\"\n",
    "date_of_admission = \"28-12-2022\"\n",
    "class_days = \"Saturday & Sunday\"\n",
    "\n",
    "card = \"\"\"\n",
    "Name : {}\n",
    "Father's Name: {}\n",
    "Batch : {}\n",
    "University Name: {}\n",
    "Age: {}\n",
    "Gender: {}\n",
    "Class Days: {}\n",
    "\"\"\".format(student_name,father_name,batch,university_name,age,date_of_admission,class_days)\n",
    "print(card)"
   ]
  },
  {
   "cell_type": "markdown",
   "id": "3590053d",
   "metadata": {},
   "source": [
    "### Second Method\n",
    "* In this method we print by the help of indexes"
   ]
  },
  {
   "cell_type": "code",
   "execution_count": 4,
   "id": "c3c1efb5",
   "metadata": {},
   "outputs": [
    {
     "name": "stdout",
     "output_type": "stream",
     "text": [
      " \n",
      "Name: Usama\n",
      "Father's Name : Saleem\n",
      "Batch : 04\n",
      "University Name : NED\n",
      "Age : 27\n",
      "Gender : Male\n",
      "Class Days : Saturday & Sunday\n",
      "\n"
     ]
    }
   ],
   "source": [
    "student_name = \"Usama\"\n",
    "father_name = \"Saleem\"\n",
    "batch = \"04\"\n",
    "university_name = \"NED\"\n",
    "age = 27\n",
    "gender = \"Male\"\n",
    "date_of_admission = \"28-12-2022\"\n",
    "class_days = \"Saturday & Sunday\"\n",
    "\n",
    "card = \"\"\" \n",
    "Name: {0}\n",
    "Father's Name : {2}\n",
    "Batch : {4}\n",
    "University Name : {3}\n",
    "Age : {5}\n",
    "Gender : {6}\n",
    "Class Days : {1}\n",
    "\"\"\".format(student_name,class_days,father_name,university_name,batch,age,gender)\n",
    "#                 0          1           2               3       4    5    6      \n",
    "print(card)\n"
   ]
  },
  {
   "cell_type": "markdown",
   "id": "a8da7fba",
   "metadata": {},
   "source": [
    "### Third Method OR f\"name{variable_name}\" Method\n",
    "It's the most suitable method to follow and I will follow this method in string formation"
   ]
  },
  {
   "cell_type": "code",
   "execution_count": 5,
   "id": "fdbaa350",
   "metadata": {},
   "outputs": [
    {
     "name": "stdout",
     "output_type": "stream",
     "text": [
      "\n",
      "NED PGD\n",
      "Batch : 04\n",
      "Student: Usama\n",
      "Father's Name : Saleem\n",
      "Age : 27\n",
      "Gender : Male\n",
      "Class Days: Saturday & Sunday\n",
      "Admission Date: 28-12-2022\n"
     ]
    }
   ],
   "source": [
    "student_name = \"Usama\"\n",
    "father_name = \"Saleem\"\n",
    "batch = \"04\"\n",
    "university_name = \"NED\"\n",
    "age = 27\n",
    "gender = \"Male\"\n",
    "date_of_admission = \"28-12-2022\"\n",
    "class_days = \"Saturday & Sunday\"\n",
    "card = f\"\"\"\n",
    "NED PGD\n",
    "Batch : {batch}\n",
    "Student: {student_name}\n",
    "Father's Name : {father_name}\n",
    "Age : {age}\n",
    "Gender : {gender}\n",
    "Class Days: {class_days}\n",
    "Admission Date: {date_of_admission}\"\"\"\n",
    "print(card)"
   ]
  },
  {
   "cell_type": "markdown",
   "id": "9f337cb1",
   "metadata": {},
   "source": [
    "## Old Way Of Formatting"
   ]
  },
  {
   "cell_type": "code",
   "execution_count": 6,
   "id": "c6ac30d5",
   "metadata": {},
   "outputs": [
    {
     "name": "stdout",
     "output_type": "stream",
     "text": [
      "\n",
      "NED PGD \n",
      "Batch: 04\n",
      "Student: Usama Father’s Name: Saleem\n",
      "Age: 27 Gender: Male Class Timing: Saturday & Sunday\n",
      "\n"
     ]
    }
   ],
   "source": [
    "student_name = \"Usama\"\n",
    "father_name = \"Saleem\"\n",
    "batch = \"04\"\n",
    "university_name = \"NED\"\n",
    "age = 27\n",
    "gender = \"Male\"\n",
    "date_of_admission = \"28-12-2022\"\n",
    "class_days = \"Saturday & Sunday\"\n",
    "\n",
    "#data type = symbol, place holder\n",
    "# string  = %s\n",
    "# int     = %d\n",
    "card = \"\"\"\n",
    "NED PGD \n",
    "Batch: %s\n",
    "Student: %s Father’s Name: %s\n",
    "Age: %d Gender: %s Class Timing: %s\n",
    "\"\"\" % (batch,student_name,father_name,age,gender,class_days)\n",
    "\n",
    "print(card)"
   ]
  },
  {
   "cell_type": "markdown",
   "id": "b7d1b032",
   "metadata": {},
   "source": [
    "## Help Of any Python Function\n",
    "Adding to this If we need help regarding the function we are using then press shift+tab after writting that function "
   ]
  },
  {
   "cell_type": "code",
   "execution_count": 7,
   "id": "36fa5b75",
   "metadata": {},
   "outputs": [
    {
     "name": "stdout",
     "output_type": "stream",
     "text": [
      "Help on built-in function print in module builtins:\n",
      "\n",
      "print(...)\n",
      "    print(value, ..., sep=' ', end='\\n', file=sys.stdout, flush=False)\n",
      "    \n",
      "    Prints the values to a stream, or to sys.stdout by default.\n",
      "    Optional keyword arguments:\n",
      "    file:  a file-like object (stream); defaults to the current sys.stdout.\n",
      "    sep:   string inserted between values, default a space.\n",
      "    end:   string appended after the last value, default a newline.\n",
      "    flush: whether to forcibly flush the stream.\n",
      "\n"
     ]
    }
   ],
   "source": [
    "help(print)"
   ]
  },
  {
   "cell_type": "markdown",
   "id": "dbe2a4cf",
   "metadata": {},
   "source": [
    "## See All Method List Of Any Data Type"
   ]
  },
  {
   "cell_type": "code",
   "execution_count": 8,
   "id": "5be5f2e4",
   "metadata": {},
   "outputs": [
    {
     "data": {
      "text/plain": [
       "['__abs__',\n",
       " '__add__',\n",
       " '__and__',\n",
       " '__bool__',\n",
       " '__ceil__',\n",
       " '__class__',\n",
       " '__delattr__',\n",
       " '__dir__',\n",
       " '__divmod__',\n",
       " '__doc__',\n",
       " '__eq__',\n",
       " '__float__',\n",
       " '__floor__',\n",
       " '__floordiv__',\n",
       " '__format__',\n",
       " '__ge__',\n",
       " '__getattribute__',\n",
       " '__getnewargs__',\n",
       " '__gt__',\n",
       " '__hash__',\n",
       " '__index__',\n",
       " '__init__',\n",
       " '__init_subclass__',\n",
       " '__int__',\n",
       " '__invert__',\n",
       " '__le__',\n",
       " '__lshift__',\n",
       " '__lt__',\n",
       " '__mod__',\n",
       " '__mul__',\n",
       " '__ne__',\n",
       " '__neg__',\n",
       " '__new__',\n",
       " '__or__',\n",
       " '__pos__',\n",
       " '__pow__',\n",
       " '__radd__',\n",
       " '__rand__',\n",
       " '__rdivmod__',\n",
       " '__reduce__',\n",
       " '__reduce_ex__',\n",
       " '__repr__',\n",
       " '__rfloordiv__',\n",
       " '__rlshift__',\n",
       " '__rmod__',\n",
       " '__rmul__',\n",
       " '__ror__',\n",
       " '__round__',\n",
       " '__rpow__',\n",
       " '__rrshift__',\n",
       " '__rshift__',\n",
       " '__rsub__',\n",
       " '__rtruediv__',\n",
       " '__rxor__',\n",
       " '__setattr__',\n",
       " '__sizeof__',\n",
       " '__str__',\n",
       " '__sub__',\n",
       " '__subclasshook__',\n",
       " '__truediv__',\n",
       " '__trunc__',\n",
       " '__xor__',\n",
       " 'as_integer_ratio',\n",
       " 'bit_length',\n",
       " 'conjugate',\n",
       " 'denominator',\n",
       " 'from_bytes',\n",
       " 'imag',\n",
       " 'numerator',\n",
       " 'real',\n",
       " 'to_bytes']"
      ]
     },
     "execution_count": 8,
     "metadata": {},
     "output_type": "execute_result"
    }
   ],
   "source": [
    "dir(int)"
   ]
  },
  {
   "cell_type": "code",
   "execution_count": 9,
   "id": "b46b83d1",
   "metadata": {},
   "outputs": [
    {
     "data": {
      "text/plain": [
       "['__add__',\n",
       " '__class__',\n",
       " '__class_getitem__',\n",
       " '__contains__',\n",
       " '__delattr__',\n",
       " '__delitem__',\n",
       " '__dir__',\n",
       " '__doc__',\n",
       " '__eq__',\n",
       " '__format__',\n",
       " '__ge__',\n",
       " '__getattribute__',\n",
       " '__getitem__',\n",
       " '__gt__',\n",
       " '__hash__',\n",
       " '__iadd__',\n",
       " '__imul__',\n",
       " '__init__',\n",
       " '__init_subclass__',\n",
       " '__iter__',\n",
       " '__le__',\n",
       " '__len__',\n",
       " '__lt__',\n",
       " '__mul__',\n",
       " '__ne__',\n",
       " '__new__',\n",
       " '__reduce__',\n",
       " '__reduce_ex__',\n",
       " '__repr__',\n",
       " '__reversed__',\n",
       " '__rmul__',\n",
       " '__setattr__',\n",
       " '__setitem__',\n",
       " '__sizeof__',\n",
       " '__str__',\n",
       " '__subclasshook__',\n",
       " 'append',\n",
       " 'clear',\n",
       " 'copy',\n",
       " 'count',\n",
       " 'extend',\n",
       " 'index',\n",
       " 'insert',\n",
       " 'pop',\n",
       " 'remove',\n",
       " 'reverse',\n",
       " 'sort']"
      ]
     },
     "execution_count": 9,
     "metadata": {},
     "output_type": "execute_result"
    }
   ],
   "source": [
    "dir(list)"
   ]
  },
  {
   "cell_type": "code",
   "execution_count": 10,
   "id": "e1e44092",
   "metadata": {},
   "outputs": [
    {
     "data": {
      "text/plain": [
       "['__add__',\n",
       " '__class__',\n",
       " '__contains__',\n",
       " '__delattr__',\n",
       " '__dir__',\n",
       " '__doc__',\n",
       " '__eq__',\n",
       " '__format__',\n",
       " '__ge__',\n",
       " '__getattribute__',\n",
       " '__getitem__',\n",
       " '__getnewargs__',\n",
       " '__gt__',\n",
       " '__hash__',\n",
       " '__init__',\n",
       " '__init_subclass__',\n",
       " '__iter__',\n",
       " '__le__',\n",
       " '__len__',\n",
       " '__lt__',\n",
       " '__mod__',\n",
       " '__mul__',\n",
       " '__ne__',\n",
       " '__new__',\n",
       " '__reduce__',\n",
       " '__reduce_ex__',\n",
       " '__repr__',\n",
       " '__rmod__',\n",
       " '__rmul__',\n",
       " '__setattr__',\n",
       " '__sizeof__',\n",
       " '__str__',\n",
       " '__subclasshook__',\n",
       " 'capitalize',\n",
       " 'casefold',\n",
       " 'center',\n",
       " 'count',\n",
       " 'encode',\n",
       " 'endswith',\n",
       " 'expandtabs',\n",
       " 'find',\n",
       " 'format',\n",
       " 'format_map',\n",
       " 'index',\n",
       " 'isalnum',\n",
       " 'isalpha',\n",
       " 'isascii',\n",
       " 'isdecimal',\n",
       " 'isdigit',\n",
       " 'isidentifier',\n",
       " 'islower',\n",
       " 'isnumeric',\n",
       " 'isprintable',\n",
       " 'isspace',\n",
       " 'istitle',\n",
       " 'isupper',\n",
       " 'join',\n",
       " 'ljust',\n",
       " 'lower',\n",
       " 'lstrip',\n",
       " 'maketrans',\n",
       " 'partition',\n",
       " 'removeprefix',\n",
       " 'removesuffix',\n",
       " 'replace',\n",
       " 'rfind',\n",
       " 'rindex',\n",
       " 'rjust',\n",
       " 'rpartition',\n",
       " 'rsplit',\n",
       " 'rstrip',\n",
       " 'split',\n",
       " 'splitlines',\n",
       " 'startswith',\n",
       " 'strip',\n",
       " 'swapcase',\n",
       " 'title',\n",
       " 'translate',\n",
       " 'upper',\n",
       " 'zfill']"
      ]
     },
     "execution_count": 10,
     "metadata": {},
     "output_type": "execute_result"
    }
   ],
   "source": [
    "dir(str)"
   ]
  },
  {
   "cell_type": "markdown",
   "id": "360c4253",
   "metadata": {},
   "source": [
    " 'capitalize', \n",
    " 'casefold',\n",
    " 'center',\n",
    " 'count',\n",
    " 'encode',\n",
    " 'endswith',\n",
    " 'expandtabs',\n",
    " 'find',\n",
    " 'format',\n",
    " 'format_map',\n",
    " 'index',\n",
    " 'isalnum',\n",
    " 'isalpha',\n",
    " 'isascii',\n",
    " 'isdecimal',\n",
    " 'isdigit',\n",
    " 'isidentifier',\n",
    " 'islower',\n",
    " 'isnumeric',\n",
    " 'isprintable',\n",
    " 'isspace',\n",
    " 'istitle',\n",
    " 'isupper',\n",
    " 'join',\n",
    " 'ljust',\n",
    " 'lower',\n",
    " 'lstrip',\n",
    " 'maketrans',\n",
    " 'partition',\n",
    " 'removeprefix',\n",
    " 'removesuffix',\n",
    " 'replace',\n",
    " 'rfind',\n",
    " 'rindex',\n",
    " 'rjust',\n",
    " 'rpartition',\n",
    " 'rsplit',\n",
    " 'rstrip',\n",
    " 'split',\n",
    " 'splitlines',\n",
    " 'startswith',\n",
    " 'strip',\n",
    " 'swapcase',\n",
    " 'title',\n",
    " 'translate',\n",
    " 'upper',\n",
    " 'zfill']"
   ]
  },
  {
   "cell_type": "markdown",
   "id": "240975ad",
   "metadata": {},
   "source": [
    "## Let's practicing all the method of string mentioned above"
   ]
  },
  {
   "cell_type": "code",
   "execution_count": 11,
   "id": "d11b433a",
   "metadata": {},
   "outputs": [
    {
     "name": "stdout",
     "output_type": "stream",
     "text": [
      "pakistan zindabad!\n"
     ]
    }
   ],
   "source": [
    "a= \"pakistan zindabad!\"\n",
    "print (a)"
   ]
  },
  {
   "cell_type": "markdown",
   "id": "14459943",
   "metadata": {},
   "source": [
    "### 1 capitalize"
   ]
  },
  {
   "cell_type": "code",
   "execution_count": 12,
   "id": "7c53ffd0",
   "metadata": {},
   "outputs": [
    {
     "name": "stdout",
     "output_type": "stream",
     "text": [
      "Pakistan zindabad!\n"
     ]
    }
   ],
   "source": [
    "#Capitalize first letter of first word of sentence!\n",
    "print(a.capitalize())"
   ]
  },
  {
   "cell_type": "markdown",
   "id": "77234f14",
   "metadata": {},
   "source": [
    "### 2 casefold"
   ]
  },
  {
   "cell_type": "code",
   "execution_count": 13,
   "id": "5341d9e6",
   "metadata": {},
   "outputs": [
    {
     "name": "stdout",
     "output_type": "stream",
     "text": [
      "usama saleem khan\n"
     ]
    }
   ],
   "source": [
    "#every letter will print small\n",
    "b= \"Usama Saleem KHAn\"\n",
    "print(b.casefold())"
   ]
  },
  {
   "cell_type": "markdown",
   "id": "2a574279",
   "metadata": {},
   "source": [
    "### 3 centre"
   ]
  },
  {
   "cell_type": "code",
   "execution_count": 14,
   "id": "f479ff50",
   "metadata": {},
   "outputs": [
    {
     "name": "stdout",
     "output_type": "stream",
     "text": [
      "                                         Usama Saleem KHAn                                          \n"
     ]
    }
   ],
   "source": [
    "#ADD customized spaces \n",
    "print(b.center(100))"
   ]
  },
  {
   "cell_type": "markdown",
   "id": "10a9c623",
   "metadata": {},
   "source": [
    "### 4 count"
   ]
  },
  {
   "cell_type": "code",
   "execution_count": 15,
   "id": "934b1f25",
   "metadata": {},
   "outputs": [
    {
     "name": "stdout",
     "output_type": "stream",
     "text": [
      "13\n"
     ]
    }
   ],
   "source": [
    "#count number of characters in string(space is also a character)\n",
    "#it's also count substring or any specific character e.g:\n",
    "c = 'Hello World!'\n",
    "print(c.count(''))\n",
    "\n",
    "\n",
    "\n"
   ]
  },
  {
   "cell_type": "code",
   "execution_count": 16,
   "id": "c2c6eeb8",
   "metadata": {},
   "outputs": [
    {
     "name": "stdout",
     "output_type": "stream",
     "text": [
      "Number of occurrence of p: 4\n"
     ]
    }
   ],
   "source": [
    "message = 'python is popular programming language'\n",
    "\n",
    "# number of occurrence of 'p'\n",
    "print('Number of occurrence of p:', message.count('p'))\n"
   ]
  },
  {
   "cell_type": "code",
   "execution_count": 17,
   "id": "e7e8221e",
   "metadata": {},
   "outputs": [
    {
     "name": "stdout",
     "output_type": "stream",
     "text": [
      "The count is: 2\n"
     ]
    }
   ],
   "source": [
    "# sub string\n",
    "string1 = \"Python is awesome, isn't it?\"\n",
    "substring = \"is\"\n",
    "\n",
    "count = string1.count(substring)\n",
    "print(\"The count is:\", count)\n"
   ]
  },
  {
   "cell_type": "code",
   "execution_count": 18,
   "id": "bfb0b1d5",
   "metadata": {},
   "outputs": [
    {
     "name": "stdout",
     "output_type": "stream",
     "text": [
      "Number of occurance of i :  1\n"
     ]
    }
   ],
   "source": [
    "#Also count number of occurance of character/string between specified range\n",
    "string1 = \"Python is awesome, isn't it?\"\n",
    "substring = \"i\"\n",
    "# count after first 'i' and before the last 'i'\n",
    "print(\"Number of occurance of i : \" ,string1.count(substring,8,25))\n"
   ]
  },
  {
   "cell_type": "markdown",
   "id": "f57c5ba6",
   "metadata": {},
   "source": [
    "### 5 encode"
   ]
  },
  {
   "cell_type": "code",
   "execution_count": 19,
   "id": "f7afc119",
   "metadata": {},
   "outputs": [
    {
     "name": "stdout",
     "output_type": "stream",
     "text": [
      "b'pakistan zindabad!'\n",
      "b'pakistan zindabad!'\n",
      "b'p\\x00a\\x00k\\x00i\\x00s\\x00t\\x00a\\x00n\\x00 \\x00z\\x00i\\x00n\\x00d\\x00a\\x00b\\x00a\\x00d\\x00!\\x00'\n"
     ]
    }
   ],
   "source": [
    "print(a.encode())\n",
    "#returns the encoded version of strting\n",
    "print(a.encode(encoding = 'utf-8',errors = 'strict'))\n",
    "print(a.encode(encoding = 'utf-16-le'))"
   ]
  },
  {
   "cell_type": "code",
   "execution_count": 20,
   "id": "65db1161",
   "metadata": {},
   "outputs": [],
   "source": [
    "# some encoded versions are:\n",
    "# utf-8, utf-16, utf-32, utf-16-be, utf-16-le, utf-32-be, utf-32-le"
   ]
  },
  {
   "cell_type": "markdown",
   "id": "05b8d73e",
   "metadata": {},
   "source": [
    "### 6 endswith"
   ]
  },
  {
   "cell_type": "code",
   "execution_count": 21,
   "id": "58cc8460",
   "metadata": {},
   "outputs": [
    {
     "name": "stdout",
     "output_type": "stream",
     "text": [
      "True\n",
      "False\n",
      "True\n"
     ]
    }
   ],
   "source": [
    "# checks wether the strings last character or word matches the endswith statement and returns True or False \n",
    "a = 'hello welcome back'\n",
    "print(a.endswith('k'))\n",
    "print(a.endswith('e'))\n",
    "print(a.endswith('back'))"
   ]
  },
  {
   "cell_type": "markdown",
   "id": "6a39def0",
   "metadata": {},
   "source": [
    "### 7 expandtabs\n",
    "* The expandtabs() method returns a copy of string with all tab characters '\\t' replaced with whitespace characters until the next multiple of tabsize parameter."
   ]
  },
  {
   "cell_type": "code",
   "execution_count": 22,
   "id": "880962c3",
   "metadata": {},
   "outputs": [
    {
     "name": "stdout",
     "output_type": "stream",
     "text": [
      "Original String: abc     54321   abc\n",
      "Tabsize 2: abc 54321 abc\n",
      "Tabsize 3: abc   54321 abc\n",
      "Tabsize 4: abc 54321   abc\n",
      "Tabsize 5: abc  54321     abc\n",
      "Tabsize 6: abc   54321 abc\n"
     ]
    }
   ],
   "source": [
    "str = \"abc\\t54321\\tabc\"\n",
    "print('Original String:', str.expandtabs())\n",
    "# The default tabsize is 8. The tab stops are 8, 16 and so on.\n",
    "# For 'abc' , the tab stop is 8 and for '54321' the tab stop is 16\n",
    "# Hence, there is 5 spaces after 'abc' and 3 after '54321'\n",
    "\n",
    "# tabsize is set to 2\n",
    "print('Tabsize 2:', str.expandtabs(2))\n",
    "# When you set the tabsize to 2. The tab stops are 2, 4, 6, 8 and so on. For 'abc', the tab stop is 4,  \n",
    "# and for '54321' ,the tab stop is 10. \n",
    "#Hence, there is 1 space after 'abc' and 1 space after '54321'.\n",
    "\n",
    "# tabsize is set to 3\n",
    "print('Tabsize 3:', str.expandtabs(3))\n",
    "# When you set the tabsize to 3. The tab stops are 3, 6, 9, 12 and so on. For 'abc', the tab stop is 6,  \n",
    "# and for '54321' ,the tab stop is 12. \n",
    "#Hence, there is 3 space after 'abc' and 1 space after '54321\n",
    "# tabsize is set to 4\n",
    "print('Tabsize 4:', str.expandtabs(4))\n",
    "# When you set the tabsize to 4. The tab stops are 4,8,12,16 and so on. For 'abc', the tab stop is 4,  \n",
    "# and for '54321' ,the tab stop is 12. \n",
    "#Hence, there is 1 space after 'abc' and 3 space after '54321\n",
    "# tabsize is set to 5\n",
    "print('Tabsize 5:', str.expandtabs(5))\n",
    "# When you set the tabsize to 5. The tab stops are 5,10,15,20 and so on. For 'abc', the tab stop is 5,  \n",
    "# and for '54321' ,the tab stop is 15. \n",
    "#Hence, there is 2 space after 'abc' and 5 space after '54321\n",
    "# tabsize is set to 6\n",
    "print('Tabsize 6:', str.expandtabs(6))\n",
    "# When you set the tabsize to 2. The tab stops are 6,12,18 and so on. For 'abc', the tab stop is 6,  \n",
    "# and for '54321' ,the tab stop is 12. \n",
    "#Hence, there is 3 space after 'abc' and 1 space after '54321"
   ]
  },
  {
   "cell_type": "markdown",
   "id": "2b72f8a6",
   "metadata": {},
   "source": [
    "### 8 find"
   ]
  },
  {
   "cell_type": "code",
   "execution_count": 23,
   "id": "baf50d75",
   "metadata": {},
   "outputs": [
    {
     "name": "stdout",
     "output_type": "stream",
     "text": [
      "0\n",
      "1\n",
      "29\n",
      "-1\n"
     ]
    }
   ],
   "source": [
    "# return the index of character\n",
    "# if we have same character more than one then return the index of first occurance of that character\n",
    "# if we find a word then return the starting index of that word\n",
    "# if substring not found then it returns -1\n",
    "a= 'hello welcome to the jupyter notebook to start a new journey'\n",
    "print(a.find('h'))\n",
    "print(a.find('e'))\n",
    "print(a.find('notebook'))\n",
    "print(a.find(\"Hello\")) # it returns -1 as python is case sensitive does not find Hello"
   ]
  },
  {
   "cell_type": "markdown",
   "id": "6f10ab6e",
   "metadata": {},
   "source": [
    "### 9 format"
   ]
  },
  {
   "cell_type": "code",
   "execution_count": 24,
   "id": "39ceece0",
   "metadata": {},
   "outputs": [
    {
     "name": "stdout",
     "output_type": "stream",
     "text": [
      "Hello Usama , Welcome the the your new PGD course\n"
     ]
    }
   ],
   "source": [
    "# return a formatted version of string \n",
    "# The format() method allows the use of simple placeholders for formatting.\n",
    "print(\"Hello {} , Welcome the the your new {} course\".format('Usama','PGD'))"
   ]
  },
  {
   "cell_type": "markdown",
   "id": "f7d3613e",
   "metadata": {},
   "source": [
    "### 10 format_map"
   ]
  },
  {
   "cell_type": "code",
   "execution_count": 25,
   "id": "d8676794",
   "metadata": {},
   "outputs": [],
   "source": [
    "#format_map"
   ]
  },
  {
   "cell_type": "markdown",
   "id": "c05efe93",
   "metadata": {},
   "source": [
    "### 11 index"
   ]
  },
  {
   "cell_type": "code",
   "execution_count": 26,
   "id": "d6a56373",
   "metadata": {},
   "outputs": [
    {
     "name": "stdout",
     "output_type": "stream",
     "text": [
      "0\n",
      "14\n",
      "38\n"
     ]
    },
    {
     "ename": "ValueError",
     "evalue": "substring not found",
     "output_type": "error",
     "traceback": [
      "\u001b[1;31m---------------------------------------------------------------------------\u001b[0m",
      "\u001b[1;31mValueError\u001b[0m                                Traceback (most recent call last)",
      "\u001b[1;32m~\\AppData\\Local\\Temp\\ipykernel_2592\\2733586064.py\u001b[0m in \u001b[0;36m<module>\u001b[1;34m\u001b[0m\n\u001b[0;32m      8\u001b[0m \u001b[0mprint\u001b[0m\u001b[1;33m(\u001b[0m\u001b[0ma\u001b[0m\u001b[1;33m.\u001b[0m\u001b[0mindex\u001b[0m\u001b[1;33m(\u001b[0m\u001b[1;34m'to'\u001b[0m\u001b[1;33m)\u001b[0m\u001b[1;33m)\u001b[0m \u001b[1;31m# -> return the index of first 'to'\u001b[0m\u001b[1;33m\u001b[0m\u001b[1;33m\u001b[0m\u001b[0m\n\u001b[0;32m      9\u001b[0m \u001b[0mprint\u001b[0m\u001b[1;33m(\u001b[0m\u001b[0ma\u001b[0m\u001b[1;33m.\u001b[0m\u001b[0mindex\u001b[0m\u001b[1;33m(\u001b[0m\u001b[1;34m\"to\"\u001b[0m\u001b[1;33m,\u001b[0m\u001b[1;36m15\u001b[0m\u001b[1;33m,\u001b[0m\u001b[1;36m40\u001b[0m\u001b[1;33m)\u001b[0m\u001b[1;33m)\u001b[0m \u001b[1;31m# -> return the index of 'to' in specified range\u001b[0m\u001b[1;33m\u001b[0m\u001b[1;33m\u001b[0m\u001b[0m\n\u001b[1;32m---> 10\u001b[1;33m \u001b[0mprint\u001b[0m\u001b[1;33m(\u001b[0m\u001b[0ma\u001b[0m\u001b[1;33m.\u001b[0m\u001b[0mindex\u001b[0m\u001b[1;33m(\u001b[0m\u001b[1;34m'Hello'\u001b[0m\u001b[1;33m)\u001b[0m\u001b[1;33m)\u001b[0m \u001b[1;31m# -> return error\u001b[0m\u001b[1;33m\u001b[0m\u001b[1;33m\u001b[0m\u001b[0m\n\u001b[0m",
      "\u001b[1;31mValueError\u001b[0m: substring not found"
     ]
    }
   ],
   "source": [
    "# The index() method returns the index of a substring inside the string (if found).\n",
    "# If the substring is not found, it raises an exception.\n",
    "# The index() method is similar to the find() method for strings.\n",
    "# The only difference is that find() method returns -1 if the substring is not found, whereas index() throws an exception.\n",
    "# Syntax of index is : .index('substr' , start,end) --> here start and end are optional\n",
    "a= 'hello welcome to the jupyter notebook to start a new journey'\n",
    "print(a.index(\"hello\"))\n",
    "print(a.index('to')) # -> return the index of first 'to'\n",
    "print(a.index(\"to\",15,40)) # -> return the index of 'to' in specified range\n",
    "print(a.index('Hello')) # -> return error  "
   ]
  },
  {
   "cell_type": "markdown",
   "id": "93fb39e5",
   "metadata": {},
   "source": [
    "### 12 isalnum"
   ]
  },
  {
   "cell_type": "code",
   "execution_count": 27,
   "id": "f62595e5",
   "metadata": {},
   "outputs": [
    {
     "name": "stdout",
     "output_type": "stream",
     "text": [
      "True\n",
      "True\n",
      "True\n",
      "False\n"
     ]
    }
   ],
   "source": [
    "# The isalnum() method returns True if all characters in the string are alphanumeric (either alphabets or numbers).\n",
    "# If not, it returns False.\n",
    "# The isalnum() method doesn't take any parameters.\n",
    "a = \"hello123\"\n",
    "b = \"hello\"\n",
    "c = \"123\"\n",
    "d = \"hello 123\" # -> returns false as space occurs \n",
    "print(a.isalnum())\n",
    "print(b.isalnum())\n",
    "print(c.isalnum())\n",
    "print(d.isalnum())"
   ]
  },
  {
   "cell_type": "markdown",
   "id": "b3085637",
   "metadata": {},
   "source": [
    "### 13 isalpha"
   ]
  },
  {
   "cell_type": "code",
   "execution_count": 28,
   "id": "5c511ede",
   "metadata": {},
   "outputs": [
    {
     "name": "stdout",
     "output_type": "stream",
     "text": [
      "False\n",
      "True\n",
      "False\n",
      "False\n"
     ]
    }
   ],
   "source": [
    "# The isalpha() method returns True if all characters in the string are alphabets.\n",
    "# If not, it returns False.\n",
    "# The isalpha() doesn't take any parameters.\n",
    "a = \"hello123\"\n",
    "b= \"hello\" # -> returns True here only\n",
    "c = \"123\"\n",
    "d = \"hello 123\"\n",
    "print(a.isalpha())\n",
    "print(b.isalpha())\n",
    "print(c.isalpha())\n",
    "print(d.isalpha())"
   ]
  },
  {
   "cell_type": "markdown",
   "id": "9c0adbdd",
   "metadata": {},
   "source": [
    "### 14 isascii"
   ]
  },
  {
   "cell_type": "code",
   "execution_count": 29,
   "id": "2360798f",
   "metadata": {},
   "outputs": [
    {
     "name": "stdout",
     "output_type": "stream",
     "text": [
      "True\n",
      "True\n",
      "True\n",
      "True\n"
     ]
    }
   ],
   "source": [
    "# The isascii() method returns True if all the characters are ascii characters \n",
    "# ascii characters include : A-Z, a-z, 0-9 and some especiall characters too\n",
    "# The isascii() doesn't take any parameters.\n",
    "a = \"hello123\"\n",
    "b= \"hello\" \n",
    "c = \"123\"\n",
    "d = \"hello 123\"\n",
    "print(a.isascii())\n",
    "print(b.isascii())\n",
    "print(c.isascii())\n",
    "print(d.isascii())"
   ]
  },
  {
   "cell_type": "markdown",
   "id": "46d2111d",
   "metadata": {},
   "source": [
    "### 15 isdecimal"
   ]
  },
  {
   "cell_type": "code",
   "execution_count": 30,
   "id": "7ccb4c25",
   "metadata": {},
   "outputs": [
    {
     "name": "stdout",
     "output_type": "stream",
     "text": [
      "False\n",
      "False\n",
      "True\n",
      "False\n"
     ]
    }
   ],
   "source": [
    "# The isdecimal() method returns True if all characters in a string are decimal characters.\n",
    "# If not, it returns False.\n",
    "# opposite of isalpha()\n",
    "# The isdecimal() doesn't take any parameters.\n",
    "a = \"hello123\"\n",
    "b= \"hello\" \n",
    "c = \"0123\"    # -> returns True here only\n",
    "d = \"hello 123\"\n",
    "print(a.isdecimal())\n",
    "print(b.isdecimal())\n",
    "print(c.isdecimal())\n",
    "print(d.isdecimal())"
   ]
  },
  {
   "cell_type": "markdown",
   "id": "3d4beb26",
   "metadata": {},
   "source": [
    "### 16 isdigit"
   ]
  },
  {
   "cell_type": "code",
   "execution_count": 31,
   "id": "8d7b860c",
   "metadata": {},
   "outputs": [
    {
     "name": "stdout",
     "output_type": "stream",
     "text": [
      "False\n",
      "False\n",
      "True\n",
      "False\n"
     ]
    }
   ],
   "source": [
    "# The isdigit() method returns True if all characters in a string are digits. \n",
    "# If not, it returns False.\n",
    "# The isdigit() doesn't take any parameters.\n",
    "a = \"hello123\"\n",
    "b= \"hello\" \n",
    "c = \"0123\"    # -> returns True here only\n",
    "d = \"hello 123\"\n",
    "print(a.isdigit())\n",
    "print(b.isdigit())\n",
    "print(c.isdigit())\n",
    "print(d.isdigit())"
   ]
  },
  {
   "cell_type": "markdown",
   "id": "a7d86e7a",
   "metadata": {},
   "source": [
    "### 17 isidentifier"
   ]
  },
  {
   "cell_type": "code",
   "execution_count": 32,
   "id": "b60862f2",
   "metadata": {},
   "outputs": [
    {
     "name": "stdout",
     "output_type": "stream",
     "text": [
      "True\n",
      "True\n",
      "False\n",
      "True\n",
      "False\n",
      "False\n"
     ]
    }
   ],
   "source": [
    "# The isidentifier() method returns True if the string is a valid identifier in Python.\n",
    "# If not, it returns False.\n",
    "# The isidentifier() method doesn't take any parameters.\n",
    "# valild identifier in python refered as name in python(rules following for variable naming in python) which includes:\n",
    "# The uppercase and lowercase letters A through Z, \n",
    "# The underscore _ \n",
    "# except for the first character, the digits 0 through 9.\n",
    "a = \"Hello123\"\n",
    "b= \"hello123\"\n",
    "c= \"123hello\"\n",
    "d= \"Hello_123\"\n",
    "e= \"Hello 123\"\n",
    "f = \"123\"\n",
    "print(a.isidentifier())\n",
    "print(b.isidentifier())\n",
    "print(c.isidentifier())\n",
    "print(d.isidentifier())\n",
    "print(e.isidentifier())\n",
    "print(f.isidentifier())"
   ]
  },
  {
   "cell_type": "markdown",
   "id": "6c0405b4",
   "metadata": {},
   "source": [
    "### 18 islower"
   ]
  },
  {
   "cell_type": "code",
   "execution_count": 33,
   "id": "afea05cc",
   "metadata": {},
   "outputs": [
    {
     "name": "stdout",
     "output_type": "stream",
     "text": [
      "True\n",
      "False\n",
      "False\n",
      "True\n",
      "False\n"
     ]
    }
   ],
   "source": [
    "# The islower() method returns True if all alphabets in a string are lowercase alphabets.\n",
    "# If the string contains at least one uppercase alphabet, it returns False.\n",
    "# If string does not contain any alphabets then it returns False\n",
    "# The islower() method doesn't take any parameters.\n",
    "a = \"hello 123\"\n",
    "b = \"Hello 123\"\n",
    "c = \"123\"\n",
    "d = \"hello\"\n",
    "e = \"Hello\"\n",
    "print(a.islower())\n",
    "print(b.islower())\n",
    "print(c.islower())\n",
    "print(d.islower())\n",
    "print(e.islower())"
   ]
  },
  {
   "cell_type": "markdown",
   "id": "4ed1dd24",
   "metadata": {},
   "source": [
    "### 19 isnumeric"
   ]
  },
  {
   "cell_type": "code",
   "execution_count": 34,
   "id": "310cebb8",
   "metadata": {},
   "outputs": [
    {
     "name": "stdout",
     "output_type": "stream",
     "text": [
      "False\n",
      "False\n",
      "True\n",
      "False\n"
     ]
    }
   ],
   "source": [
    "# The isnumeric() method returns True if all characters in a string are digits. \n",
    "# If not, it returns False.\n",
    "# # The isnumeric() doesn't take any parameters.\n",
    "a = \"hello123\"\n",
    "b= \"hello\" \n",
    "c = \"0123\"    # -> returns True here only\n",
    "d = \"hello 123\"\n",
    "print(a.isnumeric())\n",
    "print(b.isnumeric())\n",
    "print(c.isnumeric())\n",
    "print(d.isnumeric())"
   ]
  },
  {
   "cell_type": "markdown",
   "id": "b7e67981",
   "metadata": {},
   "source": [
    "#### Difference Between isdecimal(), isdigit() and isnumeric()\n",
    "* isdecimal() method supports only Decimal Numbers.\n",
    "* isdigit() method supports Decimals, Subscripts, Superscripts.\n",
    "* isnumeric() method supports Digits, Vulgar Fractions, Subscripts, Superscripts, Roman Numerals, Currency Numerators."
   ]
  },
  {
   "cell_type": "markdown",
   "id": "c8bd77b1",
   "metadata": {},
   "source": [
    "### 20 isprintable\n",
    "\n"
   ]
  },
  {
   "cell_type": "code",
   "execution_count": 35,
   "id": "81b4df9e",
   "metadata": {},
   "outputs": [
    {
     "name": "stdout",
     "output_type": "stream",
     "text": [
      "True\n",
      "False\n"
     ]
    }
   ],
   "source": [
    "# The isprintable() method returns True if all characters in the string are printable.\n",
    "# If not, it returns False.\n",
    "# letters and symbols, digits, punctuation, whitespace are considered as printable characters\n",
    "# whereas line breaks, page breaks are non printable characters.\n",
    "# The isprintable() method doesn't take any parameters.\n",
    "a = \"Usama Saleem\"\n",
    "b = \"Usama Saleem \\n\" # -> \\n is not a printable character so it return False\n",
    "print(a.isprintable())\n",
    "print(b.isprintable())"
   ]
  },
  {
   "cell_type": "markdown",
   "id": "9c8db289",
   "metadata": {},
   "source": [
    "### 21 isspace"
   ]
  },
  {
   "cell_type": "code",
   "execution_count": 36,
   "id": "821ae2d7",
   "metadata": {},
   "outputs": [
    {
     "name": "stdout",
     "output_type": "stream",
     "text": [
      "False\n",
      "True\n",
      "True\n",
      "True\n",
      "False\n"
     ]
    }
   ],
   "source": [
    "# The isspace() method returns True if there are only whitespace characters in the string.\n",
    "# If not, it return False.\n",
    "# Characters that are used for spacing are called whitespace characters. For example: tabs, spaces, newline, etc.\n",
    "# isspace() method doesn't take any parameters.\n",
    "a = \"Usama Saleem\"\n",
    "b = \"\\n\"\n",
    "c = \"     \"\n",
    "d = \"   \\t \\n\"\n",
    "e = \"\"\n",
    "print(a.isspace())\n",
    "print(b.isspace())\n",
    "print(c.isspace())\n",
    "print(d.isspace())\n",
    "print(e.isspace())"
   ]
  },
  {
   "cell_type": "markdown",
   "id": "5f850033",
   "metadata": {},
   "source": [
    "### 22 istitle"
   ]
  },
  {
   "cell_type": "code",
   "execution_count": 37,
   "id": "d8f6fc49",
   "metadata": {},
   "outputs": [
    {
     "name": "stdout",
     "output_type": "stream",
     "text": [
      "True\n",
      "False\n",
      "True\n"
     ]
    }
   ],
   "source": [
    "# The istitle() returns True if the string is a titlecased string.\n",
    "# If not, it returns False.\n",
    "# This Is A Title Case Sentence (first letter of every word is capital )\n",
    "a = \"Usama Saleem\"\n",
    "b = \"My name is Usama\"\n",
    "c = \"This Is A Title Case Sentence\"\n",
    "print(a.istitle())\n",
    "print(b.istitle())\n",
    "print(c.istitle())"
   ]
  },
  {
   "cell_type": "markdown",
   "id": "9ed3db77",
   "metadata": {},
   "source": [
    "### 23 isupper"
   ]
  },
  {
   "cell_type": "code",
   "execution_count": 38,
   "id": "6ca74098",
   "metadata": {},
   "outputs": [
    {
     "name": "stdout",
     "output_type": "stream",
     "text": [
      "True\n",
      "False\n"
     ]
    }
   ],
   "source": [
    "# The isupper() method returns True if all letters in the string are UPPERCASE \n",
    "# If not, returns False\n",
    "# The isupper() method doesn't take any parameters.\n",
    "a = \"THIS IS UPPERCASE JUST PRESS CAPS LOCK\"\n",
    "b= \"Now caps lock is preesed again\"\n",
    "print(a.isupper())\n",
    "print(b.isupper())"
   ]
  },
  {
   "cell_type": "markdown",
   "id": "9045a905",
   "metadata": {},
   "source": [
    "\n",
    "### 24 join"
   ]
  },
  {
   "cell_type": "code",
   "execution_count": 39,
   "id": "080be500",
   "metadata": {},
   "outputs": [
    {
     "name": "stdout",
     "output_type": "stream",
     "text": [
      "1.2.3.4\n",
      "a-->b-->c\n",
      "1abc2abc3\n"
     ]
    }
   ],
   "source": [
    "# The string join() method returns a string by joining all the elements of an iterable (list, string, tuple),\n",
    "# separated by the given separator.\n",
    "# syntax of join is : seperator.join()\n",
    "l1 = ['1','2','3','4']\n",
    "t1 = ('a','b','c')\n",
    "print('.'.join(l1))\n",
    "print('-->'.join(t1))\n",
    "s1 = 'abc'\n",
    "s2 = '123'\n",
    "print(s1.join(s2))"
   ]
  },
  {
   "cell_type": "markdown",
   "id": "06fe4688",
   "metadata": {},
   "source": [
    "\n",
    "### 25 ljust"
   ]
  },
  {
   "cell_type": "code",
   "execution_count": 40,
   "id": "62f5cda4",
   "metadata": {},
   "outputs": [
    {
     "name": "stdout",
     "output_type": "stream",
     "text": [
      "Usama Saleem\n",
      "Usama Saleem   \n",
      "Usama Saleem***\n"
     ]
    }
   ],
   "source": [
    "# The string ljust() method returns a left-justified string of a given minimum width.\n",
    "# The syntax of ljust() method is: string.ljust(width[, fillchar])\n",
    "# Here, fillchar is an optional parameter.\n",
    "# the fillchar fills the remaining space with the defined character.\n",
    "a = 'Usama Saleem'\n",
    "print(a.ljust(1))\n",
    "print(a.ljust(15))\n",
    "print(a.ljust(15,'*'))"
   ]
  },
  {
   "cell_type": "markdown",
   "id": "ab370153",
   "metadata": {},
   "source": [
    "### 26 lower"
   ]
  },
  {
   "cell_type": "code",
   "execution_count": 41,
   "id": "700e0a0b",
   "metadata": {},
   "outputs": [
    {
     "name": "stdout",
     "output_type": "stream",
     "text": [
      "my name is usama saleem\n"
     ]
    }
   ],
   "source": [
    "# The lower() method converts all uppercase characters in a string into lowercase characters\n",
    "# lower() method doesn't take any parameters.\n",
    "a = 'My name is USAMA SALEEM'\n",
    "print(a.lower())"
   ]
  },
  {
   "cell_type": "markdown",
   "id": "23a20cda",
   "metadata": {},
   "source": [
    "\n",
    "### 27 lstrip"
   ]
  },
  {
   "cell_type": "code",
   "execution_count": 42,
   "id": "4108751a",
   "metadata": {},
   "outputs": [
    {
     "name": "stdout",
     "output_type": "stream",
     "text": [
      "My name is USAMA SALEEM\n",
      "y name is USAMA SALEEM\n"
     ]
    }
   ],
   "source": [
    "# The lstrip() method returns a copy of the string with leading characters removed..\n",
    "# The syntax of lstrip() is: string.lstrip([chars])\n",
    "# here chars are optional (a string specifying the set of characters to be removed).\n",
    "# If chars argument is not provided, all leading whitespaces are removed from the string.\n",
    "a = '     My name is USAMA SALEEM'\n",
    "print(a.lstrip()) # --> white spaces removed\n",
    "print(a.lstrip('  M')) # --> removed the written string"
   ]
  },
  {
   "cell_type": "markdown",
   "id": "533a3b62",
   "metadata": {},
   "source": [
    "### 28 rstrip "
   ]
  },
  {
   "cell_type": "code",
   "execution_count": 43,
   "id": "bd0dfc61",
   "metadata": {},
   "outputs": [
    {
     "name": "stdout",
     "output_type": "stream",
     "text": [
      "     My name is USAMA SALEEM\n",
      "     My name is USAMA SALEE\n"
     ]
    }
   ],
   "source": [
    "#The rstrip() method returns a copy of the string with trailing characters removed.\n",
    "# The syntax of rstrip() is: string.lstrip([chars])\n",
    "# here chars are optional (a string specifying the set of characters to be removed).\n",
    "# If chars argument is not provided, all trailing whitespaces are removed from the string.\n",
    "a = '     My name is USAMA SALEEM'\n",
    "print(a.rstrip()) # --> white spaces removed\n",
    "print(a.rstrip('  M')) # --> removed the written string"
   ]
  },
  {
   "cell_type": "markdown",
   "id": "9debc771",
   "metadata": {},
   "source": [
    "### 29 strip"
   ]
  },
  {
   "cell_type": "code",
   "execution_count": 44,
   "id": "3f191982",
   "metadata": {},
   "outputs": [
    {
     "name": "stdout",
     "output_type": "stream",
     "text": [
      "abc efg abc\n",
      "efg\n",
      "y name is USAMA SALEE\n"
     ]
    }
   ],
   "source": [
    "# The strip() method returns a copy of the string by removing both the leading and the trailing characters\n",
    "# The syntax of the strip() method is: string.strip([chars])\n",
    "# chars (optional)--> a string specifying the set of characters to be removed from the left and right part of the string.\n",
    "# If the chars argument is not provided, all leading and trailing whitespaces are removed from the string.\n",
    "a = '   abc efg abc   '\n",
    "b = 'My name is USAMA SALEEM'\n",
    "print(a.strip())\n",
    "print(a.strip(' abc'))\n",
    "print(b.strip('M'))"
   ]
  },
  {
   "cell_type": "markdown",
   "id": "182768dc",
   "metadata": {},
   "source": [
    "### 30 maketrans"
   ]
  },
  {
   "cell_type": "code",
   "execution_count": 45,
   "id": "e808f24a",
   "metadata": {},
   "outputs": [
    {
     "name": "stdout",
     "output_type": "stream",
     "text": [
      "{97: '1', 98: '2', 99: '3'}\n",
      "{97: 100, 98: 101, 99: 102}\n"
     ]
    }
   ],
   "source": [
    "# The maketrans() method is a static method that creates a one to one mapping of a character to its translation/replacement.\n",
    "# It creates a Unicode representation of each character for translation.\n",
    "# This translation mapping is then used for replacing a character to its mapped character when used in translate() method.\n",
    "# the syntax of maketrans() is : string.maketrans(x[, y[, z]]) --> y and z are optional arguments\n",
    "# here x - If only one argument is supplied, it must be a dictionary.The dictionary should contain a 1-to-1 mapping\n",
    "# here y - If two arguments are passed, it must be two strings with equal length.\n",
    "# here z - If three arguments are passed, each character in the third argument is mapped to none.\n",
    "\n",
    "\n",
    "dict = {\"a\": \"1\", \"b\": \"2\", \"c\": \"3\"} # mapping of characters a,b and c to 1, 2, and 3 respectively.\n",
    "string = \"abc\"\n",
    "print(string.maketrans(dict)) # So, 97 ('a') is mapped to '1', 98 'b' to 2 and 99 'c' to 3\n",
    "\n",
    "# Two arguments\n",
    "\n",
    "firstString = \"abc\"  \n",
    "secondString = \"def\" # length of both strings must be same.\n",
    "string = \"abc\"   #In this case, 97 ('a') is mapped to 100 ('d'), 98 ('b') to 101 ('e') and 99 ('c') to 102 ('f').\n",
    "\n",
    "print(string.maketrans(firstString, secondString)) "
   ]
  },
  {
   "cell_type": "markdown",
   "id": "2494756a",
   "metadata": {},
   "source": [
    "### 31 partition"
   ]
  },
  {
   "cell_type": "code",
   "execution_count": 46,
   "id": "8dd5564b",
   "metadata": {},
   "outputs": [
    {
     "name": "stdout",
     "output_type": "stream",
     "text": [
      "('My name ', 'is', ' Usama Saleem')\n",
      "('My na', 'm', 'e is Usama Saleem')\n",
      "('My name is Usama Saleem', '', '')\n"
     ]
    }
   ],
   "source": [
    "# The partition() method splits the string.\n",
    "# The first occurrence of the argument string and returns a tuple containing:\n",
    "#  the part the before separator, argument string and the part after the separator.\n",
    "# The syntax of partition() is: string.partition(separator)\n",
    "a = \"My name is Usama Saleem\"\n",
    "b = 'Python is a fun'\n",
    "print(a.partition('is'))\n",
    "print(a.partition('m')) # --> also works on single character\n",
    "print(a.partition('not')) #--> if seperator not find in string then whole string is printed."
   ]
  },
  {
   "cell_type": "markdown",
   "id": "e5f519d5",
   "metadata": {},
   "source": [
    "### 32 rpartition"
   ]
  },
  {
   "cell_type": "code",
   "execution_count": 47,
   "id": "37c49b7b",
   "metadata": {},
   "outputs": [
    {
     "name": "stdout",
     "output_type": "stream",
     "text": [
      "('My name ', 'is', ' Usama Saleem')\n",
      "('My name is Usama Salee', 'm', '')\n",
      "('', '', 'My name is Usama Saleem')\n"
     ]
    }
   ],
   "source": [
    "# The rpartition() method splits the string.\n",
    "# The last occurrence of the argument string and returns a tuple containing:\n",
    "# The part the before separator, argument string and the part after the separator.\n",
    "# The syntax of rpartition() is: string.partition(separator)\n",
    "a = \"My name is Usama Saleem\"\n",
    "b = 'Python is a fun'\n",
    "print(a.rpartition('is'))\n",
    "print(a.rpartition('m')) # --> also works on single character\n",
    "print(a.rpartition('not')) #--> if seperator not find in string then whole string is printed."
   ]
  },
  {
   "cell_type": "markdown",
   "id": "f00a41de",
   "metadata": {},
   "source": [
    "### Difference Between partition and rpartiotion\n",
    "* prtition()split the string on the basis of first argument where as rpartiotion on last occurence"
   ]
  },
  {
   "cell_type": "code",
   "execution_count": 48,
   "id": "63b17b60",
   "metadata": {},
   "outputs": [
    {
     "name": "stdout",
     "output_type": "stream",
     "text": [
      "('let\"s ', 'do', ' it, do it, do it, do it, do it')\n",
      "('let\"s do it, do it, do it, do it, ', 'do', ' it')\n"
     ]
    }
   ],
   "source": [
    "b = 'let\"s do it, do it, do it, do it, do it'\n",
    "print(b.partition('do'))\n",
    "print(b.rpartition('do'))"
   ]
  },
  {
   "cell_type": "markdown",
   "id": "ed65eba2",
   "metadata": {},
   "source": [
    "### 33 removeprefix"
   ]
  },
  {
   "cell_type": "code",
   "execution_count": 49,
   "id": "fcf0de8f",
   "metadata": {},
   "outputs": [
    {
     "name": "stdout",
     "output_type": "stream",
     "text": [
      "My name is Usama Saleem\n",
      " name is Usama Saleem\n",
      "y name is Usama Saleem\n"
     ]
    }
   ],
   "source": [
    "# Python String removeprefix() function removes the prefix and returns the rest of the string\n",
    "#  If the prefix string is not found, then it returns the original string\n",
    "# The Syntax is : string.removeprefix(prefix)\n",
    "# prefix --> prefix string that we are checking for.\n",
    "a = \"My name is Usama Saleem\"\n",
    "print(a.removeprefix('a'))\n",
    "print(a.removeprefix('My'))\n",
    "print(a.removeprefix('M'))"
   ]
  },
  {
   "cell_type": "markdown",
   "id": "b70d7d7f",
   "metadata": {},
   "source": [
    "### 34 removesuffix"
   ]
  },
  {
   "cell_type": "code",
   "execution_count": 50,
   "id": "bf99e6cd",
   "metadata": {},
   "outputs": [
    {
     "name": "stdout",
     "output_type": "stream",
     "text": [
      "My name is Usama Saleem\n",
      "My name is Usama \n",
      "My name is Usama Salee\n"
     ]
    }
   ],
   "source": [
    "# Python String removesuffix() function removes the suffix and returns the rest of the string\n",
    "#  If the suffix string is not found, then it returns the original string\n",
    "# The Syntax is : string.removesuffix(suffix)\n",
    "# suffix --> suffix string that we are checking for.\n",
    "a = \"My name is Usama Saleem\"\n",
    "print(a.removesuffix('a'))\n",
    "print(a.removesuffix('Saleem'))\n",
    "print(a.removesuffix('m'))"
   ]
  },
  {
   "cell_type": "markdown",
   "id": "38a39b7d",
   "metadata": {},
   "source": [
    "### 35 replace"
   ]
  },
  {
   "cell_type": "code",
   "execution_count": 51,
   "id": "85afe805",
   "metadata": {},
   "outputs": [
    {
     "name": "stdout",
     "output_type": "stream",
     "text": [
      "My name is Usama Saleem\n",
      "My name is Osama Saleem\n",
      "My name is Usama Saleem\n",
      "let\"s do not do it, do not do it, do not do it, do not do it, do not do it\n",
      "let\"s do not do it, do not do it, do it, do it, do it\n",
      "let\"s do it, do it, do it, do it, do it\n"
     ]
    }
   ],
   "source": [
    "# The replace() method replaces each matching occurrence of a substring with desired string.\n",
    "# The syntax is: str.replace(old, new [, count]) \n",
    "# Old: substring we want to replace\n",
    "# New: substring which will replace the old substring\n",
    "# Count: count (optional) - the number of times you want to replace the old substring with the new string\n",
    "a = 'My name is Usama Saleem'\n",
    "print(a)\n",
    "print(a.replace('Usama' , 'Osama'))\n",
    "print(a.replace('Osama','Usama')) #--> if not found old then print string as it is\n",
    "b = 'let\"s do it, do it, do it, do it, do it'\n",
    "print(b.replace('do','do not do')) #--> all do replace with do not\n",
    "print(b.replace('do' , 'do not do',2)) # --> replace only 2 do with do not\n",
    "print(b)"
   ]
  },
  {
   "cell_type": "markdown",
   "id": "f4957f47",
   "metadata": {},
   "source": [
    "### 36 rfind"
   ]
  },
  {
   "cell_type": "code",
   "execution_count": 52,
   "id": "9fd8ba34",
   "metadata": {},
   "outputs": [
    {
     "name": "stdout",
     "output_type": "stream",
     "text": [
      "22\n",
      "5\n",
      "-1\n"
     ]
    }
   ],
   "source": [
    "# The rfind() method returns the highest index of the substring (if found). If not found, it returns -1.\n",
    "# The syntax of rfind() is: str.rfind(sub[, start[, end]] )\n",
    "# sub --> string to be searched\n",
    "# start,end (optional) --> substring is searched within (start,end(range))\n",
    "a = 'My name is Usama Saleem'\n",
    "print(a.rfind('m'))\n",
    "print(a.rfind('m',0,7))\n",
    "print(a.rfind('o'))"
   ]
  },
  {
   "cell_type": "markdown",
   "id": "f9686580",
   "metadata": {},
   "source": [
    "### 37 rindex"
   ]
  },
  {
   "cell_type": "code",
   "execution_count": 53,
   "id": "b849c7a0",
   "metadata": {},
   "outputs": [
    {
     "name": "stdout",
     "output_type": "stream",
     "text": [
      "22\n",
      "5\n"
     ]
    },
    {
     "ename": "ValueError",
     "evalue": "substring not found",
     "output_type": "error",
     "traceback": [
      "\u001b[1;31m---------------------------------------------------------------------------\u001b[0m",
      "\u001b[1;31mValueError\u001b[0m                                Traceback (most recent call last)",
      "\u001b[1;32m~\\AppData\\Local\\Temp\\ipykernel_2592\\2923064278.py\u001b[0m in \u001b[0;36m<module>\u001b[1;34m\u001b[0m\n\u001b[0;32m      8\u001b[0m \u001b[0mprint\u001b[0m\u001b[1;33m(\u001b[0m\u001b[0ma\u001b[0m\u001b[1;33m.\u001b[0m\u001b[0mrindex\u001b[0m\u001b[1;33m(\u001b[0m\u001b[1;34m'm'\u001b[0m\u001b[1;33m)\u001b[0m\u001b[1;33m)\u001b[0m\u001b[1;33m\u001b[0m\u001b[1;33m\u001b[0m\u001b[0m\n\u001b[0;32m      9\u001b[0m \u001b[0mprint\u001b[0m\u001b[1;33m(\u001b[0m\u001b[0ma\u001b[0m\u001b[1;33m.\u001b[0m\u001b[0mrindex\u001b[0m\u001b[1;33m(\u001b[0m\u001b[1;34m'm'\u001b[0m\u001b[1;33m,\u001b[0m\u001b[1;36m0\u001b[0m\u001b[1;33m,\u001b[0m\u001b[1;36m7\u001b[0m\u001b[1;33m)\u001b[0m\u001b[1;33m)\u001b[0m\u001b[1;33m\u001b[0m\u001b[1;33m\u001b[0m\u001b[0m\n\u001b[1;32m---> 10\u001b[1;33m \u001b[0mprint\u001b[0m\u001b[1;33m(\u001b[0m\u001b[0ma\u001b[0m\u001b[1;33m.\u001b[0m\u001b[0mrindex\u001b[0m\u001b[1;33m(\u001b[0m\u001b[1;34m'o'\u001b[0m\u001b[1;33m)\u001b[0m\u001b[1;33m)\u001b[0m\u001b[1;33m\u001b[0m\u001b[1;33m\u001b[0m\u001b[0m\n\u001b[0m",
      "\u001b[1;31mValueError\u001b[0m: substring not found"
     ]
    }
   ],
   "source": [
    "# The rindex() method returns the highest index of the substring inside the string (if found).\n",
    "# If the substring is not found, it raises an exception.\n",
    "# same as rfind method \n",
    "#The syntax of rindex() is: str.rindex(sub[, start[, end]] )\n",
    "# sub --> string to be searched\n",
    "# start,end (optional) --> substring is searched within (start,end(range))\n",
    "a = 'My name is Usama Saleem'\n",
    "print(a.rindex('m'))\n",
    "print(a.rindex('m',0,7))\n",
    "print(a.rindex('o'))"
   ]
  },
  {
   "cell_type": "markdown",
   "id": "d11e421e",
   "metadata": {},
   "source": [
    "### 38 rjust"
   ]
  },
  {
   "cell_type": "code",
   "execution_count": 54,
   "id": "b551de67",
   "metadata": {},
   "outputs": [
    {
     "name": "stdout",
     "output_type": "stream",
     "text": [
      "43\n",
      "       I am a student who is currently pursuing MS\n",
      "*******I am a student who is currently pursuing MS\n"
     ]
    }
   ],
   "source": [
    "# The rjust() method right aligns the string up to a given width using a specified character.\n",
    "# The syntax of the rjust() method is: string.rjust(width,[fillchar])\n",
    "# width --> width of the given string\n",
    "# fillchar(Optional) --> character to fill the remaining space of the width if not specified filled with white spaces \n",
    "my_str = 'I am a student who is currently pursuing MS'\n",
    "print(len(my_str))\n",
    "print(my_str.rjust(50)) # --> here the length of string is 43 so 7 white spaces at left of string\n",
    "print(my_str.rjust(50,'*')) # --> 7 * at the begining of string"
   ]
  },
  {
   "cell_type": "markdown",
   "id": "b498da67",
   "metadata": {},
   "source": [
    "### 39 rsplit"
   ]
  },
  {
   "cell_type": "code",
   "execution_count": 55,
   "id": "c6fc583d",
   "metadata": {},
   "outputs": [
    {
     "name": "stdout",
     "output_type": "stream",
     "text": [
      "['My', 'name', 'is', 'Usama', 'Saleem']\n",
      "['My name is Usama Saleem']\n",
      "['My name is Usama Saleem']\n"
     ]
    }
   ],
   "source": [
    "# The rsplit() method splits string from the right at the specified separator and returns a list of strings.\n",
    "# The syntax of rsplit() is: str.rsplit([separator [, maxsplit]])\n",
    "# # separator (optional)--> Delimiter at which splits occur. If not provided, the string is splitted at whitespaces.\n",
    "# maxsplit (optional) --> Maximum number of splits. If not provided, there is no limit on the number of splits.\n",
    "print(a.rsplit()) # --> split with repect to space\n",
    "print(a.rsplit(',')) # --> split with repect to commas\n",
    "print(a.rsplit(',',2)) #--> maximum 3 split performed as (maxsplit+1 is performed) "
   ]
  },
  {
   "cell_type": "markdown",
   "id": "9dd98706",
   "metadata": {},
   "source": [
    "### 40 split"
   ]
  },
  {
   "cell_type": "code",
   "execution_count": 56,
   "id": "af0eb4e4",
   "metadata": {},
   "outputs": [
    {
     "name": "stdout",
     "output_type": "stream",
     "text": [
      "['Honda,', 'Suzuki,', 'Toyota,', 'Changan,', 'Kia']\n",
      "['Honda', ' Suzuki', ' Toyota', ' Changan', ' Kia']\n",
      "['Honda', ' Suzuki', ' Toyota, Changan, Kia']\n"
     ]
    }
   ],
   "source": [
    "# The split() method splits a string at the specified separator and returns a list of substrings.\n",
    "# The syntax of split() is: str.split(separator, maxsplit)\n",
    "# same as rsplit\n",
    "# separator (optional)--> Delimiter at which splits occur. If not provided, the string is splitted at whitespaces.\n",
    "# maxsplit (optional) --> Maximum number of splits. If not provided, there is no limit on the number of splits.\n",
    "a = 'Honda, Suzuki, Toyota, Changan, Kia'\n",
    "print(a.split()) # --> split with repect to space\n",
    "print(a.split(',')) # --> split with repect to commas\n",
    "print(a.split(',',2)) #--> maximum 3 split performed as (maxsplit+1 is performed) "
   ]
  },
  {
   "cell_type": "markdown",
   "id": "35af37a1",
   "metadata": {},
   "source": [
    "### Difference Between split and rsplit\n",
    "* The only difference between split() and rsplit() is the use of the maxsplit argument. If the maxsplit argument is set, the rsplit() function splits a string from the right side (from the final character), whereas the split() method splits from the left side (from the first character)."
   ]
  },
  {
   "cell_type": "code",
   "execution_count": 57,
   "id": "020e6cca",
   "metadata": {},
   "outputs": [
    {
     "name": "stdout",
     "output_type": "stream",
     "text": [
      "['I', 'am', 'a', 'student who is currently pursuing MS']\n",
      "['I am a student who is', 'currently', 'pursuing', 'MS']\n"
     ]
    }
   ],
   "source": [
    "my_str = 'I am a student who is currently pursuing MS'\n",
    "# split() and rsplit() with parameters\n",
    "print(my_str.split(None, 3))\n",
    "print(my_str.rsplit(None, 3))"
   ]
  },
  {
   "cell_type": "markdown",
   "id": "4958c33b",
   "metadata": {},
   "source": [
    "### 41 splitlines"
   ]
  },
  {
   "cell_type": "code",
   "execution_count": 58,
   "id": "57538fda",
   "metadata": {},
   "outputs": [
    {
     "name": "stdout",
     "output_type": "stream",
     "text": [
      "['I', 'am', 'a', 'student', 'who', 'is', 'currently', 'pursuing', 'MS']\n",
      "['I\\n', 'am\\n', 'a\\n', 'student\\n', 'who\\n', 'is\\n', 'currently\\n', 'pursuing\\n', 'MS']\n",
      "['I', 'am', 'a', 'student', 'who', 'is', 'currently', 'pursuing', 'MS']\n",
      "['I', 'am', 'a', 'student', 'who', 'is', 'currently', 'pursuing', 'MS']\n",
      "['I\\n', 'am\\n', 'a\\n', 'student\\n', 'who\\n', 'is\\n', 'currently\\n', 'pursuing\\n', 'MS']\n"
     ]
    }
   ],
   "source": [
    "# The splitlines() method splits the string at line breaks and returns a list.\n",
    "# The syntax of the splitlines() method is: string.splitlines([keepends])\n",
    "# keepends(optional)-->it determines whether line breaks are included in the resulting list or not.\n",
    "# It's value can be True or any number.\n",
    "my_str = 'I\\nam\\na\\nstudent\\nwho\\nis\\ncurrently\\npursuing\\nMS'\n",
    "print(my_str.splitlines())\n",
    "print(my_str.splitlines(True)) #--> True - returns a list including linebreaks in all items\n",
    "print(my_str.splitlines(False)) # --> False - returns a list without including linebreaks in the items\n",
    "print(my_str.splitlines(0)) # --> 0 ~ False\n",
    "print(my_str.splitlines(-5)) # --> any number other than zero(+ve or -ve)~ True"
   ]
  },
  {
   "cell_type": "markdown",
   "id": "b49ccde8",
   "metadata": {},
   "source": [
    "### 42 startswith"
   ]
  },
  {
   "cell_type": "code",
   "execution_count": 59,
   "id": "c8b331a9",
   "metadata": {},
   "outputs": [
    {
     "name": "stdout",
     "output_type": "stream",
     "text": [
      "True\n",
      "True\n",
      "False\n"
     ]
    }
   ],
   "source": [
    "# The startswith() method returns True if a string starts with the specified prefix(string). \n",
    "# If not, it returns False.\n",
    "# The syntax of startswith() is: string.startswith(prefix[, start[, end]])\n",
    "# prefix --> String or tuple of strings to be checked\n",
    "# start (optional) -- > Beginning position where prefix is to be checked within the string.\n",
    "# end (optional) --> Ending position where prefix is to be checked within the string,\n",
    "my_str = 'I am a student who is currently pursuing MS'\n",
    "print(my_str.startswith('I'))\n",
    "print(my_str.startswith('s',7,10)) # --> check the prefix of the word starting in between mentioned index\n",
    "print(my_str.startswith('a',7,10))"
   ]
  },
  {
   "cell_type": "markdown",
   "id": "a3de0ea6",
   "metadata": {},
   "source": [
    "### 43 swapcase"
   ]
  },
  {
   "cell_type": "code",
   "execution_count": 60,
   "id": "beea6417",
   "metadata": {},
   "outputs": [
    {
     "name": "stdout",
     "output_type": "stream",
     "text": [
      "i AM A STUDENT WHO IS CURRENTLY PURSUING ms\n"
     ]
    }
   ],
   "source": [
    "# The swapcase() method returns a string with each letter of each word swap their case .\n",
    "# The syntax of title() is: string.swapcase()\n",
    "# swapcase() method doesn't take any parameters.\n",
    "my_str = 'I am a student who is currently pursuing MS'\n",
    "print(my_str.swapcase())"
   ]
  },
  {
   "cell_type": "markdown",
   "id": "2955c783",
   "metadata": {},
   "source": [
    "### 44 title"
   ]
  },
  {
   "cell_type": "code",
   "execution_count": 61,
   "id": "95dca32a",
   "metadata": {},
   "outputs": [
    {
     "name": "stdout",
     "output_type": "stream",
     "text": [
      "I Am A Student Who Is Currently Pursuing Ms\n"
     ]
    }
   ],
   "source": [
    "# The title() method returns a string with first letter of each word capitalized; a title cased string.\n",
    "# The syntax of title() is: str.title()\n",
    "# title() method doesn't take any parameters.\n",
    "my_str = 'I am a student who is currently pursuing MS'\n",
    "print(my_str.title())"
   ]
  },
  {
   "cell_type": "markdown",
   "id": "45dc3bf8",
   "metadata": {},
   "source": [
    "### 45 translate"
   ]
  },
  {
   "cell_type": "code",
   "execution_count": 62,
   "id": "e7de4224",
   "metadata": {},
   "outputs": [
    {
     "name": "stdout",
     "output_type": "stream",
     "text": [
      "Original string: abcdef\n",
      "Translated string: idef\n"
     ]
    }
   ],
   "source": [
    "# translate() method takes the translation table to translate characters in the given string as per the mapping table.\n",
    "# The syntax of the translate() method is: string.translate(table)\n",
    "# table --> a translation table containing the mapping between two characters; usually created by maketrans()\n",
    "# first string\n",
    "firstString = \"abc\"\n",
    "secondString = \"ghi\"\n",
    "thirdString = \"ab\"\n",
    "\n",
    "string = \"abcdef\"\n",
    "print(\"Original string:\", string)\n",
    "\n",
    "translation = string.maketrans(firstString, secondString, thirdString)\n",
    "\n",
    "# translate string\n",
    "print(\"Translated string:\", string.translate(translation))\n",
    "# Here, the translation mapping translation contains the mapping from a, b and c to g, h and i respectively."
   ]
  },
  {
   "cell_type": "markdown",
   "id": "0eec99e8",
   "metadata": {},
   "source": [
    "### 46 upper"
   ]
  },
  {
   "cell_type": "code",
   "execution_count": 63,
   "id": "71d514e3",
   "metadata": {},
   "outputs": [
    {
     "name": "stdout",
     "output_type": "stream",
     "text": [
      "I AM A STUDENT WHO IS CURRENTLY PURSUING MS\n"
     ]
    }
   ],
   "source": [
    "# The upper() method returns a string with each word of a string in upper case.\n",
    "# The syntax of title() is: str.upper()\n",
    "# upper() method doesn't take any parameters.\n",
    "my_str = 'I am a student who is currently pursuing MS'\n",
    "print(my_str.upper())"
   ]
  },
  {
   "cell_type": "markdown",
   "id": "f102040b",
   "metadata": {},
   "source": [
    "### 47 zfill"
   ]
  },
  {
   "cell_type": "code",
   "execution_count": 64,
   "id": "9a1c54e7",
   "metadata": {},
   "outputs": [
    {
     "name": "stdout",
     "output_type": "stream",
     "text": [
      "43\n",
      "0000000I am a student who is currently pursuing MS\n"
     ]
    }
   ],
   "source": [
    "# The zfill() method returns a copy of the string with '0' characters padded to the left.\n",
    "# The syntax of zfill() in Python is: str.zfill(width)\n",
    "# zfill() takes a single character width.\n",
    "# The width specifies the length of the returned string from zfill() with 0 digits filled to the left.\n",
    "my_str = 'I am a student who is currently pursuing MS'\n",
    "print(len(my_str))\n",
    "print(my_str.zfill(50)) # --> here the length of string is 43 so 7 zero's at left of string"
   ]
  },
  {
   "cell_type": "code",
   "execution_count": null,
   "id": "9b1ed13d",
   "metadata": {},
   "outputs": [],
   "source": []
  }
 ],
 "metadata": {
  "kernelspec": {
   "display_name": "Python 3 (ipykernel)",
   "language": "python",
   "name": "python3"
  },
  "language_info": {
   "codemirror_mode": {
    "name": "ipython",
    "version": 3
   },
   "file_extension": ".py",
   "mimetype": "text/x-python",
   "name": "python",
   "nbconvert_exporter": "python",
   "pygments_lexer": "ipython3",
   "version": "3.9.13"
  }
 },
 "nbformat": 4,
 "nbformat_minor": 5
}
