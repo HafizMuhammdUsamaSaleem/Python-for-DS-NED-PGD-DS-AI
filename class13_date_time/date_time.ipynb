{
 "cells": [
  {
   "cell_type": "markdown",
   "id": "f8c0d064",
   "metadata": {},
   "source": [
    "## Importing datetime package"
   ]
  },
  {
   "cell_type": "code",
   "execution_count": 1,
   "id": "38180473",
   "metadata": {},
   "outputs": [],
   "source": [
    "import datetime as dt"
   ]
  },
  {
   "cell_type": "markdown",
   "id": "d65a074d",
   "metadata": {},
   "source": [
    "## Printing current date and time "
   ]
  },
  {
   "cell_type": "code",
   "execution_count": 2,
   "id": "a4579af7",
   "metadata": {},
   "outputs": [
    {
     "data": {
      "text/plain": [
       "datetime.datetime(2023, 3, 12, 1, 4, 47, 607803)"
      ]
     },
     "execution_count": 2,
     "metadata": {},
     "output_type": "execute_result"
    }
   ],
   "source": [
    "dt.datetime.now()"
   ]
  },
  {
   "cell_type": "markdown",
   "id": "5a3da9b3",
   "metadata": {},
   "source": [
    "## Printing individual year , month , day , hour , minute , seconds"
   ]
  },
  {
   "cell_type": "code",
   "execution_count": 3,
   "id": "931deb3f",
   "metadata": {},
   "outputs": [
    {
     "name": "stdout",
     "output_type": "stream",
     "text": [
      "2023-03-12 01:04:47.792640\n",
      "2023\n",
      "3\n",
      "12\n",
      "1\n",
      "4\n",
      "47\n"
     ]
    }
   ],
   "source": [
    "print(dt.datetime.now())\n",
    "print(dt.datetime.now().year)\n",
    "print(dt.datetime.now().month)\n",
    "print(dt.datetime.now().day)\n",
    "print(dt.datetime.now().hour)\n",
    "print(dt.datetime.now().minute)\n",
    "print(dt.datetime.now().second)"
   ]
  },
  {
   "cell_type": "code",
   "execution_count": 4,
   "id": "417b9804",
   "metadata": {},
   "outputs": [
    {
     "name": "stdout",
     "output_type": "stream",
     "text": [
      "2023-03-12 01:04:47.949618\n"
     ]
    }
   ],
   "source": [
    "now = dt.datetime.now() #--> creating a variable so i use now instead of whole command\n",
    "print(now)"
   ]
  },
  {
   "cell_type": "markdown",
   "id": "601574f4",
   "metadata": {},
   "source": [
    "## Get Current Date"
   ]
  },
  {
   "cell_type": "code",
   "execution_count": 5,
   "id": "52acaad2",
   "metadata": {},
   "outputs": [
    {
     "name": "stdout",
     "output_type": "stream",
     "text": [
      "2023-03-12\n"
     ]
    }
   ],
   "source": [
    "print(dt.date.today())"
   ]
  },
  {
   "cell_type": "markdown",
   "id": "616a2526",
   "metadata": {},
   "source": [
    "## Attributes of datetime Module"
   ]
  },
  {
   "cell_type": "code",
   "execution_count": 6,
   "id": "19049c68",
   "metadata": {},
   "outputs": [
    {
     "data": {
      "text/plain": [
       "['MAXYEAR',\n",
       " 'MINYEAR',\n",
       " '__all__',\n",
       " '__builtins__',\n",
       " '__cached__',\n",
       " '__doc__',\n",
       " '__file__',\n",
       " '__loader__',\n",
       " '__name__',\n",
       " '__package__',\n",
       " '__spec__',\n",
       " 'date',\n",
       " 'datetime',\n",
       " 'datetime_CAPI',\n",
       " 'sys',\n",
       " 'time',\n",
       " 'timedelta',\n",
       " 'timezone',\n",
       " 'tzinfo']"
      ]
     },
     "execution_count": 6,
     "metadata": {},
     "output_type": "execute_result"
    }
   ],
   "source": [
    "dir(dt)"
   ]
  },
  {
   "cell_type": "markdown",
   "id": "816d9824",
   "metadata": {},
   "source": [
    "**Among all the attributes of datetime module, the most commonly used classes in the datetime module are:**\n",
    "\n",
    "* **datetime.datetime:**  represents a single point in time, including a date and a time.\n",
    "* **datetime.date:** represents a date (year, month, and day) without a time.\n",
    "* **datetime.time:** represents a time (hour, minute, second, and microsecond) without a date.\n",
    "* **datetime.timedelta:** represents a duration, which can be used to perform arithmetic with datetime objects.\n"
   ]
  },
  {
   "cell_type": "markdown",
   "id": "52fee742",
   "metadata": {},
   "source": [
    "## 1. Date\n",
    "**The date class in Python is part of the datetime module and is used to work with dates.**\n",
    "\n",
    "**Some of the important attributes of the date class are:**\n",
    "* **year:** represents the year of the date (e.g. 2023)\n",
    "* **month:** represents the month of the date (e.g. 3 for March)\n",
    "* **day:** represents the day of the date (e.g. 8)\n",
    "\n",
    "**Note: It represents a date in the format YYYY-MM-DD.**"
   ]
  },
  {
   "cell_type": "code",
   "execution_count": 7,
   "id": "f56336d8",
   "metadata": {},
   "outputs": [
    {
     "name": "stdout",
     "output_type": "stream",
     "text": [
      "1996-01-10\n"
     ]
    }
   ],
   "source": [
    "my_bd = dt.date(1996,1,10)\n",
    "print(my_bd)"
   ]
  },
  {
   "cell_type": "code",
   "execution_count": 8,
   "id": "e6920689",
   "metadata": {},
   "outputs": [
    {
     "name": "stdout",
     "output_type": "stream",
     "text": [
      "<class 'datetime.date'>\n"
     ]
    }
   ],
   "source": [
    "print(type(my_bd))"
   ]
  },
  {
   "cell_type": "markdown",
   "id": "e41a3f1c",
   "metadata": {},
   "source": [
    "#### Getting current date "
   ]
  },
  {
   "cell_type": "code",
   "execution_count": 9,
   "id": "ad1d3917",
   "metadata": {},
   "outputs": [
    {
     "name": "stdout",
     "output_type": "stream",
     "text": [
      "2023-03-12\n"
     ]
    }
   ],
   "source": [
    "print(dt.date.today())"
   ]
  },
  {
   "cell_type": "code",
   "execution_count": 10,
   "id": "8ea91936",
   "metadata": {},
   "outputs": [
    {
     "name": "stdout",
     "output_type": "stream",
     "text": [
      "2023\n",
      "3\n",
      "12\n"
     ]
    }
   ],
   "source": [
    "print(dt.date.today().year)\n",
    "print(dt.date.today().month)\n",
    "print(dt.date.today().day)"
   ]
  },
  {
   "cell_type": "markdown",
   "id": "7a02c28b",
   "metadata": {},
   "source": [
    "## 2. Time \n",
    "**The time class in Python is part of the datetime module and is used to represent time values.**\n",
    "\n",
    "**Some of the attributes of the time class in Python are:**\n",
    "* **time.hour:** Returns the hour of the time object.\n",
    "* **time.minute:** Returns the minute of the time object.\n",
    "* **time.second:** Returns the second of the time object.\n",
    "* **time.microsecond:** Returns the microsecond of the time object.\n",
    "* **time.tzinfo:** Returns the timezone information associated with the time object.\n",
    "* **time.resolution:** Returns the smallest possible difference between non-equal time objects.\n"
   ]
  },
  {
   "cell_type": "code",
   "execution_count": 11,
   "id": "a1cc9ea0",
   "metadata": {},
   "outputs": [
    {
     "name": "stdout",
     "output_type": "stream",
     "text": [
      "Hour: 10\n",
      "Minute: 30\n",
      "Second: 45\n",
      "Microsecond: 5000\n",
      "Timezone info: None\n",
      "Resolution: 0:00:00.000001\n"
     ]
    }
   ],
   "source": [
    "# create a time object\n",
    "t = dt.time(10, 30, 45, 5000)\n",
    "\n",
    "# access the attributes of the time object\n",
    "print(\"Hour:\", t.hour)\n",
    "print(\"Minute:\", t.minute)\n",
    "print(\"Second:\", t.second)\n",
    "print(\"Microsecond:\", t.microsecond)\n",
    "print(\"Timezone info:\", t.tzinfo)\n",
    "print(\"Resolution:\", t.resolution)\n"
   ]
  },
  {
   "cell_type": "markdown",
   "id": "986fa511",
   "metadata": {},
   "source": [
    "## 3. DateTime  \n",
    "**Datetime offers a combination of the date and time classes, and allows working with both date and time values.**\n",
    "**The datetime class has the following attributes:**\n",
    "\n",
    "* **datetime.min:** The earliest possible datetime value.\n",
    "* **datetime.max:** The latest possible datetime value.\n",
    "* **datetime.year:** The year value of the datetime object.\n",
    "* **datetime.month:** The month value of the datetime object (1-12).\n",
    "* **datetime.day:** The day value of the datetime object (1-31).\n",
    "* **datetime.hour:** The hour value of the datetime object (0-23).\n",
    "* **datetime.minute:** The minute value of the datetime object (0-59).\n",
    "* **datetime.second:** The second value of the datetime object (0-59).\n",
    "* **datetime.microsecond:** The microsecond value of the datetime object (0-999999)."
   ]
  },
  {
   "cell_type": "code",
   "execution_count": 12,
   "id": "1dda068b",
   "metadata": {},
   "outputs": [
    {
     "name": "stdout",
     "output_type": "stream",
     "text": [
      "Current date and time: 2023-03-12 01:04:49.101011\n",
      "Current year: 2023\n",
      "Current month: 3\n",
      "Current day: 12\n",
      "Current hour: 1\n",
      "Current minute: 4\n",
      "Current second: 49\n",
      "Current microsecond: 101011\n"
     ]
    }
   ],
   "source": [
    "# Get the current date and time\n",
    "now = dt.datetime.now()\n",
    "\n",
    "# Print the date and time in various formats\n",
    "print(\"Current date and time:\", now)\n",
    "print(\"Current year:\", now.year)\n",
    "print(\"Current month:\", now.month)\n",
    "print(\"Current day:\", now.day)\n",
    "print(\"Current hour:\", now.hour)\n",
    "print(\"Current minute:\", now.minute)\n",
    "print(\"Current second:\", now.second)\n",
    "print(\"Current microsecond:\", now.microsecond)"
   ]
  },
  {
   "cell_type": "code",
   "execution_count": 13,
   "id": "c8d6ae04",
   "metadata": {},
   "outputs": [
    {
     "name": "stdout",
     "output_type": "stream",
     "text": [
      "0001-01-01 00:00:00\n"
     ]
    }
   ],
   "source": [
    "print(dt.datetime.min)"
   ]
  },
  {
   "cell_type": "code",
   "execution_count": 14,
   "id": "0c87d916",
   "metadata": {},
   "outputs": [
    {
     "name": "stdout",
     "output_type": "stream",
     "text": [
      "9999-12-31 23:59:59.999999\n"
     ]
    }
   ],
   "source": [
    "print(dt.datetime.max)"
   ]
  },
  {
   "cell_type": "code",
   "execution_count": 15,
   "id": "9ce99653",
   "metadata": {},
   "outputs": [
    {
     "name": "stdout",
     "output_type": "stream",
     "text": [
      "2023-03-12 15:00:00\n"
     ]
    }
   ],
   "source": [
    "first_paper = dt.datetime(2023,3, 12, 15, 0, 0)\n",
    "print(first_paper)"
   ]
  },
  {
   "cell_type": "markdown",
   "id": "4c0ced02",
   "metadata": {},
   "source": [
    "**The datetime class also provides several useful methods for working with date and time.**\n",
    "\n",
    "**`strftime()` and `strptime()` are two most important methods in the datetime class in Python that deal with formatting and parsing datetime strings.**\n",
    "* **strftime()** method is used to convert a datetime object to a string in a specific format. The strftime() method takes a format string as input and returns a string representing the date and time in the specified format.\n",
    "\n",
    "For example, the following code converts a datetime object to a string in the format YYYY-MM-DD:"
   ]
  },
  {
   "cell_type": "code",
   "execution_count": 16,
   "id": "6405e5c3",
   "metadata": {},
   "outputs": [
    {
     "name": "stdout",
     "output_type": "stream",
     "text": [
      "<class 'datetime.datetime'>\n",
      "2023-March-Sunday\n",
      "<class 'str'>\n"
     ]
    }
   ],
   "source": [
    "from datetime import datetime\n",
    "\n",
    "now = datetime.now()\n",
    "print(type(now))\n",
    "date_string = now.strftime(\"%Y-%B-%A\")\n",
    "print(date_string)\n",
    "print(type(date_string))\n"
   ]
  },
  {
   "cell_type": "markdown",
   "id": "cc09509f",
   "metadata": {},
   "source": [
    "* **strptime()** method is used to convert a string to a datetime object. The strptime() method takes two arguments: a string representing the date and time and a format string specifying the format of the date and time.\n",
    " \n",
    " For example, the following code converts a string to a datetime object:"
   ]
  },
  {
   "cell_type": "code",
   "execution_count": 17,
   "id": "2564415b",
   "metadata": {},
   "outputs": [
    {
     "name": "stdout",
     "output_type": "stream",
     "text": [
      "<class 'str'>\n",
      "2022-12-31 00:00:00\n",
      "<class 'datetime.datetime'>\n"
     ]
    }
   ],
   "source": [
    "date_string = \"2022-12-31\"\n",
    "print(type(date_string))\n",
    "date_object = datetime.strptime(date_string, \"%Y-%m-%d\")\n",
    "print(date_object)\n",
    "print(type(date_object))\n"
   ]
  },
  {
   "cell_type": "code",
   "execution_count": 18,
   "id": "9bda798b",
   "metadata": {},
   "outputs": [],
   "source": [
    "now = dt.datetime.now()"
   ]
  },
  {
   "cell_type": "code",
   "execution_count": 19,
   "id": "37d2a77e",
   "metadata": {},
   "outputs": [
    {
     "name": "stdout",
     "output_type": "stream",
     "text": [
      "2023-03-12 01:04:49.914204\n"
     ]
    }
   ],
   "source": [
    "print(now)"
   ]
  },
  {
   "cell_type": "code",
   "execution_count": 20,
   "id": "e9d093e8",
   "metadata": {},
   "outputs": [
    {
     "name": "stdout",
     "output_type": "stream",
     "text": [
      "2023/March/Sunday\n"
     ]
    }
   ],
   "source": [
    "print(dt.datetime.strftime(now, '%Y/%B/%A')) #--> write our desired format does not matter what the input format is.."
   ]
  },
  {
   "cell_type": "markdown",
   "id": "5aa4d94b",
   "metadata": {},
   "source": [
    "**Here is a list of some of the most commonly used directives in the strftime() method of the datetime class in Python:**\n",
    "\n",
    "* **%a:** Abbreviated weekday name (Sun, Mon, etc.)\n",
    "* **%A:** Full weekday name (Sunday, Monday, etc.)\n",
    "* **%b:** Abbreviated month name (Jan, Feb, etc.)\n",
    "* **%B:** Full month name (January, February, etc.)\n",
    "* **%d:** Day of the month as a zero-padded decimal (01, 02, etc.)\n",
    "* **%H:** Hour (24-hour clock) as a zero-padded decimal (00, 01, etc.)\n",
    "* **%I:** Hour (12-hour clock) as a zero-padded decimal (01, 02, etc.)\n",
    "* **%j:** Day of the year as a zero-padded decimal (001, 002, etc.)\n",
    "* **%m:** Month as a zero-padded decimal (01, 02, etc.)\n",
    "* **%M:** Minute as a zero-padded decimal (00, 01, etc.)\n",
    "* **%p:** Locale equivalent of AM/PM (AM, PM)\n",
    "* **%S:** Second as a zero-padded decimal (00, 01, etc.)\n",
    "* **%U:** Week number of the year (Sunday as the first day of the week) as a zero-padded decimal (00, 01, etc.)\n",
    "* **%w:** Weekday as a decimal (0 = Sunday, 1 = Monday, etc.)\n",
    "* **%W:** Week number of the year (Monday as the first day of the week) as a zero-padded decimal (00, 01, etc.)\n",
    "* **%x:** Date representation for the current locale (e.g. 05/06/21)\n",
    "* **%X:** Time representation for the current locale (e.g. 10:30:00)\n",
    "* **%y:** Year without century as a zero-padded decimal (00, 01, etc.)\n",
    "* **%Y:** Year with century as a decimal (e.g. 2021)\n",
    "* **%z:** UTC offset in the form +HHMM or -HHMM\n",
    "* **%Z:** Time zone name (e.g. EDT, EST, etc.)"
   ]
  },
  {
   "cell_type": "code",
   "execution_count": 21,
   "id": "6a8885ff",
   "metadata": {},
   "outputs": [
    {
     "name": "stdout",
     "output_type": "stream",
     "text": [
      "<class 'str'>\n"
     ]
    }
   ],
   "source": [
    "date = '2023-03-11'\n",
    "print(type(date))"
   ]
  },
  {
   "cell_type": "code",
   "execution_count": 22,
   "id": "b423ba94",
   "metadata": {},
   "outputs": [
    {
     "name": "stdout",
     "output_type": "stream",
     "text": [
      "2023-02-01 00:00:00\n",
      "<class 'datetime.datetime'>\n"
     ]
    }
   ],
   "source": [
    "date = dt.datetime.strptime('2023/Feb/Sun', '%Y/%b/%a')\n",
    "print(date)\n",
    "print(type(date))\n"
   ]
  },
  {
   "cell_type": "code",
   "execution_count": 23,
   "id": "bcd6f401",
   "metadata": {},
   "outputs": [
    {
     "name": "stdout",
     "output_type": "stream",
     "text": [
      "2023-03-01 00:00:00\n"
     ]
    },
    {
     "ename": "ValueError",
     "evalue": "time data '2023/03' does not match format '%Y/%B'",
     "output_type": "error",
     "traceback": [
      "\u001b[1;31m---------------------------------------------------------------------------\u001b[0m",
      "\u001b[1;31mValueError\u001b[0m                                Traceback (most recent call last)",
      "\u001b[1;32m~\\AppData\\Local\\Temp\\ipykernel_15964\\1027465768.py\u001b[0m in \u001b[0;36m<module>\u001b[1;34m\u001b[0m\n\u001b[0;32m      1\u001b[0m \u001b[0mdate\u001b[0m \u001b[1;33m=\u001b[0m \u001b[1;34m'2023/03'\u001b[0m\u001b[1;33m\u001b[0m\u001b[1;33m\u001b[0m\u001b[0m\n\u001b[0;32m      2\u001b[0m \u001b[0mprint\u001b[0m\u001b[1;33m(\u001b[0m\u001b[0mdt\u001b[0m\u001b[1;33m.\u001b[0m\u001b[0mdatetime\u001b[0m\u001b[1;33m.\u001b[0m\u001b[0mstrptime\u001b[0m\u001b[1;33m(\u001b[0m\u001b[0mdate\u001b[0m\u001b[1;33m,\u001b[0m \u001b[1;34m'%Y/%m'\u001b[0m\u001b[1;33m)\u001b[0m\u001b[1;33m)\u001b[0m\u001b[1;33m\u001b[0m\u001b[1;33m\u001b[0m\u001b[0m\n\u001b[1;32m----> 3\u001b[1;33m \u001b[0mprint\u001b[0m\u001b[1;33m(\u001b[0m\u001b[0mdt\u001b[0m\u001b[1;33m.\u001b[0m\u001b[0mdatetime\u001b[0m\u001b[1;33m.\u001b[0m\u001b[0mstrptime\u001b[0m\u001b[1;33m(\u001b[0m\u001b[0mdate\u001b[0m\u001b[1;33m,\u001b[0m \u001b[1;34m'%Y/%B'\u001b[0m\u001b[1;33m)\u001b[0m\u001b[1;33m)\u001b[0m \u001b[1;31m# --> error b/c formate must match with string we provide\u001b[0m\u001b[1;33m\u001b[0m\u001b[1;33m\u001b[0m\u001b[0m\n\u001b[0m",
      "\u001b[1;32m~\\anaconda3\\lib\\_strptime.py\u001b[0m in \u001b[0;36m_strptime_datetime\u001b[1;34m(cls, data_string, format)\u001b[0m\n\u001b[0;32m    566\u001b[0m     \"\"\"Return a class cls instance based on the input string and the\n\u001b[0;32m    567\u001b[0m     format string.\"\"\"\n\u001b[1;32m--> 568\u001b[1;33m     \u001b[0mtt\u001b[0m\u001b[1;33m,\u001b[0m \u001b[0mfraction\u001b[0m\u001b[1;33m,\u001b[0m \u001b[0mgmtoff_fraction\u001b[0m \u001b[1;33m=\u001b[0m \u001b[0m_strptime\u001b[0m\u001b[1;33m(\u001b[0m\u001b[0mdata_string\u001b[0m\u001b[1;33m,\u001b[0m \u001b[0mformat\u001b[0m\u001b[1;33m)\u001b[0m\u001b[1;33m\u001b[0m\u001b[1;33m\u001b[0m\u001b[0m\n\u001b[0m\u001b[0;32m    569\u001b[0m     \u001b[0mtzname\u001b[0m\u001b[1;33m,\u001b[0m \u001b[0mgmtoff\u001b[0m \u001b[1;33m=\u001b[0m \u001b[0mtt\u001b[0m\u001b[1;33m[\u001b[0m\u001b[1;33m-\u001b[0m\u001b[1;36m2\u001b[0m\u001b[1;33m:\u001b[0m\u001b[1;33m]\u001b[0m\u001b[1;33m\u001b[0m\u001b[1;33m\u001b[0m\u001b[0m\n\u001b[0;32m    570\u001b[0m     \u001b[0margs\u001b[0m \u001b[1;33m=\u001b[0m \u001b[0mtt\u001b[0m\u001b[1;33m[\u001b[0m\u001b[1;33m:\u001b[0m\u001b[1;36m6\u001b[0m\u001b[1;33m]\u001b[0m \u001b[1;33m+\u001b[0m \u001b[1;33m(\u001b[0m\u001b[0mfraction\u001b[0m\u001b[1;33m,\u001b[0m\u001b[1;33m)\u001b[0m\u001b[1;33m\u001b[0m\u001b[1;33m\u001b[0m\u001b[0m\n",
      "\u001b[1;32m~\\anaconda3\\lib\\_strptime.py\u001b[0m in \u001b[0;36m_strptime\u001b[1;34m(data_string, format)\u001b[0m\n\u001b[0;32m    347\u001b[0m     \u001b[0mfound\u001b[0m \u001b[1;33m=\u001b[0m \u001b[0mformat_regex\u001b[0m\u001b[1;33m.\u001b[0m\u001b[0mmatch\u001b[0m\u001b[1;33m(\u001b[0m\u001b[0mdata_string\u001b[0m\u001b[1;33m)\u001b[0m\u001b[1;33m\u001b[0m\u001b[1;33m\u001b[0m\u001b[0m\n\u001b[0;32m    348\u001b[0m     \u001b[1;32mif\u001b[0m \u001b[1;32mnot\u001b[0m \u001b[0mfound\u001b[0m\u001b[1;33m:\u001b[0m\u001b[1;33m\u001b[0m\u001b[1;33m\u001b[0m\u001b[0m\n\u001b[1;32m--> 349\u001b[1;33m         raise ValueError(\"time data %r does not match format %r\" %\n\u001b[0m\u001b[0;32m    350\u001b[0m                          (data_string, format))\n\u001b[0;32m    351\u001b[0m     \u001b[1;32mif\u001b[0m \u001b[0mlen\u001b[0m\u001b[1;33m(\u001b[0m\u001b[0mdata_string\u001b[0m\u001b[1;33m)\u001b[0m \u001b[1;33m!=\u001b[0m \u001b[0mfound\u001b[0m\u001b[1;33m.\u001b[0m\u001b[0mend\u001b[0m\u001b[1;33m(\u001b[0m\u001b[1;33m)\u001b[0m\u001b[1;33m:\u001b[0m\u001b[1;33m\u001b[0m\u001b[1;33m\u001b[0m\u001b[0m\n",
      "\u001b[1;31mValueError\u001b[0m: time data '2023/03' does not match format '%Y/%B'"
     ]
    }
   ],
   "source": [
    "date = '2023/03'\n",
    "print(dt.datetime.strptime(date, '%Y/%m'))\n",
    "print(dt.datetime.strptime(date, '%Y/%B')) # --> error b/c formate must match with string we provide"
   ]
  },
  {
   "cell_type": "markdown",
   "id": "035563dd",
   "metadata": {},
   "source": [
    "## Some additional Methods not mentioned above"
   ]
  },
  {
   "cell_type": "code",
   "execution_count": 24,
   "id": "53845387",
   "metadata": {},
   "outputs": [
    {
     "name": "stdout",
     "output_type": "stream",
     "text": [
      "9\n",
      "2\n",
      "12\n",
      "Thu Feb  9 00:00:00 2023\n"
     ]
    }
   ],
   "source": [
    "now = dt.datetime.strptime('2023-02-09', '%Y-%m-%d')\n",
    "print(now.strftime(\"%#d\")) #--> day without Zero\n",
    "print(now.strftime(\"%#m\")) #--> month without Zero\n",
    "print(now.strftime(\"%#I\")) #--> hour without Zero\n",
    "print(now.strftime(\"%c\")) #--> represent the date and time in the user's preferred format depending on the user's system"
   ]
  },
  {
   "cell_type": "markdown",
   "id": "c16eea6f",
   "metadata": {},
   "source": [
    "## 4. Timedelta\n",
    "**Timedelta represents a duration of time. It is used to perform arithmetic operations on dates and times. You can create a timedelta object by specifying the amount of time you want to add or subtract from a date or time.**"
   ]
  },
  {
   "cell_type": "code",
   "execution_count": 25,
   "id": "e97425f5",
   "metadata": {},
   "outputs": [
    {
     "name": "stdout",
     "output_type": "stream",
     "text": [
      "2023-03-19\n",
      "2023-03-11 11:04:56.997333\n",
      "2023/Mar 11:04 AM\n"
     ]
    }
   ],
   "source": [
    "import datetime\n",
    "\n",
    "# Get today's date\n",
    "today = datetime.date.today()\n",
    "\n",
    "# Add 7 days to the current date\n",
    "# timedelta(days=0, seconds=0, microseconds=0, milliseconds=0, minutes=0, hours=0, weeks=0)\n",
    "future_date = today + datetime.timedelta(days=7)\n",
    "\n",
    "# Subtract 14 hours from the current time\n",
    "current_time = datetime.datetime.now()\n",
    "past_time = current_time - datetime.timedelta(hours=14)\n",
    "\n",
    "print(future_date)\n",
    "print(past_time)\n",
    "print(dt.datetime.strftime(past_time, '%Y/%b %I:%M %p'))"
   ]
  },
  {
   "cell_type": "markdown",
   "id": "6d91bab3",
   "metadata": {},
   "source": [
    "In this example, we create a timedelta object that represents 7 days and add it to the current date using the + operator. We also create a timedelta object that represents 14 hours and subtract it from the current time using the - operator."
   ]
  },
  {
   "cell_type": "markdown",
   "id": "7571a24d",
   "metadata": {},
   "source": [
    "### Time duration in seconds\n",
    "We can get the total number of seconds in a timedelta object using the total_seconds() method."
   ]
  },
  {
   "cell_type": "code",
   "execution_count": 34,
   "id": "218686c4",
   "metadata": {},
   "outputs": [
    {
     "name": "stdout",
     "output_type": "stream",
     "text": [
      "Total seconds = 435633.233423\n"
     ]
    }
   ],
   "source": [
    "t = dt.timedelta(days = 5, hours = 1, seconds = 33, microseconds = 233423)\n",
    "print(\"Total seconds =\", t.total_seconds())"
   ]
  },
  {
   "cell_type": "markdown",
   "id": "16006a12",
   "metadata": {},
   "source": [
    "### Some more method's example in timedelta"
   ]
  },
  {
   "cell_type": "code",
   "execution_count": 37,
   "id": "bde962d3",
   "metadata": {},
   "outputs": [
    {
     "name": "stdout",
     "output_type": "stream",
     "text": [
      "Start time: 2023-03-12 01:18:36.131055\n",
      "End time: 2023-03-12 03:48:36.131055\n",
      "Total minutes: 150.0\n",
      "Seconds: 0.0\n"
     ]
    }
   ],
   "source": [
    "start_time = dt.datetime.now()\n",
    "end_time = start_time + dt.timedelta(hours=2, minutes=30)\n",
    "\n",
    "# Get the total number of seconds between start_time and end_time\n",
    "total_seconds = (end_time - start_time).total_seconds()\n",
    "total_minutes, seconds = divmod(total_seconds, 60)\n",
    "\n",
    "print(\"Start time:\", start_time)\n",
    "print(\"End time:\", end_time)\n",
    "print(\"Total minutes:\", total_minutes)\n",
    "print(\"Seconds:\", seconds)\n"
   ]
  },
  {
   "cell_type": "markdown",
   "id": "c9912e2e",
   "metadata": {},
   "source": [
    "### Here's an example of using the days, seconds, and microseconds attributes of a timedelta object:"
   ]
  },
  {
   "cell_type": "code",
   "execution_count": 39,
   "id": "b738d6ef",
   "metadata": {},
   "outputs": [
    {
     "name": "stdout",
     "output_type": "stream",
     "text": [
      "Days: 1\n",
      "Seconds: 81000\n",
      "Microseconds: 0\n"
     ]
    }
   ],
   "source": [
    "# create two datetime objects\n",
    "date1 = dt.datetime(2022, 1, 1, 12, 0, 0)\n",
    "date2 = dt.datetime(2022, 1, 3, 10, 30, 0)\n",
    "\n",
    "# calculate the time difference between the two dates\n",
    "time_diff = date2 - date1\n",
    "\n",
    "# print the number of days, seconds, and microseconds in the time difference\n",
    "print(\"Days:\", time_diff.days)\n",
    "print(\"Seconds:\", time_diff.seconds)\n",
    "print(\"Microseconds:\", time_diff.microseconds)\n"
   ]
  },
  {
   "cell_type": "code",
   "execution_count": null,
   "id": "6d8120a8",
   "metadata": {},
   "outputs": [],
   "source": []
  }
 ],
 "metadata": {
  "kernelspec": {
   "display_name": "Python 3 (ipykernel)",
   "language": "python",
   "name": "python3"
  },
  "language_info": {
   "codemirror_mode": {
    "name": "ipython",
    "version": 3
   },
   "file_extension": ".py",
   "mimetype": "text/x-python",
   "name": "python",
   "nbconvert_exporter": "python",
   "pygments_lexer": "ipython3",
   "version": "3.9.13"
  }
 },
 "nbformat": 4,
 "nbformat_minor": 5
}
