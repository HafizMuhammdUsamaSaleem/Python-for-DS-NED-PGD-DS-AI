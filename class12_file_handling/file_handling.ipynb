{
 "cells": [
  {
   "cell_type": "markdown",
   "id": "54fc627c",
   "metadata": {},
   "source": [
    "## File :\n",
    "* A file is a container in computer storage devices used for storing data.\n",
    "\n",
    "## File Handling: \n",
    "* When we want to read from or write to a file, we need to open it first. When we are done, it needs to be closed so that the resources that are tied with the file are freed.\n",
    "\n",
    "* Hence, in Python, a file operation takes place in the following order:\n",
    "\n",
    "1. Open a file : In Python, we use the open() method to open files.\n",
    "2. Read or write (perform operation)\n",
    "3. Close the file"
   ]
  },
  {
   "cell_type": "markdown",
   "id": "7e79e746",
   "metadata": {},
   "source": [
    "I have created a file by name 'abc.txt' in my device already"
   ]
  },
  {
   "cell_type": "code",
   "execution_count": 1,
   "id": "23838604",
   "metadata": {},
   "outputs": [
    {
     "data": {
      "text/plain": [
       "<_io.TextIOWrapper name='abc.txt' mode='r' encoding='cp1252'>"
      ]
     },
     "metadata": {},
     "output_type": "display_data"
    },
    {
     "data": {
      "text/plain": [
       "['Hello Usama\\n', 'Hey there??1  2  3  A  B  C1  2  3  A  B  C']"
      ]
     },
     "metadata": {},
     "output_type": "display_data"
    }
   ],
   "source": [
    "file = open(\"abc.txt\") # file open connectivity/relative path\n",
    "display(file) # apply\n",
    "display(file.readlines())# apply some function on file variable\n",
    "file.close() # connection close"
   ]
  },
  {
   "cell_type": "code",
   "execution_count": 2,
   "id": "223129a7",
   "metadata": {},
   "outputs": [
    {
     "data": {
      "text/plain": [
       "['Hello Usama\\n', 'Hey there??1  2  3  A  B  C1  2  3  A  B  C']"
      ]
     },
     "metadata": {},
     "output_type": "display_data"
    }
   ],
   "source": [
    "file = open(r'C:\\Users\\Administrator\\Desktop\\PGD\\class12_file_handling\\abc.txt')# file open connectivity/absolute path\n",
    "#display(file) # apply\n",
    "display(file.readlines())# apply some function on file variable\n",
    "file.close() # connection close"
   ]
  },
  {
   "cell_type": "code",
   "execution_count": 3,
   "id": "e1bbe332",
   "metadata": {},
   "outputs": [
    {
     "ename": "ValueError",
     "evalue": "I/O operation on closed file.",
     "output_type": "error",
     "traceback": [
      "\u001b[1;31m---------------------------------------------------------------------------\u001b[0m",
      "\u001b[1;31mValueError\u001b[0m                                Traceback (most recent call last)",
      "\u001b[1;32m~\\AppData\\Local\\Temp\\ipykernel_6036\\3771075537.py\u001b[0m in \u001b[0;36m<module>\u001b[1;34m\u001b[0m\n\u001b[1;32m----> 1\u001b[1;33m \u001b[0mfile\u001b[0m\u001b[1;33m.\u001b[0m\u001b[0mreadlines\u001b[0m\u001b[1;33m(\u001b[0m\u001b[1;33m)\u001b[0m \u001b[1;31m#--> error because connection is closed\u001b[0m\u001b[1;33m\u001b[0m\u001b[1;33m\u001b[0m\u001b[0m\n\u001b[0m",
      "\u001b[1;31mValueError\u001b[0m: I/O operation on closed file."
     ]
    }
   ],
   "source": [
    "file.readlines() #--> error because connection is closed"
   ]
  },
  {
   "cell_type": "markdown",
   "id": "3a8d0338",
   "metadata": {},
   "source": [
    "**we can use the `with open(filename.ext)`syntax to automatically close the file.**"
   ]
  },
  {
   "cell_type": "code",
   "execution_count": 4,
   "id": "e071d266",
   "metadata": {},
   "outputs": [
    {
     "data": {
      "text/plain": [
       "['Hello Usama\\n', 'Hey there??1  2  3  A  B  C1  2  3  A  B  C']"
      ]
     },
     "metadata": {},
     "output_type": "display_data"
    }
   ],
   "source": [
    "with open(\"abc.txt\") as file:\n",
    "    display(file.readlines())"
   ]
  },
  {
   "cell_type": "code",
   "execution_count": 5,
   "id": "1c8c3695",
   "metadata": {},
   "outputs": [
    {
     "ename": "ValueError",
     "evalue": "I/O operation on closed file.",
     "output_type": "error",
     "traceback": [
      "\u001b[1;31m---------------------------------------------------------------------------\u001b[0m",
      "\u001b[1;31mValueError\u001b[0m                                Traceback (most recent call last)",
      "\u001b[1;32m~\\AppData\\Local\\Temp\\ipykernel_6036\\4235291723.py\u001b[0m in \u001b[0;36m<module>\u001b[1;34m\u001b[0m\n\u001b[1;32m----> 1\u001b[1;33m \u001b[0mfile\u001b[0m\u001b[1;33m.\u001b[0m\u001b[0mreadlines\u001b[0m\u001b[1;33m(\u001b[0m\u001b[1;33m)\u001b[0m \u001b[1;31m#--> error as it connection is already closed\u001b[0m\u001b[1;33m\u001b[0m\u001b[1;33m\u001b[0m\u001b[0m\n\u001b[0m",
      "\u001b[1;31mValueError\u001b[0m: I/O operation on closed file."
     ]
    }
   ],
   "source": [
    "file.readlines() #--> error as it connection is already closed"
   ]
  },
  {
   "cell_type": "markdown",
   "id": "538c7dd3",
   "metadata": {},
   "source": [
    "Here are the different modes that can be used while opening a file in Python:\n",
    "\n",
    "* **\"r\":** read mode, used for reading the content of a file.\n",
    "* **\"w\":** write mode, used for writing new content to a file. If the file already exists, it will be truncated to zero length before writing.\n",
    "* **\"x\":** exclusive creation mode, used for creating a new file but raises an error if the file already exists.\n",
    "* **\"a\":** append mode, used for adding new content to an existing file.\n",
    "* **\"b\":** binary mode, used for reading or writing binary data such as images, audio, video, etc.\n",
    "* **\"t\":** text mode, used for reading or writing text data such as string, characters, etc.\n",
    "* **\"+\":** read and write mode, used for updating an existing file.\n",
    "**We can also use a combination of these modes, for example, \"rb\" for reading a binary file or \"w+\" for both reading and writing a file**"
   ]
  },
  {
   "cell_type": "code",
   "execution_count": 6,
   "id": "2a75a8b5",
   "metadata": {},
   "outputs": [
    {
     "data": {
      "text/plain": [
       "['Hello Usama\\n', 'Hey there??1  2  3  A  B  C1  2  3  A  B  C']"
      ]
     },
     "metadata": {},
     "output_type": "display_data"
    }
   ],
   "source": [
    "with open(\"abc.txt\",'r') as file:\n",
    "    display(file.readlines())"
   ]
  },
  {
   "cell_type": "code",
   "execution_count": 7,
   "id": "40dac793",
   "metadata": {},
   "outputs": [
    {
     "name": "stdout",
     "output_type": "stream",
     "text": [
      "A =  ['1', '2', '3']\n",
      "B =  ['A', 'B', 'C']\n",
      "C =  ['1', '2', '3', 'A', 'B', 'C']\n",
      "D =  1  2  3  A  B  C\n",
      "After edited file\n",
      "['Hello Usama\\n', 'Hey there??1  2  3  A  B  C1  2  3  A  B  C']\n"
     ]
    }
   ],
   "source": [
    "with open('abc.txt','r+') as file:\n",
    "    a = list(['1','2','3'])\n",
    "    print('A = ',a)\n",
    "    b = list(['A','B','C'])\n",
    "    print('B = ',b )\n",
    "    c = a + b\n",
    "    print('C = ',c)\n",
    "    d ='  '.join(c)\n",
    "    print('D = ',d)\n",
    "    file.seek(0) #--> set cursor position to 0 index or at the begining\n",
    "    file.write(d) # --> write value of d in the file\n",
    "    print(\"After edited file\")\n",
    "    print(file.readlines())"
   ]
  },
  {
   "cell_type": "code",
   "execution_count": 8,
   "id": "3d68496c",
   "metadata": {},
   "outputs": [
    {
     "data": {
      "text/plain": [
       "'1  2  3  A  B  C'"
      ]
     },
     "execution_count": 8,
     "metadata": {},
     "output_type": "execute_result"
    }
   ],
   "source": [
    "d"
   ]
  },
  {
   "cell_type": "code",
   "execution_count": 28,
   "id": "5c7c25ca",
   "metadata": {
    "scrolled": true
   },
   "outputs": [
    {
     "name": "stdout",
     "output_type": "stream",
     "text": [
      "<class 'str'>\n",
      "[1,2,3]\n",
      "[A,B,C]\n",
      "[4,5,6]\n",
      "[D,E,F]\n"
     ]
    }
   ],
   "source": [
    "with open('abc1.txt','r') as file1:\n",
    "    a = file1.read() # --> read all lines one by one and return in string.\n",
    "    print(type(a))\n",
    "    print(a)"
   ]
  },
  {
   "cell_type": "code",
   "execution_count": 29,
   "id": "dc96f657",
   "metadata": {},
   "outputs": [
    {
     "name": "stdout",
     "output_type": "stream",
     "text": [
      "<class 'str'>\n",
      "[1,2,3]\n",
      "\n"
     ]
    }
   ],
   "source": [
    "with open('abc1.txt','r') as file1:\n",
    "    a = file1.readline() # --> read only one line or first line and return in string.\n",
    "    print(type(a))\n",
    "    print(a)"
   ]
  },
  {
   "cell_type": "code",
   "execution_count": 30,
   "id": "e23d49a9",
   "metadata": {},
   "outputs": [
    {
     "name": "stdout",
     "output_type": "stream",
     "text": [
      "<class 'list'>\n",
      "['[1,2,3]\\n', '[A,B,C]\\n', '[4,5,6]\\n', '[D,E,F]']\n"
     ]
    }
   ],
   "source": [
    "with open('abc1.txt','r') as file1:\n",
    "    a = file1.readlines() # --> read all line and single line as an elemant of list.\n",
    "    print(type(a))\n",
    "    print(a)"
   ]
  },
  {
   "cell_type": "code",
   "execution_count": 31,
   "id": "d0aea564",
   "metadata": {},
   "outputs": [
    {
     "name": "stdout",
     "output_type": "stream",
     "text": [
      "['[1,2,3]\\n', '[A,B,C]\\n']\n"
     ]
    }
   ],
   "source": [
    "with open('abc1.txt','r') as file1:\n",
    "    a = file1.readlines()[:2] # --> we can also do slicing on all the read methods\n",
    "    print(a)"
   ]
  },
  {
   "cell_type": "code",
   "execution_count": 32,
   "id": "4c8f9e45",
   "metadata": {},
   "outputs": [
    {
     "name": "stdout",
     "output_type": "stream",
     "text": [
      ",2,3]\n",
      "\n"
     ]
    }
   ],
   "source": [
    "with open('abc1.txt','r') as file1:\n",
    "    a = file1.readline()[2:] # --> we can also do slicing on all the read methods\n",
    "    print(a)"
   ]
  },
  {
   "cell_type": "code",
   "execution_count": 33,
   "id": "1f27c749",
   "metadata": {},
   "outputs": [
    {
     "name": "stdout",
     "output_type": "stream",
     "text": [
      "[A,B,C]\n",
      "[4,5,6]\n",
      "[D,E,F]\n"
     ]
    }
   ],
   "source": [
    "with open('abc1.txt','r') as file1:\n",
    "    a = file1.read()[8:] # --> we can also do slicing on all the read methods\n",
    "    print(a)"
   ]
  },
  {
   "cell_type": "code",
   "execution_count": 34,
   "id": "7159f096",
   "metadata": {},
   "outputs": [
    {
     "ename": "UnsupportedOperation",
     "evalue": "not writable",
     "output_type": "error",
     "traceback": [
      "\u001b[1;31m---------------------------------------------------------------------------\u001b[0m",
      "\u001b[1;31mUnsupportedOperation\u001b[0m                      Traceback (most recent call last)",
      "\u001b[1;32m~\\AppData\\Local\\Temp\\ipykernel_6036\\2914212073.py\u001b[0m in \u001b[0;36m<module>\u001b[1;34m\u001b[0m\n\u001b[0;32m      1\u001b[0m \u001b[1;32mwith\u001b[0m \u001b[0mopen\u001b[0m\u001b[1;33m(\u001b[0m\u001b[1;34m\"abc1.txt\"\u001b[0m\u001b[1;33m)\u001b[0m \u001b[1;32mas\u001b[0m \u001b[0mfile\u001b[0m\u001b[1;33m:\u001b[0m\u001b[1;33m\u001b[0m\u001b[1;33m\u001b[0m\u001b[0m\n\u001b[0;32m      2\u001b[0m     \u001b[0mcontent\u001b[0m \u001b[1;33m=\u001b[0m \u001b[0mfile\u001b[0m\u001b[1;33m.\u001b[0m\u001b[0mreadlines\u001b[0m\u001b[1;33m(\u001b[0m\u001b[1;33m)\u001b[0m\u001b[1;33m[\u001b[0m\u001b[1;33m:\u001b[0m\u001b[1;36m2\u001b[0m\u001b[1;33m]\u001b[0m\u001b[1;33m\u001b[0m\u001b[1;33m\u001b[0m\u001b[0m\n\u001b[1;32m----> 3\u001b[1;33m     \u001b[0mfile\u001b[0m\u001b[1;33m.\u001b[0m\u001b[0mwrite\u001b[0m\u001b[1;33m(\u001b[0m\u001b[1;34m\"[4,5,6]\"\u001b[0m\u001b[1;33m)\u001b[0m\u001b[1;31m#--> error as break rule / try to write with wrong mode \"r\"\u001b[0m\u001b[1;33m\u001b[0m\u001b[1;33m\u001b[0m\u001b[0m\n\u001b[0m\u001b[0;32m      4\u001b[0m     \u001b[0mprint\u001b[0m\u001b[1;33m(\u001b[0m\u001b[0mtype\u001b[0m\u001b[1;33m(\u001b[0m\u001b[0mcontent\u001b[0m\u001b[1;33m)\u001b[0m\u001b[1;33m)\u001b[0m\u001b[1;33m\u001b[0m\u001b[1;33m\u001b[0m\u001b[0m\n\u001b[0;32m      5\u001b[0m     \u001b[0mprint\u001b[0m\u001b[1;33m(\u001b[0m\u001b[0mcontent\u001b[0m\u001b[1;33m)\u001b[0m\u001b[1;33m\u001b[0m\u001b[1;33m\u001b[0m\u001b[0m\n",
      "\u001b[1;31mUnsupportedOperation\u001b[0m: not writable"
     ]
    }
   ],
   "source": [
    "with open(\"abc1.txt\") as file:\n",
    "    content = file.readlines()[:2]\n",
    "    file.write(\"[4,5,6]\")#--> error as break rule / try to write with wrong mode \"r\"\n",
    "    print(type(content))\n",
    "    print(content)"
   ]
  },
  {
   "cell_type": "code",
   "execution_count": 16,
   "id": "7e446130",
   "metadata": {},
   "outputs": [
    {
     "ename": "UnsupportedOperation",
     "evalue": "not readable",
     "output_type": "error",
     "traceback": [
      "\u001b[1;31m---------------------------------------------------------------------------\u001b[0m",
      "\u001b[1;31mUnsupportedOperation\u001b[0m                      Traceback (most recent call last)",
      "\u001b[1;32m~\\AppData\\Local\\Temp\\ipykernel_6036\\1370175405.py\u001b[0m in \u001b[0;36m<module>\u001b[1;34m\u001b[0m\n\u001b[0;32m      1\u001b[0m \u001b[1;32mwith\u001b[0m \u001b[0mopen\u001b[0m\u001b[1;33m(\u001b[0m\u001b[1;34m\"abc1.txt\"\u001b[0m\u001b[1;33m,\u001b[0m \u001b[0mmode\u001b[0m\u001b[1;33m=\u001b[0m\u001b[1;34m'w'\u001b[0m\u001b[1;33m)\u001b[0m \u001b[1;32mas\u001b[0m \u001b[0mf\u001b[0m\u001b[1;33m:\u001b[0m\u001b[1;33m\u001b[0m\u001b[1;33m\u001b[0m\u001b[0m\n\u001b[1;32m----> 2\u001b[1;33m     \u001b[0mcontent\u001b[0m \u001b[1;33m=\u001b[0m \u001b[0mf\u001b[0m\u001b[1;33m.\u001b[0m\u001b[0mreadlines\u001b[0m\u001b[1;33m(\u001b[0m\u001b[1;33m)\u001b[0m\u001b[1;31m# error as rule break / try to read with \"w\" not allowed\u001b[0m\u001b[1;33m\u001b[0m\u001b[1;33m\u001b[0m\u001b[0m\n\u001b[0m\u001b[0;32m      3\u001b[0m     \u001b[0mprint\u001b[0m\u001b[1;33m(\u001b[0m\u001b[0mcontent\u001b[0m\u001b[1;33m)\u001b[0m\u001b[1;33m\u001b[0m\u001b[1;33m\u001b[0m\u001b[0m\n",
      "\u001b[1;31mUnsupportedOperation\u001b[0m: not readable"
     ]
    }
   ],
   "source": [
    "with open(\"abc1.txt\", mode='w') as f:\n",
    "    content = f.readlines()# error as rule break / try to read with \"w\" not allowed\n",
    "    print(content)"
   ]
  },
  {
   "cell_type": "code",
   "execution_count": 35,
   "id": "628784de",
   "metadata": {},
   "outputs": [],
   "source": [
    "with open('abc2.txt','w') as a:\n",
    "    a.write('Hello Welcome Back') #--> creates a new file as abcd2.txt does not exist"
   ]
  },
  {
   "cell_type": "code",
   "execution_count": 18,
   "id": "0d0b545a",
   "metadata": {},
   "outputs": [],
   "source": [
    "with open('abc2.txt','w') as a:\n",
    "    a.write('HELLO CHAMPS!!!') #--> overwrite the file "
   ]
  },
  {
   "cell_type": "code",
   "execution_count": 19,
   "id": "dd7e96bd",
   "metadata": {},
   "outputs": [],
   "source": [
    "with open('abc2.txt','w') as a:\n",
    "    a.writelines(['Hello Welcome Back','\\n','Hello Champs!!','\\n','I welcome all of you here to my GitHub!!']) \n",
    "    # multiple lines seperated by \"\\n\" but in a list as it takes one argument"
   ]
  },
  {
   "cell_type": "code",
   "execution_count": 23,
   "id": "8d01600a",
   "metadata": {},
   "outputs": [
    {
     "name": "stdout",
     "output_type": "stream",
     "text": [
      "[]\n"
     ]
    }
   ],
   "source": [
    "with open('abc2.txt','a+') as a:\n",
    "    a.write('\\nEnjoy Learning ') #--> same as append add thin in last\n",
    "    print(a.readlines()) #--> null beacuse cursor is at last position so unable to read"
   ]
  },
  {
   "cell_type": "code",
   "execution_count": 25,
   "id": "ba61d8a7",
   "metadata": {
    "scrolled": true
   },
   "outputs": [
    {
     "name": "stdout",
     "output_type": "stream",
     "text": [
      "['Hello Welcome Back\\n', 'Hello Champs!!\\n', 'I welcome all of you here to my GitHub!!\\n', '\\n', 'Enjoy Learning ']\n"
     ]
    }
   ],
   "source": [
    "with open('abc2.txt','a+') as a:\n",
    "    a.write('Enjoy Learning')\n",
    "    a.seek(0)\n",
    "    print(a.readlines())"
   ]
  },
  {
   "cell_type": "code",
   "execution_count": 39,
   "id": "f271305b",
   "metadata": {},
   "outputs": [
    {
     "ename": "FileExistsError",
     "evalue": "[Errno 17] File exists: 'abc2.txt'",
     "output_type": "error",
     "traceback": [
      "\u001b[1;31m---------------------------------------------------------------------------\u001b[0m",
      "\u001b[1;31mFileExistsError\u001b[0m                           Traceback (most recent call last)",
      "\u001b[1;32m~\\AppData\\Local\\Temp\\ipykernel_6036\\4037211802.py\u001b[0m in \u001b[0;36m<module>\u001b[1;34m\u001b[0m\n\u001b[1;32m----> 1\u001b[1;33m \u001b[0mopen\u001b[0m\u001b[1;33m(\u001b[0m\u001b[1;34m'abc2.txt'\u001b[0m\u001b[1;33m,\u001b[0m \u001b[1;34m'x'\u001b[0m\u001b[1;33m)\u001b[0m\u001b[1;33m\u001b[0m\u001b[1;33m\u001b[0m\u001b[0m\n\u001b[0m",
      "\u001b[1;31mFileExistsError\u001b[0m: [Errno 17] File exists: 'abc2.txt'"
     ]
    }
   ],
   "source": [
    "open('abc2.txt', 'x') #--> error as file already exists..."
   ]
  },
  {
   "cell_type": "markdown",
   "id": "66c76e38",
   "metadata": {},
   "source": [
    "<b>Here is the complete list of methods in text mode with a brief description:\n",
    "    \n",
    "* **close():**\t       Closes an opened file. It has no effect if the file is already closed.\n",
    "    \n",
    "* **detach():**\t   Separates the underlying binary buffer from the TextIOBase and returns it.\n",
    "    \n",
    "* **fileno():**\t   Returns an integer number (file descriptor) of the file.\n",
    "    \n",
    "* **flush():**\t       Flushes the write buffer of the file stream.\n",
    "    \n",
    "* **isatty():**\t                Returns True if the file stream is interactive.\n",
    "    \n",
    "* **read(n):**\t                    Reads at most n characters from the file. Reads till end of file if it is negative or None.\n",
    "    \n",
    "* **readable():**\t                Returns True if the file stream can be read from.\n",
    "    \n",
    "* **readline(n=-1):**\t            Reads and returns one line from the file. Reads in at most n bytes if specified.\n",
    "    \n",
    "* **readlines(n=-1):**\t            Reads and returns a list of lines from the file. Reads in at most n bytes/characters if specified.\n",
    "    \n",
    "* **seek(offset,from=SEEK_SET):** Changes the file position to offset bytes, in reference to from (start, current, end).\n",
    "    \n",
    "* **seekable():**\tReturns True if the file stream supports random access.\n",
    "    \n",
    "* **tell():**\tReturns an integer that represents the current position of the file's object.\n",
    "    \n",
    "* **truncate(size=None):**\tResizes the file stream to size bytes. If size is not specified, resizes to current location.\n",
    "    \n",
    "* **writable():**\tReturns True if the file stream can be written to.\n",
    "    \n",
    "* **write(s):**\tWrites the string s to the file and returns the number of characters written.\n",
    "    \n",
    "* **writelines(lines):**\tWrites a list of lines to the file.\n",
    "    "
   ]
  },
  {
   "cell_type": "markdown",
   "id": "ea4a66c9",
   "metadata": {},
   "source": [
    "## Working with Package\n",
    " I created a folder/package by name mypackage in which I have created 3 methods or 4 diffrent file\n",
    " \n",
    " **created one file name ar in which I have created 3 different functions name square, cube, area**\n",
    " \n",
    " **and created 3 more files naming square,cube,welcome each have single function**"
   ]
  },
  {
   "cell_type": "code",
   "execution_count": 71,
   "id": "3a8fe5a6",
   "metadata": {},
   "outputs": [],
   "source": [
    "from mypackage import welcome"
   ]
  },
  {
   "cell_type": "code",
   "execution_count": 72,
   "id": "0f027265",
   "metadata": {},
   "outputs": [
    {
     "data": {
      "text/plain": [
       "'hello world!'"
      ]
     },
     "execution_count": 72,
     "metadata": {},
     "output_type": "execute_result"
    }
   ],
   "source": [
    "welcome.abc()"
   ]
  },
  {
   "cell_type": "code",
   "execution_count": 79,
   "id": "e8ee8d3d",
   "metadata": {},
   "outputs": [],
   "source": [
    "from mypackage import area"
   ]
  },
  {
   "cell_type": "code",
   "execution_count": 80,
   "id": "f340aa38",
   "metadata": {},
   "outputs": [
    {
     "data": {
      "text/plain": [
       "20"
      ]
     },
     "execution_count": 80,
     "metadata": {},
     "output_type": "execute_result"
    }
   ],
   "source": [
    "area.area(4,5)"
   ]
  },
  {
   "cell_type": "code",
   "execution_count": 83,
   "id": "5dbe3630",
   "metadata": {},
   "outputs": [],
   "source": [
    "from mypackage import square"
   ]
  },
  {
   "cell_type": "code",
   "execution_count": 85,
   "id": "b9092ee6",
   "metadata": {},
   "outputs": [
    {
     "data": {
      "text/plain": [
       "4"
      ]
     },
     "execution_count": 85,
     "metadata": {},
     "output_type": "execute_result"
    }
   ],
   "source": [
    "square.square(2)"
   ]
  },
  {
   "cell_type": "code",
   "execution_count": 86,
   "id": "45126509",
   "metadata": {},
   "outputs": [],
   "source": [
    "from mypackage import cube "
   ]
  },
  {
   "cell_type": "code",
   "execution_count": 88,
   "id": "0875c9c5",
   "metadata": {},
   "outputs": [
    {
     "data": {
      "text/plain": [
       "729"
      ]
     },
     "execution_count": 88,
     "metadata": {},
     "output_type": "execute_result"
    }
   ],
   "source": [
    "cube.cube(9)"
   ]
  },
  {
   "cell_type": "code",
   "execution_count": 97,
   "id": "20c867d1",
   "metadata": {},
   "outputs": [],
   "source": [
    "from mypackage import welcome,square,ar,cube"
   ]
  },
  {
   "cell_type": "code",
   "execution_count": 91,
   "id": "d2a7abb6",
   "metadata": {},
   "outputs": [
    {
     "data": {
      "text/plain": [
       "'hello world!'"
      ]
     },
     "execution_count": 91,
     "metadata": {},
     "output_type": "execute_result"
    }
   ],
   "source": [
    "welcome.abc()"
   ]
  },
  {
   "cell_type": "code",
   "execution_count": 93,
   "id": "cbb66121",
   "metadata": {},
   "outputs": [
    {
     "data": {
      "text/plain": [
       "16"
      ]
     },
     "execution_count": 93,
     "metadata": {},
     "output_type": "execute_result"
    }
   ],
   "source": [
    "square.square(4)"
   ]
  },
  {
   "cell_type": "code",
   "execution_count": 94,
   "id": "e096ede7",
   "metadata": {},
   "outputs": [
    {
     "data": {
      "text/plain": [
       "125"
      ]
     },
     "execution_count": 94,
     "metadata": {},
     "output_type": "execute_result"
    }
   ],
   "source": [
    "cube.cube(5)"
   ]
  },
  {
   "cell_type": "code",
   "execution_count": 98,
   "id": "31b10a3a",
   "metadata": {},
   "outputs": [
    {
     "data": {
      "text/plain": [
       "72"
      ]
     },
     "execution_count": 98,
     "metadata": {},
     "output_type": "execute_result"
    }
   ],
   "source": [
    "ar.area(8,9)"
   ]
  },
  {
   "cell_type": "code",
   "execution_count": 99,
   "id": "2ec69f93",
   "metadata": {},
   "outputs": [
    {
     "data": {
      "text/plain": [
       "4"
      ]
     },
     "execution_count": 99,
     "metadata": {},
     "output_type": "execute_result"
    }
   ],
   "source": [
    "ar.square(2)"
   ]
  },
  {
   "cell_type": "markdown",
   "id": "2d18a780",
   "metadata": {},
   "source": [
    "## Task:\n",
    "* create new file with 3,4 lines\n",
    "* add one more line in between these lines"
   ]
  },
  {
   "cell_type": "code",
   "execution_count": 153,
   "id": "3f09dc17",
   "metadata": {
    "scrolled": false
   },
   "outputs": [
    {
     "name": "stdout",
     "output_type": "stream",
     "text": [
      "line1\n",
      "line2\n",
      "line3\n",
      "line4\n"
     ]
    }
   ],
   "source": [
    "with open('abc4.txt','a+') as f:\n",
    "    f.writelines(['line1', '\\n','line2', '\\n', 'line3','\\n','line4'])\n",
    "    f.seek(0)\n",
    "    print(f.read())"
   ]
  },
  {
   "cell_type": "code",
   "execution_count": 154,
   "id": "e309f438",
   "metadata": {},
   "outputs": [
    {
     "name": "stdout",
     "output_type": "stream",
     "text": [
      "line1\n",
      "line2\n",
      "welcome back\n",
      "line3\n",
      "line4\n"
     ]
    }
   ],
   "source": [
    "with open('abc4.txt','r') as f:\n",
    "    lines = f.readlines()\n",
    "\n",
    "lines.insert(2, 'welcome back\\n')\n",
    "\n",
    "with open('abc4.txt', 'w') as f:\n",
    "    f.writelines(lines)\n",
    "with open ('abc4.txt' , 'r') as f:\n",
    "    print(f.read())\n",
    "    "
   ]
  },
  {
   "cell_type": "code",
   "execution_count": null,
   "id": "ca604bc9",
   "metadata": {},
   "outputs": [],
   "source": []
  }
 ],
 "metadata": {
  "kernelspec": {
   "display_name": "Python 3 (ipykernel)",
   "language": "python",
   "name": "python3"
  },
  "language_info": {
   "codemirror_mode": {
    "name": "ipython",
    "version": 3
   },
   "file_extension": ".py",
   "mimetype": "text/x-python",
   "name": "python",
   "nbconvert_exporter": "python",
   "pygments_lexer": "ipython3",
   "version": "3.9.13"
  }
 },
 "nbformat": 4,
 "nbformat_minor": 5
}
