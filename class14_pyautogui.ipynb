{
 "cells": [
  {
   "cell_type": "markdown",
   "id": "c508de64",
   "metadata": {},
   "source": [
    "## pyautogui\n",
    "Python pyautogui library is an automation library that allows mouse and keyboard control. Or we can say that it facilitates us to automate the movement of the mouse and keyboard to establish the interaction with the other application using the Python script."
   ]
  },
  {
   "cell_type": "markdown",
   "id": "128c657a",
   "metadata": {},
   "source": [
    "## Installing pyautogyui"
   ]
  },
  {
   "cell_type": "code",
   "execution_count": 1,
   "id": "a9ae1e0d",
   "metadata": {},
   "outputs": [
    {
     "name": "stdout",
     "output_type": "stream",
     "text": [
      "Requirement already satisfied: pyautogui in c:\\users\\administrator\\anaconda3\\lib\\site-packages (0.9.53)\n",
      "Requirement already satisfied: PyTweening>=1.0.1 in c:\\users\\administrator\\anaconda3\\lib\\site-packages (from pyautogui) (1.0.4)\n",
      "Requirement already satisfied: pyscreeze>=0.1.21 in c:\\users\\administrator\\anaconda3\\lib\\site-packages (from pyautogui) (0.1.28)\n",
      "Requirement already satisfied: pymsgbox in c:\\users\\administrator\\anaconda3\\lib\\site-packages (from pyautogui) (1.0.9)\n",
      "Requirement already satisfied: mouseinfo in c:\\users\\administrator\\anaconda3\\lib\\site-packages (from pyautogui) (0.1.3)\n",
      "Requirement already satisfied: pygetwindow>=0.0.5 in c:\\users\\administrator\\anaconda3\\lib\\site-packages (from pyautogui) (0.0.9)\n",
      "Requirement already satisfied: pyrect in c:\\users\\administrator\\anaconda3\\lib\\site-packages (from pygetwindow>=0.0.5->pyautogui) (0.2.0)\n",
      "Requirement already satisfied: pyperclip in c:\\users\\administrator\\anaconda3\\lib\\site-packages (from mouseinfo->pyautogui) (1.8.2)\n"
     ]
    }
   ],
   "source": [
    "!pip install pyautogui"
   ]
  },
  {
   "cell_type": "markdown",
   "id": "176d7b4c",
   "metadata": {},
   "source": [
    "## Working with pyautogui"
   ]
  },
  {
   "cell_type": "code",
   "execution_count": 23,
   "id": "1e9b8569",
   "metadata": {},
   "outputs": [],
   "source": [
    "import pyautogui"
   ]
  },
  {
   "cell_type": "markdown",
   "id": "35ed0d54",
   "metadata": {},
   "source": [
    "### General Function"
   ]
  },
  {
   "cell_type": "code",
   "execution_count": 3,
   "id": "14a79b58",
   "metadata": {},
   "outputs": [
    {
     "data": {
      "text/plain": [
       "Point(x=1085, y=19)"
      ]
     },
     "execution_count": 3,
     "metadata": {},
     "output_type": "execute_result"
    }
   ],
   "source": [
    "pyautogui.position() # -->  # current position of mouse/cursor in x and y coordinates"
   ]
  },
  {
   "cell_type": "code",
   "execution_count": 4,
   "id": "723e650c",
   "metadata": {},
   "outputs": [
    {
     "data": {
      "text/plain": [
       "Size(width=1366, height=768)"
      ]
     },
     "execution_count": 4,
     "metadata": {},
     "output_type": "execute_result"
    }
   ],
   "source": [
    "pyautogui.size()  # current screen resolution width(x) and height(y)\n"
   ]
  },
  {
   "cell_type": "code",
   "execution_count": 5,
   "id": "868adf24",
   "metadata": {},
   "outputs": [
    {
     "data": {
      "text/plain": [
       "True"
      ]
     },
     "execution_count": 5,
     "metadata": {},
     "output_type": "execute_result"
    }
   ],
   "source": [
    "pyautogui.onScreen(1365,767)  # True if x & y are within the screen. In my case \" x< 1366 and y< 768 \""
   ]
  },
  {
   "cell_type": "code",
   "execution_count": 6,
   "id": "046c2a68",
   "metadata": {},
   "outputs": [
    {
     "data": {
      "text/plain": [
       "False"
      ]
     },
     "execution_count": 6,
     "metadata": {},
     "output_type": "execute_result"
    }
   ],
   "source": [
    "pyautogui.onScreen(1366,768)"
   ]
  },
  {
   "cell_type": "markdown",
   "id": "7bb27c9f",
   "metadata": {},
   "source": [
    "## Fail-Safes\n",
    "When fail-safe mode is True, moving the mouse to the upper-left will raise a \"pyautogui.FailSafeException\" that can abort program.\n",
    "\n",
    "Our program can either handle this exception with try and except statements or let the exception crash the program.\n",
    "\n",
    "Either way, the fail-safe feature will stop the program if you quickly move the mouse as far up and left as you can.\n",
    "\n",
    "By default FAILSAFE is True,but we can also disable it."
   ]
  },
  {
   "cell_type": "code",
   "execution_count": 7,
   "id": "f0a0c4a8",
   "metadata": {},
   "outputs": [],
   "source": [
    "pyautogui.FAILSAFE = True # --> Enabling the feature\n",
    "pyautogui.FAILSAFE = False # --> Disabling the feature"
   ]
  },
  {
   "cell_type": "markdown",
   "id": "105a8416",
   "metadata": {},
   "source": [
    "## NOTE\n",
    "### XY coordinates have 0, 0 origin at top left corner of the screen. X increases going right, Y increases going down."
   ]
  },
  {
   "cell_type": "markdown",
   "id": "864c6ba2",
   "metadata": {},
   "source": [
    "## Mouse Functions\n",
    "pyautogui.moveTo(x, y, duration=num_seconds) move mouse to XY coordinates over given second seconds\n",
    "\n",
    "<b> duration is optional in all functions if it is not given then the movement is immediate"
   ]
  },
  {
   "cell_type": "code",
   "execution_count": 8,
   "id": "fb1f2cd1",
   "metadata": {},
   "outputs": [],
   "source": [
    "pyautogui.moveTo(0,0,duration=1)  # --> moves to top left corner"
   ]
  },
  {
   "cell_type": "markdown",
   "id": "8840864a",
   "metadata": {},
   "source": [
    "pyautogui.moveRel(xOffset, yOffset, duration=num_seconds)  move mouse relative to its current position"
   ]
  },
  {
   "cell_type": "code",
   "execution_count": 9,
   "id": "5710a19c",
   "metadata": {},
   "outputs": [],
   "source": [
    "pyautogui.moveRel(0,0,duration=1) # --> mouse does not mmove as here (0,0) is relative values"
   ]
  },
  {
   "cell_type": "code",
   "execution_count": 10,
   "id": "4192647c",
   "metadata": {},
   "outputs": [
    {
     "data": {
      "text/plain": [
       "Point(x=0, y=0)"
      ]
     },
     "execution_count": 10,
     "metadata": {},
     "output_type": "execute_result"
    }
   ],
   "source": [
    "pyautogui.position()"
   ]
  },
  {
   "cell_type": "markdown",
   "id": "ce086550",
   "metadata": {},
   "source": [
    "pyautogui.dragTo(x, y, duration=num_seconds)  drag mouse to XY"
   ]
  },
  {
   "cell_type": "code",
   "execution_count": 11,
   "id": "6fb4784a",
   "metadata": {},
   "outputs": [],
   "source": [
    "pyautogui.dragTo(556,50)"
   ]
  },
  {
   "cell_type": "markdown",
   "id": "48adebf6",
   "metadata": {},
   "source": [
    "pyautogui.dragRel(xOffset, yOffset, duration=num_seconds) drag mouse relative to its current position"
   ]
  },
  {
   "cell_type": "code",
   "execution_count": 12,
   "id": "1c633e8d",
   "metadata": {},
   "outputs": [],
   "source": [
    "pyautogui.dragRel(500,100)"
   ]
  },
  {
   "cell_type": "markdown",
   "id": "fd3f5bf2",
   "metadata": {},
   "source": [
    "Calling click() just clicks the mouse once with the left button at the mouse’s current location, but the keyword arguments can change that"
   ]
  },
  {
   "cell_type": "code",
   "execution_count": 13,
   "id": "b5fe145d",
   "metadata": {},
   "outputs": [],
   "source": [
    "pyautogui.click(586,167) # --> left click on provided position"
   ]
  },
  {
   "cell_type": "markdown",
   "id": "1cc9ac71",
   "metadata": {},
   "source": [
    "## Some click function with keyword arguments\n",
    "* pyautogui.click(x=moveToX, y=moveToY, clicks=num_of_clicks, interval=secs_between_clicks, button='left')\n",
    "\n",
    "here button replace with 'right' also\n",
    "* pyautogui.rightClick(x=moveToX, y=moveToY)\n",
    "* pyautogui.middleClick(x=moveToX, y=moveToY)\n",
    "* pyautogui.doubleClick(x=moveToX, y=moveToY)\n",
    "* pyautogui.tripleClick(x=moveToX, y=moveToY)"
   ]
  },
  {
   "cell_type": "code",
   "execution_count": 14,
   "id": "35da85af",
   "metadata": {},
   "outputs": [
    {
     "data": {
      "text/plain": [
       "Point(x=586, y=167)"
      ]
     },
     "execution_count": 14,
     "metadata": {},
     "output_type": "execute_result"
    }
   ],
   "source": [
    "pyautogui.position()"
   ]
  },
  {
   "cell_type": "code",
   "execution_count": 15,
   "id": "0ef75da5",
   "metadata": {},
   "outputs": [],
   "source": [
    "pyautogui.click(1344,48,clicks = 1 , button = 'left')"
   ]
  },
  {
   "cell_type": "code",
   "execution_count": 16,
   "id": "aa8347d7",
   "metadata": {},
   "outputs": [],
   "source": [
    "pyautogui.click(695,339,clicks = 2,interval=0.01 , button = 'left')"
   ]
  },
  {
   "cell_type": "code",
   "execution_count": 17,
   "id": "51e5010f",
   "metadata": {},
   "outputs": [
    {
     "data": {
      "text/plain": [
       "Point(x=695, y=339)"
      ]
     },
     "execution_count": 17,
     "metadata": {},
     "output_type": "execute_result"
    }
   ],
   "source": [
    "pyautogui.position()"
   ]
  },
  {
   "cell_type": "markdown",
   "id": "3c99987f",
   "metadata": {},
   "source": [
    "Scroll\n",
    "\n",
    "Positive scrolling will scroll up, negative scrolling will scroll down:\n",
    "    \n",
    "pyautogui.scroll(amount_to_scroll, x=moveToX, y=moveToY)"
   ]
  },
  {
   "cell_type": "code",
   "execution_count": 18,
   "id": "2c62fd56",
   "metadata": {},
   "outputs": [],
   "source": [
    "pyautogui.scroll(-100,649,418)"
   ]
  },
  {
   "cell_type": "markdown",
   "id": "2df69116",
   "metadata": {},
   "source": [
    "Individual button down and up events can be called separately:\n",
    "* pyautogui.mouseDown(x=moveToX, y=moveToY, button='left')\n",
    "* pyautogui.mouseUp(x=moveToX, y=moveToY, button='left')"
   ]
  },
  {
   "cell_type": "code",
   "execution_count": 19,
   "id": "c4e89bf2",
   "metadata": {},
   "outputs": [],
   "source": [
    "pyautogui.click(1360,663)\n",
    "pyautogui.mouseUp(x=1360,y=311,button='left')"
   ]
  },
  {
   "cell_type": "code",
   "execution_count": 20,
   "id": "8572ae7e",
   "metadata": {},
   "outputs": [],
   "source": [
    "pyautogui.dragTo(1360,311)"
   ]
  },
  {
   "cell_type": "markdown",
   "id": "298f64b5",
   "metadata": {},
   "source": [
    "## Keyboard Functions\n",
    "Key presses go to wherever the keyboard cursor is at function-calling time\n",
    "pyautogui.typewrite('write text here', interval=secs_between_keys) useful for entering text, newline is Enter"
   ]
  },
  {
   "cell_type": "code",
   "execution_count": 21,
   "id": "a33d2135",
   "metadata": {
    "scrolled": true
   },
   "outputs": [],
   "source": [
    "pyautogui.typewrite('Hello pyautogui\\n Welcome to \\n All of you', interval= 0.01)"
   ]
  },
  {
   "cell_type": "markdown",
   "id": "9883d842",
   "metadata": {},
   "source": [
    "## Message Box Functions\n",
    "If we need to pause the program until the user clicks OK on something, or want to display some information to the user,"
   ]
  },
  {
   "cell_type": "code",
   "execution_count": 22,
   "id": "a8886a22",
   "metadata": {},
   "outputs": [
    {
     "data": {
      "text/plain": [
       "'I AM AGREED WITH THE TERMS AND CONDITIONS'"
      ]
     },
     "execution_count": 22,
     "metadata": {},
     "output_type": "execute_result"
    }
   ],
   "source": [
    "pyautogui.alert('Click OK to Continue.')\n",
    "pyautogui.confirm('Are You sure!!!.')\n",
    "pyautogui.prompt('Type I AM AGREED WITH THE TERMS AND CONDITIONS') # --> print what we type in the box"
   ]
  },
  {
   "cell_type": "markdown",
   "id": "34093fa1",
   "metadata": {},
   "source": [
    "Go to the below link to check all feature of this library:\n",
    "\n",
    "https://pyautogui.readthedocs.io/en/latest/quickstart.html"
   ]
  },
  {
   "cell_type": "code",
   "execution_count": null,
   "id": "2cdc4e91",
   "metadata": {},
   "outputs": [],
   "source": []
  }
 ],
 "metadata": {
  "kernelspec": {
   "display_name": "Python 3 (ipykernel)",
   "language": "python",
   "name": "python3"
  },
  "language_info": {
   "codemirror_mode": {
    "name": "ipython",
    "version": 3
   },
   "file_extension": ".py",
   "mimetype": "text/x-python",
   "name": "python",
   "nbconvert_exporter": "python",
   "pygments_lexer": "ipython3",
   "version": "3.9.13"
  }
 },
 "nbformat": 4,
 "nbformat_minor": 5
}
