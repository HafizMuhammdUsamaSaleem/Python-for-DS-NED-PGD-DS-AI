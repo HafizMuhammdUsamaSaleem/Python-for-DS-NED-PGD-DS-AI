{
 "cells": [
  {
   "cell_type": "markdown",
   "id": "d7f4e0b2",
   "metadata": {},
   "source": [
    "## Error Types\n",
    "* **Logical Error:** Logical errors occur when the code executes without throwing an exception, but the output is not what was expected. This can be caused by a mistake in the algorithm or a misunderstanding of the problem.\n",
    "\n",
    "* **Compile time error:**  Compile-time errors occur during the compilation of the code and are caused by syntax or semantic errors in the code. These errors prevent the code from being compiled and are usually easy to fix.\n",
    "\n",
    "* **Run Time Error:** Runtime errors occur when the code is executing and something unexpected happens, causing the program to crash or behave in an unexpected way. These errors can be caused by a variety of factors, including user input, resource limitations, or programming errors."
   ]
  },
  {
   "cell_type": "markdown",
   "id": "18caafb8",
   "metadata": {},
   "source": [
    "### Some more error types with examples"
   ]
  },
  {
   "cell_type": "markdown",
   "id": "4b9fa068",
   "metadata": {},
   "source": [
    "**1. SyntaxError:** This error occurs when there is a problem with the syntax of the code. For example, forgetting to put a colon at the end of a conditional statement:"
   ]
  },
  {
   "cell_type": "code",
   "execution_count": 1,
   "id": "3f41f3ed",
   "metadata": {},
   "outputs": [
    {
     "ename": "SyntaxError",
     "evalue": "invalid syntax (2879476853.py, line 1)",
     "output_type": "error",
     "traceback": [
      "\u001b[1;36m  File \u001b[1;32m\"C:\\Users\\Administrator\\AppData\\Local\\Temp\\ipykernel_11228\\2879476853.py\"\u001b[1;36m, line \u001b[1;32m1\u001b[0m\n\u001b[1;33m    if a == 10\u001b[0m\n\u001b[1;37m              ^\u001b[0m\n\u001b[1;31mSyntaxError\u001b[0m\u001b[1;31m:\u001b[0m invalid syntax\n"
     ]
    }
   ],
   "source": [
    "if a == 10\n",
    "    print(\"a is 10\")"
   ]
  },
  {
   "cell_type": "markdown",
   "id": "912450e9",
   "metadata": {},
   "source": [
    "The correct Version should be..."
   ]
  },
  {
   "cell_type": "code",
   "execution_count": 7,
   "id": "1d7aa20e",
   "metadata": {},
   "outputs": [
    {
     "name": "stdout",
     "output_type": "stream",
     "text": [
      "a is 10\n"
     ]
    }
   ],
   "source": [
    "a = 10\n",
    "if a == 10:\n",
    "    print(\"a is 10\")"
   ]
  },
  {
   "cell_type": "markdown",
   "id": "89141849",
   "metadata": {},
   "source": [
    "**2. NameError:** This error occurs when a variable or function is referenced before it is defined. For example:"
   ]
  },
  {
   "cell_type": "code",
   "execution_count": 8,
   "id": "39a99040",
   "metadata": {},
   "outputs": [
    {
     "ename": "NameError",
     "evalue": "name 'x' is not defined",
     "output_type": "error",
     "traceback": [
      "\u001b[1;31m---------------------------------------------------------------------------\u001b[0m",
      "\u001b[1;31mNameError\u001b[0m                                 Traceback (most recent call last)",
      "\u001b[1;32m~\\AppData\\Local\\Temp\\ipykernel_11228\\289819153.py\u001b[0m in \u001b[0;36m<module>\u001b[1;34m\u001b[0m\n\u001b[1;32m----> 1\u001b[1;33m \u001b[0mprint\u001b[0m\u001b[1;33m(\u001b[0m\u001b[0mx\u001b[0m\u001b[1;33m)\u001b[0m\u001b[1;33m\u001b[0m\u001b[1;33m\u001b[0m\u001b[0m\n\u001b[0m",
      "\u001b[1;31mNameError\u001b[0m: name 'x' is not defined"
     ]
    }
   ],
   "source": [
    "print(x)\n"
   ]
  },
  {
   "cell_type": "markdown",
   "id": "6a39a57e",
   "metadata": {},
   "source": [
    "This will result in a NameError if x is not defined before this statement."
   ]
  },
  {
   "cell_type": "markdown",
   "id": "b7ebbe04",
   "metadata": {},
   "source": [
    "**3. TypeError:** This error occurs when an operation or function is applied to the wrong type of object. For example, trying to concatenate a string and an integer:"
   ]
  },
  {
   "cell_type": "code",
   "execution_count": 9,
   "id": "6945ba3b",
   "metadata": {},
   "outputs": [
    {
     "ename": "TypeError",
     "evalue": "can only concatenate str (not \"int\") to str",
     "output_type": "error",
     "traceback": [
      "\u001b[1;31m---------------------------------------------------------------------------\u001b[0m",
      "\u001b[1;31mTypeError\u001b[0m                                 Traceback (most recent call last)",
      "\u001b[1;32m~\\AppData\\Local\\Temp\\ipykernel_11228\\2643773745.py\u001b[0m in \u001b[0;36m<module>\u001b[1;34m\u001b[0m\n\u001b[0;32m      1\u001b[0m \u001b[0mx\u001b[0m \u001b[1;33m=\u001b[0m \u001b[1;34m\"Hello\"\u001b[0m\u001b[1;33m\u001b[0m\u001b[1;33m\u001b[0m\u001b[0m\n\u001b[0;32m      2\u001b[0m \u001b[0my\u001b[0m \u001b[1;33m=\u001b[0m \u001b[1;36m123\u001b[0m\u001b[1;33m\u001b[0m\u001b[1;33m\u001b[0m\u001b[0m\n\u001b[1;32m----> 3\u001b[1;33m \u001b[0mprint\u001b[0m\u001b[1;33m(\u001b[0m\u001b[0mx\u001b[0m \u001b[1;33m+\u001b[0m \u001b[0my\u001b[0m\u001b[1;33m)\u001b[0m\u001b[1;33m\u001b[0m\u001b[1;33m\u001b[0m\u001b[0m\n\u001b[0m",
      "\u001b[1;31mTypeError\u001b[0m: can only concatenate str (not \"int\") to str"
     ]
    }
   ],
   "source": [
    "x = \"Hello\"\n",
    "y = 123\n",
    "print(x + y)\n"
   ]
  },
  {
   "cell_type": "markdown",
   "id": "b6b41ade",
   "metadata": {},
   "source": [
    "This will result in a TypeError because you cannot concatenate a string and an integer."
   ]
  },
  {
   "cell_type": "markdown",
   "id": "9925895e",
   "metadata": {},
   "source": [
    "**4. IndexError:** This error occurs when you try to access an element in a sequence (such as a list or tuple) that does not exist. For example, trying to access the 4th element of a list that only has 3 elements:"
   ]
  },
  {
   "cell_type": "code",
   "execution_count": 10,
   "id": "5622d893",
   "metadata": {},
   "outputs": [
    {
     "ename": "IndexError",
     "evalue": "list index out of range",
     "output_type": "error",
     "traceback": [
      "\u001b[1;31m---------------------------------------------------------------------------\u001b[0m",
      "\u001b[1;31mIndexError\u001b[0m                                Traceback (most recent call last)",
      "\u001b[1;32m~\\AppData\\Local\\Temp\\ipykernel_11228\\2789482991.py\u001b[0m in \u001b[0;36m<module>\u001b[1;34m\u001b[0m\n\u001b[0;32m      1\u001b[0m \u001b[0mmy_list\u001b[0m \u001b[1;33m=\u001b[0m \u001b[1;33m[\u001b[0m\u001b[1;36m1\u001b[0m\u001b[1;33m,\u001b[0m \u001b[1;36m2\u001b[0m\u001b[1;33m,\u001b[0m \u001b[1;36m3\u001b[0m\u001b[1;33m]\u001b[0m\u001b[1;33m\u001b[0m\u001b[1;33m\u001b[0m\u001b[0m\n\u001b[1;32m----> 2\u001b[1;33m \u001b[0mprint\u001b[0m\u001b[1;33m(\u001b[0m\u001b[0mmy_list\u001b[0m\u001b[1;33m[\u001b[0m\u001b[1;36m3\u001b[0m\u001b[1;33m]\u001b[0m\u001b[1;33m)\u001b[0m\u001b[1;33m\u001b[0m\u001b[1;33m\u001b[0m\u001b[0m\n\u001b[0m",
      "\u001b[1;31mIndexError\u001b[0m: list index out of range"
     ]
    }
   ],
   "source": [
    "my_list = [1, 2, 3]\n",
    "print(my_list[3])\n"
   ]
  },
  {
   "cell_type": "markdown",
   "id": "9e890fc9",
   "metadata": {},
   "source": [
    "This will result in an IndexError because the list only has 3 elements."
   ]
  },
  {
   "cell_type": "markdown",
   "id": "e504c970",
   "metadata": {},
   "source": [
    "**5. ValueError:** This error occurs when a function receives an argument of the correct type but an inappropriate value. For example, passing a negative value to the sqrt() function:"
   ]
  },
  {
   "cell_type": "code",
   "execution_count": 11,
   "id": "5cf4d3f1",
   "metadata": {},
   "outputs": [
    {
     "ename": "ValueError",
     "evalue": "math domain error",
     "output_type": "error",
     "traceback": [
      "\u001b[1;31m---------------------------------------------------------------------------\u001b[0m",
      "\u001b[1;31mValueError\u001b[0m                                Traceback (most recent call last)",
      "\u001b[1;32m~\\AppData\\Local\\Temp\\ipykernel_11228\\2778895668.py\u001b[0m in \u001b[0;36m<module>\u001b[1;34m\u001b[0m\n\u001b[0;32m      1\u001b[0m \u001b[1;32mimport\u001b[0m \u001b[0mmath\u001b[0m\u001b[1;33m\u001b[0m\u001b[1;33m\u001b[0m\u001b[0m\n\u001b[1;32m----> 2\u001b[1;33m \u001b[0mprint\u001b[0m\u001b[1;33m(\u001b[0m\u001b[0mmath\u001b[0m\u001b[1;33m.\u001b[0m\u001b[0msqrt\u001b[0m\u001b[1;33m(\u001b[0m\u001b[1;33m-\u001b[0m\u001b[1;36m1\u001b[0m\u001b[1;33m)\u001b[0m\u001b[1;33m)\u001b[0m\u001b[1;33m\u001b[0m\u001b[1;33m\u001b[0m\u001b[0m\n\u001b[0m",
      "\u001b[1;31mValueError\u001b[0m: math domain error"
     ]
    }
   ],
   "source": [
    "import math\n",
    "print(math.sqrt(-1))\n"
   ]
  },
  {
   "cell_type": "markdown",
   "id": "66671ff2",
   "metadata": {},
   "source": [
    "This will result in a ValueError because you cannot take the square root of a negative number."
   ]
  },
  {
   "cell_type": "markdown",
   "id": "6628a5a5",
   "metadata": {},
   "source": [
    "## Error Handling"
   ]
  },
  {
   "cell_type": "markdown",
   "id": "c108eecb",
   "metadata": {},
   "source": [
    "try:\n",
    "    statments\n",
    "    \n",
    "    # write statement where error chances\n",
    "    \n",
    "except (ErrorClassName1,ErrorClassName2,ErrorClassName3....):\n",
    "\n",
    "    run if error accured in above statement\n",
    "    \n",
    "except (ErrorClassName1,ErrorClassName2,ErrorClassName3....):\n",
    "\n",
    "    run if error accured in above statement\n",
    "\n",
    "else:\n",
    "\n",
    "    run if not error occured\n",
    "finally:\n",
    "\n",
    "    always run"
   ]
  },
  {
   "cell_type": "markdown",
   "id": "59ab3666",
   "metadata": {},
   "source": [
    "###  1. try...except"
   ]
  },
  {
   "cell_type": "code",
   "execution_count": 19,
   "id": "5c107569",
   "metadata": {},
   "outputs": [
    {
     "ename": "ZeroDivisionError",
     "evalue": "division by zero",
     "output_type": "error",
     "traceback": [
      "\u001b[1;31m---------------------------------------------------------------------------\u001b[0m",
      "\u001b[1;31mZeroDivisionError\u001b[0m                         Traceback (most recent call last)",
      "\u001b[1;32m~\\AppData\\Local\\Temp\\ipykernel_11228\\2796045753.py\u001b[0m in \u001b[0;36m<module>\u001b[1;34m\u001b[0m\n\u001b[0;32m      2\u001b[0m \u001b[0mdenominator\u001b[0m \u001b[1;33m=\u001b[0m \u001b[1;36m0\u001b[0m\u001b[1;33m\u001b[0m\u001b[1;33m\u001b[0m\u001b[0m\n\u001b[0;32m      3\u001b[0m \u001b[1;33m\u001b[0m\u001b[0m\n\u001b[1;32m----> 4\u001b[1;33m \u001b[0mresult\u001b[0m \u001b[1;33m=\u001b[0m \u001b[0mnumerator\u001b[0m\u001b[1;33m/\u001b[0m\u001b[0mdenominator\u001b[0m\u001b[1;33m\u001b[0m\u001b[1;33m\u001b[0m\u001b[0m\n\u001b[0m\u001b[0;32m      5\u001b[0m \u001b[1;33m\u001b[0m\u001b[0m\n\u001b[0;32m      6\u001b[0m \u001b[0mprint\u001b[0m\u001b[1;33m(\u001b[0m\u001b[0mresult\u001b[0m\u001b[1;33m)\u001b[0m\u001b[1;33m\u001b[0m\u001b[1;33m\u001b[0m\u001b[0m\n",
      "\u001b[1;31mZeroDivisionError\u001b[0m: division by zero"
     ]
    }
   ],
   "source": [
    "    numerator = 10\n",
    "    denominator = 0\n",
    "\n",
    "    result = numerator/denominator\n",
    "\n",
    "    print(result)"
   ]
  },
  {
   "cell_type": "markdown",
   "id": "2fa9fcdc",
   "metadata": {},
   "source": [
    "In the example, we are trying to divide a number by 0. Here, this code generates an ZeroDivisionError\n"
   ]
  },
  {
   "cell_type": "code",
   "execution_count": 18,
   "id": "754d0138",
   "metadata": {
    "scrolled": true
   },
   "outputs": [
    {
     "name": "stdout",
     "output_type": "stream",
     "text": [
      "Error: Denominator cannot be 0.\n"
     ]
    }
   ],
   "source": [
    "try:\n",
    "    numerator = 10\n",
    "    denominator = 0\n",
    "\n",
    "    result = numerator/denominator\n",
    "\n",
    "    print(result)\n",
    "except:\n",
    "    print(\"Error: Denominator cannot be 0.\")\n",
    "\n",
    "# Output: Error: Denominator cannot be 0. "
   ]
  },
  {
   "cell_type": "code",
   "execution_count": 23,
   "id": "4bee27ea",
   "metadata": {
    "scrolled": true
   },
   "outputs": [
    {
     "name": "stdout",
     "output_type": "stream",
     "text": [
      "Start line\n",
      "you can't divide any value with zero!\n"
     ]
    }
   ],
   "source": [
    "print(\"Start line\")\n",
    "\n",
    "a = 7 \n",
    "b = 0\n",
    "try:\n",
    "    print( a / b)\n",
    "except (ZeroDivisionError):\n",
    "    print(\"you can't divide any value with zero!\")"
   ]
  },
  {
   "cell_type": "markdown",
   "id": "77291f56",
   "metadata": {},
   "source": [
    "For each try block, there can be zero or more except blocks. Multiple except blocks allow us to handle each exception differently."
   ]
  },
  {
   "cell_type": "code",
   "execution_count": 24,
   "id": "9eb6cac1",
   "metadata": {
    "scrolled": true
   },
   "outputs": [
    {
     "name": "stdout",
     "output_type": "stream",
     "text": [
      "Start line\n"
     ]
    },
    {
     "ename": "IndexError",
     "evalue": "list index out of range",
     "output_type": "error",
     "traceback": [
      "\u001b[1;31m---------------------------------------------------------------------------\u001b[0m",
      "\u001b[1;31mIndexError\u001b[0m                                Traceback (most recent call last)",
      "\u001b[1;32m~\\AppData\\Local\\Temp\\ipykernel_11228\\1257299331.py\u001b[0m in \u001b[0;36m<module>\u001b[1;34m\u001b[0m\n\u001b[0;32m      6\u001b[0m \u001b[1;33m\u001b[0m\u001b[0m\n\u001b[0;32m      7\u001b[0m \u001b[1;32mtry\u001b[0m\u001b[1;33m:\u001b[0m\u001b[1;33m\u001b[0m\u001b[1;33m\u001b[0m\u001b[0m\n\u001b[1;32m----> 8\u001b[1;33m     \u001b[0mprint\u001b[0m\u001b[1;33m(\u001b[0m\u001b[0ml\u001b[0m\u001b[1;33m[\u001b[0m\u001b[1;36m7\u001b[0m\u001b[1;33m]\u001b[0m\u001b[1;33m)\u001b[0m\u001b[1;31m# call l1 7 index value\u001b[0m\u001b[1;33m\u001b[0m\u001b[1;33m\u001b[0m\u001b[0m\n\u001b[0m\u001b[0;32m      9\u001b[0m     \u001b[0mprint\u001b[0m\u001b[1;33m(\u001b[0m \u001b[0ma\u001b[0m \u001b[1;33m/\u001b[0m \u001b[0mb\u001b[0m\u001b[1;33m)\u001b[0m\u001b[1;33m\u001b[0m\u001b[1;33m\u001b[0m\u001b[0m\n\u001b[0;32m     10\u001b[0m \u001b[1;32mexcept\u001b[0m \u001b[1;33m(\u001b[0m\u001b[0mZeroDivisionError\u001b[0m\u001b[1;33m)\u001b[0m\u001b[1;33m:\u001b[0m\u001b[1;33m\u001b[0m\u001b[1;33m\u001b[0m\u001b[0m\n",
      "\u001b[1;31mIndexError\u001b[0m: list index out of range"
     ]
    }
   ],
   "source": [
    "print(\"Start line\")\n",
    "\n",
    "a = 7 \n",
    "b = 2\n",
    "l = [1,2,3]\n",
    "\n",
    "try:\n",
    "    print(l[7])# call l1 7 index value\n",
    "    print( a / b)\n",
    "except (ZeroDivisionError):\n",
    "    print(\"you can't divide any value with zero!\")\n",
    "\n",
    "print(\"End Line\")"
   ]
  },
  {
   "cell_type": "code",
   "execution_count": 25,
   "id": "4bc6c76b",
   "metadata": {},
   "outputs": [
    {
     "name": "stdout",
     "output_type": "stream",
     "text": [
      "Start line\n",
      "the index is out of range\n",
      "End Line\n"
     ]
    }
   ],
   "source": [
    "print(\"Start line\")\n",
    "\n",
    "a = 7 \n",
    "b = 2\n",
    "l = [1,2,3]\n",
    "\n",
    "try:\n",
    "    print(l[7])# call l1 7 index value\n",
    "    print( a / b)\n",
    "except (ZeroDivisionError):\n",
    "    print(\"you can't divide any value with zero!\")\n",
    "except (IndexError):\n",
    "    print(\"the index is out of range\")\n",
    "print(\"End Line\")"
   ]
  },
  {
   "cell_type": "markdown",
   "id": "f3193ec0",
   "metadata": {},
   "source": [
    "### 2. try with else clause"
   ]
  },
  {
   "cell_type": "code",
   "execution_count": 21,
   "id": "f1b69b81",
   "metadata": {},
   "outputs": [
    {
     "name": "stdout",
     "output_type": "stream",
     "text": [
      "Enter a number: 2\n",
      "0.5\n"
     ]
    }
   ],
   "source": [
    "# program to print the reciprocal of even numbers\n",
    "\n",
    "try:\n",
    "    num = int(input(\"Enter a number: \"))\n",
    "    assert num % 2 == 0\n",
    "except:\n",
    "    print(\"Not an even number!\")\n",
    "else:\n",
    "    reciprocal = 1/num\n",
    "    print(reciprocal)"
   ]
  },
  {
   "cell_type": "code",
   "execution_count": 22,
   "id": "c2e9b625",
   "metadata": {},
   "outputs": [
    {
     "name": "stdout",
     "output_type": "stream",
     "text": [
      "Enter a number: 1\n",
      "Not an even number!\n"
     ]
    }
   ],
   "source": [
    "# print exception as we enter odd number\n",
    "\n",
    "try:\n",
    "    num = int(input(\"Enter a number: \"))\n",
    "    assert num % 2 == 0\n",
    "except:\n",
    "    print(\"Not an even number!\")\n",
    "else:\n",
    "    reciprocal = 1/num\n",
    "    print(reciprocal)"
   ]
  },
  {
   "cell_type": "markdown",
   "id": "8cde95d3",
   "metadata": {},
   "source": [
    "###  3. try...finally\n",
    " **The finally block is optional. And, for each try block, there can be only one finally block.**"
   ]
  },
  {
   "cell_type": "code",
   "execution_count": 27,
   "id": "49307185",
   "metadata": {},
   "outputs": [
    {
     "name": "stdout",
     "output_type": "stream",
     "text": [
      "Start line\n",
      "the index is out of range\n",
      "Finally programm ends here\n"
     ]
    }
   ],
   "source": [
    "print(\"Start line\")\n",
    "\n",
    "a = 7 \n",
    "b = 2\n",
    "l = [1,2,3]\n",
    "\n",
    "try:\n",
    "    print(l[7])# call l1 7 index value\n",
    "    print( a / b)\n",
    "except (ZeroDivisionError):\n",
    "    print(\"you can't divide any value with zero!\")\n",
    "except (IndexError):\n",
    "    print(\"the index is out of range\")\n",
    "finally:\n",
    "    print(\"Finally programm ends here\")"
   ]
  },
  {
   "cell_type": "markdown",
   "id": "60750c69",
   "metadata": {},
   "source": [
    "## Dynamic Error Handling"
   ]
  },
  {
   "cell_type": "code",
   "execution_count": 32,
   "id": "74ab4be2",
   "metadata": {},
   "outputs": [
    {
     "ename": "NameError",
     "evalue": "name 'c' is not defined",
     "output_type": "error",
     "traceback": [
      "\u001b[1;31m---------------------------------------------------------------------------\u001b[0m",
      "\u001b[1;31mNameError\u001b[0m                                 Traceback (most recent call last)",
      "\u001b[1;32m~\\AppData\\Local\\Temp\\ipykernel_11228\\2743823995.py\u001b[0m in \u001b[0;36m<module>\u001b[1;34m\u001b[0m\n\u001b[1;32m----> 1\u001b[1;33m \u001b[0mprint\u001b[0m\u001b[1;33m(\u001b[0m\u001b[0mc\u001b[0m\u001b[1;33m)\u001b[0m\u001b[1;33m\u001b[0m\u001b[1;33m\u001b[0m\u001b[0m\n\u001b[0m",
      "\u001b[1;31mNameError\u001b[0m: name 'c' is not defined"
     ]
    }
   ],
   "source": [
    "print(c)"
   ]
  },
  {
   "cell_type": "code",
   "execution_count": 33,
   "id": "35c05bbd",
   "metadata": {},
   "outputs": [
    {
     "name": "stdout",
     "output_type": "stream",
     "text": [
      "Error Reasons: name 'c' is not defined\n"
     ]
    }
   ],
   "source": [
    "try:\n",
    "    print(c)\n",
    "except Exception as e:   # --> print eroor \"name 'c' is not defined\" as an exception\n",
    "    print('Error Reasons:',e)"
   ]
  },
  {
   "cell_type": "code",
   "execution_count": 36,
   "id": "864d9d5b",
   "metadata": {},
   "outputs": [
    {
     "name": "stdout",
     "output_type": "stream",
     "text": [
      "2.0\n",
      "Error reason!... list index out of range\n",
      "Alway run it!\n"
     ]
    }
   ],
   "source": [
    "a = 2\n",
    "b = 1\n",
    "\n",
    "l1 = [1,2,3]\n",
    "\n",
    "try:\n",
    "    print(a/b)\n",
    "    print(l1[7])\n",
    "    \n",
    "except Exception as e:\n",
    "    print(\"Error reason!...\",e)\n",
    "else:\n",
    "    print(\"Here Now\")\n",
    "finally:\n",
    "    print(\"Alway run it!\")"
   ]
  },
  {
   "cell_type": "code",
   "execution_count": 38,
   "id": "5e8979ca",
   "metadata": {},
   "outputs": [
    {
     "name": "stdout",
     "output_type": "stream",
     "text": [
      "2\n",
      "2.0\n",
      "Here Now\n",
      "Alway run it!\n"
     ]
    }
   ],
   "source": [
    "a = 2\n",
    "b = 1\n",
    "\n",
    "l1 = [1,2,3]\n",
    "\n",
    "try:\n",
    "    print(l1[1])\n",
    "    print(a/b)\n",
    "except Exception as e:\n",
    "    print(\"Error reason!...\",e)\n",
    "else:\n",
    "    print(\"Here Now\")\n",
    "finally:\n",
    "    print(\"Alway run it!\")"
   ]
  },
  {
   "cell_type": "markdown",
   "id": "9794238c",
   "metadata": {},
   "source": [
    "## User Defined Exception\n",
    "we can define custom exceptions by creating a new class that is derived from the built-in Exception class.\n",
    "\n",
    "Here's the syntax to define custom exceptions"
   ]
  },
  {
   "cell_type": "markdown",
   "id": "3e7f982c",
   "metadata": {},
   "source": [
    "class CustomError(Exception):\n",
    "\n",
    "    ...\n",
    "    pass\n",
    "\n",
    "try:\n",
    "\n",
    "    ...\n",
    "\n",
    "except CustomError:\n",
    "\n",
    "    ..."
   ]
  },
  {
   "cell_type": "code",
   "execution_count": 39,
   "id": "6c3c4881",
   "metadata": {},
   "outputs": [
    {
     "name": "stdout",
     "output_type": "stream",
     "text": [
      "Enter a number: 15\n",
      "Exception occurred: Invalid Age\n"
     ]
    }
   ],
   "source": [
    "# define Python user-defined exceptions\n",
    "class InvalidAgeException(Exception):\n",
    "    \"Raised when the input value is less than 18\"\n",
    "    pass\n",
    "\n",
    "number = 18\n",
    "\n",
    "try:\n",
    "    input_num = int(input(\"Enter a number: \"))\n",
    "    if input_num < number:\n",
    "        raise InvalidAgeException\n",
    "    else:\n",
    "        print(\"Eligible to Vote\")\n",
    "        \n",
    "except InvalidAgeException:\n",
    "    print(\"Exception occurred: Invalid Age\")"
   ]
  },
  {
   "cell_type": "code",
   "execution_count": 43,
   "id": "85d1665e",
   "metadata": {},
   "outputs": [
    {
     "name": "stdout",
     "output_type": "stream",
     "text": [
      "Enter a number: 17\n",
      "Exception occurred: Not Eligible for Vote casting  \n"
     ]
    }
   ],
   "source": [
    "class InvalidAgeException(Exception):\n",
    "    \"Raised when the input value is less than 18\"\n",
    "    pass\n",
    "\n",
    "number = 18\n",
    "\n",
    "try:\n",
    "    input_num = int(input(\"Enter a number: \"))\n",
    "    if input_num < number:\n",
    "        raise InvalidAgeException(\"Not Eligible for Vote casting  \")\n",
    "    else:\n",
    "        print(\"Eligible to Vote\")\n",
    "        \n",
    "except Exception as e:\n",
    "    print(\"Exception occurred:\" , e)"
   ]
  },
  {
   "cell_type": "code",
   "execution_count": null,
   "id": "3697d6b2",
   "metadata": {},
   "outputs": [],
   "source": []
  }
 ],
 "metadata": {
  "kernelspec": {
   "display_name": "Python 3 (ipykernel)",
   "language": "python",
   "name": "python3"
  },
  "language_info": {
   "codemirror_mode": {
    "name": "ipython",
    "version": 3
   },
   "file_extension": ".py",
   "mimetype": "text/x-python",
   "name": "python",
   "nbconvert_exporter": "python",
   "pygments_lexer": "ipython3",
   "version": "3.9.13"
  }
 },
 "nbformat": 4,
 "nbformat_minor": 5
}
